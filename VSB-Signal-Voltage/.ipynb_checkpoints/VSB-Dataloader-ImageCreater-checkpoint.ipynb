{
 "cells": [
  {
   "cell_type": "markdown",
   "metadata": {},
   "source": [
    "## Setup"
   ]
  },
  {
   "cell_type": "code",
   "execution_count": 15,
   "metadata": {},
   "outputs": [],
   "source": [
    "%reload_ext autoreload\n",
    "%autoreload 2\n",
    "%matplotlib inline"
   ]
  },
  {
   "cell_type": "code",
   "execution_count": 16,
   "metadata": {},
   "outputs": [],
   "source": [
    "import pickle\n",
    "import ray\n",
    "import pyarrow.parquet as pq"
   ]
  },
  {
   "cell_type": "code",
   "execution_count": 17,
   "metadata": {},
   "outputs": [],
   "source": [
    "import numpy as np\n",
    "import pandas as pd\n",
    "import seaborn as sns\n",
    "from numpy.fft import *\n",
    "import pyarrow.parquet as pq\n",
    "import matplotlib.pyplot as plt\n",
    "\n",
    "sns.set_style(\"whitegrid\")"
   ]
  },
  {
   "cell_type": "code",
   "execution_count": 18,
   "metadata": {},
   "outputs": [],
   "source": [
    "def sample(signal, kernel_size):\n",
    "    sampled = np.zeros((signal.shape[0], signal.shape[1], signal.shape[2]//kernel_size))\n",
    "    for i in range(signal.shape[2]//kernel_size):\n",
    "        begin = kernel_size * i\n",
    "        end = min(kernel_size * (i + 1), signal.shape[2])\n",
    "        sampled[:, :, i] = np.mean(signal[:, :, begin:end], axis=2)\n",
    "    return sampled"
   ]
  },
  {
   "cell_type": "code",
   "execution_count": 19,
   "metadata": {},
   "outputs": [],
   "source": [
    "def filter_signal(signal, threshold=1e8):\n",
    "    fourier = rfft(signal)\n",
    "    frequencies = rfftfreq(signal.size, d=20e-3/signal.size)\n",
    "    fourier[frequencies > threshold] = 0\n",
    "    return irfft(fourier)"
   ]
  },
  {
   "cell_type": "markdown",
   "metadata": {},
   "source": [
    "## Get Signals"
   ]
  },
  {
   "cell_type": "code",
   "execution_count": null,
   "metadata": {},
   "outputs": [],
   "source": [
    "signals = pq.read_pandas('/home/jd/data/vsb/train.parquet').to_pandas()"
   ]
  },
  {
   "cell_type": "code",
   "execution_count": null,
   "metadata": {},
   "outputs": [],
   "source": [
    "import pickle\n",
    "import gc\n",
    "from fastai.tabular import *\n",
    "import pandas as pd\n",
    "import ray\n",
    "import pyarrow\n",
    "import pyarrow.parquet as pq\n",
    "\n",
    "torch.cuda.set_device(0)\n",
    "pd.options.display.max_rows = 5\n",
    "pd.options.display.max_columns = 5"
   ]
  },
  {
   "cell_type": "code",
   "execution_count": null,
   "metadata": {},
   "outputs": [],
   "source": [
    "#df = pd.read_csv(path/'metadata_train.csv')\n",
    "#df = df\n",
    "#pickle.dump(df, open( \"/home/jd/data/vsb/metadata_train.p\", \"wb\" ) )\n",
    "df=pickle.load(open( \"/home/jd/data/vsb/metadata_train.p\", \"rb\" ) )"
   ]
  },
  {
   "cell_type": "code",
   "execution_count": null,
   "metadata": {},
   "outputs": [],
   "source": [
    "df[:5]"
   ]
  },
  {
   "cell_type": "code",
   "execution_count": null,
   "metadata": {},
   "outputs": [],
   "source": [
    "signals.info()"
   ]
  },
  {
   "cell_type": "code",
   "execution_count": null,
   "metadata": {},
   "outputs": [],
   "source": [
    "signals = np.array(signals).T.reshape((8712//3, 3, 800000))"
   ]
  },
  {
   "cell_type": "code",
   "execution_count": null,
   "metadata": {},
   "outputs": [],
   "source": [
    "len(signals)"
   ]
  },
  {
   "cell_type": "code",
   "execution_count": null,
   "metadata": {},
   "outputs": [],
   "source": [
    "signals"
   ]
  },
  {
   "cell_type": "code",
   "execution_count": null,
   "metadata": {},
   "outputs": [],
   "source": [
    "sampled = sample(signals, 100)"
   ]
  },
  {
   "cell_type": "code",
   "execution_count": null,
   "metadata": {},
   "outputs": [],
   "source": [
    "plt.figure(figsize=(15, 10))\n",
    "plt.plot(sampled[0, 0, :], label='Phase 0')\n",
    "plt.plot(sampled[0, 1, :], label='Phase 1')\n",
    "plt.plot(sampled[0, 2, :], label='Phase 2')\n",
    "plt.legend()\n",
    "plt.show()"
   ]
  },
  {
   "cell_type": "code",
   "execution_count": null,
   "metadata": {},
   "outputs": [],
   "source": [
    "plt.figure(figsize=(15, 10))\n",
    "plt.plot(signals[0, 0, :], label='Phase 0')\n",
    "plt.plot(signals[0, 1, :], label='Phase 1')\n",
    "plt.plot(signals[0, 2, :], label='Phase 2')\n",
    "plt.legend()\n",
    "plt.show()"
   ]
  },
  {
   "cell_type": "code",
   "execution_count": null,
   "metadata": {},
   "outputs": [],
   "source": [
    "len(signals)"
   ]
  },
  {
   "cell_type": "code",
   "execution_count": null,
   "metadata": {},
   "outputs": [],
   "source": [
    "i = 0\n",
    "#767\n",
    "#1545\n",
    "# 2305\n",
    "#2584\n",
    "\n",
    "from matplotlib import pyplot as mp\n",
    "for i in range(2584,2904):\n",
    "    plt.figure(figsize=(15, 10))\n",
    "    plt.plot(signals[i, 0, :])\n",
    "    plt.plot(signals[i, 1, :])\n",
    "    plt.plot(signals[i, 2, :])\n",
    "    plt.plot(filter_signal(signals[i, 0, :], threshold=1e3))\n",
    "    plt.plot(filter_signal(signals[i, 1, :], threshold=1e3))\n",
    "    plt.plot(filter_signal(signals[i, 2, :], threshold=1e3))\n",
    "    plt.ylim((-80,80))\n",
    "    plt.xlim((0,800000))\n",
    "    mp.savefig('/home/jd/data/vsb/trainimages/'+str(i) +'.png', bbox_inches='tight')\n",
    "    print (i)\n",
    "    plt.clf()\n"
   ]
  },
  {
   "cell_type": "markdown",
   "metadata": {},
   "source": [
    "## Get Test Signals build into files"
   ]
  },
  {
   "cell_type": "code",
   "execution_count": 1,
   "metadata": {},
   "outputs": [],
   "source": [
    "# import dependencies\n",
    "import pickle\n",
    "import ray\n",
    "import pyarrow.parquet as pq"
   ]
  },
  {
   "cell_type": "code",
   "execution_count": 2,
   "metadata": {},
   "outputs": [],
   "source": [
    "## load in data\n",
    "parquet_file = pq.ParquetFile('/home/jd/data/vsb/test.parquet')"
   ]
  },
  {
   "cell_type": "code",
   "execution_count": 3,
   "metadata": {},
   "outputs": [
    {
     "data": {
      "text/plain": [
       "<pyarrow._parquet.FileMetaData object at 0x7fe0e3a1a5e8>\n",
       "  created_by: parquet-cpp version 1.5.1-SNAPSHOT\n",
       "  num_columns: 20337\n",
       "  num_rows: 800000\n",
       "  num_row_groups: 1\n",
       "  format_version: 1.0\n",
       "  serialized_size: 4061461"
      ]
     },
     "execution_count": 3,
     "metadata": {},
     "output_type": "execute_result"
    }
   ],
   "source": [
    "parquet_file.metadata"
   ]
  },
  {
   "cell_type": "code",
   "execution_count": 42,
   "metadata": {},
   "outputs": [
    {
     "data": {
      "text/plain": [
       "6779.0"
      ]
     },
     "execution_count": 42,
     "metadata": {},
     "output_type": "execute_result"
    }
   ],
   "source": [
    "20337/3"
   ]
  },
  {
   "cell_type": "code",
   "execution_count": 4,
   "metadata": {},
   "outputs": [
    {
     "data": {
      "text/plain": [
       "(4067, 1695.0, 13797)"
      ]
     },
     "execution_count": 4,
     "metadata": {},
     "output_type": "execute_result"
    }
   ],
   "source": [
    "20337//5, 5085/3, 8712 + 5085"
   ]
  },
  {
   "cell_type": "code",
   "execution_count": 5,
   "metadata": {},
   "outputs": [
    {
     "data": {
      "text/plain": [
       "5087"
      ]
     },
     "execution_count": 5,
     "metadata": {},
     "output_type": "execute_result"
    }
   ],
   "source": [
    "18884-13797 "
   ]
  },
  {
   "cell_type": "code",
   "execution_count": 6,
   "metadata": {},
   "outputs": [
    {
     "data": {
      "text/plain": [
       "(10170, 3390.0)"
      ]
     },
     "execution_count": 6,
     "metadata": {},
     "output_type": "execute_result"
    }
   ],
   "source": [
    "18882-8712, 10170/3"
   ]
  },
  {
   "cell_type": "code",
   "execution_count": 33,
   "metadata": {},
   "outputs": [],
   "source": [
    "part4= list(range(23970, 29060))\n",
    "part3= list(range(18885, 23970)) #Part 3 starts on 5086\n",
    "part2= list(range(13797, 18884)) # Check these numbers    Ends at 3391\n",
    "part1= list(range(8712, 13796)) # .20, 44067, 1695.0, 13797  Ends at 1695\n",
    "\n",
    "b=[]\n",
    "for i in part4:\n",
    "    b.append(str(i))"
   ]
  },
  {
   "cell_type": "code",
   "execution_count": 34,
   "metadata": {},
   "outputs": [],
   "source": [
    "tsignals = pq.read_pandas('/home/jd/data/vsb/test.parquet', b).to_pandas()"
   ]
  },
  {
   "cell_type": "code",
   "execution_count": 35,
   "metadata": {},
   "outputs": [
    {
     "data": {
      "text/plain": [
       "5079"
      ]
     },
     "execution_count": 35,
     "metadata": {},
     "output_type": "execute_result"
    }
   ],
   "source": [
    "len(tsignals.columns)"
   ]
  },
  {
   "cell_type": "code",
   "execution_count": 36,
   "metadata": {},
   "outputs": [
    {
     "name": "stdout",
     "output_type": "stream",
     "text": [
      "<class 'pandas.core.frame.DataFrame'>\n",
      "RangeIndex: 800000 entries, 0 to 799999\n",
      "Columns: 5079 entries, 23970 to 29048\n",
      "dtypes: int8(5079)\n",
      "memory usage: 3.8 GB\n"
     ]
    }
   ],
   "source": [
    "tsignals.info()"
   ]
  },
  {
   "cell_type": "code",
   "execution_count": 37,
   "metadata": {},
   "outputs": [],
   "source": [
    "import numpy as np\n",
    "import pandas as pd\n",
    "tsignals = np.array(tsignals).T.reshape((5079//3, 3, 800000))"
   ]
  },
  {
   "cell_type": "code",
   "execution_count": 38,
   "metadata": {},
   "outputs": [
    {
     "data": {
      "text/plain": [
       "1693.0"
      ]
     },
     "execution_count": 38,
     "metadata": {},
     "output_type": "execute_result"
    }
   ],
   "source": [
    "5079/3"
   ]
  },
  {
   "cell_type": "code",
   "execution_count": 39,
   "metadata": {},
   "outputs": [
    {
     "data": {
      "text/plain": [
       "array([[[ -4,  -5,  -4, ...,  -5,  -5,  -6],\n",
       "        [ 21,  21,  20, ...,  22,  22,  22],\n",
       "        [-10, -10, -10, ..., -14, -13, -13]],\n",
       "\n",
       "       [[ -3,  -2,  -3, ...,  -2,  -2,  -3],\n",
       "        [-20, -20, -20, ..., -17, -18, -20],\n",
       "        [ 19,  18,  19, ...,  21,  20,  19]],\n",
       "\n",
       "       [[-10, -10, -10, ...,  -9, -10,  -9],\n",
       "        [ -9, -11, -11, ...,  -9, -10, -10],\n",
       "        [ 14,  14,  14, ...,  16,  15,  14]],\n",
       "\n",
       "       [[ -9, -13, -11, ..., -10, -15, -11],\n",
       "        [ 21,  17,  18, ...,  21,  16,  19],\n",
       "        [ -7, -13, -11, ...,  -9, -13, -10]],\n",
       "\n",
       "       [[-19, -19, -18, ..., -18, -18, -18],\n",
       "        [  9,  10,  11, ...,  11,  10,  11],\n",
       "        [  4,   5,   6, ...,   6,   5,   5]],\n",
       "\n",
       "       [[ -9, -10,  -7, ..., -10,  -8, -11],\n",
       "        [-11, -11, -10, ..., -13, -11, -12],\n",
       "        [ 16,  16,  17, ...,  16,  16,  16]]], dtype=int8)"
      ]
     },
     "execution_count": 39,
     "metadata": {},
     "output_type": "execute_result"
    }
   ],
   "source": [
    "tsignals[:6]"
   ]
  },
  {
   "cell_type": "code",
   "execution_count": 41,
   "metadata": {},
   "outputs": [
    {
     "name": "stdout",
     "output_type": "stream",
     "text": [
      "0\n",
      "30\n",
      "60\n",
      "90\n",
      "120\n",
      "150\n",
      "180\n",
      "210\n",
      "240\n",
      "270\n",
      "300\n",
      "330\n",
      "360\n",
      "390\n",
      "420\n",
      "450\n",
      "480\n",
      "510\n",
      "540\n",
      "570\n",
      "600\n",
      "630\n"
     ]
    }
   ],
   "source": [
    "i = 0\n",
    "#115\n",
    "#Part 1 goes to 640\n",
    "#Part 2 goes to 3391\n",
    "#Part 3 starts on 5086\n",
    "\n",
    "#1695 - 1696\n",
    "\n",
    "#600\n",
    "\n",
    "from matplotlib import pyplot as mp\n",
    "for i in range(0,650):\n",
    "    plt.figure(figsize=(15, 10))\n",
    "    plt.plot(tsignals[i, 0, :])\n",
    "    plt.plot(tsignals[i, 1, :])\n",
    "    plt.plot(tsignals[i, 2, :])\n",
    "    plt.plot(filter_signal(tsignals[i, 0, :], threshold=1e3))\n",
    "    plt.plot(filter_signal(tsignals[i, 1, :], threshold=1e3))\n",
    "    plt.plot(filter_signal(tsignals[i, 2, :], threshold=1e3))\n",
    "    plt.ylim((-80,80))\n",
    "    plt.xlim((0,800000))\n",
    "    mp.savefig('/home/jd/data/vsb/train/'+str(i+5086) +'T.png', bbox_inches='tight')\n",
    "    if i%30 == 0:\n",
    "        print (i)\n",
    "    plt.clf()\n",
    "    plt.close('all')"
   ]
  },
  {
   "cell_type": "code",
   "execution_count": null,
   "metadata": {},
   "outputs": [],
   "source": []
  }
 ],
 "metadata": {
  "kernelspec": {
   "display_name": "Python 3",
   "language": "python",
   "name": "python3"
  },
  "language_info": {
   "codemirror_mode": {
    "name": "ipython",
    "version": 3
   },
   "file_extension": ".py",
   "mimetype": "text/x-python",
   "name": "python",
   "nbconvert_exporter": "python",
   "pygments_lexer": "ipython3",
   "version": "3.7.1"
  }
 },
 "nbformat": 4,
 "nbformat_minor": 2
}
