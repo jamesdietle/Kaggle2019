{
 "cells": [
  {
   "cell_type": "markdown",
   "metadata": {},
   "source": [
    "## Setup"
   ]
  },
  {
   "cell_type": "code",
   "execution_count": 1,
   "metadata": {
    "ExecuteTime": {
     "end_time": "2019-04-12T13:52:01.216381Z",
     "start_time": "2019-04-12T13:52:01.063081Z"
    }
   },
   "outputs": [],
   "source": [
    "%reload_ext autoreload\n",
    "%autoreload 2\n",
    "%matplotlib inline"
   ]
  },
  {
   "cell_type": "code",
   "execution_count": 2,
   "metadata": {
    "ExecuteTime": {
     "end_time": "2019-04-12T13:52:01.984330Z",
     "start_time": "2019-04-12T13:52:01.739077Z"
    }
   },
   "outputs": [],
   "source": [
    "import pickle\n",
    "import ray\n",
    "import pyarrow.parquet as pq"
   ]
  },
  {
   "cell_type": "code",
   "execution_count": 3,
   "metadata": {
    "ExecuteTime": {
     "end_time": "2019-04-12T13:52:02.331248Z",
     "start_time": "2019-04-12T13:52:02.077457Z"
    }
   },
   "outputs": [],
   "source": [
    "import numpy as np\n",
    "import pandas as pd\n",
    "import seaborn as sns\n",
    "from numpy.fft import *\n",
    "import pyarrow.parquet as pq\n",
    "import matplotlib.pyplot as plt\n",
    "\n",
    "sns.set_style(\"whitegrid\")"
   ]
  },
  {
   "cell_type": "code",
   "execution_count": 4,
   "metadata": {
    "ExecuteTime": {
     "end_time": "2019-04-12T13:52:03.149595Z",
     "start_time": "2019-04-12T13:52:03.128274Z"
    }
   },
   "outputs": [],
   "source": [
    "def sample(signal, kernel_size):\n",
    "    sampled = np.zeros((signal.shape[0], signal.shape[1], signal.shape[2]//kernel_size))\n",
    "    for i in range(signal.shape[2]//kernel_size):\n",
    "        begin = kernel_size * i\n",
    "        end = min(kernel_size * (i + 1), signal.shape[2])\n",
    "        sampled[:, :, i] = np.mean(signal[:, :, begin:end], axis=2)\n",
    "    return sampled"
   ]
  },
  {
   "cell_type": "code",
   "execution_count": 5,
   "metadata": {
    "ExecuteTime": {
     "end_time": "2019-04-12T13:52:03.712917Z",
     "start_time": "2019-04-12T13:52:03.696464Z"
    }
   },
   "outputs": [],
   "source": [
    "def filter_signal(signal, threshold=1e8):\n",
    "    fourier = rfft(signal)\n",
    "    frequencies = rfftfreq(signal.size, d=20e-3/signal.size)\n",
    "    fourier[frequencies > threshold] = 0\n",
    "    return irfft(fourier)"
   ]
  },
  {
   "cell_type": "markdown",
   "metadata": {},
   "source": [
    "## Get Signals"
   ]
  },
  {
   "cell_type": "code",
   "execution_count": 6,
   "metadata": {
    "ExecuteTime": {
     "end_time": "2019-04-12T13:52:18.218996Z",
     "start_time": "2019-04-12T13:52:04.506963Z"
    }
   },
   "outputs": [],
   "source": [
    "signals = pq.read_pandas('/home/jd/data/vsb/train.parquet').to_pandas()"
   ]
  },
  {
   "cell_type": "code",
   "execution_count": 7,
   "metadata": {
    "ExecuteTime": {
     "end_time": "2019-04-12T13:52:19.007363Z",
     "start_time": "2019-04-12T13:52:18.220491Z"
    }
   },
   "outputs": [],
   "source": [
    "import pickle\n",
    "import gc\n",
    "from fastai.tabular import *\n",
    "import pandas as pd\n",
    "import ray\n",
    "import pyarrow\n",
    "import pyarrow.parquet as pq\n",
    "\n",
    "torch.cuda.set_device(0)\n",
    "pd.options.display.max_rows = 5\n",
    "pd.options.display.max_columns = 5"
   ]
  },
  {
   "cell_type": "code",
   "execution_count": 8,
   "metadata": {
    "ExecuteTime": {
     "end_time": "2019-04-12T13:52:19.024966Z",
     "start_time": "2019-04-12T13:52:19.008635Z"
    }
   },
   "outputs": [],
   "source": [
    "#df = pd.read_csv(path/'metadata_train.csv')\n",
    "#df = df\n",
    "#pickle.dump(df, open( \"/home/jd/data/vsb/metadata_train.p\", \"wb\" ) )\n",
    "df=pickle.load(open( \"/home/jd/data/vsb/metadata_train.p\", \"rb\" ) )"
   ]
  },
  {
   "cell_type": "code",
   "execution_count": 9,
   "metadata": {
    "ExecuteTime": {
     "end_time": "2019-04-12T13:52:19.068494Z",
     "start_time": "2019-04-12T13:52:19.026679Z"
    }
   },
   "outputs": [
    {
     "data": {
      "text/html": [
       "<div>\n",
       "<style scoped>\n",
       "    .dataframe tbody tr th:only-of-type {\n",
       "        vertical-align: middle;\n",
       "    }\n",
       "\n",
       "    .dataframe tbody tr th {\n",
       "        vertical-align: top;\n",
       "    }\n",
       "\n",
       "    .dataframe thead th {\n",
       "        text-align: right;\n",
       "    }\n",
       "</style>\n",
       "<table border=\"1\" class=\"dataframe\">\n",
       "  <thead>\n",
       "    <tr style=\"text-align: right;\">\n",
       "      <th></th>\n",
       "      <th>signal_id</th>\n",
       "      <th>id_measurement</th>\n",
       "      <th>phase</th>\n",
       "      <th>target</th>\n",
       "    </tr>\n",
       "  </thead>\n",
       "  <tbody>\n",
       "    <tr>\n",
       "      <th>0</th>\n",
       "      <td>0</td>\n",
       "      <td>0</td>\n",
       "      <td>0</td>\n",
       "      <td>0</td>\n",
       "    </tr>\n",
       "    <tr>\n",
       "      <th>1</th>\n",
       "      <td>1</td>\n",
       "      <td>0</td>\n",
       "      <td>1</td>\n",
       "      <td>0</td>\n",
       "    </tr>\n",
       "    <tr>\n",
       "      <th>2</th>\n",
       "      <td>2</td>\n",
       "      <td>0</td>\n",
       "      <td>2</td>\n",
       "      <td>0</td>\n",
       "    </tr>\n",
       "    <tr>\n",
       "      <th>3</th>\n",
       "      <td>3</td>\n",
       "      <td>1</td>\n",
       "      <td>0</td>\n",
       "      <td>1</td>\n",
       "    </tr>\n",
       "    <tr>\n",
       "      <th>4</th>\n",
       "      <td>4</td>\n",
       "      <td>1</td>\n",
       "      <td>1</td>\n",
       "      <td>1</td>\n",
       "    </tr>\n",
       "  </tbody>\n",
       "</table>\n",
       "</div>"
      ],
      "text/plain": [
       "   signal_id  id_measurement  phase  target\n",
       "0          0               0      0       0\n",
       "1          1               0      1       0\n",
       "2          2               0      2       0\n",
       "3          3               1      0       1\n",
       "4          4               1      1       1"
      ]
     },
     "execution_count": 9,
     "metadata": {},
     "output_type": "execute_result"
    }
   ],
   "source": [
    "df[:5]"
   ]
  },
  {
   "cell_type": "code",
   "execution_count": 10,
   "metadata": {
    "ExecuteTime": {
     "end_time": "2019-04-12T13:52:19.316194Z",
     "start_time": "2019-04-12T13:52:19.070307Z"
    }
   },
   "outputs": [
    {
     "name": "stdout",
     "output_type": "stream",
     "text": [
      "<class 'pandas.core.frame.DataFrame'>\n",
      "RangeIndex: 800000 entries, 0 to 799999\n",
      "Columns: 8712 entries, 0 to 8711\n",
      "dtypes: int8(8712)\n",
      "memory usage: 6.5 GB\n"
     ]
    }
   ],
   "source": [
    "signals.info()"
   ]
  },
  {
   "cell_type": "code",
   "execution_count": 11,
   "metadata": {
    "ExecuteTime": {
     "end_time": "2019-04-12T13:52:20.511115Z",
     "start_time": "2019-04-12T13:52:19.317445Z"
    }
   },
   "outputs": [],
   "source": [
    "signals = np.array(signals).T.reshape((8712//3, 3, 800000))"
   ]
  },
  {
   "cell_type": "code",
   "execution_count": 12,
   "metadata": {
    "ExecuteTime": {
     "end_time": "2019-04-12T13:52:20.527523Z",
     "start_time": "2019-04-12T13:52:20.512310Z"
    }
   },
   "outputs": [
    {
     "data": {
      "text/plain": [
       "2904"
      ]
     },
     "execution_count": 12,
     "metadata": {},
     "output_type": "execute_result"
    }
   ],
   "source": [
    "len(signals)"
   ]
  },
  {
   "cell_type": "code",
   "execution_count": 13,
   "metadata": {
    "ExecuteTime": {
     "end_time": "2019-04-12T13:52:20.547085Z",
     "start_time": "2019-04-12T13:52:20.530446Z"
    }
   },
   "outputs": [
    {
     "data": {
      "text/plain": [
       "array([[[ 18,  18,  17,  18, ...,  19,  17,  19,  17],\n",
       "        [  1,   0,  -1,   1, ...,   1,   0,   1,   0],\n",
       "        [-19, -19, -20, -19, ..., -19, -19, -18, -19]],\n",
       "\n",
       "       [[-16, -17, -17, -16, ..., -15, -15, -14, -14],\n",
       "        [ -5,  -6,  -6,  -5, ...,  -4,  -4,  -3,  -4],\n",
       "        [ 19,  19,  19,  20, ...,  20,  21,  22,  21]],\n",
       "\n",
       "       [[-15, -17, -17, -16, ..., -17, -16, -16, -17],\n",
       "        [ 15,  16,  15,  16, ...,  15,  14,  17,  14],\n",
       "        [ -1,   0,  -3,   0, ...,  -3,  -2,  -1,  -4]],\n",
       "\n",
       "       [[-16, -15, -15, -15, ..., -18, -18, -17, -15],\n",
       "        [ -9, -10, -10,  -9, ..., -12, -12, -11, -10],\n",
       "        [ 23,  22,  22,  22, ...,  20,  19,  20,  22]],\n",
       "\n",
       "       ...,\n",
       "\n",
       "       [[-11, -12, -12, -13, ..., -10, -10,  -9, -10],\n",
       "        [ -5,  -7,  -9,  -9, ...,  -7,  -5,  -4,  -4],\n",
       "        [ 18,  17,  16,  16, ...,  18,  18,  19,  19]],\n",
       "\n",
       "       [[-22, -21, -21, -21, ..., -20, -20, -19, -21],\n",
       "        [ 12,  12,  13,  12, ...,  13,  13,  13,  13],\n",
       "        [  8,   8,   8,   8, ...,   9,   9,  10,   9]],\n",
       "\n",
       "       [[ 13,  14,  15,  15, ...,  14,  13,  14,  14],\n",
       "        [  6,   7,   8,   8, ...,   6,   6,   6,   6],\n",
       "        [-21, -19, -18, -19, ..., -20, -20, -20, -19]],\n",
       "\n",
       "       [[-15, -15, -14, -14, ..., -13, -14, -14, -15],\n",
       "        [ -9,  -8,  -8,  -7, ...,  -7,  -7,  -8,  -8],\n",
       "        [ 20,  21,  22,  23, ...,  23,  23,  22,  21]]], dtype=int8)"
      ]
     },
     "execution_count": 13,
     "metadata": {},
     "output_type": "execute_result"
    }
   ],
   "source": [
    "signals"
   ]
  },
  {
   "cell_type": "code",
   "execution_count": 14,
   "metadata": {
    "ExecuteTime": {
     "end_time": "2019-04-12T13:52:25.256206Z",
     "start_time": "2019-04-12T13:52:20.548154Z"
    }
   },
   "outputs": [
    {
     "ename": "KeyboardInterrupt",
     "evalue": "",
     "output_type": "error",
     "traceback": [
      "\u001b[0;31m---------------------------------------------------------------------------\u001b[0m",
      "\u001b[0;31mKeyboardInterrupt\u001b[0m                         Traceback (most recent call last)",
      "\u001b[0;32m<ipython-input-14-3781bd98fdf9>\u001b[0m in \u001b[0;36m<module>\u001b[0;34m\u001b[0m\n\u001b[0;32m----> 1\u001b[0;31m \u001b[0msampled\u001b[0m \u001b[0;34m=\u001b[0m \u001b[0msample\u001b[0m\u001b[0;34m(\u001b[0m\u001b[0msignals\u001b[0m\u001b[0;34m,\u001b[0m \u001b[0;36m100\u001b[0m\u001b[0;34m)\u001b[0m\u001b[0;34m\u001b[0m\u001b[0;34m\u001b[0m\u001b[0m\n\u001b[0m",
      "\u001b[0;32m<ipython-input-4-afdd3e886bb6>\u001b[0m in \u001b[0;36msample\u001b[0;34m(signal, kernel_size)\u001b[0m\n\u001b[1;32m      4\u001b[0m         \u001b[0mbegin\u001b[0m \u001b[0;34m=\u001b[0m \u001b[0mkernel_size\u001b[0m \u001b[0;34m*\u001b[0m \u001b[0mi\u001b[0m\u001b[0;34m\u001b[0m\u001b[0;34m\u001b[0m\u001b[0m\n\u001b[1;32m      5\u001b[0m         \u001b[0mend\u001b[0m \u001b[0;34m=\u001b[0m \u001b[0mmin\u001b[0m\u001b[0;34m(\u001b[0m\u001b[0mkernel_size\u001b[0m \u001b[0;34m*\u001b[0m \u001b[0;34m(\u001b[0m\u001b[0mi\u001b[0m \u001b[0;34m+\u001b[0m \u001b[0;36m1\u001b[0m\u001b[0;34m)\u001b[0m\u001b[0;34m,\u001b[0m \u001b[0msignal\u001b[0m\u001b[0;34m.\u001b[0m\u001b[0mshape\u001b[0m\u001b[0;34m[\u001b[0m\u001b[0;36m2\u001b[0m\u001b[0;34m]\u001b[0m\u001b[0;34m)\u001b[0m\u001b[0;34m\u001b[0m\u001b[0;34m\u001b[0m\u001b[0m\n\u001b[0;32m----> 6\u001b[0;31m         \u001b[0msampled\u001b[0m\u001b[0;34m[\u001b[0m\u001b[0;34m:\u001b[0m\u001b[0;34m,\u001b[0m \u001b[0;34m:\u001b[0m\u001b[0;34m,\u001b[0m \u001b[0mi\u001b[0m\u001b[0;34m]\u001b[0m \u001b[0;34m=\u001b[0m \u001b[0mnp\u001b[0m\u001b[0;34m.\u001b[0m\u001b[0mmean\u001b[0m\u001b[0;34m(\u001b[0m\u001b[0msignal\u001b[0m\u001b[0;34m[\u001b[0m\u001b[0;34m:\u001b[0m\u001b[0;34m,\u001b[0m \u001b[0;34m:\u001b[0m\u001b[0;34m,\u001b[0m \u001b[0mbegin\u001b[0m\u001b[0;34m:\u001b[0m\u001b[0mend\u001b[0m\u001b[0;34m]\u001b[0m\u001b[0;34m,\u001b[0m \u001b[0maxis\u001b[0m\u001b[0;34m=\u001b[0m\u001b[0;36m2\u001b[0m\u001b[0;34m)\u001b[0m\u001b[0;34m\u001b[0m\u001b[0;34m\u001b[0m\u001b[0m\n\u001b[0m\u001b[1;32m      7\u001b[0m     \u001b[0;32mreturn\u001b[0m \u001b[0msampled\u001b[0m\u001b[0;34m\u001b[0m\u001b[0;34m\u001b[0m\u001b[0m\n",
      "\u001b[0;32m~/anaconda3/lib/python3.7/site-packages/numpy/core/fromnumeric.py\u001b[0m in \u001b[0;36mmean\u001b[0;34m(a, axis, dtype, out, keepdims)\u001b[0m\n\u001b[1;32m   2918\u001b[0m \u001b[0;34m\u001b[0m\u001b[0m\n\u001b[1;32m   2919\u001b[0m     return _methods._mean(a, axis=axis, dtype=dtype,\n\u001b[0;32m-> 2920\u001b[0;31m                           out=out, **kwargs)\n\u001b[0m\u001b[1;32m   2921\u001b[0m \u001b[0;34m\u001b[0m\u001b[0m\n\u001b[1;32m   2922\u001b[0m \u001b[0;34m\u001b[0m\u001b[0m\n",
      "\u001b[0;32m~/anaconda3/lib/python3.7/site-packages/numpy/core/_methods.py\u001b[0m in \u001b[0;36m_mean\u001b[0;34m(a, axis, dtype, out, keepdims)\u001b[0m\n\u001b[1;32m     73\u001b[0m             \u001b[0mis_float16_result\u001b[0m \u001b[0;34m=\u001b[0m \u001b[0;32mTrue\u001b[0m\u001b[0;34m\u001b[0m\u001b[0;34m\u001b[0m\u001b[0m\n\u001b[1;32m     74\u001b[0m \u001b[0;34m\u001b[0m\u001b[0m\n\u001b[0;32m---> 75\u001b[0;31m     \u001b[0mret\u001b[0m \u001b[0;34m=\u001b[0m \u001b[0mumr_sum\u001b[0m\u001b[0;34m(\u001b[0m\u001b[0marr\u001b[0m\u001b[0;34m,\u001b[0m \u001b[0maxis\u001b[0m\u001b[0;34m,\u001b[0m \u001b[0mdtype\u001b[0m\u001b[0;34m,\u001b[0m \u001b[0mout\u001b[0m\u001b[0;34m,\u001b[0m \u001b[0mkeepdims\u001b[0m\u001b[0;34m)\u001b[0m\u001b[0;34m\u001b[0m\u001b[0;34m\u001b[0m\u001b[0m\n\u001b[0m\u001b[1;32m     76\u001b[0m     \u001b[0;32mif\u001b[0m \u001b[0misinstance\u001b[0m\u001b[0;34m(\u001b[0m\u001b[0mret\u001b[0m\u001b[0;34m,\u001b[0m \u001b[0mmu\u001b[0m\u001b[0;34m.\u001b[0m\u001b[0mndarray\u001b[0m\u001b[0;34m)\u001b[0m\u001b[0;34m:\u001b[0m\u001b[0;34m\u001b[0m\u001b[0;34m\u001b[0m\u001b[0m\n\u001b[1;32m     77\u001b[0m         ret = um.true_divide(\n",
      "\u001b[0;31mKeyboardInterrupt\u001b[0m: "
     ]
    }
   ],
   "source": [
    "sampled = sample(signals, 100)"
   ]
  },
  {
   "cell_type": "code",
   "execution_count": null,
   "metadata": {
    "ExecuteTime": {
     "end_time": "2019-04-12T13:52:25.258104Z",
     "start_time": "2019-04-12T13:52:11.383Z"
    }
   },
   "outputs": [],
   "source": [
    "plt.figure(figsize=(15, 10))\n",
    "plt.plot(sampled[0, 0, :], label='Phase 0')\n",
    "plt.plot(sampled[0, 1, :], label='Phase 1')\n",
    "plt.plot(sampled[0, 2, :], label='Phase 2')\n",
    "plt.legend()\n",
    "plt.show()"
   ]
  },
  {
   "cell_type": "code",
   "execution_count": null,
   "metadata": {
    "ExecuteTime": {
     "end_time": "2019-04-12T13:52:25.258970Z",
     "start_time": "2019-04-12T13:52:11.949Z"
    }
   },
   "outputs": [],
   "source": [
    "plt.figure(figsize=(15, 10))\n",
    "plt.plot(signals[0, 0, :], label='Phase 0')\n",
    "plt.plot(signals[0, 1, :], label='Phase 1')\n",
    "plt.plot(signals[0, 2, :], label='Phase 2')\n",
    "plt.legend()\n",
    "plt.show()"
   ]
  },
  {
   "cell_type": "code",
   "execution_count": null,
   "metadata": {
    "ExecuteTime": {
     "end_time": "2019-04-12T13:52:25.259808Z",
     "start_time": "2019-04-12T13:52:12.201Z"
    }
   },
   "outputs": [],
   "source": [
    "len(signals)"
   ]
  },
  {
   "cell_type": "code",
   "execution_count": null,
   "metadata": {
    "ExecuteTime": {
     "end_time": "2019-04-12T13:52:25.260583Z",
     "start_time": "2019-04-12T13:52:12.930Z"
    }
   },
   "outputs": [],
   "source": [
    "i = 0\n",
    "#767\n",
    "#1545\n",
    "# 2305\n",
    "#2584\n",
    "\n",
    "from matplotlib import pyplot as mp\n",
    "for i in range(2584,2904):\n",
    "    plt.figure(figsize=(15, 10))\n",
    "    plt.plot(signals[i, 0, :])\n",
    "    plt.plot(signals[i, 1, :])\n",
    "    plt.plot(signals[i, 2, :])\n",
    "    plt.plot(filter_signal(signals[i, 0, :], threshold=1e3))\n",
    "    plt.plot(filter_signal(signals[i, 1, :], threshold=1e3))\n",
    "    plt.plot(filter_signal(signals[i, 2, :], threshold=1e3))\n",
    "    plt.ylim((-80,80))\n",
    "    plt.xlim((0,800000))\n",
    "    mp.savefig('/home/jd/data/vsb/trainimages/'+str(i) +'.png', bbox_inches='tight')\n",
    "    print (i)\n",
    "    plt.clf()\n"
   ]
  },
  {
   "cell_type": "markdown",
   "metadata": {},
   "source": [
    "## Get Test Signals build into files"
   ]
  },
  {
   "cell_type": "code",
   "execution_count": null,
   "metadata": {
    "ExecuteTime": {
     "end_time": "2019-04-12T13:52:25.261390Z",
     "start_time": "2019-04-12T13:52:14.333Z"
    }
   },
   "outputs": [],
   "source": [
    "# import dependencies\n",
    "import pickle\n",
    "import ray\n",
    "import pyarrow.parquet as pq"
   ]
  },
  {
   "cell_type": "code",
   "execution_count": null,
   "metadata": {
    "ExecuteTime": {
     "end_time": "2019-04-12T13:52:25.262143Z",
     "start_time": "2019-04-12T13:52:14.921Z"
    }
   },
   "outputs": [],
   "source": [
    "## load in data\n",
    "parquet_file = pq.ParquetFile('/home/jd/data/vsb/test.parquet')"
   ]
  },
  {
   "cell_type": "code",
   "execution_count": null,
   "metadata": {
    "ExecuteTime": {
     "end_time": "2019-04-12T13:52:25.262896Z",
     "start_time": "2019-04-12T13:52:15.261Z"
    }
   },
   "outputs": [],
   "source": [
    "parquet_file.metadata"
   ]
  },
  {
   "cell_type": "code",
   "execution_count": null,
   "metadata": {
    "ExecuteTime": {
     "end_time": "2019-04-12T13:52:25.263637Z",
     "start_time": "2019-04-12T13:52:16.313Z"
    }
   },
   "outputs": [],
   "source": [
    "20337/3"
   ]
  },
  {
   "cell_type": "code",
   "execution_count": null,
   "metadata": {
    "ExecuteTime": {
     "end_time": "2019-04-12T13:52:25.264409Z",
     "start_time": "2019-04-12T13:52:16.733Z"
    }
   },
   "outputs": [],
   "source": [
    "20337//5, 5085/3, 8712 + 5085"
   ]
  },
  {
   "cell_type": "code",
   "execution_count": null,
   "metadata": {
    "ExecuteTime": {
     "end_time": "2019-04-12T13:52:25.265162Z",
     "start_time": "2019-04-12T13:52:17.176Z"
    }
   },
   "outputs": [],
   "source": [
    "18884-13797 "
   ]
  },
  {
   "cell_type": "code",
   "execution_count": null,
   "metadata": {
    "ExecuteTime": {
     "end_time": "2019-04-12T13:52:25.265855Z",
     "start_time": "2019-04-12T13:52:17.545Z"
    }
   },
   "outputs": [],
   "source": [
    "18882-8712, 10170/3"
   ]
  },
  {
   "cell_type": "code",
   "execution_count": null,
   "metadata": {
    "ExecuteTime": {
     "end_time": "2019-04-12T13:52:25.266621Z",
     "start_time": "2019-04-12T13:52:17.816Z"
    }
   },
   "outputs": [],
   "source": [
    "part4= list(range(23970, 29060))\n",
    "part3= list(range(18885, 23970)) #Part 3 starts on 5086\n",
    "part2= list(range(13797, 18884)) # Check these numbers    Ends at 3391\n",
    "part1= list(range(8712, 13796)) # .20, 44067, 1695.0, 13797  Ends at 1695\n",
    "\n",
    "b=[]\n",
    "for i in part4:\n",
    "    b.append(str(i))"
   ]
  },
  {
   "cell_type": "code",
   "execution_count": null,
   "metadata": {
    "ExecuteTime": {
     "end_time": "2019-04-12T13:52:25.267335Z",
     "start_time": "2019-04-12T13:52:18.237Z"
    }
   },
   "outputs": [],
   "source": [
    "tsignals = pq.read_pandas('/home/jd/data/vsb/test.parquet', b).to_pandas()"
   ]
  },
  {
   "cell_type": "code",
   "execution_count": null,
   "metadata": {
    "ExecuteTime": {
     "end_time": "2019-04-12T13:52:25.268285Z",
     "start_time": "2019-04-12T13:52:18.580Z"
    }
   },
   "outputs": [],
   "source": [
    "len(tsignals.columns)"
   ]
  },
  {
   "cell_type": "code",
   "execution_count": null,
   "metadata": {
    "ExecuteTime": {
     "end_time": "2019-04-12T13:52:25.268947Z",
     "start_time": "2019-04-12T13:52:18.843Z"
    }
   },
   "outputs": [],
   "source": [
    "tsignals.info()"
   ]
  },
  {
   "cell_type": "code",
   "execution_count": null,
   "metadata": {
    "ExecuteTime": {
     "end_time": "2019-04-12T13:52:25.269691Z",
     "start_time": "2019-04-12T13:52:19.085Z"
    }
   },
   "outputs": [],
   "source": [
    "import numpy as np\n",
    "import pandas as pd\n",
    "tsignals = np.array(tsignals).T.reshape((5079//3, 3, 800000))"
   ]
  },
  {
   "cell_type": "code",
   "execution_count": null,
   "metadata": {
    "ExecuteTime": {
     "end_time": "2019-04-12T13:52:25.270421Z",
     "start_time": "2019-04-12T13:52:19.326Z"
    }
   },
   "outputs": [],
   "source": [
    "5079/3"
   ]
  },
  {
   "cell_type": "code",
   "execution_count": null,
   "metadata": {
    "ExecuteTime": {
     "end_time": "2019-04-12T13:52:25.271148Z",
     "start_time": "2019-04-12T13:52:19.544Z"
    }
   },
   "outputs": [],
   "source": [
    "tsignals[:6]"
   ]
  },
  {
   "cell_type": "code",
   "execution_count": null,
   "metadata": {
    "ExecuteTime": {
     "end_time": "2019-04-12T13:52:25.271951Z",
     "start_time": "2019-04-12T13:52:19.998Z"
    }
   },
   "outputs": [],
   "source": [
    "i = 0\n",
    "#115\n",
    "#Part 1 goes to 640\n",
    "#Part 2 goes to 3391\n",
    "#Part 3 starts on 5086\n",
    "\n",
    "#1695 - 1696\n",
    "\n",
    "#600\n",
    "\n",
    "from matplotlib import pyplot as mp\n",
    "for i in range(0,650):\n",
    "    plt.figure(figsize=(15, 10))\n",
    "    plt.plot(tsignals[i, 0, :])\n",
    "    plt.plot(tsignals[i, 1, :])\n",
    "    plt.plot(tsignals[i, 2, :])\n",
    "    plt.plot(filter_signal(tsignals[i, 0, :], threshold=1e3))\n",
    "    plt.plot(filter_signal(tsignals[i, 1, :], threshold=1e3))\n",
    "    plt.plot(filter_signal(tsignals[i, 2, :], threshold=1e3))\n",
    "    plt.ylim((-80,80))\n",
    "    plt.xlim((0,800000))\n",
    "    mp.savefig('/home/jd/data/vsb/train/'+str(i+5086) +'T.png', bbox_inches='tight')\n",
    "    if i%30 == 0:\n",
    "        print (i)\n",
    "    plt.clf()\n",
    "    plt.close('all')"
   ]
  },
  {
   "cell_type": "code",
   "execution_count": null,
   "metadata": {},
   "outputs": [],
   "source": []
  },
  {
   "cell_type": "code",
   "execution_count": null,
   "metadata": {},
   "outputs": [],
   "source": []
  }
 ],
 "metadata": {
  "kernelspec": {
   "display_name": "Python 3",
   "language": "python",
   "name": "python3"
  },
  "language_info": {
   "codemirror_mode": {
    "name": "ipython",
    "version": 3
   },
   "file_extension": ".py",
   "mimetype": "text/x-python",
   "name": "python",
   "nbconvert_exporter": "python",
   "pygments_lexer": "ipython3",
   "version": "3.7.1"
  }
 },
 "nbformat": 4,
 "nbformat_minor": 2
}
