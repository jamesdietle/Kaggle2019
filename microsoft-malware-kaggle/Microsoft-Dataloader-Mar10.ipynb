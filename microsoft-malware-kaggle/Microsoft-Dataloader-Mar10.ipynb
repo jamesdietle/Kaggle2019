{
 "cells": [
  {
   "cell_type": "markdown",
   "metadata": {},
   "source": [
    "## Microsoft Malware Dataloader\n",
    "\n",
    "The malware industry continues to be a well-organized, well-funded market dedicated to evading traditional security measures. Once a computer is infected by malware, criminals can hurt consumers and enterprises in many ways.\n",
    "\n",
    "https://www.kaggle.com/c/microsoft-malware-prediction\n",
    "\n",
    "\n",
    "### Goal: FInd the Malware!\n",
    "\n",
    "This is a tabular competition and my first jump back into a Kaggle competition for 8 days of fury.\n",
    "The Microsoft Malware Loader needs to run before this one is. This notebook creates the dataset. "
   ]
  },
  {
   "cell_type": "code",
   "execution_count": 1,
   "metadata": {},
   "outputs": [],
   "source": [
    "import pickle\n",
    "import gc\n",
    "from fastai.tabular import *\n",
    "torch.cuda.set_device(0)\n",
    "pd.options.display.max_rows = 5\n",
    "pd.options.display.max_columns = 5"
   ]
  },
  {
   "cell_type": "code",
   "execution_count": 2,
   "metadata": {},
   "outputs": [],
   "source": [
    "## Import up sound alert dependencies\n",
    "from IPython.display import Audio, display\n",
    "\n",
    "def allDone():\n",
    "  display(Audio(url='https://sound.peal.io/ps/audios/000/000/537/original/woo_vu_luvub_dub_dub.wav', autoplay=True))\n",
    "## Insert whatever audio file you want above"
   ]
  },
  {
   "cell_type": "code",
   "execution_count": 3,
   "metadata": {},
   "outputs": [],
   "source": [
    "#If dataframe category has less than X instances; replace with a default value. \n",
    "\n",
    "def Combiner(df, col, val_lower, otherval):\n",
    "    top_cat = list(df[col].value_counts(dropna=False).index[:])\n",
    "    df_split=df.loc[df[col].isin(top_cat)]\n",
    "    \n",
    "    a = df_split[col].value_counts()\n",
    "    m = df_split[col].isin(a.index[a<val_lower])\n",
    "    m = list(m)\n",
    "    df.loc[m, col] = otherval\n",
    "        \n",
    "    return df"
   ]
  },
  {
   "cell_type": "code",
   "execution_count": 4,
   "metadata": {},
   "outputs": [],
   "source": [
    "# Reducing memory usage is amazingly helpful for this competetion\n",
    "import pandas as pd\n",
    "import numpy as np\n",
    "\n",
    "def reduce_mem_usage(df):\n",
    "    \"\"\" iterate through all the columns of a dataframe and modify the data type\n",
    "        to reduce memory usage.        \n",
    "    \"\"\"\n",
    "    start_mem = df.memory_usage().sum() / 1024**2\n",
    "    print('Memory usage of dataframe is {:.2f} MB'.format(start_mem))\n",
    "    \n",
    "    for col in df.columns:\n",
    "        col_type = df[col].dtype\n",
    "        \n",
    "        if col_type != object and col_type.name != 'category':\n",
    "            c_min = df[col].min()\n",
    "            c_max = df[col].max()\n",
    "            if str(col_type)[:3] == 'int':\n",
    "                if c_min > np.iinfo(np.int8).min and c_max < np.iinfo(np.int8).max:\n",
    "                    df[col] = df[col].astype(np.int8)\n",
    "                elif c_min > np.iinfo(np.int16).min and c_max < np.iinfo(np.int16).max:\n",
    "                    df[col] = df[col].astype(np.int16)\n",
    "                elif c_min > np.iinfo(np.int32).min and c_max < np.iinfo(np.int32).max:\n",
    "                    df[col] = df[col].astype(np.int32)\n",
    "                elif c_min > np.iinfo(np.int64).min and c_max < np.iinfo(np.int64).max:\n",
    "                    df[col] = df[col].astype(np.int64)  \n",
    "            else:\n",
    "                if c_min > np.finfo(np.float16).min and c_max < np.finfo(np.float16).max:\n",
    "                    df[col] = df[col].astype(np.float16)\n",
    "                elif c_min > np.finfo(np.float32).min and c_max < np.finfo(np.float32).max:\n",
    "                    df[col] = df[col].astype(np.float32)\n",
    "                else:\n",
    "                    df[col] = df[col].astype(np.float64)\n",
    "        else:\n",
    "            df[col] = df[col].astype('category')\n",
    "\n",
    "    end_mem = df.memory_usage().sum() / 1024**2\n",
    "    print('Memory usage after optimization is: {:.2f} MB'.format(end_mem))\n",
    "    print('Decreased by {:.1f}%'.format(100 * (start_mem - end_mem) / start_mem))\n",
    "    \n",
    "    return df"
   ]
  },
  {
   "cell_type": "code",
   "execution_count": 5,
   "metadata": {},
   "outputs": [],
   "source": [
    "## Rename some items to better understand their uniqueness\n",
    "def rename_edition(x):\n",
    "    x = x.lower()\n",
    "    if 'core' in x:\n",
    "        return 'Core'\n",
    "    elif 'pro' in x:\n",
    "        return 'pro'\n",
    "    elif 'enterprise' in x:\n",
    "        return 'Enterprise'\n",
    "    elif 'server' in x:\n",
    "        return 'Server'\n",
    "    elif 'home' in x:\n",
    "        return 'Home'\n",
    "    elif 'education' in x:\n",
    "        return 'Education'\n",
    "    elif 'cloud' in x:\n",
    "        return 'Cloud'\n",
    "    else:\n",
    "        return x"
   ]
  },
  {
   "cell_type": "code",
   "execution_count": 6,
   "metadata": {},
   "outputs": [],
   "source": [
    "# To successfully import we need to reduce the size of the variables\n",
    "dtypes = {\n",
    "        'MachineIdentifier':                                    'category',\n",
    "        'ProductName':                                          'category',\n",
    "        'EngineVersion':                                        'category',\n",
    "        'AppVersion':                                           'category',\n",
    "        'AvSigVersion':                                         'category',\n",
    "        'IsBeta':                                               'int8',\n",
    "        'RtpStateBitfield':                                     'float16',\n",
    "        'IsSxsPassiveMode':                                     'int8',\n",
    "        'DefaultBrowsersIdentifier':                            'float32',\n",
    "        'AVProductStatesIdentifier':                            'float32',\n",
    "        'AVProductsInstalled':                                  'float16',\n",
    "        'AVProductsEnabled':                                    'float16',\n",
    "        'HasTpm':                                               'int8',\n",
    "        'CountryIdentifier':                                    'int16',\n",
    "        'CityIdentifier':                                       'float32',\n",
    "        'OrganizationIdentifier':                               'float16',\n",
    "        'GeoNameIdentifier':                                    'float16',\n",
    "        'LocaleEnglishNameIdentifier':                          'int16',\n",
    "        'Platform':                                             'category',\n",
    "        'Processor':                                            'category',\n",
    "        'OsVer':                                                'category',\n",
    "        'OsBuild':                                              'int16',\n",
    "        'OsSuite':                                              'int16',\n",
    "        'OsPlatformSubRelease':                                 'category',\n",
    "        'OsBuildLab':                                           'category',\n",
    "        'SkuEdition':                                           'category',\n",
    "        'IsProtected':                                          'float16',\n",
    "        'AutoSampleOptIn':                                      'int8',\n",
    "        'PuaMode':                                              'category',\n",
    "        'SMode':                                                'float16',\n",
    "        'IeVerIdentifier':                                      'float16',\n",
    "        'SmartScreen':                                          'category',\n",
    "        'Firewall':                                             'float16',\n",
    "        'UacLuaenable':                                         'float64', # was 'float32'\n",
    "        'Census_MDC2FormFactor':                                'category',\n",
    "        'Census_DeviceFamily':                                  'category',\n",
    "        'Census_OEMNameIdentifier':                             'float32', # was 'float16'\n",
    "        'Census_OEMModelIdentifier':                            'float32',\n",
    "        'Census_ProcessorCoreCount':                            'float16',\n",
    "        'Census_ProcessorManufacturerIdentifier':               'float16',\n",
    "        'Census_ProcessorModelIdentifier':                      'float32', # was 'float16'\n",
    "        'Census_ProcessorClass':                                'category',\n",
    "        'Census_PrimaryDiskTotalCapacity':                      'float64', # was 'float32'\n",
    "        'Census_PrimaryDiskTypeName':                           'category',\n",
    "        'Census_SystemVolumeTotalCapacity':                     'float64', # was 'float32'\n",
    "        'Census_HasOpticalDiskDrive':                           'int8',\n",
    "        'Census_TotalPhysicalRAM':                              'float32',\n",
    "        'Census_ChassisTypeName':                               'category',\n",
    "        'Census_InternalPrimaryDiagonalDisplaySizeInInches':    'float32', # was 'float16'\n",
    "        'Census_InternalPrimaryDisplayResolutionHorizontal':    'float32', # was 'float16'\n",
    "        'Census_InternalPrimaryDisplayResolutionVertical':      'float32', # was 'float16'\n",
    "        'Census_PowerPlatformRoleName':                         'category',\n",
    "        'Census_InternalBatteryType':                           'category',\n",
    "        'Census_InternalBatteryNumberOfCharges':                'float64', # was 'float32'\n",
    "        'Census_OSVersion':                                     'category',\n",
    "        'Census_OSArchitecture':                                'category',\n",
    "        'Census_OSBranch':                                      'category',\n",
    "        'Census_OSBuildNumber':                                 'int16',\n",
    "        'Census_OSBuildRevision':                               'int32',\n",
    "        'Census_OSEdition':                                     'category',\n",
    "        'Census_OSSkuName':                                     'category',\n",
    "        'Census_OSInstallTypeName':                             'category',\n",
    "        'Census_OSInstallLanguageIdentifier':                   'float16',\n",
    "        'Census_OSUILocaleIdentifier':                          'int16',\n",
    "        'Census_OSWUAutoUpdateOptionsName':                     'category',\n",
    "        'Census_IsPortableOperatingSystem':                     'int8',\n",
    "        'Census_GenuineStateName':                              'category',\n",
    "        'Census_ActivationChannel':                             'category',\n",
    "        'Census_IsFlightingInternal':                           'float16',\n",
    "        'Census_IsFlightsDisabled':                             'float16',\n",
    "        'Census_FlightRing':                                    'category',\n",
    "        'Census_ThresholdOptIn':                                'float16',\n",
    "        'Census_FirmwareManufacturerIdentifier':                'float16',\n",
    "        'Census_FirmwareVersionIdentifier':                     'float32',\n",
    "        'Census_IsSecureBootEnabled':                           'int8',\n",
    "        'Census_IsWIMBootEnabled':                              'float16',\n",
    "        'Census_IsVirtualDevice':                               'float16',\n",
    "        'Census_IsTouchEnabled':                                'int8',\n",
    "        'Census_IsPenCapable':                                  'int8',\n",
    "        'Census_IsAlwaysOnAlwaysConnectedCapable':              'float16',\n",
    "        'Wdft_IsGamer':                                         'float16',\n",
    "        'Wdft_RegionIdentifier':                                'float16',\n",
    "        #'HasDetections':                                        'int8'\n",
    "        'HasDetections':                                        'float16'\n",
    "        }"
   ]
  },
  {
   "cell_type": "code",
   "execution_count": 7,
   "metadata": {},
   "outputs": [],
   "source": [
    "# Its the path\n",
    "path = Path('/home/jd/data/microsoft')"
   ]
  },
  {
   "cell_type": "code",
   "execution_count": 8,
   "metadata": {},
   "outputs": [],
   "source": [
    "# Split apart the date. I stripped lots of it due to it probably not helping\n",
    "\n",
    "def add_datepart(df, fldname, drop=True, time=False):\n",
    "    \"Helper function that adds columns relevant to a date.\"\n",
    "    fld = df[fldname]\n",
    "    fld_dtype = fld.dtype\n",
    "    if isinstance(fld_dtype, pd.core.dtypes.dtypes.DatetimeTZDtype):\n",
    "        fld_dtype = np.datetime64\n",
    "\n",
    "    if not np.issubdtype(fld_dtype, np.datetime64):\n",
    "        df[fldname] = fld = pd.to_datetime(fld, infer_datetime_format=True)\n",
    "    targ_pre = re.sub('[Dd]ate$', '', fldname)\n",
    "    attr = ['Year', 'Month', 'Week', 'Day', 'Dayofweek']\n",
    "    #, 'Dayofyear', 'Is_month_end'], 'Is_month_start', 'Is_quarter_end', 'Is_quarter_start', 'Is_year_end', 'Is_year_start']\n",
    "    if time: attr = attr + ['Hour', 'Minute', 'Second']\n",
    "    for n in attr: df[targ_pre + n] = getattr(fld.dt, n.lower())\n",
    "    #df[targ_pre + 'Elapsed'] = fld.astype(np.int64) // 10 ** 9\n",
    "    if drop: df.drop(fldname, axis=1, inplace=True)"
   ]
  },
  {
   "cell_type": "code",
   "execution_count": 9,
   "metadata": {},
   "outputs": [],
   "source": [
    "# Feature Engineering borrowed from Andrew Lukyanenko \n",
    "# https://www.kaggle.com/artgor/is-this-malware-eda-fe-and-lgb-updated\n",
    "def fe(df):\n",
    "    \n",
    "    #Splitting everything out\n",
    "    df['OsBuildLab'] = df['OsBuildLab'].cat.add_categories(['0.0.0.0.0-0'])\n",
    "    df['OsBuildLab'] = df['OsBuildLab'].fillna('0.0.0.0.0-0')\n",
    "    \n",
    "    df['EngineVersion_2'] = df['EngineVersion'].apply(lambda x: x.split('.')[2]).astype('category')\n",
    "    df['EngineVersion_3'] = df['EngineVersion'].apply(lambda x: x.split('.')[3]).astype('category')\n",
    "\n",
    "    df['AppVersion_1'] = df['AppVersion'].apply(lambda x: x.split('.')[1]).astype('category')\n",
    "    df['AppVersion_2'] = df['AppVersion'].apply(lambda x: x.split('.')[2]).astype('category')\n",
    "    df['AppVersion_3'] = df['AppVersion'].apply(lambda x: x.split('.')[3]).astype('category')\n",
    "\n",
    "    df['AvSigVersion_0'] = df['AvSigVersion'].apply(lambda x: x.split('.')[0]).astype('category')\n",
    "    df['AvSigVersion_1'] = df['AvSigVersion'].apply(lambda x: x.split('.')[1]).astype('category')\n",
    "    df['AvSigVersion_2'] = df['AvSigVersion'].apply(lambda x: x.split('.')[2]).astype('category')\n",
    "\n",
    "    df['OsBuildLab_0'] = df['OsBuildLab'].apply(lambda x: x.split('.')[0]).astype('category')\n",
    "    df['OsBuildLab_1'] = df['OsBuildLab'].apply(lambda x: x.split('.')[1]).astype('category')\n",
    "    df['OsBuildLab_2'] = df['OsBuildLab'].apply(lambda x: x.split('.')[2]).astype('category')\n",
    "    df['OsBuildLab_3'] = df['OsBuildLab'].apply(lambda x: x.split('.')[3]).astype('category')\n",
    "\n",
    "    df['Census_OSVersion_0'] = df['Census_OSVersion'].apply(lambda x: x.split('.')[0]).astype('category')\n",
    "    df['Census_OSVersion_1'] = df['Census_OSVersion'].apply(lambda x: x.split('.')[1]).astype('category')\n",
    "    df['Census_OSVersion_2'] = df['Census_OSVersion'].apply(lambda x: x.split('.')[2]).astype('category')\n",
    "    df['Census_OSVersion_3'] = df['Census_OSVersion'].apply(lambda x: x.split('.')[3]).astype('category')\n",
    "\n",
    "    \n",
    "    # https://www.kaggle.com/adityaecdrid/simple-feature-engineering-xd\n",
    "    df['primary_drive_c_ratio'] = df['Census_SystemVolumeTotalCapacity']/ df['Census_PrimaryDiskTotalCapacity']\n",
    "    #df['non_primary_drive_MB'] = df['Census_PrimaryDiskTotalCapacity'] - df['Census_SystemVolumeTotalCapacity']\n",
    "    \n",
    "    df['aspect_ratio'] = df['Census_InternalPrimaryDisplayResolutionHorizontal']/ df['Census_InternalPrimaryDisplayResolutionVertical']\n",
    "    #df['monitor_dims'] = df['Census_InternalPrimaryDisplayResolutionHorizontal'].astype(str) + '*' + df['Census_InternalPrimaryDisplayResolutionVertical'].astype('str')\n",
    "    #df['monitor_dims'] = df['monitor_dims'].astype('category')\n",
    "\n",
    "    df['dpi'] = ((df['Census_InternalPrimaryDisplayResolutionHorizontal']**2 + df['Census_InternalPrimaryDisplayResolutionVertical']**2)**.5)/(df['Census_InternalPrimaryDiagonalDisplaySizeInInches'])\n",
    "\n",
    "    #df['dpi_square'] = df['dpi'] ** 2\n",
    "\n",
    "    df['MegaPixels'] = (df['Census_InternalPrimaryDisplayResolutionHorizontal'] * df['Census_InternalPrimaryDisplayResolutionVertical'])/1e6\n",
    "\n",
    "    #df['Screen_Area'] = (df['aspect_ratio']* (df['Census_InternalPrimaryDiagonalDisplaySizeInInches']**2))/(df['aspect_ratio']**2 + 1)\n",
    "\n",
    "    df['ram_per_processor'] = df['Census_TotalPhysicalRAM']/ df['Census_ProcessorCoreCount']\n",
    "\n",
    "    df['new_num_0'] = df['Census_InternalPrimaryDiagonalDisplaySizeInInches'] / df['Census_ProcessorCoreCount']\n",
    "    \n",
    "    df['new_num_1'] = df['Census_ProcessorCoreCount'] * df['Census_InternalPrimaryDiagonalDisplaySizeInInches']\n",
    "    \n",
    "    df['Census_IsFlightingInternal'] = df['Census_IsFlightingInternal'].fillna(1)\n",
    "    df['Census_ThresholdOptIn'] = df['Census_ThresholdOptIn'].fillna(1)\n",
    "    df['Census_IsWIMBootEnabled'] = df['Census_IsWIMBootEnabled'].fillna(1)\n",
    "    df['Wdft_IsGamer'] = df['Wdft_IsGamer'].fillna(0) \n",
    "    \n",
    "    # \n",
    "    df.loc[df['AVProductsInstalled'].isin([1, 2]) == False, 'AVProductsInstalled'] = 3\n",
    "    df.loc[df['OrganizationIdentifier'].isin([27, 18]) == False, 'OrganizationIdentifier'] = 48\n",
    "    df['OrganizationIdentifier'] = df['OrganizationIdentifier'].astype('category')\n",
    "    \n",
    "    df['Census_OSSkuName'] = df['Census_OSSkuName'].astype(str)\n",
    "    df['Census_OSSkuName'] = df['Census_OSSkuName'].apply(rename_edition)\n",
    "    df['Census_OSSkuName'] = df['Census_OSSkuName'].astype('category')\n",
    "\n",
    "\n",
    "    df.loc[df['Census_ProcessorCoreCount'].isin([2, 4, 8, 12]) == False, 'Census_ProcessorCoreCount'] = 1\n",
    "\n",
    "    top_10 = df['Census_TotalPhysicalRAM'].value_counts(dropna=False, normalize=True).cumsum().index[:10]\n",
    "    df.loc[df['Census_TotalPhysicalRAM'].isin(top_10) == False, 'Census_TotalPhysicalRAM'] = 1000\n",
    "\n",
    "    def group_battery(x):\n",
    "        x = x.lower()\n",
    "        if 'li' in x:\n",
    "            return 1\n",
    "        else:\n",
    "            return 0\n",
    "    \n",
    "    df['Census_InternalBatteryType'] = df['Census_InternalBatteryType'].apply(group_battery)\n",
    "    \n",
    "    \n",
    "    df.loc[df['SmartScreen'].isnull(), 'SmartScreen'] = 'ExistsNotSet'\n",
    "    df.loc[df['SmartScreen'].isin(['RequireAdmin', 'ExistsNotSet', 'Off', 'Warn']) == False, 'SmartScreen'] = 'Prompt'\n",
    "    df['SmartScreen'] = df['SmartScreen'].cat.remove_unused_categories()\n",
    "\n",
    "    df.loc[df['Census_PrimaryDiskTypeName'].isin(['HDD', 'SSD']) == False, 'Census_PrimaryDiskTypeName'] = 'UNKNOWN'\n",
    "    df['Census_PrimaryDiskTypeName'] = df['Census_PrimaryDiskTypeName'].cat.remove_unused_categories()\n",
    "\n",
    "    df.loc[df['Census_ProcessorManufacturerIdentifier'].isin([5.0, 1.0]) == False, 'Census_ProcessorManufacturerIdentifier'] = 0.0\n",
    "    df['Census_ProcessorManufacturerIdentifier'] = df['Census_ProcessorManufacturerIdentifier'].astype('category')\n",
    "    \n",
    "    df.loc[df['Census_PowerPlatformRoleName'].isin(['Mobile', 'Desktop', 'Slate']) == False, 'Census_PowerPlatformRoleName'] = 'UNKNOWN'\n",
    "    df['Census_PowerPlatformRoleName'] = df['Census_PowerPlatformRoleName'].cat.remove_unused_categories()\n",
    "    \n",
    "    \n",
    "    top_cats = list(df['Census_OSWUAutoUpdateOptionsName'].value_counts().index[:3])\n",
    "    df.loc[df['Census_OSWUAutoUpdateOptionsName'].isin(top_cats) == False, 'Census_OSWUAutoUpdateOptionsName'] = 'Off'\n",
    "    df['Census_OSWUAutoUpdateOptionsName'] = df['Census_OSWUAutoUpdateOptionsName'].cat.remove_unused_categories()\n",
    "    \n",
    "    df.loc[df['Census_GenuineStateName'] == 'UNKNOWN', 'Census_GenuineStateName'] = 'OFFLINE'\n",
    "    df['Census_GenuineStateName'] = df['Census_GenuineStateName'].cat.remove_unused_categories()\n",
    "    \n",
    "    \n",
    "    df.loc[df['Census_ActivationChannel'].isin(['Retail', 'OEM:DM']) == False, 'Census_ActivationChannel'] = 'Volume:GVLK'\n",
    "    df['Census_ActivationChannel'] = df['Census_ActivationChannel'].cat.remove_unused_categories()\n",
    "    \n",
    "    \n",
    "    # Drop for memory\n",
    "    \n",
    "\n",
    "    df.drop('Census_InternalPrimaryDisplayResolutionHorizontal', axis=1)\n",
    "    df.drop('Census_OSUILocaleIdentifier', axis=1)\n",
    "    df.drop('AppVersion_3',axis=1)\n",
    "    \n",
    "    remove_cols = ['PuaMode', 'Census_ProcessorClass', \n",
    "                   'Census_IsWIMBootEnabled', 'IsBeta', \n",
    "                   'Census_IsFlightsDisabled', 'Census_IsFlightingInternal', \n",
    "                   'AutoSampleOptIn', 'Census_ThresholdOptIn', 'SMode', \n",
    "                   'Census_IsPortableOperatingSystem', 'Census_DeviceFamily', \n",
    "                   'UacLuaenable', 'Census_IsVirtualDevice', 'Platform', \n",
    "                   'Census_OSSkuName', 'Census_OSInstallLanguageIdentifier', 'Processor']\n",
    "    df.drop(remove_cols, axis=1, inplace=True)\n",
    "    \n",
    "    gc.collect()\n",
    "    return df"
   ]
  },
  {
   "cell_type": "code",
   "execution_count": 10,
   "metadata": {},
   "outputs": [],
   "source": [
    "# Feature Engineering round #2\n",
    "# I thought the number of alerts presented might help provde something... it did not.\n",
    "def fe2(df):\n",
    "    AVThreats = pd.read_csv(path/'AvSigversion_Threats.csv')\n",
    "    AVTHigh=AVThreats[AVThreats['AlertLevel'] == 'high']\n",
    "    AVTSevere=AVThreats[AVThreats['AlertLevel'] == 'severe']\n",
    "    \n",
    "    #Was just going to looke at High and Severe. Those are what we care about the most\n",
    "    cv = pd.DataFrame(AVTHigh.groupby('AvSigVersion')['index'].count()).rename({'index':'AVTHigh'},axis=1)\n",
    "    df = pd.merge(df,cv,on='AvSigVersion',how='left')\n",
    "    df['AVTHigh'].fillna(0,inplace=True).astype('float16')\n",
    "\n",
    "    cv = pd.DataFrame(AVTSevere.groupby('AvSigVersion')['index'].count()).rename({'index':'AVTSevere'},axis=1)\n",
    "    df = pd.merge(df,cv,on='AvSigVersion',how='left')\n",
    "    df['AVTSevere'].fillna(0,inplace=True).astype('float16')\n",
    "    \n",
    "    # The total number\n",
    "    df['TotalAVT']=  df['AVTSevere'] + df['AVTHigh']\n",
    "    df['TotalAVT'].fillna(0,inplace=True).astype('float16')\n",
    "\n",
    "    return df"
   ]
  },
  {
   "cell_type": "code",
   "execution_count": 11,
   "metadata": {},
   "outputs": [],
   "source": [
    "# Pulling data used for timestamps\n",
    "# https://www.kaggle.com/cdeotte/external-data-malware-0-50\n",
    "datedictAS = np.load(path/'AvSigVersionTimestamps.npy')[()]\n",
    "datedictOS = np.load(path/'OSVersionTimestamps.npy')[()]"
   ]
  },
  {
   "cell_type": "markdown",
   "metadata": {},
   "source": [
    "## Train the dataframe"
   ]
  },
  {
   "cell_type": "code",
   "execution_count": 12,
   "metadata": {},
   "outputs": [],
   "source": [
    "# Pickles are faster at loading, so to save time I we turned them into pickles!\n",
    "\n",
    "#df = pd.read_csv(path/'train.csv', dtype=dtypes)\n",
    "#pickle.dump(df, open( \"/home/jd/data/microsoft/microsoft-startdf-save.p\", \"wb\" ) )\n",
    "df=pickle.load(open( \"/home/jd/data/microsoft/microsoft-startdf-save.p\", \"rb\" ) )"
   ]
  },
  {
   "cell_type": "code",
   "execution_count": 13,
   "metadata": {},
   "outputs": [],
   "source": [
    "# This did not help\n",
    "#fe2(df)"
   ]
  },
  {
   "cell_type": "code",
   "execution_count": 14,
   "metadata": {},
   "outputs": [
    {
     "data": {
      "text/html": [
       "<div>\n",
       "<style scoped>\n",
       "    .dataframe tbody tr th:only-of-type {\n",
       "        vertical-align: middle;\n",
       "    }\n",
       "\n",
       "    .dataframe tbody tr th {\n",
       "        vertical-align: top;\n",
       "    }\n",
       "\n",
       "    .dataframe thead th {\n",
       "        text-align: right;\n",
       "    }\n",
       "</style>\n",
       "<table border=\"1\" class=\"dataframe\">\n",
       "  <thead>\n",
       "    <tr style=\"text-align: right;\">\n",
       "      <th></th>\n",
       "      <th>MachineIdentifier</th>\n",
       "      <th>ProductName</th>\n",
       "      <th>...</th>\n",
       "      <th>new_num_0</th>\n",
       "      <th>new_num_1</th>\n",
       "    </tr>\n",
       "  </thead>\n",
       "  <tbody>\n",
       "    <tr>\n",
       "      <th>0</th>\n",
       "      <td>0000028988387b115f69f31a3bf04f09</td>\n",
       "      <td>win8defender</td>\n",
       "      <td>...</td>\n",
       "      <td>4.725</td>\n",
       "      <td>75.599998</td>\n",
       "    </tr>\n",
       "    <tr>\n",
       "      <th>1</th>\n",
       "      <td>000007535c3f730efa9ea0b7ef1bd645</td>\n",
       "      <td>win8defender</td>\n",
       "      <td>...</td>\n",
       "      <td>3.475</td>\n",
       "      <td>55.599998</td>\n",
       "    </tr>\n",
       "    <tr>\n",
       "      <th>...</th>\n",
       "      <td>...</td>\n",
       "      <td>...</td>\n",
       "      <td>...</td>\n",
       "      <td>...</td>\n",
       "      <td>...</td>\n",
       "    </tr>\n",
       "    <tr>\n",
       "      <th>8921481</th>\n",
       "      <td>fffffbbaaf5969ae4b93e7f3f6d7132f</td>\n",
       "      <td>win8defender</td>\n",
       "      <td>...</td>\n",
       "      <td>6.350</td>\n",
       "      <td>25.400000</td>\n",
       "    </tr>\n",
       "    <tr>\n",
       "      <th>8921482</th>\n",
       "      <td>ffffff75ba4f33d938ccfdb148b8ea16</td>\n",
       "      <td>win8defender</td>\n",
       "      <td>...</td>\n",
       "      <td>3.875</td>\n",
       "      <td>62.000000</td>\n",
       "    </tr>\n",
       "  </tbody>\n",
       "</table>\n",
       "<p>8921483 rows × 89 columns</p>\n",
       "</div>"
      ],
      "text/plain": [
       "                        MachineIdentifier   ProductName    ...     new_num_0  \\\n",
       "0        0000028988387b115f69f31a3bf04f09  win8defender    ...         4.725   \n",
       "1        000007535c3f730efa9ea0b7ef1bd645  win8defender    ...         3.475   \n",
       "...                                   ...           ...    ...           ...   \n",
       "8921481  fffffbbaaf5969ae4b93e7f3f6d7132f  win8defender    ...         6.350   \n",
       "8921482  ffffff75ba4f33d938ccfdb148b8ea16  win8defender    ...         3.875   \n",
       "\n",
       "         new_num_1  \n",
       "0        75.599998  \n",
       "1        55.599998  \n",
       "...            ...  \n",
       "8921481  25.400000  \n",
       "8921482  62.000000  \n",
       "\n",
       "[8921483 rows x 89 columns]"
      ]
     },
     "execution_count": 14,
     "metadata": {},
     "output_type": "execute_result"
    }
   ],
   "source": [
    "# Feature Engineering for the train set\n",
    "fe(df)"
   ]
  },
  {
   "cell_type": "code",
   "execution_count": 15,
   "metadata": {},
   "outputs": [],
   "source": [
    "# We want to remove columns that might not be helpful. \n",
    "removeCols=[]\n",
    "for col in df.columns:\n",
    "    rate = df[col].value_counts(normalize=True, dropna=False).values[0]\n",
    "    if rate > 0.95:\n",
    "        removeCols.append(col)"
   ]
  },
  {
   "cell_type": "code",
   "execution_count": 16,
   "metadata": {},
   "outputs": [
    {
     "data": {
      "text/plain": [
       "(8531, 28970, 107366, 3832, 41088, 50494)"
      ]
     },
     "execution_count": 16,
     "metadata": {},
     "output_type": "execute_result"
    }
   ],
   "source": [
    "#I wanted to reduce the number of unique variables. IE if a city only showed up once, it was likely a bad indicator. \n",
    "# We get to save a little bit of memory by doing this.\n",
    "\n",
    "df['AvSigVersion'].nunique(),df['AVProductStatesIdentifier'].nunique(), df['CityIdentifier'].nunique(),df['Census_OEMNameIdentifier'].nunique(),df['Census_InternalBatteryNumberOfCharges'].nunique(),df['Census_FirmwareVersionIdentifier'].nunique()"
   ]
  },
  {
   "cell_type": "code",
   "execution_count": 17,
   "metadata": {},
   "outputs": [
    {
     "data": {
      "text/plain": [
       "(2725, 28723, 103928, 3831, 40832, 49711)"
      ]
     },
     "execution_count": 17,
     "metadata": {},
     "output_type": "execute_result"
    }
   ],
   "source": [
    "#df2=df[['AvSigVersion', \n",
    "#'AVProductStatesIdentifier',\n",
    "#'CityIdentifier',\n",
    "#'Census_OEMNameIdentifier',\n",
    "#'Census_InternalBatteryNumberOfCharges',\n",
    "#'Census_FirmwareVersionIdentifier',\n",
    "#'HasDetections']]\n",
    "cutoff=100\n",
    "\n",
    "Combiner(df,'AvSigVersion',cutoff,'0.0.0.0')\n",
    "Combiner(df,'AVProductStatesIdentifier',cutoff, '0.0')\n",
    "Combiner(df,'CityIdentifier',cutoff,'0.0')\n",
    "Combiner(df,'Census_OEMNameIdentifier',cutoff,'3')\n",
    "Combiner(df,'Census_InternalBatteryNumberOfCharges',cutoff,'50')\n",
    "Combiner(df,'Census_FirmwareVersionIdentifier',cutoff,'50')\n",
    "df['AvSigVersion'].nunique(),df['AVProductStatesIdentifier'].nunique(), df['CityIdentifier'].nunique(),df['Census_OEMNameIdentifier'].nunique(),df['Census_InternalBatteryNumberOfCharges'].nunique(),df['Census_FirmwareVersionIdentifier'].nunique()"
   ]
  },
  {
   "cell_type": "code",
   "execution_count": 18,
   "metadata": {},
   "outputs": [],
   "source": [
    "#df.info()"
   ]
  },
  {
   "cell_type": "code",
   "execution_count": 19,
   "metadata": {},
   "outputs": [],
   "source": [
    "# Date feature engineering. Rumors abound that the testset were later. Tried to have something taking the latest date\n",
    "#from the set as the most recent release and the number of days since the last update. Afterall this is a key\n",
    "# item in security. \n",
    "\n",
    "def dateFE(df, col,datedict):\n",
    "    #Date information\n",
    "    label='Date'+str(col)\n",
    "    df['Date'+str(col)] = df[col].map(datedict)\n",
    "    add_datepart(df, 'Date'+str(col), drop=False)\n",
    "    datetime =  df['Date'+str(col)].max()\n",
    "    print(datetime)\n",
    "    df['DaysElapsed'+col]=  ((datetime)- df['Date'+str(col)]).dt.days\n",
    "    df=df.drop(label,axis =1)\n",
    "    print('Variable is '+str(label))\n",
    "    return df"
   ]
  },
  {
   "cell_type": "code",
   "execution_count": 20,
   "metadata": {},
   "outputs": [
    {
     "name": "stdout",
     "output_type": "stream",
     "text": [
      "2018-09-25 23:56:00\n",
      "Variable is DateAvSigVersion\n"
     ]
    }
   ],
   "source": [
    "#Should be 2018-09-25 23:56:00\n",
    "dateFE(df,'AvSigVersion',datedictAS)\n",
    "df=df.drop('DateAvSigVersion',axis =1)"
   ]
  },
  {
   "cell_type": "code",
   "execution_count": 21,
   "metadata": {},
   "outputs": [
    {
     "name": "stdout",
     "output_type": "stream",
     "text": [
      "2018-10-02 00:00:00\n",
      "Variable is DateCensus_OSVersion\n"
     ]
    }
   ],
   "source": [
    "#get newest date 2018-10-02 00:00:00\n",
    "dateFE(df,'Census_OSVersion',datedictOS)\n",
    "df=df.drop('DateCensus_OSVersion',axis =1)"
   ]
  },
  {
   "cell_type": "code",
   "execution_count": 22,
   "metadata": {},
   "outputs": [
    {
     "name": "stdout",
     "output_type": "stream",
     "text": [
      "Memory usage of dataframe is 3187.85 MB\n",
      "Memory usage after optimization is: 1930.77 MB\n",
      "Decreased by 39.4%\n"
     ]
    },
    {
     "data": {
      "text/html": [
       "<div>\n",
       "<style scoped>\n",
       "    .dataframe tbody tr th:only-of-type {\n",
       "        vertical-align: middle;\n",
       "    }\n",
       "\n",
       "    .dataframe tbody tr th {\n",
       "        vertical-align: top;\n",
       "    }\n",
       "\n",
       "    .dataframe thead th {\n",
       "        text-align: right;\n",
       "    }\n",
       "</style>\n",
       "<table border=\"1\" class=\"dataframe\">\n",
       "  <thead>\n",
       "    <tr style=\"text-align: right;\">\n",
       "      <th></th>\n",
       "      <th>MachineIdentifier</th>\n",
       "      <th>ProductName</th>\n",
       "      <th>...</th>\n",
       "      <th>DateCensus_OSVersionDayofweek</th>\n",
       "      <th>DaysElapsedCensus_OSVersion</th>\n",
       "    </tr>\n",
       "  </thead>\n",
       "  <tbody>\n",
       "    <tr>\n",
       "      <th>0</th>\n",
       "      <td>0000028988387b115f69f31a3bf04f09</td>\n",
       "      <td>win8defender</td>\n",
       "      <td>...</td>\n",
       "      <td>1.0</td>\n",
       "      <td>84.0</td>\n",
       "    </tr>\n",
       "    <tr>\n",
       "      <th>1</th>\n",
       "      <td>000007535c3f730efa9ea0b7ef1bd645</td>\n",
       "      <td>win8defender</td>\n",
       "      <td>...</td>\n",
       "      <td>4.0</td>\n",
       "      <td>165.0</td>\n",
       "    </tr>\n",
       "    <tr>\n",
       "      <th>...</th>\n",
       "      <td>...</td>\n",
       "      <td>...</td>\n",
       "      <td>...</td>\n",
       "      <td>...</td>\n",
       "      <td>...</td>\n",
       "    </tr>\n",
       "    <tr>\n",
       "      <th>8921481</th>\n",
       "      <td>fffffbbaaf5969ae4b93e7f3f6d7132f</td>\n",
       "      <td>win8defender</td>\n",
       "      <td>...</td>\n",
       "      <td>1.0</td>\n",
       "      <td>448.0</td>\n",
       "    </tr>\n",
       "    <tr>\n",
       "      <th>8921482</th>\n",
       "      <td>ffffff75ba4f33d938ccfdb148b8ea16</td>\n",
       "      <td>win8defender</td>\n",
       "      <td>...</td>\n",
       "      <td>1.0</td>\n",
       "      <td>49.0</td>\n",
       "    </tr>\n",
       "  </tbody>\n",
       "</table>\n",
       "<p>8921483 rows × 101 columns</p>\n",
       "</div>"
      ],
      "text/plain": [
       "                        MachineIdentifier   ProductName  \\\n",
       "0        0000028988387b115f69f31a3bf04f09  win8defender   \n",
       "1        000007535c3f730efa9ea0b7ef1bd645  win8defender   \n",
       "...                                   ...           ...   \n",
       "8921481  fffffbbaaf5969ae4b93e7f3f6d7132f  win8defender   \n",
       "8921482  ffffff75ba4f33d938ccfdb148b8ea16  win8defender   \n",
       "\n",
       "                    ...             DateCensus_OSVersionDayofweek  \\\n",
       "0                   ...                                       1.0   \n",
       "1                   ...                                       4.0   \n",
       "...                 ...                                       ...   \n",
       "8921481             ...                                       1.0   \n",
       "8921482             ...                                       1.0   \n",
       "\n",
       "        DaysElapsedCensus_OSVersion  \n",
       "0                              84.0  \n",
       "1                             165.0  \n",
       "...                             ...  \n",
       "8921481                       448.0  \n",
       "8921482                        49.0  \n",
       "\n",
       "[8921483 rows x 101 columns]"
      ]
     },
     "execution_count": 22,
     "metadata": {},
     "output_type": "execute_result"
    }
   ],
   "source": [
    "#reducing that memory!\n",
    "reduce_mem_usage(df)"
   ]
  },
  {
   "cell_type": "code",
   "execution_count": 23,
   "metadata": {},
   "outputs": [],
   "source": [
    "## Save the pickle\n",
    "pickle.dump(df, open( \"/home/jd/data/microsoft/microsoft-df-save.p\", \"wb\" ) )"
   ]
  },
  {
   "cell_type": "code",
   "execution_count": 24,
   "metadata": {},
   "outputs": [
    {
     "data": {
      "text/plain": [
       "7"
      ]
     },
     "execution_count": 24,
     "metadata": {},
     "output_type": "execute_result"
    }
   ],
   "source": [
    "# gc just in case\n",
    "gc.collect()"
   ]
  },
  {
   "cell_type": "markdown",
   "metadata": {},
   "source": [
    "## Test Data\n",
    "Do the same thing for test data!"
   ]
  },
  {
   "cell_type": "code",
   "execution_count": 25,
   "metadata": {},
   "outputs": [],
   "source": [
    "#test_df = pd.read_csv(path/'test.csv', dtype=dtypes)\n",
    "#pickle.dump(test_df, open( \"/home/jd/data/microsoft/microsoft-starttestdf-save.p\", \"wb\" ) )\n",
    "test_df=pickle.load(open( \"/home/jd/data/microsoft/microsoft-starttestdf-save.p\", \"rb\" ) )"
   ]
  },
  {
   "cell_type": "code",
   "execution_count": 26,
   "metadata": {},
   "outputs": [
    {
     "data": {
      "text/html": [
       "<div>\n",
       "<style scoped>\n",
       "    .dataframe tbody tr th:only-of-type {\n",
       "        vertical-align: middle;\n",
       "    }\n",
       "\n",
       "    .dataframe tbody tr th {\n",
       "        vertical-align: top;\n",
       "    }\n",
       "\n",
       "    .dataframe thead th {\n",
       "        text-align: right;\n",
       "    }\n",
       "</style>\n",
       "<table border=\"1\" class=\"dataframe\">\n",
       "  <thead>\n",
       "    <tr style=\"text-align: right;\">\n",
       "      <th></th>\n",
       "      <th>MachineIdentifier</th>\n",
       "      <th>ProductName</th>\n",
       "      <th>...</th>\n",
       "      <th>new_num_0</th>\n",
       "      <th>new_num_1</th>\n",
       "    </tr>\n",
       "  </thead>\n",
       "  <tbody>\n",
       "    <tr>\n",
       "      <th>0</th>\n",
       "      <td>0000010489e3af074adeac69c53e555e</td>\n",
       "      <td>win8defender</td>\n",
       "      <td>...</td>\n",
       "      <td>3.875</td>\n",
       "      <td>62.000000</td>\n",
       "    </tr>\n",
       "    <tr>\n",
       "      <th>1</th>\n",
       "      <td>00000176ac758d54827acd545b6315a5</td>\n",
       "      <td>win8defender</td>\n",
       "      <td>...</td>\n",
       "      <td>3.875</td>\n",
       "      <td>62.000000</td>\n",
       "    </tr>\n",
       "    <tr>\n",
       "      <th>...</th>\n",
       "      <td>...</td>\n",
       "      <td>...</td>\n",
       "      <td>...</td>\n",
       "      <td>...</td>\n",
       "      <td>...</td>\n",
       "    </tr>\n",
       "    <tr>\n",
       "      <th>7853251</th>\n",
       "      <td>fffffad7b6c8196ec5cae634406c0d4f</td>\n",
       "      <td>win8defender</td>\n",
       "      <td>...</td>\n",
       "      <td>3.875</td>\n",
       "      <td>62.000000</td>\n",
       "    </tr>\n",
       "    <tr>\n",
       "      <th>7853252</th>\n",
       "      <td>fffffbd305a90eb0f93ee4f30a39c736</td>\n",
       "      <td>win8defender</td>\n",
       "      <td>...</td>\n",
       "      <td>7.800</td>\n",
       "      <td>31.200001</td>\n",
       "    </tr>\n",
       "  </tbody>\n",
       "</table>\n",
       "<p>7853253 rows × 88 columns</p>\n",
       "</div>"
      ],
      "text/plain": [
       "                        MachineIdentifier   ProductName    ...     new_num_0  \\\n",
       "0        0000010489e3af074adeac69c53e555e  win8defender    ...         3.875   \n",
       "1        00000176ac758d54827acd545b6315a5  win8defender    ...         3.875   \n",
       "...                                   ...           ...    ...           ...   \n",
       "7853251  fffffad7b6c8196ec5cae634406c0d4f  win8defender    ...         3.875   \n",
       "7853252  fffffbd305a90eb0f93ee4f30a39c736  win8defender    ...         7.800   \n",
       "\n",
       "         new_num_1  \n",
       "0        62.000000  \n",
       "1        62.000000  \n",
       "...            ...  \n",
       "7853251  62.000000  \n",
       "7853252  31.200001  \n",
       "\n",
       "[7853253 rows x 88 columns]"
      ]
     },
     "execution_count": 26,
     "metadata": {},
     "output_type": "execute_result"
    }
   ],
   "source": [
    "fe(test_df)"
   ]
  },
  {
   "cell_type": "code",
   "execution_count": 27,
   "metadata": {},
   "outputs": [],
   "source": [
    "#fe2(test_df)"
   ]
  },
  {
   "cell_type": "code",
   "execution_count": 28,
   "metadata": {},
   "outputs": [
    {
     "data": {
      "text/html": [
       "<div>\n",
       "<style scoped>\n",
       "    .dataframe tbody tr th:only-of-type {\n",
       "        vertical-align: middle;\n",
       "    }\n",
       "\n",
       "    .dataframe tbody tr th {\n",
       "        vertical-align: top;\n",
       "    }\n",
       "\n",
       "    .dataframe thead th {\n",
       "        text-align: right;\n",
       "    }\n",
       "</style>\n",
       "<table border=\"1\" class=\"dataframe\">\n",
       "  <thead>\n",
       "    <tr style=\"text-align: right;\">\n",
       "      <th></th>\n",
       "      <th>MachineIdentifier</th>\n",
       "      <th>EngineVersion</th>\n",
       "      <th>...</th>\n",
       "      <th>new_num_0</th>\n",
       "      <th>new_num_1</th>\n",
       "    </tr>\n",
       "  </thead>\n",
       "  <tbody>\n",
       "    <tr>\n",
       "      <th>0</th>\n",
       "      <td>0000010489e3af074adeac69c53e555e</td>\n",
       "      <td>1.1.15400.5</td>\n",
       "      <td>...</td>\n",
       "      <td>3.875</td>\n",
       "      <td>62.000000</td>\n",
       "    </tr>\n",
       "    <tr>\n",
       "      <th>1</th>\n",
       "      <td>00000176ac758d54827acd545b6315a5</td>\n",
       "      <td>1.1.15400.4</td>\n",
       "      <td>...</td>\n",
       "      <td>3.875</td>\n",
       "      <td>62.000000</td>\n",
       "    </tr>\n",
       "    <tr>\n",
       "      <th>...</th>\n",
       "      <td>...</td>\n",
       "      <td>...</td>\n",
       "      <td>...</td>\n",
       "      <td>...</td>\n",
       "      <td>...</td>\n",
       "    </tr>\n",
       "    <tr>\n",
       "      <th>7853251</th>\n",
       "      <td>fffffad7b6c8196ec5cae634406c0d4f</td>\n",
       "      <td>1.1.15400.4</td>\n",
       "      <td>...</td>\n",
       "      <td>3.875</td>\n",
       "      <td>62.000000</td>\n",
       "    </tr>\n",
       "    <tr>\n",
       "      <th>7853252</th>\n",
       "      <td>fffffbd305a90eb0f93ee4f30a39c736</td>\n",
       "      <td>1.1.15400.5</td>\n",
       "      <td>...</td>\n",
       "      <td>7.800</td>\n",
       "      <td>31.200001</td>\n",
       "    </tr>\n",
       "  </tbody>\n",
       "</table>\n",
       "<p>7853253 rows × 76 columns</p>\n",
       "</div>"
      ],
      "text/plain": [
       "                        MachineIdentifier EngineVersion    ...     new_num_0  \\\n",
       "0        0000010489e3af074adeac69c53e555e   1.1.15400.5    ...         3.875   \n",
       "1        00000176ac758d54827acd545b6315a5   1.1.15400.4    ...         3.875   \n",
       "...                                   ...           ...    ...           ...   \n",
       "7853251  fffffad7b6c8196ec5cae634406c0d4f   1.1.15400.4    ...         3.875   \n",
       "7853252  fffffbd305a90eb0f93ee4f30a39c736   1.1.15400.5    ...         7.800   \n",
       "\n",
       "         new_num_1  \n",
       "0        62.000000  \n",
       "1        62.000000  \n",
       "...            ...  \n",
       "7853251  62.000000  \n",
       "7853252  31.200001  \n",
       "\n",
       "[7853253 rows x 76 columns]"
      ]
     },
     "execution_count": 28,
     "metadata": {},
     "output_type": "execute_result"
    }
   ],
   "source": [
    "test_df.drop(removeCols, axis=1)"
   ]
  },
  {
   "cell_type": "code",
   "execution_count": 29,
   "metadata": {},
   "outputs": [
    {
     "data": {
      "text/html": [
       "<div>\n",
       "<style scoped>\n",
       "    .dataframe tbody tr th:only-of-type {\n",
       "        vertical-align: middle;\n",
       "    }\n",
       "\n",
       "    .dataframe tbody tr th {\n",
       "        vertical-align: top;\n",
       "    }\n",
       "\n",
       "    .dataframe thead th {\n",
       "        text-align: right;\n",
       "    }\n",
       "</style>\n",
       "<table border=\"1\" class=\"dataframe\">\n",
       "  <thead>\n",
       "    <tr style=\"text-align: right;\">\n",
       "      <th></th>\n",
       "      <th>MachineIdentifier</th>\n",
       "      <th>ProductName</th>\n",
       "      <th>...</th>\n",
       "      <th>new_num_0</th>\n",
       "      <th>new_num_1</th>\n",
       "    </tr>\n",
       "  </thead>\n",
       "  <tbody>\n",
       "    <tr>\n",
       "      <th>0</th>\n",
       "      <td>0000010489e3af074adeac69c53e555e</td>\n",
       "      <td>win8defender</td>\n",
       "      <td>...</td>\n",
       "      <td>3.875</td>\n",
       "      <td>62.000000</td>\n",
       "    </tr>\n",
       "    <tr>\n",
       "      <th>1</th>\n",
       "      <td>00000176ac758d54827acd545b6315a5</td>\n",
       "      <td>win8defender</td>\n",
       "      <td>...</td>\n",
       "      <td>3.875</td>\n",
       "      <td>62.000000</td>\n",
       "    </tr>\n",
       "    <tr>\n",
       "      <th>...</th>\n",
       "      <td>...</td>\n",
       "      <td>...</td>\n",
       "      <td>...</td>\n",
       "      <td>...</td>\n",
       "      <td>...</td>\n",
       "    </tr>\n",
       "    <tr>\n",
       "      <th>7853251</th>\n",
       "      <td>fffffad7b6c8196ec5cae634406c0d4f</td>\n",
       "      <td>win8defender</td>\n",
       "      <td>...</td>\n",
       "      <td>3.875</td>\n",
       "      <td>62.000000</td>\n",
       "    </tr>\n",
       "    <tr>\n",
       "      <th>7853252</th>\n",
       "      <td>fffffbd305a90eb0f93ee4f30a39c736</td>\n",
       "      <td>win8defender</td>\n",
       "      <td>...</td>\n",
       "      <td>7.800</td>\n",
       "      <td>31.200001</td>\n",
       "    </tr>\n",
       "  </tbody>\n",
       "</table>\n",
       "<p>7853253 rows × 88 columns</p>\n",
       "</div>"
      ],
      "text/plain": [
       "                        MachineIdentifier   ProductName    ...     new_num_0  \\\n",
       "0        0000010489e3af074adeac69c53e555e  win8defender    ...         3.875   \n",
       "1        00000176ac758d54827acd545b6315a5  win8defender    ...         3.875   \n",
       "...                                   ...           ...    ...           ...   \n",
       "7853251  fffffad7b6c8196ec5cae634406c0d4f  win8defender    ...         3.875   \n",
       "7853252  fffffbd305a90eb0f93ee4f30a39c736  win8defender    ...         7.800   \n",
       "\n",
       "         new_num_1  \n",
       "0        62.000000  \n",
       "1        62.000000  \n",
       "...            ...  \n",
       "7853251  62.000000  \n",
       "7853252  31.200001  \n",
       "\n",
       "[7853253 rows x 88 columns]"
      ]
     },
     "execution_count": 29,
     "metadata": {},
     "output_type": "execute_result"
    }
   ],
   "source": [
    "Combiner(test_df,'AvSigVersion',cutoff,'0.0.0.0')\n",
    "Combiner(test_df,'AVProductStatesIdentifier',cutoff, '0.0')\n",
    "Combiner(test_df,'CityIdentifier',cutoff,'0.0')\n",
    "Combiner(test_df,'Census_OEMNameIdentifier',cutoff,'3')\n",
    "Combiner(test_df,'Census_InternalBatteryNumberOfCharges',cutoff,'50')\n",
    "Combiner(test_df,'Census_FirmwareVersionIdentifier',cutoff,'50')"
   ]
  },
  {
   "cell_type": "code",
   "execution_count": 30,
   "metadata": {},
   "outputs": [
    {
     "name": "stdout",
     "output_type": "stream",
     "text": [
      "2018-11-25 23:28:00\n",
      "Variable is DateAvSigVersion\n"
     ]
    }
   ],
   "source": [
    "# Should be\n",
    "dateFE(test_df,'AvSigVersion',datedictAS)\n",
    "test_df=test_df.drop('DateAvSigVersion',axis =1)"
   ]
  },
  {
   "cell_type": "code",
   "execution_count": 31,
   "metadata": {},
   "outputs": [
    {
     "name": "stdout",
     "output_type": "stream",
     "text": [
      "2018-11-16 00:00:00\n",
      "Variable is DateCensus_OSVersion\n"
     ]
    }
   ],
   "source": [
    "# Should be\n",
    "dateFE(test_df,'Census_OSVersion',datedictOS)\n",
    "test_df=test_df.drop('DateCensus_OSVersion',axis =1)"
   ]
  },
  {
   "cell_type": "code",
   "execution_count": 32,
   "metadata": {},
   "outputs": [
    {
     "name": "stdout",
     "output_type": "stream",
     "text": [
      "Memory usage of dataframe is 2814.58 MB\n",
      "Memory usage after optimization is: 1723.55 MB\n",
      "Decreased by 38.8%\n"
     ]
    },
    {
     "data": {
      "text/html": [
       "<div>\n",
       "<style scoped>\n",
       "    .dataframe tbody tr th:only-of-type {\n",
       "        vertical-align: middle;\n",
       "    }\n",
       "\n",
       "    .dataframe tbody tr th {\n",
       "        vertical-align: top;\n",
       "    }\n",
       "\n",
       "    .dataframe thead th {\n",
       "        text-align: right;\n",
       "    }\n",
       "</style>\n",
       "<table border=\"1\" class=\"dataframe\">\n",
       "  <thead>\n",
       "    <tr style=\"text-align: right;\">\n",
       "      <th></th>\n",
       "      <th>MachineIdentifier</th>\n",
       "      <th>ProductName</th>\n",
       "      <th>...</th>\n",
       "      <th>DateCensus_OSVersionDayofweek</th>\n",
       "      <th>DaysElapsedCensus_OSVersion</th>\n",
       "    </tr>\n",
       "  </thead>\n",
       "  <tbody>\n",
       "    <tr>\n",
       "      <th>0</th>\n",
       "      <td>0000010489e3af074adeac69c53e555e</td>\n",
       "      <td>win8defender</td>\n",
       "      <td>...</td>\n",
       "      <td>1.0</td>\n",
       "      <td>38.0</td>\n",
       "    </tr>\n",
       "    <tr>\n",
       "      <th>1</th>\n",
       "      <td>00000176ac758d54827acd545b6315a5</td>\n",
       "      <td>win8defender</td>\n",
       "      <td>...</td>\n",
       "      <td>1.0</td>\n",
       "      <td>94.0</td>\n",
       "    </tr>\n",
       "    <tr>\n",
       "      <th>...</th>\n",
       "      <td>...</td>\n",
       "      <td>...</td>\n",
       "      <td>...</td>\n",
       "      <td>...</td>\n",
       "      <td>...</td>\n",
       "    </tr>\n",
       "    <tr>\n",
       "      <th>7853251</th>\n",
       "      <td>fffffad7b6c8196ec5cae634406c0d4f</td>\n",
       "      <td>win8defender</td>\n",
       "      <td>...</td>\n",
       "      <td>1.0</td>\n",
       "      <td>521.0</td>\n",
       "    </tr>\n",
       "    <tr>\n",
       "      <th>7853252</th>\n",
       "      <td>fffffbd305a90eb0f93ee4f30a39c736</td>\n",
       "      <td>win8defender</td>\n",
       "      <td>...</td>\n",
       "      <td>2.0</td>\n",
       "      <td>849.0</td>\n",
       "    </tr>\n",
       "  </tbody>\n",
       "</table>\n",
       "<p>7853253 rows × 100 columns</p>\n",
       "</div>"
      ],
      "text/plain": [
       "                        MachineIdentifier   ProductName  \\\n",
       "0        0000010489e3af074adeac69c53e555e  win8defender   \n",
       "1        00000176ac758d54827acd545b6315a5  win8defender   \n",
       "...                                   ...           ...   \n",
       "7853251  fffffad7b6c8196ec5cae634406c0d4f  win8defender   \n",
       "7853252  fffffbd305a90eb0f93ee4f30a39c736  win8defender   \n",
       "\n",
       "                    ...             DateCensus_OSVersionDayofweek  \\\n",
       "0                   ...                                       1.0   \n",
       "1                   ...                                       1.0   \n",
       "...                 ...                                       ...   \n",
       "7853251             ...                                       1.0   \n",
       "7853252             ...                                       2.0   \n",
       "\n",
       "        DaysElapsedCensus_OSVersion  \n",
       "0                              38.0  \n",
       "1                              94.0  \n",
       "...                             ...  \n",
       "7853251                       521.0  \n",
       "7853252                       849.0  \n",
       "\n",
       "[7853253 rows x 100 columns]"
      ]
     },
     "execution_count": 32,
     "metadata": {},
     "output_type": "execute_result"
    }
   ],
   "source": [
    "reduce_mem_usage(test_df)"
   ]
  },
  {
   "cell_type": "code",
   "execution_count": 33,
   "metadata": {},
   "outputs": [],
   "source": [
    "pickle.dump(test_df, open( \"/home/jd/data/microsoft/microsoft-test.p\", \"wb\" ) )"
   ]
  },
  {
   "cell_type": "markdown",
   "metadata": {},
   "source": [
    "## Relax Data\n",
    "Lots of help here to take away extremes in the data. \n",
    "https://www.kaggle.com/artgor/is-this-malware-eda-fe-and-lgb-updated"
   ]
  },
  {
   "cell_type": "code",
   "execution_count": 34,
   "metadata": {},
   "outputs": [],
   "source": [
    "# lets take the most recent\n",
    "df=pickle.load(open( \"/home/jd/data/microsoft/microsoft-df-save.p\", \"rb\" ) )\n",
    "test_df = pickle.load(open( \"/home/jd/data/microsoft/microsoft-test.p\", \"rb\" ) )"
   ]
  },
  {
   "cell_type": "code",
   "execution_count": 35,
   "metadata": {},
   "outputs": [],
   "source": [
    "# Bad value here\n",
    "df['AvSigVersion_1']=df['AvSigVersion_1'].replace('2&#x17;3', 0)"
   ]
  },
  {
   "cell_type": "code",
   "execution_count": 36,
   "metadata": {},
   "outputs": [],
   "source": [
    "# I wanted to make a validation set which mainly had items later on. This makes sense if viewing it as a time series.\n",
    "# it is not a time series....\n",
    "df['AvSigVersion_1']=df['AvSigVersion_1'].astype('float16')\n",
    "#https://www.kaggle.com/cdeotte/time-split-validation-malware-0-68\n",
    "#df_trainC = df[ df['AvSigVersion_1']<275 ]\n",
    "df_trainD = df[ df['AvSigVersion_1']>=275 ]\n",
    "valid_idx=random.sample(df_trainD.index.tolist(), int(len(df_trainD)*.5))\n",
    "pickle.dump(valid_idx, open( \"/home/jd/data/microsoft/valid_idx.p\", \"wb\" ) )\n",
    "df['AvSigVersion_1']=df['AvSigVersion_1'].astype('category')"
   ]
  },
  {
   "cell_type": "code",
   "execution_count": 38,
   "metadata": {},
   "outputs": [],
   "source": [
    "def factor_data(df_train, df_test, col):\n",
    "    df_comb = pd.concat([df_train[col],df_test[col]],axis=0)\n",
    "    df_comb,_ = df_comb.factorize(sort=True)\n",
    "    # MAKE SMALLEST LABEL 1, RESERVE 0\n",
    "    df_comb += 1\n",
    "    # MAKE NAN LARGEST LABEL\n",
    "    df_comb = np.where(df_comb==0, df_comb.max()+1, df_comb)\n",
    "    df_train[col] = df_comb[:len(df_train)]\n",
    "    df_test[col] = df_comb[len(df_train):]\n",
    "    del df_comb"
   ]
  },
  {
   "cell_type": "code",
   "execution_count": 37,
   "metadata": {},
   "outputs": [],
   "source": [
    "# Walks through all the columns to relax data. We dont want to do this on 3 items.\n",
    "cols = [x for x in df.columns if x not in ['MachineIdentifier','HasDetections','AvSigVersion_1']]\n",
    "\n",
    "def relax_data(df_train, df_test, col):\n",
    "    cv1 = pd.DataFrame(df_train[col].value_counts().reset_index().rename({col:'train'},axis=1))\n",
    "    cv2 = pd.DataFrame(df_test[col].value_counts().reset_index().rename({col:'test'},axis=1))\n",
    "    cv3 = pd.merge(cv1,cv2,on='index',how='outer')\n",
    "    cv3['train'].fillna(0,inplace=True)\n",
    "    cv3['test'].fillna(0,inplace=True)\n",
    "    factor = len(df_test)/len(df_train)\n",
    "    cv3['remove'] = False\n",
    "    cv3['remove'] = cv3['remove'] | (cv3['train'] < len(df_train)/9000)\n",
    "    cv3['remove'] = cv3['remove'] | (factor*cv3['train'] < cv3['test']/5)\n",
    "    cv3['remove'] = cv3['remove'] | (factor*cv3['train'] > 5*cv3['test'])\n",
    "    cv3['new'] = cv3.apply(lambda x: x['index'] if x['remove']==False else 0,axis=1)\n",
    "    cv3['new'],_ = cv3['new'].factorize(sort=True)\n",
    "    cv3.set_index('index',inplace=True)\n",
    "    cc = cv3['new'].to_dict()\n",
    "    df_train[col] = df_train[col].map(cc)\n",
    "    reduce_memory(df_train,col)\n",
    "    df_test[col] = df_test[col].map(cc)\n",
    "    reduce_memory(df_test,col)\n",
    "    "
   ]
  },
  {
   "cell_type": "code",
   "execution_count": 39,
   "metadata": {},
   "outputs": [],
   "source": [
    "for col in cols: factor_data(df, test_df, col)"
   ]
  },
  {
   "cell_type": "code",
   "execution_count": 40,
   "metadata": {},
   "outputs": [
    {
     "name": "stdout",
     "output_type": "stream",
     "text": [
      "Memory usage of dataframe is 7118.05 MB\n",
      "Memory usage after optimization is: 1706.84 MB\n",
      "Decreased by 76.0%\n",
      "Memory usage of dataframe is 5969.09 MB\n",
      "Memory usage after optimization is: 1525.80 MB\n",
      "Decreased by 74.4%\n"
     ]
    },
    {
     "data": {
      "text/html": [
       "<div>\n",
       "<style scoped>\n",
       "    .dataframe tbody tr th:only-of-type {\n",
       "        vertical-align: middle;\n",
       "    }\n",
       "\n",
       "    .dataframe tbody tr th {\n",
       "        vertical-align: top;\n",
       "    }\n",
       "\n",
       "    .dataframe thead th {\n",
       "        text-align: right;\n",
       "    }\n",
       "</style>\n",
       "<table border=\"1\" class=\"dataframe\">\n",
       "  <thead>\n",
       "    <tr style=\"text-align: right;\">\n",
       "      <th></th>\n",
       "      <th>MachineIdentifier</th>\n",
       "      <th>ProductName</th>\n",
       "      <th>...</th>\n",
       "      <th>DateCensus_OSVersionDayofweek</th>\n",
       "      <th>DaysElapsedCensus_OSVersion</th>\n",
       "    </tr>\n",
       "  </thead>\n",
       "  <tbody>\n",
       "    <tr>\n",
       "      <th>0</th>\n",
       "      <td>0000010489e3af074adeac69c53e555e</td>\n",
       "      <td>2</td>\n",
       "      <td>...</td>\n",
       "      <td>2</td>\n",
       "      <td>17</td>\n",
       "    </tr>\n",
       "    <tr>\n",
       "      <th>1</th>\n",
       "      <td>00000176ac758d54827acd545b6315a5</td>\n",
       "      <td>2</td>\n",
       "      <td>...</td>\n",
       "      <td>2</td>\n",
       "      <td>41</td>\n",
       "    </tr>\n",
       "    <tr>\n",
       "      <th>...</th>\n",
       "      <td>...</td>\n",
       "      <td>...</td>\n",
       "      <td>...</td>\n",
       "      <td>...</td>\n",
       "      <td>...</td>\n",
       "    </tr>\n",
       "    <tr>\n",
       "      <th>7853251</th>\n",
       "      <td>fffffad7b6c8196ec5cae634406c0d4f</td>\n",
       "      <td>2</td>\n",
       "      <td>...</td>\n",
       "      <td>2</td>\n",
       "      <td>136</td>\n",
       "    </tr>\n",
       "    <tr>\n",
       "      <th>7853252</th>\n",
       "      <td>fffffbd305a90eb0f93ee4f30a39c736</td>\n",
       "      <td>2</td>\n",
       "      <td>...</td>\n",
       "      <td>3</td>\n",
       "      <td>193</td>\n",
       "    </tr>\n",
       "  </tbody>\n",
       "</table>\n",
       "<p>7853253 rows × 100 columns</p>\n",
       "</div>"
      ],
      "text/plain": [
       "                        MachineIdentifier  ProductName  \\\n",
       "0        0000010489e3af074adeac69c53e555e            2   \n",
       "1        00000176ac758d54827acd545b6315a5            2   \n",
       "...                                   ...          ...   \n",
       "7853251  fffffad7b6c8196ec5cae634406c0d4f            2   \n",
       "7853252  fffffbd305a90eb0f93ee4f30a39c736            2   \n",
       "\n",
       "                    ...               DateCensus_OSVersionDayofweek  \\\n",
       "0                   ...                                           2   \n",
       "1                   ...                                           2   \n",
       "...                 ...                                         ...   \n",
       "7853251             ...                                           2   \n",
       "7853252             ...                                           3   \n",
       "\n",
       "         DaysElapsedCensus_OSVersion  \n",
       "0                                 17  \n",
       "1                                 41  \n",
       "...                              ...  \n",
       "7853251                          136  \n",
       "7853252                          193  \n",
       "\n",
       "[7853253 rows x 100 columns]"
      ]
     },
     "execution_count": 40,
     "metadata": {},
     "output_type": "execute_result"
    }
   ],
   "source": [
    "reduce_mem_usage(df)\n",
    "reduce_mem_usage(test_df)"
   ]
  },
  {
   "cell_type": "code",
   "execution_count": 41,
   "metadata": {},
   "outputs": [],
   "source": [
    "# I feel this speeds everything up\n",
    "valid_idx.sort()"
   ]
  },
  {
   "cell_type": "code",
   "execution_count": 42,
   "metadata": {},
   "outputs": [],
   "source": [
    "# Save it all\n",
    "pickle.dump(test_df, open( \"/home/jd/data/microsoft/microsoft-test.p\", \"wb\" ) )\n",
    "pickle.dump(df, open( \"/home/jd/data/microsoft/microsoft-df-save.p\", \"wb\" ) )\n",
    "pickle.dump(valid_idx, open( \"/home/jd/data/microsoft/valid_idx\", \"wb\" ) )"
   ]
  },
  {
   "cell_type": "markdown",
   "metadata": {},
   "source": [
    "## Categories and Cont Variables"
   ]
  },
  {
   "cell_type": "code",
   "execution_count": 43,
   "metadata": {},
   "outputs": [],
   "source": [
    "# Continous variables to use\n",
    "cont_names = ['Census_SystemVolumeTotalCapacity'\n",
    "             ,'primary_drive_c_ratio']"
   ]
  },
  {
   "cell_type": "code",
   "execution_count": 44,
   "metadata": {},
   "outputs": [],
   "source": [
    "# Get the categorical variables\n",
    "cat_names = list(set(test_df.columns) - set(cont_names))"
   ]
  },
  {
   "cell_type": "code",
   "execution_count": 45,
   "metadata": {},
   "outputs": [],
   "source": [
    "cat_names.remove('MachineIdentifier')"
   ]
  },
  {
   "cell_type": "code",
   "execution_count": 46,
   "metadata": {},
   "outputs": [
    {
     "data": {
      "text/plain": [
       "(97, 2)"
      ]
     },
     "execution_count": 46,
     "metadata": {},
     "output_type": "execute_result"
    }
   ],
   "source": [
    "#Just some checks to make sure I didn't miss something\n",
    "len(cat_names),len(cont_names)"
   ]
  },
  {
   "cell_type": "code",
   "execution_count": 47,
   "metadata": {},
   "outputs": [
    {
     "data": {
      "text/plain": [
       "100"
      ]
     },
     "execution_count": 47,
     "metadata": {},
     "output_type": "execute_result"
    }
   ],
   "source": [
    "len(list(test_df.columns))"
   ]
  },
  {
   "cell_type": "code",
   "execution_count": 48,
   "metadata": {},
   "outputs": [
    {
     "data": {
      "text/plain": [
       "set()"
      ]
     },
     "execution_count": 48,
     "metadata": {},
     "output_type": "execute_result"
    }
   ],
   "source": [
    "set(cat_names) & set(cont_names)"
   ]
  },
  {
   "cell_type": "code",
   "execution_count": 49,
   "metadata": {},
   "outputs": [
    {
     "data": {
      "text/plain": [
       "{'HasDetections'}"
      ]
     },
     "execution_count": 49,
     "metadata": {},
     "output_type": "execute_result"
    }
   ],
   "source": [
    "set(list(df.columns))-set(list(test_df.columns))"
   ]
  },
  {
   "cell_type": "markdown",
   "metadata": {},
   "source": [
    "## Save Pickle"
   ]
  },
  {
   "cell_type": "code",
   "execution_count": 50,
   "metadata": {},
   "outputs": [],
   "source": [
    "pickle.dump(cat_names, open( \"/home/jd/data/microsoft/microsoft-cat-save.p\", \"wb\" ) )\n",
    "pickle.dump(cont_names, open( \"/home/jd/data/microsoft/microsoft-cont-save.p\", \"wb\" ) )"
   ]
  },
  {
   "cell_type": "code",
   "execution_count": 51,
   "metadata": {},
   "outputs": [
    {
     "data": {
      "text/html": [
       "\n",
       "                <audio controls=\"controls\" autoplay=\"autoplay\">\n",
       "                    <source src=\"https://sound.peal.io/ps/audios/000/000/537/original/woo_vu_luvub_dub_dub.wav\" type=\"audio/x-wav\" />\n",
       "                    Your browser does not support the audio element.\n",
       "                </audio>\n",
       "              "
      ],
      "text/plain": [
       "<IPython.lib.display.Audio object>"
      ]
     },
     "metadata": {},
     "output_type": "display_data"
    }
   ],
   "source": [
    "allDone()"
   ]
  },
  {
   "cell_type": "code",
   "execution_count": null,
   "metadata": {},
   "outputs": [],
   "source": [
    "#pd.options.display.max_rows = 2000\n",
    "#pd.options.display.max_columns = 1000\n",
    "#df"
   ]
  },
  {
   "cell_type": "code",
   "execution_count": null,
   "metadata": {},
   "outputs": [],
   "source": []
  },
  {
   "cell_type": "code",
   "execution_count": null,
   "metadata": {},
   "outputs": [],
   "source": []
  }
 ],
 "metadata": {
  "kernelspec": {
   "display_name": "Python 3",
   "language": "python",
   "name": "python3"
  },
  "language_info": {
   "codemirror_mode": {
    "name": "ipython",
    "version": 3
   },
   "file_extension": ".py",
   "mimetype": "text/x-python",
   "name": "python",
   "nbconvert_exporter": "python",
   "pygments_lexer": "ipython3",
   "version": "3.6.8"
  }
 },
 "nbformat": 4,
 "nbformat_minor": 2
}
