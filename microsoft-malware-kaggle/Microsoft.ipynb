{
 "cells": [
  {
   "cell_type": "markdown",
   "metadata": {},
   "source": [
    "# Microsoft Malware Competition"
   ]
  },
  {
   "cell_type": "markdown",
   "metadata": {},
   "source": [
    "The malware industry continues to be a well-organized, well-funded market dedicated to evading traditional security measures. Once a computer is infected by malware, criminals can hurt consumers and enterprises in many ways.\n",
    "\n",
    "With more than one billion enterprise and consumer customers, Microsoft takes this problem very seriously and is deeply invested in improving security.\n",
    "\n",
    "https://www.kaggle.com/c/microsoft-malware-prediction\n",
    "\n",
    "\n",
    "### Goal: FInd the Malware!\n",
    "\n",
    "This is a tabular competition and my first jump back into a Kaggle competition for 8 days of fury.\n",
    "The Microsoft Malware Loader needs to run before this one is. \n",
    "\n",
    "### Challenges\n",
    "Overall this seems like a time series problem without time series. Additionally, the large amount of data makes it difficult to properly load. Even with 8 gig of memory I ran into issues loading everything. \n",
    "\n",
    "Also there are large differences between train, public and private datasets.\n",
    "\n",
    "### Lessons Learned\n",
    "1. Memory management takes a large amount of effort. Reducing memory size, like int64 to bool, drastically cut down on usage.\n",
    "2. Feature extraction is very important as well. Some of my ideas didn't pan out and made the model much worse. \n",
    "3. Categorical vs. Floatlist- For a long time I was using Floatlist, however that wasn't the correct metric to be using. Finally, I figured out how the correct values to submit with predictions. \n",
    "\n",
    "### Best Discussions to look at\n",
    "https://www.kaggle.com/c/microsoft-malware-prediction/discussion/84112\n",
    "https://www.kaggle.com/c/microsoft-malware-prediction/discussion/84069"
   ]
  },
  {
   "cell_type": "code",
   "execution_count": 1,
   "metadata": {},
   "outputs": [],
   "source": [
    "import pickle\n",
    "from fastai import *\n",
    "from fastai.tabular import *\n",
    "from fastai.metrics import error_rate\n",
    "import gc\n",
    "\n",
    "#Selecting the right GPU\n",
    "torch.cuda.set_device(1)\n",
    "\n",
    "# A dataframe can make \n",
    "pd.options.display.max_rows = 20\n",
    "pd.options.display.max_columns = 10"
   ]
  },
  {
   "cell_type": "markdown",
   "metadata": {},
   "source": [
    "## Load all the pickles!"
   ]
  },
  {
   "cell_type": "code",
   "execution_count": 2,
   "metadata": {},
   "outputs": [],
   "source": [
    "# I love pickles!\n",
    "# These are all made from the dataloader\n",
    "path = Path('/home/jd/data/microsoft')\n",
    "df=pickle.load(open( \"/home/jd/data/microsoft/microsoft-df-save.p\", \"rb\" ) )\n",
    "cat_names=pickle.load(open( \"/home/jd/data/microsoft/microsoft-cat-save.p\", \"rb\" ) )\n",
    "cont_names = pickle.load(open( \"/home/jd/data/microsoft/microsoft-cont-save.p\", \"rb\" ) )\n",
    "test_df = pickle.load(open( \"/home/jd/data/microsoft/microsoft-test.p\", \"rb\" ) )\n",
    "valid_idx = pickle.load(open( \"/home/jd/data/microsoft/valid_idx\", \"rb\" ) )"
   ]
  },
  {
   "cell_type": "markdown",
   "metadata": {},
   "source": [
    "## Last Data manipulation"
   ]
  },
  {
   "cell_type": "code",
   "execution_count": 3,
   "metadata": {},
   "outputs": [],
   "source": [
    "# Smaller subset if needed and for testing. \n",
    "df=df[:500000]"
   ]
  },
  {
   "cell_type": "code",
   "execution_count": 4,
   "metadata": {},
   "outputs": [
    {
     "data": {
      "text/html": [
       "<div>\n",
       "<style scoped>\n",
       "    .dataframe tbody tr th:only-of-type {\n",
       "        vertical-align: middle;\n",
       "    }\n",
       "\n",
       "    .dataframe tbody tr th {\n",
       "        vertical-align: top;\n",
       "    }\n",
       "\n",
       "    .dataframe thead th {\n",
       "        text-align: right;\n",
       "    }\n",
       "</style>\n",
       "<table border=\"1\" class=\"dataframe\">\n",
       "  <thead>\n",
       "    <tr style=\"text-align: right;\">\n",
       "      <th></th>\n",
       "      <th>MachineIdentifier</th>\n",
       "      <th>ProductName</th>\n",
       "      <th>EngineVersion</th>\n",
       "      <th>AppVersion</th>\n",
       "      <th>AvSigVersion</th>\n",
       "      <th>...</th>\n",
       "      <th>DateCensus_OSVersionMonth</th>\n",
       "      <th>DateCensus_OSVersionWeek</th>\n",
       "      <th>DateCensus_OSVersionDay</th>\n",
       "      <th>DateCensus_OSVersionDayofweek</th>\n",
       "      <th>DaysElapsedCensus_OSVersion</th>\n",
       "    </tr>\n",
       "  </thead>\n",
       "  <tbody>\n",
       "    <tr>\n",
       "      <th>0</th>\n",
       "      <td>0000028988387b115f69f31a3bf04f09</td>\n",
       "      <td>2</td>\n",
       "      <td>67</td>\n",
       "      <td>65</td>\n",
       "      <td>2004</td>\n",
       "      <td>...</td>\n",
       "      <td>7</td>\n",
       "      <td>27</td>\n",
       "      <td>9</td>\n",
       "      <td>2</td>\n",
       "      <td>36</td>\n",
       "    </tr>\n",
       "    <tr>\n",
       "      <th>1</th>\n",
       "      <td>000007535c3f730efa9ea0b7ef1bd645</td>\n",
       "      <td>2</td>\n",
       "      <td>57</td>\n",
       "      <td>30</td>\n",
       "      <td>626</td>\n",
       "      <td>...</td>\n",
       "      <td>4</td>\n",
       "      <td>16</td>\n",
       "      <td>18</td>\n",
       "      <td>5</td>\n",
       "      <td>61</td>\n",
       "    </tr>\n",
       "    <tr>\n",
       "      <th>2</th>\n",
       "      <td>000007905a28d863f6d0d597892cd692</td>\n",
       "      <td>2</td>\n",
       "      <td>67</td>\n",
       "      <td>65</td>\n",
       "      <td>1875</td>\n",
       "      <td>...</td>\n",
       "      <td>7</td>\n",
       "      <td>27</td>\n",
       "      <td>9</td>\n",
       "      <td>2</td>\n",
       "      <td>36</td>\n",
       "    </tr>\n",
       "    <tr>\n",
       "      <th>3</th>\n",
       "      <td>00000b11598a75ea8ba1beea8459149f</td>\n",
       "      <td>2</td>\n",
       "      <td>67</td>\n",
       "      <td>65</td>\n",
       "      <td>1926</td>\n",
       "      <td>...</td>\n",
       "      <td>8</td>\n",
       "      <td>32</td>\n",
       "      <td>13</td>\n",
       "      <td>2</td>\n",
       "      <td>24</td>\n",
       "    </tr>\n",
       "    <tr>\n",
       "      <th>4</th>\n",
       "      <td>000014a5f00daa18e76b81417eeb99fc</td>\n",
       "      <td>2</td>\n",
       "      <td>67</td>\n",
       "      <td>65</td>\n",
       "      <td>1885</td>\n",
       "      <td>...</td>\n",
       "      <td>7</td>\n",
       "      <td>29</td>\n",
       "      <td>22</td>\n",
       "      <td>2</td>\n",
       "      <td>33</td>\n",
       "    </tr>\n",
       "  </tbody>\n",
       "</table>\n",
       "<p>5 rows × 101 columns</p>\n",
       "</div>"
      ],
      "text/plain": [
       "                  MachineIdentifier  ProductName  EngineVersion  AppVersion  \\\n",
       "0  0000028988387b115f69f31a3bf04f09            2             67          65   \n",
       "1  000007535c3f730efa9ea0b7ef1bd645            2             57          30   \n",
       "2  000007905a28d863f6d0d597892cd692            2             67          65   \n",
       "3  00000b11598a75ea8ba1beea8459149f            2             67          65   \n",
       "4  000014a5f00daa18e76b81417eeb99fc            2             67          65   \n",
       "\n",
       "   AvSigVersion             ...               DateCensus_OSVersionMonth  \\\n",
       "0          2004             ...                                       7   \n",
       "1           626             ...                                       4   \n",
       "2          1875             ...                                       7   \n",
       "3          1926             ...                                       8   \n",
       "4          1885             ...                                       7   \n",
       "\n",
       "   DateCensus_OSVersionWeek  DateCensus_OSVersionDay  \\\n",
       "0                        27                        9   \n",
       "1                        16                       18   \n",
       "2                        27                        9   \n",
       "3                        32                       13   \n",
       "4                        29                       22   \n",
       "\n",
       "   DateCensus_OSVersionDayofweek  DaysElapsedCensus_OSVersion  \n",
       "0                              2                           36  \n",
       "1                              5                           61  \n",
       "2                              2                           36  \n",
       "3                              2                           24  \n",
       "4                              2                           33  \n",
       "\n",
       "[5 rows x 101 columns]"
      ]
     },
     "execution_count": 4,
     "metadata": {},
     "output_type": "execute_result"
    }
   ],
   "source": [
    "df[:5]"
   ]
  },
  {
   "cell_type": "code",
   "execution_count": 5,
   "metadata": {},
   "outputs": [],
   "source": [
    "# The dataframe is looking for Has Detections\n",
    "# We want the following processing as well\n",
    "dep_var = 'HasDetections'\n",
    "procs = [FillMissing, Categorify, Normalize]"
   ]
  },
  {
   "cell_type": "markdown",
   "metadata": {},
   "source": [
    "## Auc_Score\n",
    "Had a difficult time implementing"
   ]
  },
  {
   "cell_type": "code",
   "execution_count": 6,
   "metadata": {},
   "outputs": [],
   "source": [
    "#data.show_batch(rows=10)\n",
    "from sklearn.metrics import roc_auc_score\n",
    "\n",
    "def auc_score1(y_score,y_true):\n",
    "    return torch.tensor(roc_auc_score(y_true,y_score[:,1]))"
   ]
  },
  {
   "cell_type": "markdown",
   "metadata": {},
   "source": [
    "## Start the testing!"
   ]
  },
  {
   "cell_type": "code",
   "execution_count": 7,
   "metadata": {},
   "outputs": [],
   "source": [
    "# Test data is stored here.\n",
    "test = TabularList.from_df(test_df, path=path, cat_names=cat_names,cont_names=cont_names)"
   ]
  },
  {
   "cell_type": "code",
   "execution_count": 8,
   "metadata": {},
   "outputs": [],
   "source": [
    "# This took a long time to figure out including.\n",
    "# 1. Categorylist or Floatlist- Floatlist gave me better values for awhile\n",
    "# 2. Validation Splits. Since there was a though of a time component I broke these apart elsewhere\n",
    "# 3. This is also where I got the most errors around no-memory\n",
    "\n",
    "data = (TabularList.from_df(df, path=path, cat_names=cat_names, cont_names=cont_names, procs=procs)\n",
    "                           .split_by_rand_pct(valid_pct=0.1, seed=42)\n",
    "                           #.split_by_idx(valid_idx)\n",
    "                           .label_from_df(cols=dep_var, label_cls=CategoryList)\n",
    "                           .add_test(test)\n",
    "                           .databunch(bs=2048))\n"
   ]
  },
  {
   "cell_type": "code",
   "execution_count": 9,
   "metadata": {},
   "outputs": [],
   "source": [
    "# I am still confused a bit around y-range. Not sure why its a tensor, or if it really matters that we put the numbers in.\n",
    "# it did not impact scores. Even when range was set at None.\n",
    "y_range = torch.tensor([-.2, 1.2], device=defaults.device)\n",
    "\n",
    "# Also lots of tweaking involved. Overall, there seemed to be a problem with overfitting, and playing with \n",
    "# layers didn't seem to change much\n",
    "# 1. Trying to understand how the layers \n",
    "# 2. ps is dropout for the first and 2nd layer. Doesn't matter cause neither are trained\n",
    "# 3. embedding drop out- Left the same as the rossmann example\n",
    "# 4. I tried limiting embedding size to save on memory and prevent overfit. It seemed like they were exploding.\n",
    "# 5. Mtrics- allowed the auc-score\n",
    "learn = tabular_learner(data, layers=[1000,500], \n",
    "                        ps=[0.1,0.1], \n",
    "                        emb_drop=0.04, \n",
    "                        y_range=None,\n",
    "                        #emb_szs={\"CityIdentifier\": 150, \n",
    "                        #       \"Census_OEMModelIdentifier\": 150, \n",
    "                        #       \"Census_InternalBatteryNumberOfCharges\": 150,\n",
    "                        #       \"Census_FirmwareVersionIdentifier\": 150}\n",
    "                        metrics=auc_score1\n",
    "                        )"
   ]
  },
  {
   "cell_type": "code",
   "execution_count": 10,
   "metadata": {},
   "outputs": [],
   "source": [
    "#learn.summary()"
   ]
  },
  {
   "cell_type": "markdown",
   "metadata": {},
   "source": [
    "### Learning, fitting and loading"
   ]
  },
  {
   "cell_type": "code",
   "execution_count": 11,
   "metadata": {},
   "outputs": [
    {
     "data": {
      "text/html": [],
      "text/plain": [
       "<IPython.core.display.HTML object>"
      ]
     },
     "metadata": {},
     "output_type": "display_data"
    },
    {
     "name": "stdout",
     "output_type": "stream",
     "text": [
      "LR Finder is complete, type {learner_name}.recorder.plot() to see the graph.\n"
     ]
    },
    {
     "data": {
      "image/png": "[encoded data removed]",
      "text/plain": [
       "<Figure size 432x288 with 1 Axes>"
      ]
     },
     "metadata": {
      "needs_background": "light"
     },
     "output_type": "display_data"
    }
   ],
   "source": [
    "# See plot\n",
    "learn.lr_find()\n",
    "learn.recorder.plot()"
   ]
  },
  {
   "cell_type": "code",
   "execution_count": 12,
   "metadata": {},
   "outputs": [
    {
     "data": {
      "text/html": [
       "Total time: 01:28 <p><table border=\"1\" class=\"dataframe\">\n",
       "  <thead>\n",
       "    <tr style=\"text-align: left;\">\n",
       "      <th>epoch</th>\n",
       "      <th>train_loss</th>\n",
       "      <th>valid_loss</th>\n",
       "      <th>auc_score1</th>\n",
       "      <th>time</th>\n",
       "    </tr>\n",
       "  </thead>\n",
       "  <tbody>\n",
       "    <tr>\n",
       "      <td>0</td>\n",
       "      <td>0.638937</td>\n",
       "      <td>0.633311</td>\n",
       "      <td>0.686131</td>\n",
       "      <td>00:22</td>\n",
       "    </tr>\n",
       "    <tr>\n",
       "      <td>1</td>\n",
       "      <td>0.616267</td>\n",
       "      <td>0.642940</td>\n",
       "      <td>0.693807</td>\n",
       "      <td>00:21</td>\n",
       "    </tr>\n",
       "    <tr>\n",
       "      <td>2</td>\n",
       "      <td>0.543362</td>\n",
       "      <td>0.683351</td>\n",
       "      <td>0.670464</td>\n",
       "      <td>00:22</td>\n",
       "    </tr>\n",
       "    <tr>\n",
       "      <td>3</td>\n",
       "      <td>0.398916</td>\n",
       "      <td>0.884862</td>\n",
       "      <td>0.645095</td>\n",
       "      <td>00:22</td>\n",
       "    </tr>\n",
       "  </tbody>\n",
       "</table>"
      ],
      "text/plain": [
       "<IPython.core.display.HTML object>"
      ]
     },
     "metadata": {},
     "output_type": "display_data"
    }
   ],
   "source": [
    "learn.fit_one_cycle(4, 1e-02, wd=0.1)\n",
    "learn.save('Mar11')"
   ]
  },
  {
   "cell_type": "code",
   "execution_count": null,
   "metadata": {},
   "outputs": [],
   "source": [
    "learn.fit_one_cycle(4, 1e-02, wd=0.1)\n",
    "learn.save('Mar11-2')"
   ]
  },
  {
   "cell_type": "code",
   "execution_count": null,
   "metadata": {},
   "outputs": [],
   "source": [
    "learn.fit_one_cycle(4, 1e-02, wd=0.1)\n",
    "learn.save('Mar11-3')"
   ]
  },
  {
   "cell_type": "code",
   "execution_count": null,
   "metadata": {},
   "outputs": [],
   "source": [
    "learn.fit_one_cycle(5, 1e-03, wd=0.3)\n",
    "learn.save('Mar11-4')"
   ]
  },
  {
   "cell_type": "markdown",
   "metadata": {},
   "source": [
    "## Data Validation\n",
    "There isn't much validation other than looking at predictions vs targets to see if they are calculated correctly."
   ]
  },
  {
   "cell_type": "code",
   "execution_count": null,
   "metadata": {},
   "outputs": [],
   "source": [
    "learn.load('Mar11')"
   ]
  },
  {
   "cell_type": "code",
   "execution_count": 13,
   "metadata": {},
   "outputs": [],
   "source": [
    "preds,targs = learn.get_preds()"
   ]
  },
  {
   "cell_type": "code",
   "execution_count": 14,
   "metadata": {},
   "outputs": [
    {
     "data": {
      "text/plain": [
       "tensor([[0.7127, 0.2873],\n",
       "        [0.1388, 0.8612],\n",
       "        [0.6648, 0.3352],\n",
       "        [0.0634, 0.9366],\n",
       "        [0.6278, 0.3722],\n",
       "        [0.6553, 0.3447],\n",
       "        [0.9635, 0.0365],\n",
       "        [0.1389, 0.8611],\n",
       "        [0.5627, 0.4373],\n",
       "        [0.5228, 0.4772],\n",
       "        [0.2904, 0.7096],\n",
       "        [0.4027, 0.5973],\n",
       "        [0.7129, 0.2871],\n",
       "        [0.2374, 0.7626],\n",
       "        [0.8032, 0.1968],\n",
       "        [0.1521, 0.8479],\n",
       "        [0.6498, 0.3502],\n",
       "        [0.4036, 0.5964],\n",
       "        [0.6149, 0.3851],\n",
       "        [0.3503, 0.6497]])"
      ]
     },
     "execution_count": 14,
     "metadata": {},
     "output_type": "execute_result"
    }
   ],
   "source": [
    "preds[:20]"
   ]
  },
  {
   "cell_type": "code",
   "execution_count": 15,
   "metadata": {},
   "outputs": [
    {
     "data": {
      "text/plain": [
       "tensor([0, 0, 1, 1, 1, 0, 0, 1, 0, 1, 1, 1, 0, 1, 1, 1, 0, 0, 0, 0])"
      ]
     },
     "execution_count": 15,
     "metadata": {},
     "output_type": "execute_result"
    }
   ],
   "source": [
    "targs[:20]"
   ]
  },
  {
   "cell_type": "markdown",
   "metadata": {},
   "source": [
    "## Submission"
   ]
  },
  {
   "cell_type": "code",
   "execution_count": 16,
   "metadata": {},
   "outputs": [],
   "source": [
    "# load weight I want\n",
    "#learn.load('Mar7')"
   ]
  },
  {
   "cell_type": "code",
   "execution_count": 17,
   "metadata": {},
   "outputs": [],
   "source": [
    "# Test code Ids\n",
    "test_ID_codes_df = test_df.pop('MachineIdentifier')"
   ]
  },
  {
   "cell_type": "code",
   "execution_count": 18,
   "metadata": {},
   "outputs": [
    {
     "data": {
      "text/plain": [
       "0    0000010489e3af074adeac69c53e555e\n",
       "1    00000176ac758d54827acd545b6315a5\n",
       "2    0000019dcefc128c2d4387c1273dae1d\n",
       "3    0000055553dc51b1295785415f1a224d\n",
       "4    00000574cefffeca83ec8adf9285b2bf\n",
       "Name: MachineIdentifier, dtype: category\n",
       "Categories (7853253, object): [0000010489e3af074adeac69c53e555e, 00000176ac758d54827acd545b6315a5, 0000019dcefc128c2d4387c1273dae1d, 0000055553dc51b1295785415f1a224d, ..., fffff90b27a1248b6fffc7a535bd736c, fffffa6a956c17ddbabca53d4ab708ae, fffffad7b6c8196ec5cae634406c0d4f, fffffbd305a90eb0f93ee4f30a39c736]"
      ]
     },
     "execution_count": 18,
     "metadata": {},
     "output_type": "execute_result"
    }
   ],
   "source": [
    "# See the top 5 so that they make sense\n",
    "test_ID_codes_df[:5]"
   ]
  },
  {
   "cell_type": "code",
   "execution_count": 19,
   "metadata": {},
   "outputs": [],
   "source": [
    "#preds = learn.get_preds(ds_type=DatasetType.Test)\n",
    "preds = learn.get_preds(ds_type=DatasetType.Test)"
   ]
  },
  {
   "cell_type": "code",
   "execution_count": 20,
   "metadata": {},
   "outputs": [
    {
     "data": {
      "text/plain": [
       "tensor([0.2129, 0.5857, 0.5574,  ..., 0.5864, 0.0747, 0.0643])"
      ]
     },
     "execution_count": 20,
     "metadata": {},
     "output_type": "execute_result"
    }
   ],
   "source": [
    "### preds[0][:,0]  !!!This is the wrong one!!\n",
    "# Show predictions, so they make sense\n",
    "preds[0][:,1]"
   ]
  },
  {
   "cell_type": "code",
   "execution_count": 21,
   "metadata": {},
   "outputs": [],
   "source": [
    "# setup just predictions\n",
    "target_preds = preds[0][:,1]"
   ]
  },
  {
   "cell_type": "code",
   "execution_count": 22,
   "metadata": {},
   "outputs": [],
   "source": [
    "# ensure test data_df has both\n",
    "test_df['MachineIdentifier'] = test_ID_codes_df\n",
    "test_df['HasDetections'] = target_preds"
   ]
  },
  {
   "cell_type": "code",
   "execution_count": 23,
   "metadata": {},
   "outputs": [
    {
     "data": {
      "text/plain": [
       "(3.5165624e-16, 1.0)"
      ]
     },
     "execution_count": 23,
     "metadata": {},
     "output_type": "execute_result"
    }
   ],
   "source": [
    "# Look at the min and max values here. \n",
    "test_df['HasDetections'].min(), test_df['HasDetections'].max()"
   ]
  },
  {
   "cell_type": "code",
   "execution_count": 24,
   "metadata": {},
   "outputs": [
    {
     "data": {
      "text/plain": [
       "min     0.00\n",
       "max     1.00\n",
       "mean    0.48\n",
       "std     0.28\n",
       "Name: HasDetections, dtype: float64"
      ]
     },
     "execution_count": 24,
     "metadata": {},
     "output_type": "execute_result"
    }
   ],
   "source": [
    "# Also just want to see if this makes sense\n",
    "test_df['HasDetections'].agg(['min', 'max', 'mean', 'std']).round(decimals=2)"
   ]
  },
  {
   "cell_type": "code",
   "execution_count": 25,
   "metadata": {},
   "outputs": [
    {
     "data": {
      "image/png": "[encoded data removed]",
      "text/plain": [
       "<Figure size 432x288 with 1 Axes>"
      ]
     },
     "metadata": {
      "needs_background": "light"
     },
     "output_type": "display_data"
    }
   ],
   "source": [
    "# Draw a quick graph for distribution.\n",
    "# lots more training would have a saddle instead of a bump\n",
    "import numpy as np\n",
    "import matplotlib.pyplot as plt\n",
    "mu, sigma = 200, 25\n",
    "x = test_df['HasDetections']\n",
    "n, bins, patches = plt.hist(x)\n",
    "plt.show()"
   ]
  },
  {
   "cell_type": "code",
   "execution_count": 26,
   "metadata": {},
   "outputs": [
    {
     "name": "stdout",
     "output_type": "stream",
     "text": [
      "http://localhost:8888/view/data/microsoft/submit/submission.csv\n"
     ]
    }
   ],
   "source": [
    "# Submit for running!\n",
    "test_df.to_csv('/home/jd/data/microsoft/submit/submission.csv', columns=['MachineIdentifier', 'HasDetections'], index=False)\n",
    "print(\"http://localhost:8888/view/data/microsoft/submit/submission.csv\")"
   ]
  },
  {
   "cell_type": "code",
   "execution_count": null,
   "metadata": {},
   "outputs": [],
   "source": []
  }
 ],
 "metadata": {
  "kernelspec": {
   "display_name": "Python 3",
   "language": "python",
   "name": "python3"
  },
  "language_info": {
   "codemirror_mode": {
    "name": "ipython",
    "version": 3
   },
   "file_extension": ".py",
   "mimetype": "text/x-python",
   "name": "python",
   "nbconvert_exporter": "python",
   "pygments_lexer": "ipython3",
   "version": "3.7.1"
  }
 },
 "nbformat": 4,
 "nbformat_minor": 2
}
