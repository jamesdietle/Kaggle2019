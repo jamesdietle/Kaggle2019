{
 "cells": [
  {
   "cell_type": "markdown",
   "metadata": {
    "heading_collapsed": true
   },
   "source": [
    "# Santander Customer Transaction Prediction\n",
    "\n",
    "In this challenge, we invite Kagglers to help us identify which customers will make a specific transaction in the future, irrespective of the amount of money transacted.\n",
    "\n",
    "https://www.kaggle.com/c/santander-customer-transaction-prediction\n",
    "\n",
    "\n",
    "### Goal: Will they transact?\n",
    "\n",
    "This is a tabular competition looking for a binary classification. \n",
    "\n",
    "### EDA\n",
    "A large part of this problem seemed to be trying to figure out how to pull more information from the features."
   ]
  },
  {
   "cell_type": "markdown",
   "metadata": {},
   "source": [
    "# Setup"
   ]
  },
  {
   "cell_type": "code",
   "execution_count": 34,
   "metadata": {
    "ExecuteTime": {
     "end_time": "2019-04-21T11:28:24.108534Z",
     "start_time": "2019-04-21T11:28:24.066988Z"
    }
   },
   "outputs": [],
   "source": [
    "# Basic Setup\n",
    "%reload_ext autoreload\n",
    "%autoreload 2\n",
    "%matplotlib inline"
   ]
  },
  {
   "cell_type": "code",
   "execution_count": 35,
   "metadata": {
    "ExecuteTime": {
     "end_time": "2019-04-21T11:28:24.497251Z",
     "start_time": "2019-04-21T11:28:24.462951Z"
    }
   },
   "outputs": [],
   "source": [
    "# Loading in functions... just load everything\n",
    "import pickle\n",
    "import ray\n",
    "import pyarrow.parquet as pq\n",
    "from sklearn.preprocessing import *"
   ]
  },
  {
   "cell_type": "code",
   "execution_count": 36,
   "metadata": {
    "ExecuteTime": {
     "end_time": "2019-04-21T11:28:24.785916Z",
     "start_time": "2019-04-21T11:28:24.750274Z"
    }
   },
   "outputs": [],
   "source": [
    "# Loading in functions\n",
    "from pandas_summary import DataFrameSummary\n",
    "from sklearn.ensemble import RandomForestRegressor, RandomForestClassifier\n",
    "from IPython.display import display\n",
    "from sklearn import *"
   ]
  },
  {
   "cell_type": "code",
   "execution_count": 37,
   "metadata": {
    "ExecuteTime": {
     "end_time": "2019-04-21T11:28:25.068594Z",
     "start_time": "2019-04-21T11:28:25.028595Z"
    }
   },
   "outputs": [
    {
     "name": "stdout",
     "output_type": "stream",
     "text": [
      "pandas: 0.23.4\n",
      "numpy: 1.15.4\n",
      "Python: 3.7.1 (default, Dec 14 2018, 19:28:38) \n",
      "[GCC 7.3.0]\n",
      "Fastai: 1.0.51\n"
     ]
    }
   ],
   "source": [
    "# Loading in functions\n",
    "import fastai\n",
    "from fastai.imports import *\n",
    "from fastai import *\n",
    "from fastai.tabular import *\n",
    "from fastai.metrics import error_rate\n",
    "import numpy as np\n",
    "import pandas as pd\n",
    "import seaborn as sns\n",
    "from numpy.fft import *\n",
    "import pyarrow.parquet as pq\n",
    "import matplotlib.pyplot as plt\n",
    "\n",
    "sns.set_style(\"whitegrid\")\n",
    "\n",
    "# Helps confirms the sets I was using when on github\n",
    "print('pandas: {}'.format(pd.__version__))\n",
    "print('numpy: {}'.format(np.__version__))\n",
    "print('Python: {}'.format(sys.version))\n",
    "print('Fastai: {}'.format(fastai.__version__))\n",
    "#Selecting the right GPU\n",
    "torch.cuda.set_device(0)"
   ]
  },
  {
   "cell_type": "code",
   "execution_count": 38,
   "metadata": {
    "ExecuteTime": {
     "end_time": "2019-04-21T11:28:25.818738Z",
     "start_time": "2019-04-21T11:28:25.784281Z"
    }
   },
   "outputs": [],
   "source": [
    "# Try to limit outputs\n",
    "pd.options.display.max_rows = 10\n",
    "pd.options.display.max_columns = 10"
   ]
  },
  {
   "cell_type": "markdown",
   "metadata": {},
   "source": [
    "### Fuctions"
   ]
  },
  {
   "cell_type": "code",
   "execution_count": 39,
   "metadata": {
    "ExecuteTime": {
     "end_time": "2019-04-21T11:28:28.767380Z",
     "start_time": "2019-04-21T11:28:28.722211Z"
    }
   },
   "outputs": [],
   "source": [
    "#https://www.kaggle.com/jiweiliu/fast-pdf-calculation-with-correlation-matrix\n",
    "# This did not turn out to be useful\n",
    "def logloss(y,yp):\n",
    "    yp = np.clip(yp,1e-5,1-1e-5)\n",
    "    return -y*np.log(yp)-(1-y)*np.log(1-yp)\n",
    "    \n",
    "def reverse(train,test):\n",
    "    reverse_list = [0,1,2,3,4,5,6,7,8,11,15,16,18,19,\n",
    "                22,24,25,26,27,41,29,\n",
    "                32,35,37,40,48,49,47,\n",
    "                55,51,52,53,60,61,62,103,65,66,67,69,\n",
    "                70,71,74,78,79,\n",
    "                82,84,89,90,91,94,95,96,97,99,\n",
    "                105,106,110,111,112,118,119,125,128,\n",
    "                130,133,134,135,137,138,\n",
    "                140,144,145,147,151,155,157,159,\n",
    "                161,162,163,164,167,168,\n",
    "                170,171,173,175,176,179,\n",
    "                180,181,184,185,187,189,\n",
    "                190,191,195,196,199]\n",
    "    reverse_list = ['var_%d'%i for i in reverse_list]\n",
    "    for col in reverse_list:\n",
    "        train[col] = train[col]*(-1)\n",
    "        test[col] = test[col]*(-1)\n",
    "    return train,test\n",
    "\n",
    "def scale(tr,te):\n",
    "    for col in tr.columns:\n",
    "        if col.startswith('var_'):\n",
    "            mean,std = tr[col].mean(),tr[col].std()\n",
    "            tr[col] = (tr[col]-mean)/std\n",
    "            te[col] = (te[col]-mean)/std\n",
    "    return tr,te\n",
    "\n",
    "def getp_vec_sum(x,x_sort,y,std,c=0.5):\n",
    "    # x is sorted\n",
    "    left = x - std/c\n",
    "    right = x + std/c\n",
    "    p_left = np.searchsorted(x_sort,left)\n",
    "    p_right = np.searchsorted(x_sort,right)\n",
    "    p_right[p_right>=y.shape[0]] = y.shape[0]-1\n",
    "    p_left[p_left>=y.shape[0]] = y.shape[0]-1\n",
    "    return (y[p_right]-y[p_left])\n",
    "\n",
    "def get_pdf(tr,col,x_query=None,smooth=3):\n",
    "    std = tr[col].std()\n",
    "    df = tr.groupby(col).agg({'target':['sum','count']})\n",
    "    cols = ['sum_y','count_y']\n",
    "    df.columns = cols\n",
    "    df = df.reset_index()\n",
    "    df = df.sort_values(col)\n",
    "    y,c = cols\n",
    "    \n",
    "    df[y] = df[y].cumsum()\n",
    "    df[c] = df[c].cumsum()\n",
    "    \n",
    "    if x_query is None:\n",
    "        rmin,rmax,res = -5.0, 5.0, 501\n",
    "        x_query = np.linspace(rmin,rmax,res)\n",
    "    \n",
    "    dg = pd.DataFrame()\n",
    "    tm = getp_vec_sum(x_query,df[col].values,df[y].values,std,c=smooth)\n",
    "    cm = getp_vec_sum(x_query,df[col].values,df[c].values,std,c=smooth)+1\n",
    "    dg['res'] = tm/cm\n",
    "    dg.loc[cm<500,'res'] = 0.1\n",
    "    return dg['res'].values\n",
    "\n",
    "def get_pdfs(tr):\n",
    "    y = []\n",
    "    for i in range(200):\n",
    "        name = 'var_%d'%i\n",
    "        res = get_pdf(tr,name)\n",
    "        y.append(res)\n",
    "    return np.vstack(y)\n",
    "\n",
    "def print_corr(corr_mat,col,bar=0.97):\n",
    "    print(col)\n",
    "    cols = corr_mat.loc[corr_mat[col]>bar,col].index.values\n",
    "    cols_ = ['var_%s'%(i.split('_')[-1]) for i in cols]\n",
    "    print(cols)\n",
    "    return cols"
   ]
  },
  {
   "cell_type": "markdown",
   "metadata": {},
   "source": [
    "# Load Data\n",
    "Gets the data all put together"
   ]
  },
  {
   "cell_type": "code",
   "execution_count": 40,
   "metadata": {
    "ExecuteTime": {
     "end_time": "2019-04-21T11:28:30.071217Z",
     "start_time": "2019-04-21T11:28:29.533829Z"
    }
   },
   "outputs": [],
   "source": [
    "# Load data, save as pickle, always load as pckly from now on.\n",
    "\n",
    "#df = pd.read_csv('/home/jd/data/santander/train.csv')\n",
    "#pickle.dump(df, open( \"/home/jd/data/santander/train.p\", \"wb\" ) )\n",
    "df=pickle.load(open( \"/home/jd/data/santander/train.p\", \"rb\" ) )\n",
    "\n",
    "\n",
    "#test_df = pd.read_csv('/home/jd/data/santander/test.csv')\n",
    "#pickle.dump(test_df, open( \"/home/jd/data/santander/test.p\", \"wb\" ) )\n",
    "test_df=pickle.load(open( \"/home/jd/data/santander/test.p\", \"rb\" ) )"
   ]
  },
  {
   "cell_type": "code",
   "execution_count": 41,
   "metadata": {
    "ExecuteTime": {
     "end_time": "2019-04-21T11:28:32.049369Z",
     "start_time": "2019-04-21T11:28:30.072713Z"
    }
   },
   "outputs": [
    {
     "data": {
      "text/html": [
       "<div>\n",
       "<style scoped>\n",
       "    .dataframe tbody tr th:only-of-type {\n",
       "        vertical-align: middle;\n",
       "    }\n",
       "\n",
       "    .dataframe tbody tr th {\n",
       "        vertical-align: top;\n",
       "    }\n",
       "\n",
       "    .dataframe thead th {\n",
       "        text-align: right;\n",
       "    }\n",
       "</style>\n",
       "<table border=\"1\" class=\"dataframe\">\n",
       "  <thead>\n",
       "    <tr style=\"text-align: right;\">\n",
       "      <th></th>\n",
       "      <th>target</th>\n",
       "      <th>var_0</th>\n",
       "      <th>var_1</th>\n",
       "      <th>var_2</th>\n",
       "      <th>var_3</th>\n",
       "      <th>...</th>\n",
       "      <th>var_195</th>\n",
       "      <th>var_196</th>\n",
       "      <th>var_197</th>\n",
       "      <th>var_198</th>\n",
       "      <th>var_199</th>\n",
       "    </tr>\n",
       "  </thead>\n",
       "  <tbody>\n",
       "    <tr>\n",
       "      <th>count</th>\n",
       "      <td>200000.000000</td>\n",
       "      <td>200000.000000</td>\n",
       "      <td>200000.000000</td>\n",
       "      <td>200000.000000</td>\n",
       "      <td>200000.000000</td>\n",
       "      <td>...</td>\n",
       "      <td>200000.000000</td>\n",
       "      <td>200000.000000</td>\n",
       "      <td>200000.000000</td>\n",
       "      <td>200000.000000</td>\n",
       "      <td>200000.000000</td>\n",
       "    </tr>\n",
       "    <tr>\n",
       "      <th>mean</th>\n",
       "      <td>0.100490</td>\n",
       "      <td>10.679914</td>\n",
       "      <td>-1.627622</td>\n",
       "      <td>10.715192</td>\n",
       "      <td>6.796529</td>\n",
       "      <td>...</td>\n",
       "      <td>-0.142088</td>\n",
       "      <td>2.303335</td>\n",
       "      <td>8.908158</td>\n",
       "      <td>15.870720</td>\n",
       "      <td>-3.326537</td>\n",
       "    </tr>\n",
       "    <tr>\n",
       "      <th>std</th>\n",
       "      <td>0.300653</td>\n",
       "      <td>3.040051</td>\n",
       "      <td>4.050044</td>\n",
       "      <td>2.640894</td>\n",
       "      <td>2.043319</td>\n",
       "      <td>...</td>\n",
       "      <td>1.429372</td>\n",
       "      <td>5.454369</td>\n",
       "      <td>0.921625</td>\n",
       "      <td>3.010945</td>\n",
       "      <td>10.438015</td>\n",
       "    </tr>\n",
       "    <tr>\n",
       "      <th>min</th>\n",
       "      <td>0.000000</td>\n",
       "      <td>0.408400</td>\n",
       "      <td>-15.043400</td>\n",
       "      <td>2.117100</td>\n",
       "      <td>-0.040200</td>\n",
       "      <td>...</td>\n",
       "      <td>-5.261000</td>\n",
       "      <td>-14.209600</td>\n",
       "      <td>5.960600</td>\n",
       "      <td>6.299300</td>\n",
       "      <td>-38.852800</td>\n",
       "    </tr>\n",
       "    <tr>\n",
       "      <th>25%</th>\n",
       "      <td>0.000000</td>\n",
       "      <td>8.453850</td>\n",
       "      <td>-4.740025</td>\n",
       "      <td>8.722475</td>\n",
       "      <td>5.254075</td>\n",
       "      <td>...</td>\n",
       "      <td>-1.170700</td>\n",
       "      <td>-1.946925</td>\n",
       "      <td>8.252800</td>\n",
       "      <td>13.829700</td>\n",
       "      <td>-11.208475</td>\n",
       "    </tr>\n",
       "    <tr>\n",
       "      <th>50%</th>\n",
       "      <td>0.000000</td>\n",
       "      <td>10.524750</td>\n",
       "      <td>-1.608050</td>\n",
       "      <td>10.580000</td>\n",
       "      <td>6.825000</td>\n",
       "      <td>...</td>\n",
       "      <td>-0.172700</td>\n",
       "      <td>2.408900</td>\n",
       "      <td>8.888200</td>\n",
       "      <td>15.934050</td>\n",
       "      <td>-2.819550</td>\n",
       "    </tr>\n",
       "    <tr>\n",
       "      <th>75%</th>\n",
       "      <td>0.000000</td>\n",
       "      <td>12.758200</td>\n",
       "      <td>1.358625</td>\n",
       "      <td>12.516700</td>\n",
       "      <td>8.324100</td>\n",
       "      <td>...</td>\n",
       "      <td>0.829600</td>\n",
       "      <td>6.556725</td>\n",
       "      <td>9.593300</td>\n",
       "      <td>18.064725</td>\n",
       "      <td>4.836800</td>\n",
       "    </tr>\n",
       "    <tr>\n",
       "      <th>max</th>\n",
       "      <td>1.000000</td>\n",
       "      <td>20.315000</td>\n",
       "      <td>10.376800</td>\n",
       "      <td>19.353000</td>\n",
       "      <td>13.188300</td>\n",
       "      <td>...</td>\n",
       "      <td>4.272900</td>\n",
       "      <td>18.321500</td>\n",
       "      <td>12.000400</td>\n",
       "      <td>26.079100</td>\n",
       "      <td>28.500700</td>\n",
       "    </tr>\n",
       "  </tbody>\n",
       "</table>\n",
       "<p>8 rows × 201 columns</p>\n",
       "</div>"
      ],
      "text/plain": [
       "              target          var_0          var_1          var_2  \\\n",
       "count  200000.000000  200000.000000  200000.000000  200000.000000   \n",
       "mean        0.100490      10.679914      -1.627622      10.715192   \n",
       "std         0.300653       3.040051       4.050044       2.640894   \n",
       "min         0.000000       0.408400     -15.043400       2.117100   \n",
       "25%         0.000000       8.453850      -4.740025       8.722475   \n",
       "50%         0.000000      10.524750      -1.608050      10.580000   \n",
       "75%         0.000000      12.758200       1.358625      12.516700   \n",
       "max         1.000000      20.315000      10.376800      19.353000   \n",
       "\n",
       "               var_3      ...              var_195        var_196  \\\n",
       "count  200000.000000      ...        200000.000000  200000.000000   \n",
       "mean        6.796529      ...            -0.142088       2.303335   \n",
       "std         2.043319      ...             1.429372       5.454369   \n",
       "min        -0.040200      ...            -5.261000     -14.209600   \n",
       "25%         5.254075      ...            -1.170700      -1.946925   \n",
       "50%         6.825000      ...            -0.172700       2.408900   \n",
       "75%         8.324100      ...             0.829600       6.556725   \n",
       "max        13.188300      ...             4.272900      18.321500   \n",
       "\n",
       "             var_197        var_198        var_199  \n",
       "count  200000.000000  200000.000000  200000.000000  \n",
       "mean        8.908158      15.870720      -3.326537  \n",
       "std         0.921625       3.010945      10.438015  \n",
       "min         5.960600       6.299300     -38.852800  \n",
       "25%         8.252800      13.829700     -11.208475  \n",
       "50%         8.888200      15.934050      -2.819550  \n",
       "75%         9.593300      18.064725       4.836800  \n",
       "max        12.000400      26.079100      28.500700  \n",
       "\n",
       "[8 rows x 201 columns]"
      ]
     },
     "execution_count": 41,
     "metadata": {},
     "output_type": "execute_result"
    }
   ],
   "source": [
    "#https://www.kaggle.com/c/bnp-paribas-cardif-claims-management/discussion/20247\n",
    "df.describe()"
   ]
  },
  {
   "cell_type": "markdown",
   "metadata": {},
   "source": [
    "## Load Data way #2"
   ]
  },
  {
   "cell_type": "code",
   "execution_count": null,
   "metadata": {
    "ExecuteTime": {
     "end_time": "2019-04-20T22:44:48.066893Z",
     "start_time": "2019-04-20T22:44:38.281935Z"
    }
   },
   "outputs": [],
   "source": [
    "# Just another way to load data\n",
    "df_train = pd.read_csv('/home/jd/data/santander/train.csv', index_col=0)\n",
    "y_train = df_train.pop('target')\n",
    "len_train = len(df_train)\n",
    "df_test = pd.read_csv('/home/jd/data/santander/test.csv', index_col=0)\n",
    "df_all = pd.concat((df_train, df_test), sort=False)\n",
    "prev_cols = df_all.columns"
   ]
  },
  {
   "cell_type": "code",
   "execution_count": null,
   "metadata": {
    "ExecuteTime": {
     "end_time": "2019-04-20T22:44:50.572280Z",
     "start_time": "2019-04-20T22:44:48.068132Z"
    }
   },
   "outputs": [],
   "source": [
    "#Check Remove Pre Process\n",
    "scaler = StandardScaler()\n",
    "df_all[prev_cols] = scaler.fit_transform(df_all[prev_cols])\n",
    "df = df_all[0:len_train]\n",
    "test_df = df_all[len_train:]\n",
    "df['target']=y_train"
   ]
  },
  {
   "cell_type": "markdown",
   "metadata": {},
   "source": [
    "# Data Preprocess\n",
    "Any Required Preprocess. None needed here."
   ]
  },
  {
   "cell_type": "code",
   "execution_count": 42,
   "metadata": {
    "ExecuteTime": {
     "end_time": "2019-04-21T11:28:34.922980Z",
     "start_time": "2019-04-21T11:28:34.815420Z"
    }
   },
   "outputs": [
    {
     "data": {
      "text/plain": [
       "False"
      ]
     },
     "execution_count": 42,
     "metadata": {},
     "output_type": "execute_result"
    }
   ],
   "source": [
    "# Any missing data? Nope\n",
    "df.isnull().values.any()"
   ]
  },
  {
   "cell_type": "code",
   "execution_count": 43,
   "metadata": {
    "ExecuteTime": {
     "end_time": "2019-04-21T11:28:35.205544Z",
     "start_time": "2019-04-21T11:28:35.166418Z"
    }
   },
   "outputs": [
    {
     "name": "stdout",
     "output_type": "stream",
     "text": [
      "<class 'pandas.core.frame.DataFrame'>\n",
      "RangeIndex: 200000 entries, 0 to 199999\n",
      "Columns: 202 entries, ID_code to var_199\n",
      "dtypes: float64(200), int64(1), object(1)\n",
      "memory usage: 308.2+ MB\n"
     ]
    }
   ],
   "source": [
    "# What can we see from the values\n",
    "df.info()"
   ]
  },
  {
   "cell_type": "markdown",
   "metadata": {},
   "source": [
    "# Validation Set Creation\n",
    "Create the validation set to be used"
   ]
  },
  {
   "cell_type": "markdown",
   "metadata": {},
   "source": [
    "## Validation Set / Random group to save for later"
   ]
  },
  {
   "cell_type": "code",
   "execution_count": 44,
   "metadata": {
    "ExecuteTime": {
     "end_time": "2019-04-21T11:28:37.522584Z",
     "start_time": "2019-04-21T11:28:37.342103Z"
    }
   },
   "outputs": [],
   "source": [
    "# Create a validation set with 90% of data\n",
    "msk = np.random.rand(len(df)) < 0.9\n",
    "\n",
    "# we save valida for later\n",
    "valida = df[~msk]\n",
    "df = df[msk]"
   ]
  },
  {
   "cell_type": "code",
   "execution_count": 45,
   "metadata": {
    "ExecuteTime": {
     "end_time": "2019-04-21T11:28:38.221589Z",
     "start_time": "2019-04-21T11:28:38.183346Z"
    }
   },
   "outputs": [
    {
     "data": {
      "text/plain": [
       "(179801, 20199)"
      ]
     },
     "execution_count": 45,
     "metadata": {},
     "output_type": "execute_result"
    }
   ],
   "source": [
    "len(df), len(valida)"
   ]
  },
  {
   "cell_type": "markdown",
   "metadata": {
    "heading_collapsed": true
   },
   "source": [
    "## Augment\n",
    "Perform a shuffle on the data, which helps create more data. \n",
    "Take a look at the Kaggle notebook, makes way more sense. \n",
    "https://www.kaggle.com/jiweiliu/lgb-2-leaves-augment"
   ]
  },
  {
   "cell_type": "code",
   "execution_count": null,
   "metadata": {
    "ExecuteTime": {
     "end_time": "2019-04-20T22:44:50.866920Z",
     "start_time": "2019-04-20T22:44:50.847650Z"
    },
    "hidden": true
   },
   "outputs": [],
   "source": [
    "#https://www.kaggle.com/jiweiliu/lgb-2-leaves-augment\n",
    "def augment(x,y,t=3):\n",
    "    xs,xn = [],[]\n",
    "    for i in range(t):\n",
    "        mask = y>0\n",
    "        x1 = x[mask].copy()\n",
    "        ids = np.arange(x1.shape[0])\n",
    "        for c in range(x1.shape[1]):\n",
    "            np.random.shuffle(ids)\n",
    "            x1[:,c] = x1[ids][:,c]\n",
    "        xs.append(x1)\n",
    "\n",
    "    for i in range(t//2):\n",
    "    #for i in range(2//2):\n",
    "        mask = y==0\n",
    "        x1 = x[mask].copy()\n",
    "        ids = np.arange(x1.shape[0])\n",
    "        for c in range(x1.shape[1]):\n",
    "            np.random.shuffle(ids)\n",
    "            x1[:,c] = x1[ids][:,c]\n",
    "        xn.append(x1)\n",
    "\n",
    "    xs = np.vstack(xs)\n",
    "    xn = np.vstack(xn)\n",
    "    ys = np.ones(xs.shape[0])\n",
    "    yn = np.zeros(xn.shape[0])\n",
    "    x = np.vstack([x,xs,xn])\n",
    "    y = np.concatenate([y,ys,yn])\n",
    "    return x,y"
   ]
  },
  {
   "cell_type": "code",
   "execution_count": null,
   "metadata": {
    "ExecuteTime": {
     "end_time": "2019-04-20T22:44:50.883359Z",
     "start_time": "2019-04-20T22:44:50.868100Z"
    },
    "hidden": true
   },
   "outputs": [],
   "source": [
    "\n",
    "feature_columns_to_use=list(df.columns)\n",
    "feature_columns_to_use.remove('target')\n",
    "#feature_columns_to_use.remove('code_id')"
   ]
  },
  {
   "cell_type": "code",
   "execution_count": null,
   "metadata": {
    "ExecuteTime": {
     "end_time": "2019-04-20T22:44:51.102482Z",
     "start_time": "2019-04-20T22:44:50.884573Z"
    },
    "hidden": true
   },
   "outputs": [],
   "source": [
    "#features = columns\n",
    "df[feature_columns_to_use]\n",
    "X_train, y_train = df[feature_columns_to_use], df['target']"
   ]
  },
  {
   "cell_type": "code",
   "execution_count": null,
   "metadata": {
    "ExecuteTime": {
     "end_time": "2019-04-20T22:45:20.578143Z",
     "start_time": "2019-04-20T22:44:51.105732Z"
    },
    "hidden": true
   },
   "outputs": [],
   "source": [
    "X_t, y_t = augment(X_train.values, y_train.values)\n",
    "X_t = pd.DataFrame(X_t)\n",
    "X_t = X_t.add_prefix('var_')"
   ]
  },
  {
   "cell_type": "code",
   "execution_count": null,
   "metadata": {
    "ExecuteTime": {
     "end_time": "2019-04-20T22:45:20.605262Z",
     "start_time": "2019-04-20T22:45:20.580226Z"
    },
    "hidden": true
   },
   "outputs": [],
   "source": [
    "X_t[:5]"
   ]
  },
  {
   "cell_type": "code",
   "execution_count": null,
   "metadata": {
    "ExecuteTime": {
     "end_time": "2019-04-20T22:45:20.624232Z",
     "start_time": "2019-04-20T22:45:20.606393Z"
    },
    "hidden": true
   },
   "outputs": [],
   "source": [
    "X_t['target']= y_t"
   ]
  },
  {
   "cell_type": "code",
   "execution_count": null,
   "metadata": {
    "ExecuteTime": {
     "end_time": "2019-04-20T22:45:20.663894Z",
     "start_time": "2019-04-20T22:45:20.625372Z"
    },
    "hidden": true
   },
   "outputs": [],
   "source": [
    "X_t['ID_code']=X_t.index\n",
    "X_t['ID_code']=X_t['ID_code'].astype(object)"
   ]
  },
  {
   "cell_type": "code",
   "execution_count": null,
   "metadata": {
    "ExecuteTime": {
     "end_time": "2019-04-20T22:45:20.682574Z",
     "start_time": "2019-04-20T22:45:20.665066Z"
    },
    "hidden": true
   },
   "outputs": [],
   "source": [
    "valida['target'].value_counts()"
   ]
  },
  {
   "cell_type": "code",
   "execution_count": null,
   "metadata": {
    "ExecuteTime": {
     "end_time": "2019-04-20T22:45:20.705454Z",
     "start_time": "2019-04-20T22:45:20.685307Z"
    },
    "hidden": true
   },
   "outputs": [],
   "source": [
    "df['target'].value_counts()"
   ]
  },
  {
   "cell_type": "code",
   "execution_count": null,
   "metadata": {
    "ExecuteTime": {
     "end_time": "2019-04-20T22:45:21.060337Z",
     "start_time": "2019-04-20T22:45:20.708176Z"
    },
    "hidden": true
   },
   "outputs": [],
   "source": [
    "df=pd.concat([X_t, valida],sort=False)"
   ]
  },
  {
   "cell_type": "code",
   "execution_count": null,
   "metadata": {
    "ExecuteTime": {
     "end_time": "2019-04-20T22:45:21.081518Z",
     "start_time": "2019-04-20T22:45:21.063455Z"
    },
    "hidden": true
   },
   "outputs": [],
   "source": [
    "len(df)-len(valida)"
   ]
  },
  {
   "cell_type": "code",
   "execution_count": null,
   "metadata": {
    "ExecuteTime": {
     "end_time": "2019-04-20T22:45:21.140765Z",
     "start_time": "2019-04-20T22:45:21.084234Z"
    },
    "hidden": true
   },
   "outputs": [],
   "source": [
    "df[396098:]"
   ]
  },
  {
   "cell_type": "markdown",
   "metadata": {},
   "source": [
    "# Oversampling\n",
    "The numbers are a little off for and we want to increase the number of target samples."
   ]
  },
  {
   "cell_type": "code",
   "execution_count": 46,
   "metadata": {
    "ExecuteTime": {
     "end_time": "2019-04-21T11:28:41.104528Z",
     "start_time": "2019-04-21T11:28:40.934475Z"
    }
   },
   "outputs": [],
   "source": [
    "# divides into target or not.\n",
    "dfTarget=df.loc[df['target'] == 1]\n",
    "dfNot=df.loc[df['target'] == 0]"
   ]
  },
  {
   "cell_type": "code",
   "execution_count": 47,
   "metadata": {
    "ExecuteTime": {
     "end_time": "2019-04-21T11:28:41.359898Z",
     "start_time": "2019-04-21T11:28:41.326967Z"
    }
   },
   "outputs": [
    {
     "data": {
      "text/plain": [
       "(18095, 161706, 8)"
      ]
     },
     "execution_count": 47,
     "metadata": {},
     "output_type": "execute_result"
    }
   ],
   "source": [
    "# Determine the number of differences\n",
    "diff=len(dfNot)//len(dfTarget)\n",
    "len(dfTarget),len(dfNot), diff"
   ]
  },
  {
   "cell_type": "code",
   "execution_count": 48,
   "metadata": {
    "ExecuteTime": {
     "end_time": "2019-04-21T11:28:42.229850Z",
     "start_time": "2019-04-21T11:28:41.927672Z"
    }
   },
   "outputs": [
    {
     "data": {
      "text/plain": [
       "(36190, 161706)"
      ]
     },
     "execution_count": 48,
     "metadata": {},
     "output_type": "execute_result"
    }
   ],
   "source": [
    "# have i\n",
    "\n",
    "# run this number of times\n",
    "runN = 2\n",
    "for x in range(1, runN):\n",
    "    df=pd.concat([df, dfTarget],sort=False)\n",
    "    \n",
    "# Recalculate teh number of pos or not\n",
    "dfTarget=df.loc[df['target'] == 1]\n",
    "dfNot=df.loc[df['target'] == 0]\n",
    "len(dfTarget),len(dfNot)"
   ]
  },
  {
   "cell_type": "code",
   "execution_count": 49,
   "metadata": {
    "ExecuteTime": {
     "end_time": "2019-04-21T11:28:43.010841Z",
     "start_time": "2019-04-21T11:28:42.838925Z"
    }
   },
   "outputs": [],
   "source": [
    "#We put it back together and keep the indexes for later.\n",
    "df=pd.concat([df, valida],sort=False)\n",
    "valid_idx = range(len(df)-len(valida),len(df))"
   ]
  },
  {
   "cell_type": "markdown",
   "metadata": {},
   "source": [
    "# EDA\n",
    "Not my best work. I tried pulling in a whole number of methods to explore the data."
   ]
  },
  {
   "cell_type": "markdown",
   "metadata": {},
   "source": [
    "## Seaborn Plots"
   ]
  },
  {
   "cell_type": "code",
   "execution_count": null,
   "metadata": {
    "ExecuteTime": {
     "end_time": "2019-04-20T22:45:22.431216Z",
     "start_time": "2019-04-20T22:45:22.414778Z"
    }
   },
   "outputs": [],
   "source": [
    "# Seaborn Plots are pretty\n",
    "import seaborn as sns\n",
    "sns.set(style=\"ticks\")"
   ]
  },
  {
   "cell_type": "raw",
   "metadata": {
    "ExecuteTime": {
     "end_time": "2019-04-20T21:55:38.341149Z",
     "start_time": "2019-04-20T21:55:38.320860Z"
    }
   },
   "source": [
    "# Previous feature importance suggests these are the important values\n",
    "[('f81', 357.8167748071428),\n",
    " ('f110', 249.11316348888886),\n",
    " ('f109', 239.5151106666667),\n",
    " ('f12', 231.1245377369565),\n",
    " ('f26', 224.17397441052637),\n",
    " ('f198', 223.45596470833337),\n",
    " ('f139', 216.76310442807008),\n",
    " ('f177', 207.1176339647059),"
   ]
  },
  {
   "cell_type": "code",
   "execution_count": null,
   "metadata": {
    "ExecuteTime": {
     "end_time": "2019-04-20T22:45:37.142326Z",
     "start_time": "2019-04-20T22:45:22.432302Z"
    }
   },
   "outputs": [],
   "source": [
    "# Comparing var 81 and var 139\n",
    "g = sns.pairplot(df, height=10, vars=[\"var_81\", \"var_139\"], hue=\"target\" )#plot_kws={'scatter_kws': {'alpha': 0.1}})"
   ]
  },
  {
   "cell_type": "code",
   "execution_count": null,
   "metadata": {
    "ExecuteTime": {
     "end_time": "2019-04-20T22:47:54.052653Z",
     "start_time": "2019-04-20T22:45:37.144203Z"
    }
   },
   "outputs": [],
   "source": [
    "# Fancier Graphs for all the important variables\n",
    "g = sns.pairplot(df, height=10, vars=[\"var_81\", \"var_139\", \"var_12\",\"var_110\",\"var_53\",], hue=\"target\" )#plot_kws={'scatter_kws': {'alpha': 0.1}})"
   ]
  },
  {
   "cell_type": "markdown",
   "metadata": {},
   "source": [
    "## Graph Plotting\n",
    "Just other ways to look at plotting"
   ]
  },
  {
   "cell_type": "code",
   "execution_count": null,
   "metadata": {
    "ExecuteTime": {
     "end_time": "2019-04-20T22:47:54.426630Z",
     "start_time": "2019-04-20T22:47:54.054800Z"
    }
   },
   "outputs": [],
   "source": [
    "#Sets us up to look at with and without target\n",
    "dfTarget=df.loc[df['target'] == 1]\n",
    "dfNot=df.loc[df['target'] == 0]"
   ]
  },
  {
   "cell_type": "code",
   "execution_count": null,
   "metadata": {
    "ExecuteTime": {
     "end_time": "2019-04-20T22:47:54.470142Z",
     "start_time": "2019-04-20T22:47:54.427761Z"
    }
   },
   "outputs": [],
   "source": [
    "# Lets look at the column for targets and not target\n",
    "# They are different but does that matter?\n",
    "dfTarget[\"var_81\"].describe(), dfNot[\"var_81\"].describe()"
   ]
  },
  {
   "cell_type": "code",
   "execution_count": null,
   "metadata": {
    "ExecuteTime": {
     "end_time": "2019-04-20T22:48:18.251581Z",
     "start_time": "2019-04-20T22:47:54.471283Z"
    }
   },
   "outputs": [],
   "source": [
    "fig, ax = plt.subplots()\n",
    "\n",
    "colors = {1:'red', 0:'blue'}\n",
    "\n",
    "ax.scatter(df['var_81'], df['var_139'], c=df['target'].apply(lambda x: colors[x]), alpha = .01)\n",
    "plt.figure(figsize=(50,30))"
   ]
  },
  {
   "cell_type": "code",
   "execution_count": null,
   "metadata": {
    "ExecuteTime": {
     "end_time": "2019-04-20T22:48:35.469900Z",
     "start_time": "2019-04-20T22:48:18.252861Z"
    }
   },
   "outputs": [],
   "source": [
    "fig, ax = plt.subplots()\n",
    "\n",
    "colors = {1:'red', 0:'blue'}\n",
    "\n",
    "ax.scatter(df['var_81'], df['var_139'], c=df['target'].apply(lambda x: colors[x]), alpha = .01)\n",
    "plt.figure(figsize=(50,30))\n",
    "plt.show()"
   ]
  },
  {
   "cell_type": "markdown",
   "metadata": {},
   "source": [
    "## All the Values \n",
    "Let's just graph everything."
   ]
  },
  {
   "cell_type": "code",
   "execution_count": null,
   "metadata": {
    "ExecuteTime": {
     "end_time": "2019-04-20T22:48:35.490610Z",
     "start_time": "2019-04-20T22:48:35.471097Z"
    }
   },
   "outputs": [],
   "source": [
    "import matplotlib.pyplot as plt\n",
    "from tqdm import tqdm_notebook\n",
    "%matplotlib inline\n",
    "\n",
    "cols = [f'var_{i}' for i in range(200)]"
   ]
  },
  {
   "cell_type": "code",
   "execution_count": null,
   "metadata": {
    "ExecuteTime": {
     "end_time": "2019-04-20T22:50:22.747857Z",
     "start_time": "2019-04-20T22:48:35.491759Z"
    }
   },
   "outputs": [],
   "source": [
    "width_num = 7\n",
    "height_num = 40\n",
    "fig = plt.figure(figsize=[4*width_num,3*height_num])\n",
    "for i in tqdm_notebook(range(200)):\n",
    "    ax = fig.add_subplot(height_num,width_num,i+1)\n",
    "    _ = ax.hist(df[cols[i]], bins=100, alpha=0.5, density=True, label='train')\n",
    "    _ = ax.hist(test_df[cols[i]], bins=100,alpha=0.5, density=True, label='test')\n",
    "    _ = ax.set_title(cols[i])\n",
    "    ax.legend()"
   ]
  },
  {
   "cell_type": "code",
   "execution_count": null,
   "metadata": {
    "ExecuteTime": {
     "end_time": "2019-04-20T22:50:22.766171Z",
     "start_time": "2019-04-20T22:50:22.749335Z"
    }
   },
   "outputs": [],
   "source": [
    "## "
   ]
  },
  {
   "cell_type": "markdown",
   "metadata": {
    "ExecuteTime": {
     "end_time": "2019-04-02T14:16:55.632634Z",
     "start_time": "2019-04-02T14:16:55.630291Z"
    },
    "heading_collapsed": true
   },
   "source": [
    "## Fake Data\n",
    "Didn't see this as valuable"
   ]
  },
  {
   "cell_type": "code",
   "execution_count": null,
   "metadata": {
    "ExecuteTime": {
     "end_time": "2019-04-20T22:50:22.782936Z",
     "start_time": "2019-04-20T22:50:22.767456Z"
    },
    "hidden": true
   },
   "outputs": [],
   "source": [
    "#https://www.kaggle.com/yag320/list-of-fake-samples-and-public-private-lb-split"
   ]
  },
  {
   "cell_type": "code",
   "execution_count": null,
   "metadata": {
    "ExecuteTime": {
     "end_time": "2019-04-20T22:50:23.305369Z",
     "start_time": "2019-04-20T22:50:22.784052Z"
    },
    "hidden": true
   },
   "outputs": [],
   "source": [
    "#https://www.kaggle.com/mitjasha/854-easy-nn-for-santander\n",
    "import matplotlib.pyplot as plt\n",
    "from sklearn.decomposition import PCA\n",
    "\n",
    "## PCA Data\n",
    "fig, ax = plt.subplots(1, 2, figsize = (24, 12))\n",
    "pca = PCA()\n",
    "X_reduced0 = pca.fit_transform(X_train0)\n",
    "X_reduced1 = pca.fit_transform(X_train1)\n",
    "\n",
    "\n",
    "ax[0].scatter(X_reduced0[:, 0], X_reduced0[:, 1], c=y,\n",
    "            edgecolor='none', alpha=0.7, s=40,\n",
    "            cmap=plt.cm.get_cmap('bwr', 2))\n",
    "ax[0].set_title('PCA projection StdScalar')\n",
    "\n",
    "ax[1].scatter(X_reduced1[:, 0], X_reduced1[:, 1], c=y,\n",
    "            edgecolor='none', alpha=0.7, s=40,\n",
    "            cmap=plt.cm.get_cmap('bwr', 2))\n",
    "ax[1].set_title('PCA projection Robust')\n",
    "\n",
    "print(pca.n_components_)"
   ]
  },
  {
   "cell_type": "markdown",
   "metadata": {},
   "source": [
    "# Feature Engineering\n",
    "Creating new Features"
   ]
  },
  {
   "cell_type": "markdown",
   "metadata": {},
   "source": [
    "## Binning - Not Useful\n",
    "Turn some items into bins and category driven variables\n"
   ]
  },
  {
   "cell_type": "code",
   "execution_count": null,
   "metadata": {
    "ExecuteTime": {
     "end_time": "2019-04-20T22:50:23.307443Z",
     "start_time": "2019-04-20T22:44:34.410Z"
    }
   },
   "outputs": [],
   "source": [
    "def makebin(df,var,var2):\n",
    "    IQR = df[var].quantile([0.75]).values - df[var].quantile([0.25]).values #inter-quartile range\n",
    "    n = 200000 #size of our dataframe\n",
    "    binsize = 2 * IQR/n**(1/3) #Freedman-Diaconis rule to define the bin size\n",
    "    binnumber = int((df[var].max() - df[var].min())/binsize)\n",
    "\n",
    "    df[var2]= df[var].values//binsize\n",
    "    df[var2]= df[var2].astype('category')\n",
    "    return df\n",
    "\n",
    "def makebinall(df):\n",
    "    df = makebin(df, 'var_81','var_210')\n",
    "    df = makebin(df, 'var_139','var_211')\n",
    "    df = makebin(df, 'var_12','var_212')\n",
    "    df = makebin(df, 'var_53','var_213')\n",
    "    df = makebin(df, 'var_26','var_214')\n",
    "    df = makebin(df, 'var_6','var_215')\n",
    "    df = makebin(df, 'var_146','var_216')\n",
    "    df = makebin(df, 'var_174','var_217')\n",
    "    return df\n",
    "\n",
    "def makebinall2(df):\n",
    "    df = makebin(df, 'var_12','var_200')\n",
    "    df = makebin(df, 'var_13','var_201')\n",
    "    df = makebin(df, 'var_108','var_202')\n",
    "    df = makebin(df, 'var_126','var_203')\n",
    "    df = makebin(df, 'var_68','var_204')\n",
    "    #df = makebin(df, 'var_6','var_215')\n",
    "    #df = makebin(df, 'var_146','var_216')\n",
    "    #df = makebin(df, 'var_174','var_217')\n",
    "    return df"
   ]
  },
  {
   "cell_type": "code",
   "execution_count": null,
   "metadata": {
    "ExecuteTime": {
     "end_time": "2019-04-20T22:50:23.308236Z",
     "start_time": "2019-04-20T22:44:34.412Z"
    }
   },
   "outputs": [],
   "source": [
    "#columns=['var_12','var_13','var_108','var_126','var_68']\n",
    "#for var in df.columns:\n",
    "#    print(var)\n",
    "#    hist, bin_edges = np.histogram(df[var], bins=1000, density=True)\n",
    "#    df['test_'+var] = [ hist[np.searchsorted(bin_edges,ele)-1] for ele in f[var] ]\n",
    "\n",
    "df= makebinall2(df)\n",
    "test_df = makebinall2(test_df)"
   ]
  },
  {
   "cell_type": "markdown",
   "metadata": {
    "ExecuteTime": {
     "end_time": "2019-04-02T14:44:21.162130Z",
     "start_time": "2019-04-02T14:44:21.156518Z"
    }
   },
   "source": [
    "## Distance and Cardinality - Not useful\n",
    "Looking at a 2-D plot and pulling out vector and direction would we get anything"
   ]
  },
  {
   "cell_type": "code",
   "execution_count": null,
   "metadata": {
    "ExecuteTime": {
     "end_time": "2019-04-20T22:50:23.309064Z",
     "start_time": "2019-04-20T22:44:34.416Z"
    }
   },
   "outputs": [],
   "source": [
    "def Vec_arc(df, f1, f2, name):\n",
    "    df[name] = np.sqrt(abs(df[f1])**2+abs(df[f2])**2)\n",
    "    return df\n",
    "\n",
    "def Vec_arc_all(df):\n",
    "    df = Vec_arc(df, \"var_53\", \"var_26\", \"var_200\")\n",
    "    \n",
    "    return df\n",
    "\n",
    "def Vec_arc_all(df):\n",
    "    return df"
   ]
  },
  {
   "cell_type": "markdown",
   "metadata": {},
   "source": [
    "## Shift Bias - Not useful\n",
    "There are problems there seems to be an inflection point where things are more likely to be one thing than another"
   ]
  },
  {
   "cell_type": "code",
   "execution_count": null,
   "metadata": {
    "ExecuteTime": {
     "end_time": "2019-04-20T22:50:23.309903Z",
     "start_time": "2019-04-20T22:44:34.419Z"
    }
   },
   "outputs": [],
   "source": [
    "def leftfeat(df, name, var, bias):\n",
    "    df[name] = -df[var] + bias\n",
    "    return df\n",
    "\n",
    "def rightfeat(df, name, var, bias):\n",
    "    df[name] = df[var] + bias\n",
    "    return df\n",
    "\n",
    "def ShiftFE(df):\n",
    "    #('f81', 12355.496952399995), L @ -.8\n",
    "    leftfeat(df,\"var_200\",\"var_81\",-.8)\n",
    "    \n",
    "     #('f139', 12355.496952399995), L @ -.8\n",
    "    leftfeat(df,\"var_201\",\"var_139\",-.8)\n",
    "\n",
    "    # ('f12', 10631.7287359), L @ -.5\n",
    "    leftfeat(df,\"var_202\",\"var_12\",-.5)\n",
    "\n",
    "    # ('f110', 8968.073885599999), R @ 1\n",
    "    rightfeat(df,\"var_203\",\"var_110\",.5)\n",
    "\n",
    "    # ('f53', 8880.9331203), R @ .5\n",
    "    rightfeat(df,\"var_204\",\"var_53\",.5)\n",
    "\n",
    "    # ('f26', 8518.611027600002), R @ .75\n",
    "    rightfeat(df,\"var_205\",\"var_26\",.75)\n",
    "\n",
    "    # ('f6', 8348.653376200002), R @ .25\n",
    "    rightfeat(df,\"var_206\",\"var_6\", .25)\n",
    "\n",
    "    # ('f146', 7815.327076099999), L @ -1\n",
    "    leftfeat(df,\"var_207\",\"var_146\",-1)\n",
    "\n",
    "    # ('f174', 7608.578131499998) L @ -1\n",
    "    leftfeat(df,\"var_208\",\"var_174\",-1)\n",
    "\n",
    "    # f0 R @ .8\n",
    "    rightfeat(df,\"var_209\",\"var_0\",.8)\n",
    "    \n",
    "    return df\n",
    "\n",
    "#ShiftFE(df_all)"
   ]
  },
  {
   "cell_type": "markdown",
   "metadata": {
    "ExecuteTime": {
     "end_time": "2019-04-02T14:38:53.656157Z",
     "start_time": "2019-04-02T14:38:53.650813Z"
    }
   },
   "source": [
    "# Measure Feature Importance\n",
    "Ways to measure those new features"
   ]
  },
  {
   "cell_type": "markdown",
   "metadata": {},
   "source": [
    "## Scipy Cluster"
   ]
  },
  {
   "cell_type": "code",
   "execution_count": null,
   "metadata": {
    "ExecuteTime": {
     "end_time": "2019-04-21T10:58:55.937891Z",
     "start_time": "2019-04-21T10:58:55.915411Z"
    }
   },
   "outputs": [],
   "source": [
    "df.info()"
   ]
  },
  {
   "cell_type": "code",
   "execution_count": null,
   "metadata": {
    "ExecuteTime": {
     "end_time": "2019-04-21T10:59:36.766816Z",
     "start_time": "2019-04-21T10:58:56.432985Z"
    }
   },
   "outputs": [],
   "source": [
    "# Removing redundant features\n",
    "from scipy.cluster import hierarchy as hc\n",
    "corr = np.round(scipy.stats.spearmanr(df).correlation, 4)\n",
    "corr_condensed = hc.distance.squareform(1-corr)\n",
    "z = hc.linkage(corr_condensed, method='average')\n",
    "fig = plt.figure(figsize=(10,40))\n",
    "dendrogram = hc.dendrogram(z, labels=df.columns, orientation='left', leaf_font_size=16)\n",
    "plt.show()"
   ]
  },
  {
   "cell_type": "markdown",
   "metadata": {
    "heading_collapsed": true
   },
   "source": [
    "## XGboost\n",
    "https://www.kaggle.com/cbrogan/xgboost-example-python\n",
    "Let's run XGboost to see Feature Importance"
   ]
  },
  {
   "cell_type": "code",
   "execution_count": null,
   "metadata": {
    "ExecuteTime": {
     "end_time": "2019-04-21T10:59:58.748247Z",
     "start_time": "2019-04-21T10:59:58.717299Z"
    },
    "hidden": true
   },
   "outputs": [],
   "source": [
    "import xgboost as xgb\n",
    "from sklearn.preprocessing import LabelEncoder\n",
    "\n",
    "from numpy import loadtxt\n",
    "from matplotlib import pyplot\n",
    "\n",
    "from sklearn.base import TransformerMixin\n",
    "class DataFrameImputer(TransformerMixin):\n",
    "    def fit(self, X, y=None):\n",
    "        self.fill = pd.Series([X[c].value_counts().index[0]\n",
    "            if X[c].dtype == np.dtype('O') else X[c].median() for c in X],\n",
    "            index=X.columns)\n",
    "        return self\n",
    "    def transform(self, X, y=None):\n",
    "        return X.fillna(self.fill)\n"
   ]
  },
  {
   "cell_type": "code",
   "execution_count": null,
   "metadata": {
    "ExecuteTime": {
     "end_time": "2019-04-21T10:59:59.640659Z",
     "start_time": "2019-04-21T10:59:59.620079Z"
    },
    "hidden": true
   },
   "outputs": [],
   "source": [
    "# feature columsn should not include target or ID_Code\n",
    "feature_columns_to_use = list(df.columns)\n",
    "feature_columns_to_use.remove('target')\n",
    "feature_columns_to_use.remove('ID_code')"
   ]
  },
  {
   "cell_type": "code",
   "execution_count": null,
   "metadata": {
    "ExecuteTime": {
     "end_time": "2019-04-21T11:00:02.369079Z",
     "start_time": "2019-04-21T11:00:02.346647Z"
    },
    "hidden": true
   },
   "outputs": [],
   "source": [
    "#feature_columns_to_use"
   ]
  },
  {
   "cell_type": "code",
   "execution_count": null,
   "metadata": {
    "ExecuteTime": {
     "end_time": "2019-04-21T11:00:05.126192Z",
     "start_time": "2019-04-21T11:00:03.684853Z"
    },
    "hidden": true
   },
   "outputs": [],
   "source": [
    "#big X is the total dataframe after test_df is added\n",
    "big_X = df[feature_columns_to_use].append(test_df[feature_columns_to_use])\n",
    "big_X_imputed = DataFrameImputer().fit_transform(big_X)\n",
    "\n",
    "le = LabelEncoder()\n",
    "#for feature in nonnumeric_columns:\n",
    "#    big_X_imputed[feature] = le.fit_transform(big_X_imputed[feature])"
   ]
  },
  {
   "cell_type": "code",
   "execution_count": null,
   "metadata": {
    "ExecuteTime": {
     "end_time": "2019-04-21T11:00:05.145529Z",
     "start_time": "2019-04-21T11:00:05.127843Z"
    },
    "hidden": true
   },
   "outputs": [],
   "source": [
    "# split off the train and test X\n",
    "train_X = big_X_imputed[0:df.shape[0]].as_matrix()\n",
    "test_X = big_X_imputed[df.shape[0]::].as_matrix()\n",
    "train_y = df['target']"
   ]
  },
  {
   "cell_type": "code",
   "execution_count": null,
   "metadata": {
    "ExecuteTime": {
     "end_time": "2019-04-21T11:00:05.161977Z",
     "start_time": "2019-04-21T11:00:05.146749Z"
    },
    "hidden": true
   },
   "outputs": [],
   "source": [
    "# Yes Train_x works\n",
    "#train_X"
   ]
  },
  {
   "cell_type": "markdown",
   "metadata": {
    "hidden": true
   },
   "source": [
    "#### Run it gbm"
   ]
  },
  {
   "cell_type": "code",
   "execution_count": null,
   "metadata": {
    "ExecuteTime": {
     "end_time": "2019-04-21T11:09:52.718724Z",
     "start_time": "2019-04-21T11:00:06.147807Z"
    },
    "hidden": true
   },
   "outputs": [],
   "source": [
    "# Run it! otherwise, save the results so it doesn't take that long\n",
    "gbm = xgb.XGBClassifier(max_depth=3, n_estimators=300, learning_rate=0.05).fit(train_X, train_y)\n",
    "predictions = gbm.predict(test_X)\n",
    "#if you just ran it... save it\n",
    "pickle.dump(gbm, open( \"/home/jd/data/santander/gbm.p\", \"wb\" ) )"
   ]
  },
  {
   "cell_type": "code",
   "execution_count": null,
   "metadata": {
    "ExecuteTime": {
     "end_time": "2019-04-21T11:09:52.752512Z",
     "start_time": "2019-04-21T11:09:52.721736Z"
    },
    "hidden": true
   },
   "outputs": [],
   "source": [
    "#defines defines an empty one and then saves everything\n",
    "gbm = xgb.XGBClassifier()\n",
    "gbm=pickle.load(open( \"/home/jd/data/santander/gbm.p\", \"rb\" ) )"
   ]
  },
  {
   "cell_type": "code",
   "execution_count": null,
   "metadata": {
    "ExecuteTime": {
     "end_time": "2019-04-21T11:09:53.138733Z",
     "start_time": "2019-04-21T11:09:52.753646Z"
    },
    "hidden": true
   },
   "outputs": [],
   "source": [
    "#https://machinelearningmastery.com/feature-importance-and-feature-selection-with-xgboost-in-python/\n",
    "pyplot.bar(range(len(gbm.feature_importances_)), gbm.feature_importances_)\n",
    "pyplot.show()"
   ]
  },
  {
   "cell_type": "code",
   "execution_count": null,
   "metadata": {
    "ExecuteTime": {
     "end_time": "2019-04-21T11:09:53.164494Z",
     "start_time": "2019-04-21T11:09:53.140488Z"
    },
    "hidden": true
   },
   "outputs": [],
   "source": [
    "df[:5]"
   ]
  },
  {
   "cell_type": "code",
   "execution_count": null,
   "metadata": {
    "ExecuteTime": {
     "end_time": "2019-04-21T11:09:53.197429Z",
     "start_time": "2019-04-21T11:09:53.165882Z"
    },
    "hidden": true
   },
   "outputs": [],
   "source": [
    "#https://towardsdatascience.com/be-careful-when-interpreting-your-features-importance-in-xgboost-6e16132588e7\n",
    "# #Available importance_types = [‘weight’, ‘gain’, ‘cover’, ‘total_gain’, ‘total_cover’]\n",
    "gain=gbm.get_booster().get_score(importance_type= 'gain')\n",
    "sorted_gain = sorted(gain.items(), key=lambda kv: kv[1],reverse = True)\n",
    "sorted_gain"
   ]
  },
  {
   "cell_type": "code",
   "execution_count": null,
   "metadata": {
    "ExecuteTime": {
     "end_time": "2019-04-21T11:09:53.246514Z",
     "start_time": "2019-04-21T11:09:53.218420Z"
    },
    "hidden": true
   },
   "outputs": [],
   "source": [
    "gain=gbm.get_booster().get_score(importance_type= 'total_gain')\n",
    "sorted_gain = sorted(gain.items(), key=lambda kv: kv[1],reverse = True)\n",
    "sorted_gain[:10]"
   ]
  },
  {
   "cell_type": "code",
   "execution_count": null,
   "metadata": {
    "ExecuteTime": {
     "end_time": "2019-04-21T11:09:53.275637Z",
     "start_time": "2019-04-21T11:09:53.247583Z"
    },
    "hidden": true
   },
   "outputs": [],
   "source": [
    "gain=gbm.get_booster().get_score(importance_type= 'cover')\n",
    "sorted_gain = sorted(gain.items(), key=lambda kv: kv[1],reverse = True)\n",
    "sorted_gain[:10]"
   ]
  },
  {
   "cell_type": "code",
   "execution_count": null,
   "metadata": {
    "ExecuteTime": {
     "end_time": "2019-04-21T11:09:53.299388Z",
     "start_time": "2019-04-21T11:09:53.276821Z"
    },
    "hidden": true
   },
   "outputs": [],
   "source": [
    "gain=gbm.get_booster().get_score(importance_type= 'weight')\n",
    "sorted_gain = sorted(gain.items(), key=lambda kv: kv[1],reverse = True)\n",
    "sorted_gain[:10]"
   ]
  },
  {
   "cell_type": "markdown",
   "metadata": {},
   "source": [
    "# Test Run!\n",
    "With an NN"
   ]
  },
  {
   "cell_type": "code",
   "execution_count": 50,
   "metadata": {
    "ExecuteTime": {
     "end_time": "2019-04-21T11:28:47.962580Z",
     "start_time": "2019-04-21T11:28:47.927831Z"
    }
   },
   "outputs": [],
   "source": [
    "dep_var = 'target'\n",
    "procs = [FillMissing, Categorify, Normalize]\n",
    "path = Path('/home/jd/data/santander')"
   ]
  },
  {
   "cell_type": "code",
   "execution_count": 51,
   "metadata": {
    "ExecuteTime": {
     "end_time": "2019-04-21T11:28:48.593169Z",
     "start_time": "2019-04-21T11:28:48.560444Z"
    }
   },
   "outputs": [],
   "source": [
    "#cat_names =  ['var_200', 'var_201', 'var_202', 'var_203', 'var_204']#, 'var_215', 'var_216', 'var_217']"
   ]
  },
  {
   "cell_type": "code",
   "execution_count": 52,
   "metadata": {
    "ExecuteTime": {
     "end_time": "2019-04-21T11:28:49.420944Z",
     "start_time": "2019-04-21T11:28:49.385330Z"
    }
   },
   "outputs": [],
   "source": [
    "cont_names= list(df.columns)\n",
    "cont_names.remove('target')\n",
    "cont_names.remove('ID_code')\n",
    "cat_names = ()"
   ]
  },
  {
   "cell_type": "code",
   "execution_count": 53,
   "metadata": {
    "ExecuteTime": {
     "end_time": "2019-04-21T11:28:49.846270Z",
     "start_time": "2019-04-21T11:28:49.805953Z"
    }
   },
   "outputs": [],
   "source": [
    "cont_names=[x for x in cont_names if x not in cat_names]"
   ]
  },
  {
   "cell_type": "code",
   "execution_count": 54,
   "metadata": {
    "ExecuteTime": {
     "end_time": "2019-04-21T11:28:50.519746Z",
     "start_time": "2019-04-21T11:28:50.477714Z"
    }
   },
   "outputs": [
    {
     "data": {
      "text/plain": [
       "count    218095.000000\n",
       "mean          0.175121\n",
       "std           0.380071\n",
       "min           0.000000\n",
       "25%           0.000000\n",
       "50%           0.000000\n",
       "75%           0.000000\n",
       "max           1.000000\n",
       "Name: target, dtype: float64"
      ]
     },
     "execution_count": 54,
     "metadata": {},
     "output_type": "execute_result"
    }
   ],
   "source": [
    "df['target'].describe()"
   ]
  },
  {
   "cell_type": "code",
   "execution_count": 55,
   "metadata": {
    "ExecuteTime": {
     "end_time": "2019-04-21T11:28:51.707344Z",
     "start_time": "2019-04-21T11:28:51.671740Z"
    }
   },
   "outputs": [],
   "source": [
    "#data.show_batch(rows=10)\n",
    "from sklearn.metrics import roc_auc_score\n",
    "\n",
    "def auc_score1(y_score,y_true):\n",
    "    return torch.tensor(roc_auc_score(y_true,y_score[:,1]))"
   ]
  },
  {
   "cell_type": "code",
   "execution_count": 56,
   "metadata": {
    "ExecuteTime": {
     "end_time": "2019-04-21T11:28:52.654892Z",
     "start_time": "2019-04-21T11:28:52.552509Z"
    }
   },
   "outputs": [],
   "source": [
    "# Test data is stored here.\n",
    "test = TabularList.from_df(test_df, path=path, cat_names=None ,cont_names=cont_names)"
   ]
  },
  {
   "cell_type": "code",
   "execution_count": 57,
   "metadata": {
    "ExecuteTime": {
     "end_time": "2019-04-21T11:28:53.268038Z",
     "start_time": "2019-04-21T11:28:53.236439Z"
    }
   },
   "outputs": [
    {
     "data": {
      "text/plain": [
       "(range(197896, 218095), 218095)"
      ]
     },
     "execution_count": 57,
     "metadata": {},
     "output_type": "execute_result"
    }
   ],
   "source": [
    "#if you made a validation set, should be here\n",
    "valid_idx, len(df)"
   ]
  },
  {
   "cell_type": "code",
   "execution_count": 59,
   "metadata": {
    "ExecuteTime": {
     "end_time": "2019-04-21T11:29:08.016711Z",
     "start_time": "2019-04-21T11:29:04.429524Z"
    }
   },
   "outputs": [],
   "source": [
    "data = (TabularList.from_df(df, path=path, cat_names=None, cont_names=cont_names, procs=procs)\n",
    "                          # .split_by_rand_pct(valid_pct=0.5, seed=42)\n",
    "                           .split_by_idx(valid_idx)\n",
    "                           .label_from_df(cols=dep_var, label_cls=CategoryList)\n",
    "                           .add_test(test)\n",
    "                           .databunch(bs=512))"
   ]
  },
  {
   "cell_type": "code",
   "execution_count": 60,
   "metadata": {
    "ExecuteTime": {
     "end_time": "2019-04-21T11:29:08.119546Z",
     "start_time": "2019-04-21T11:29:08.018242Z"
    }
   },
   "outputs": [],
   "source": [
    "learn = tabular_learner(data, layers=[2000,500], \n",
    "                        ps=[0.1,0.02],\n",
    "                        emb_drop=0.07, \n",
    "                        y_range=None,\n",
    "                        metrics=[accuracy, auc_score1]\n",
    "                        #metrics=accuracy\n",
    "                       )"
   ]
  },
  {
   "cell_type": "code",
   "execution_count": 61,
   "metadata": {
    "ExecuteTime": {
     "end_time": "2019-04-21T11:29:08.148119Z",
     "start_time": "2019-04-21T11:29:08.120757Z"
    }
   },
   "outputs": [],
   "source": [
    "from fastai.callbacks.tracker import EarlyStoppingCallback\n",
    "from fastai.callbacks.tracker import SaveModelCallback"
   ]
  },
  {
   "cell_type": "code",
   "execution_count": 70,
   "metadata": {
    "ExecuteTime": {
     "end_time": "2019-04-21T11:31:39.846632Z",
     "start_time": "2019-04-21T11:31:38.770372Z"
    }
   },
   "outputs": [
    {
     "data": {
      "text/html": [],
      "text/plain": [
       "<IPython.core.display.HTML object>"
      ]
     },
     "metadata": {},
     "output_type": "display_data"
    },
    {
     "name": "stdout",
     "output_type": "stream",
     "text": [
      "LR Finder is complete, type {learner_name}.recorder.plot() to see the graph.\n",
      "Min numerical gradient: 8.32E-04\n"
     ]
    },
    {
     "data": {
      "image/png": "[encoded data removed]",
      "text/plain": [
       "<Figure size 432x288 with 1 Axes>"
      ]
     },
     "metadata": {},
     "output_type": "display_data"
    }
   ],
   "source": [
    "# See plot\n",
    "learn.lr_find()\n",
    "learn.recorder.plot(suggestion=True)"
   ]
  },
  {
   "cell_type": "code",
   "execution_count": 71,
   "metadata": {
    "ExecuteTime": {
     "end_time": "2019-04-21T11:32:14.101074Z",
     "start_time": "2019-04-21T11:31:46.460629Z"
    }
   },
   "outputs": [
    {
     "data": {
      "text/html": [
       "Total time: 00:27 <p><table border=\"1\" class=\"dataframe\">\n",
       "  <thead>\n",
       "    <tr style=\"text-align: left;\">\n",
       "      <th>epoch</th>\n",
       "      <th>train_loss</th>\n",
       "      <th>valid_loss</th>\n",
       "      <th>accuracy</th>\n",
       "      <th>auc_score1</th>\n",
       "      <th>time</th>\n",
       "    </tr>\n",
       "  </thead>\n",
       "  <tbody>\n",
       "    <tr>\n",
       "      <td>0</td>\n",
       "      <td>0.267007</td>\n",
       "      <td>0.241050</td>\n",
       "      <td>0.911382</td>\n",
       "      <td>0.873576</td>\n",
       "      <td>00:02</td>\n",
       "    </tr>\n",
       "    <tr>\n",
       "      <td>1</td>\n",
       "      <td>0.255742</td>\n",
       "      <td>0.243474</td>\n",
       "      <td>0.908758</td>\n",
       "      <td>0.867149</td>\n",
       "      <td>00:02</td>\n",
       "    </tr>\n",
       "    <tr>\n",
       "      <td>2</td>\n",
       "      <td>0.243160</td>\n",
       "      <td>0.241973</td>\n",
       "      <td>0.910590</td>\n",
       "      <td>0.859767</td>\n",
       "      <td>00:02</td>\n",
       "    </tr>\n",
       "    <tr>\n",
       "      <td>3</td>\n",
       "      <td>0.214066</td>\n",
       "      <td>0.270295</td>\n",
       "      <td>0.904154</td>\n",
       "      <td>0.853442</td>\n",
       "      <td>00:02</td>\n",
       "    </tr>\n",
       "    <tr>\n",
       "      <td>4</td>\n",
       "      <td>0.182101</td>\n",
       "      <td>0.297272</td>\n",
       "      <td>0.897074</td>\n",
       "      <td>0.841453</td>\n",
       "      <td>00:02</td>\n",
       "    </tr>\n",
       "    <tr>\n",
       "      <td>5</td>\n",
       "      <td>0.151755</td>\n",
       "      <td>0.322024</td>\n",
       "      <td>0.897421</td>\n",
       "      <td>0.825665</td>\n",
       "      <td>00:02</td>\n",
       "    </tr>\n",
       "    <tr>\n",
       "      <td>6</td>\n",
       "      <td>0.122636</td>\n",
       "      <td>0.367357</td>\n",
       "      <td>0.898955</td>\n",
       "      <td>0.817611</td>\n",
       "      <td>00:02</td>\n",
       "    </tr>\n",
       "    <tr>\n",
       "      <td>7</td>\n",
       "      <td>0.102961</td>\n",
       "      <td>0.395384</td>\n",
       "      <td>0.895589</td>\n",
       "      <td>0.817052</td>\n",
       "      <td>00:02</td>\n",
       "    </tr>\n",
       "    <tr>\n",
       "      <td>8</td>\n",
       "      <td>0.085064</td>\n",
       "      <td>0.427417</td>\n",
       "      <td>0.897916</td>\n",
       "      <td>0.812604</td>\n",
       "      <td>00:02</td>\n",
       "    </tr>\n",
       "    <tr>\n",
       "      <td>9</td>\n",
       "      <td>0.080917</td>\n",
       "      <td>0.432356</td>\n",
       "      <td>0.895094</td>\n",
       "      <td>0.812117</td>\n",
       "      <td>00:02</td>\n",
       "    </tr>\n",
       "  </tbody>\n",
       "</table>"
      ],
      "text/plain": [
       "<IPython.core.display.HTML object>"
      ]
     },
     "metadata": {},
     "output_type": "display_data"
    },
    {
     "name": "stdout",
     "output_type": "stream",
     "text": [
      "Better model found at epoch 0 with auc_score1 value: 0.8735761046409607.\n"
     ]
    }
   ],
   "source": [
    "learn.fit_one_cycle(10,1.5e-03, \n",
    "                    callbacks=[SaveModelCallback(learn, every='improvement', monitor='auc_score1', name='best')], wd=0.1)"
   ]
  },
  {
   "cell_type": "code",
   "execution_count": 72,
   "metadata": {
    "ExecuteTime": {
     "end_time": "2019-04-21T11:32:19.973361Z",
     "start_time": "2019-04-21T11:32:19.695524Z"
    }
   },
   "outputs": [
    {
     "data": {
      "text/plain": [
       "Learner(data=TabularDataBunch;\n",
       "\n",
       "Train: LabelList (197896 items)\n",
       "x: TabularList\n",
       "var_0 -0.5867; var_1 -1.2816; var_2 0.4324; var_3 -0.8353; var_4 0.2328; var_5 -0.5423; var_6 -0.3499; var_7 0.6098; var_8 -1.5663; var_9 -1.4566; var_10 0.4613; var_11 1.0688; var_12 -0.0336; var_13 -1.6897; var_14 0.5615; var_15 -0.0153; var_16 -1.4011; var_17 -0.2311; var_18 -1.4018; var_19 2.2786; var_20 -0.4643; var_21 -0.1109; var_22 -0.6165; var_23 -1.0306; var_24 0.9956; var_25 -0.8247; var_26 -0.1995; var_27 0.4781; var_28 -0.7604; var_29 0.3583; var_30 0.9282; var_31 1.1714; var_32 -1.3045; var_33 0.4992; var_34 -0.4324; var_35 1.2847; var_36 -0.4728; var_37 0.8942; var_38 -1.3970; var_39 0.7910; var_40 0.1646; var_41 -0.3223; var_42 0.5110; var_43 1.5368; var_44 0.4656; var_45 0.2702; var_46 -1.8914; var_47 -0.1676; var_48 0.1066; var_49 -1.4479; var_50 0.2606; var_51 1.8921; var_52 0.3593; var_53 -1.0990; var_54 -0.2181; var_55 0.3598; var_56 -1.4976; var_57 -1.1142; var_58 -0.2636; var_59 1.3888; var_60 0.9495; var_61 1.4515; var_62 0.5899; var_63 -0.2779; var_64 1.5541; var_65 2.2546; var_66 0.0034; var_67 1.4064; var_68 -1.1066; var_69 -0.3473; var_70 -0.2423; var_71 -0.3969; var_72 1.1571; var_73 -1.4385; var_74 1.6665; var_75 0.2614; var_76 -1.0309; var_77 1.1417; var_78 0.5708; var_79 -1.6861; var_80 1.0614; var_81 -0.3563; var_82 0.5633; var_83 0.2357; var_84 -0.3132; var_85 0.7999; var_86 0.4849; var_87 0.9099; var_88 -0.2782; var_89 -1.5278; var_90 -0.3799; var_91 -1.3591; var_92 -0.3793; var_93 -1.0258; var_94 1.3665; var_95 0.4148; var_96 -0.6392; var_97 -0.1840; var_98 0.5901; var_99 -1.4363; var_100 1.7504; var_101 -0.0183; var_102 0.4948; var_103 -0.6920; var_104 1.6314; var_105 2.0893; var_106 0.4779; var_107 -0.0733; var_108 -0.6509; var_109 1.3616; var_110 -0.9191; var_111 0.4044; var_112 0.3683; var_113 -1.9251; var_114 -0.5569; var_115 -0.2532; var_116 0.0973; var_117 -0.0414; var_118 -0.9325; var_119 0.9992; var_120 -0.6987; var_121 -0.9101; var_122 -0.0480; var_123 -1.0087; var_124 -0.0204; var_125 -1.5252; var_126 0.8425; var_127 -0.4928; var_128 -0.2520; var_129 -0.0020; var_130 0.6772; var_131 -0.3976; var_132 1.2735; var_133 -0.6646; var_134 1.6155; var_135 0.9608; var_136 0.6258; var_137 1.5413; var_138 0.3505; var_139 1.0367; var_140 0.9988; var_141 -1.2540; var_142 1.2461; var_143 -0.3610; var_144 0.0504; var_145 0.8941; var_146 0.4993; var_147 -1.7809; var_148 0.2040; var_149 1.2255; var_150 0.6945; var_151 0.1532; var_152 0.4569; var_153 -0.0148; var_154 0.7152; var_155 0.6348; var_156 -1.0755; var_157 -1.4964; var_158 -0.0377; var_159 0.3154; var_160 -0.8085; var_161 -1.4687; var_162 -1.2332; var_163 -1.1363; var_164 1.7309; var_165 -1.3005; var_166 -0.6912; var_167 0.4329; var_168 1.4929; var_169 -0.3857; var_170 -1.0815; var_171 -1.4131; var_172 0.1332; var_173 0.6290; var_174 -0.2131; var_175 -1.3507; var_176 -0.9761; var_177 0.7083; var_178 -0.2858; var_179 -0.3216; var_180 -1.0810; var_181 -0.7819; var_182 0.2637; var_183 1.2537; var_184 1.3855; var_185 2.0871; var_186 0.9069; var_187 -0.8124; var_188 0.5634; var_189 -0.1651; var_190 0.2475; var_191 -1.1541; var_192 0.8297; var_193 -0.4059; var_194 0.1735; var_195 -1.5788; var_196 1.0129; var_197 -0.3639; var_198 -1.0043; var_199 0.2067; ,var_0 0.2531; var_1 -0.6328; var_2 1.1646; var_3 -0.6905; var_4 0.7873; var_5 1.5268; var_6 0.2251; var_7 -0.0023; var_8 0.8523; var_9 0.4289; var_10 -0.1438; var_11 1.8838; var_12 0.0195; var_13 -0.0100; var_14 -0.9339; var_15 -2.1211; var_16 1.7508; var_17 -1.4740; var_18 -0.9560; var_19 2.0109; var_20 -1.6731; var_21 -1.7459; var_22 1.4629; var_23 0.6726; var_24 -0.9610; var_25 0.7783; var_26 -1.3063; var_27 -0.9327; var_28 -0.6129; var_29 -1.7230; var_30 -0.2006; var_31 -1.1575; var_32 0.6860; var_33 1.0707; var_34 -0.1048; var_35 -0.6075; var_36 0.2059; var_37 -0.0134; var_38 0.0403; var_39 0.7429; var_40 -0.5407; var_41 -1.2475; var_42 -1.9303; var_43 0.6980; var_44 -1.2794; var_45 -1.6139; var_46 -1.3847; var_47 1.1940; var_48 1.7187; var_49 1.1368; var_50 -1.3040; var_51 -0.0325; var_52 -0.3235; var_53 0.8633; var_54 -1.0901; var_55 1.0208; var_56 0.7671; var_57 0.9359; var_58 -0.2862; var_59 -0.0702; var_60 -0.9817; var_61 0.4026; var_62 0.4507; var_63 -0.6306; var_64 1.1703; var_65 0.1420; var_66 -0.3568; var_67 -0.5546; var_68 0.4354; var_69 1.4019; var_70 1.3395; var_71 -0.5951; var_72 0.6434; var_73 0.0663; var_74 -0.8363; var_75 -1.6000; var_76 -0.3296; var_77 1.1605; var_78 0.0655; var_79 -0.4771; var_80 -0.4180; var_81 1.5058; var_82 0.4457; var_83 -0.6970; var_84 -0.4680; var_85 -1.1621; var_86 -2.4532; var_87 -0.0347; var_88 -0.3167; var_89 2.3675; var_90 1.2853; var_91 -0.6773; var_92 -1.0934; var_93 0.7525; var_94 0.2587; var_95 -1.9129; var_96 1.2159; var_97 0.6403; var_98 0.1997; var_99 0.7515; var_100 -0.7732; var_101 -1.0073; var_102 1.5279; var_103 0.7623; var_104 1.8731; var_105 -1.8972; var_106 -0.6793; var_107 1.8840; var_108 -1.5540; var_109 -1.2112; var_110 0.2694; var_111 0.7219; var_112 1.2711; var_113 0.0949; var_114 0.5467; var_115 0.7519; var_116 0.3959; var_117 -0.6217; var_118 -0.7157; var_119 1.0556; var_120 0.5871; var_121 -1.0410; var_122 1.3756; var_123 0.5108; var_124 -1.5167; var_125 0.3233; var_126 1.7602; var_127 0.5143; var_128 0.5944; var_129 0.2609; var_130 0.1885; var_131 -1.5710; var_132 -1.3902; var_133 0.6137; var_134 1.0945; var_135 -0.6249; var_136 -1.2680; var_137 0.0534; var_138 -0.7026; var_139 1.1014; var_140 0.0521; var_141 0.5701; var_142 -2.1538; var_143 -0.0160; var_144 -0.0473; var_145 1.5859; var_146 -0.5395; var_147 2.0129; var_148 1.3439; var_149 -0.9204; var_150 1.5493; var_151 1.1823; var_152 0.5984; var_153 -0.0010; var_154 -1.5011; var_155 0.3817; var_156 -1.0054; var_157 -0.8821; var_158 0.5693; var_159 0.0934; var_160 0.4801; var_161 1.0783; var_162 -1.0894; var_163 0.9046; var_164 -0.4027; var_165 -0.8120; var_166 0.6511; var_167 1.7127; var_168 -0.3418; var_169 0.4559; var_170 1.2311; var_171 1.0972; var_172 0.2659; var_173 1.0231; var_174 1.4137; var_175 -0.3998; var_176 -0.5918; var_177 1.7884; var_178 -0.7313; var_179 2.9882; var_180 -0.5489; var_181 -0.4387; var_182 -1.7412; var_183 0.1492; var_184 1.0333; var_185 -0.1852; var_186 -0.4035; var_187 -0.4859; var_188 -0.5120; var_189 -1.1300; var_190 0.9468; var_191 0.0809; var_192 0.4558; var_193 1.9104; var_194 -0.8115; var_195 1.5075; var_196 1.0583; var_197 -0.1201; var_198 0.8314; var_199 0.4983; ,var_0 -0.6898; var_1 -0.2882; var_2 0.4971; var_3 0.5336; var_4 -0.3074; var_5 -0.5170; var_6 1.7388; var_7 -0.5634; var_8 -1.5661; var_9 -1.2909; var_10 -0.1295; var_11 -1.3458; var_12 0.8992; var_13 -0.2459; var_14 -0.0050; var_15 0.1740; var_16 -0.6483; var_17 0.5880; var_18 -1.3489; var_19 0.9999; var_20 0.7640; var_21 0.1219; var_22 -1.0916; var_23 0.9415; var_24 -1.3045; var_25 -1.5756; var_26 -0.6753; var_27 -1.1585; var_28 0.4062; var_29 0.4146; var_30 -0.4271; var_31 0.9776; var_32 -0.6916; var_33 0.9950; var_34 -0.7029; var_35 0.0404; var_36 0.8126; var_37 0.4712; var_38 0.0580; var_39 0.0611; var_40 -0.8291; var_41 -1.1851; var_42 0.4415; var_43 1.5240; var_44 -0.8001; var_45 0.2287; var_46 -0.0669; var_47 0.6288; var_48 0.5207; var_49 -1.2497; var_50 0.2533; var_51 0.7412; var_52 0.6434; var_53 0.4972; var_54 0.9760; var_55 -1.1400; var_56 -0.2688; var_57 -0.5634; var_58 -0.4768; var_59 0.3005; var_60 0.1019; var_61 0.1334; var_62 -0.0024; var_63 1.6531; var_64 -1.7813; var_65 -0.5551; var_66 1.3923; var_67 -0.2946; var_68 0.5465; var_69 -0.6203; var_70 -1.8535; var_71 0.6733; var_72 1.4502; var_73 -0.9954; var_74 0.0101; var_75 0.4364; var_76 -0.1755; var_77 1.0965; var_78 0.4706; var_79 -1.2231; var_80 0.2386; var_81 0.4775; var_82 1.9746; var_83 1.1059; var_84 1.2907; var_85 0.1895; var_86 -1.2821; var_87 -0.3093; var_88 1.2866; var_89 -0.4513; var_90 -0.4524; var_91 0.6467; var_92 0.3507; var_93 -0.0803; var_94 1.1582; var_95 0.5485; var_96 0.7019; var_97 -0.1225; var_98 -0.0741; var_99 0.3676; var_100 0.6754; var_101 -0.1551; var_102 -0.8522; var_103 -0.9888; var_104 1.7929; var_105 -0.2936; var_106 -1.7165; var_107 -1.1911; var_108 -0.1517; var_109 0.4548; var_110 -0.6087; var_111 -0.5687; var_112 0.7521; var_113 -1.3259; var_114 0.0546; var_115 0.2764; var_116 -0.7385; var_117 0.9494; var_118 -1.3692; var_119 -0.2303; var_120 -0.2735; var_121 -1.3576; var_122 0.3159; var_123 -1.4862; var_124 -0.2134; var_125 -0.0804; var_126 1.2812; var_127 -1.0703; var_128 0.0493; var_129 0.3997; var_130 -0.8633; var_131 -0.9687; var_132 0.7040; var_133 -0.5175; var_134 1.4151; var_135 -0.9818; var_136 0.1531; var_137 -0.2358; var_138 0.5684; var_139 0.1362; var_140 0.8054; var_141 -0.7851; var_142 -0.3053; var_143 -1.6473; var_144 0.4958; var_145 -0.1303; var_146 0.4708; var_147 0.6686; var_148 0.4161; var_149 -0.6175; var_150 -0.9996; var_151 -0.5434; var_152 -1.0723; var_153 -1.2791; var_154 -2.4247; var_155 0.4486; var_156 1.3944; var_157 0.5356; var_158 2.0253; var_159 0.3304; var_160 -1.0152; var_161 0.9677; var_162 -0.4661; var_163 -1.0086; var_164 0.3222; var_165 0.2509; var_166 0.8625; var_167 -0.1929; var_168 0.7609; var_169 0.3725; var_170 -1.6041; var_171 -0.5753; var_172 -1.4313; var_173 -0.8697; var_174 0.7767; var_175 -0.2536; var_176 0.3291; var_177 -1.1425; var_178 -1.0051; var_179 -0.0806; var_180 -0.3028; var_181 -0.5093; var_182 -1.5577; var_183 -1.2513; var_184 1.0913; var_185 -0.2779; var_186 -1.1170; var_187 0.3479; var_188 -1.3013; var_189 -1.6268; var_190 -0.0862; var_191 0.7610; var_192 -0.1620; var_193 -0.4072; var_194 1.1552; var_195 2.2790; var_196 -1.6206; var_197 -0.6840; var_198 -0.3650; var_199 0.3493; ,var_0 0.1096; var_1 -0.1422; var_2 -0.6772; var_3 0.1928; var_4 0.9241; var_5 0.4015; var_6 0.4793; var_7 -0.4729; var_8 -1.8484; var_9 0.5579; var_10 0.3488; var_11 1.0066; var_12 -0.9050; var_13 0.7522; var_14 -0.4795; var_15 0.6345; var_16 0.5474; var_17 0.7830; var_18 0.0764; var_19 0.1565; var_20 1.1970; var_21 -0.5550; var_22 0.8599; var_23 -0.5550; var_24 0.4017; var_25 0.2389; var_26 0.7974; var_27 0.1511; var_28 0.4836; var_29 -0.8472; var_30 -0.9466; var_31 0.0305; var_32 -0.8019; var_33 -1.9695; var_34 -1.5037; var_35 -1.8876; var_36 1.9234; var_37 -1.3418; var_38 -0.3435; var_39 0.0037; var_40 0.3338; var_41 -1.7369; var_42 0.7988; var_43 -0.9154; var_44 -0.1375; var_45 -0.5545; var_46 0.4925; var_47 -2.1477; var_48 -1.2329; var_49 -1.0599; var_50 -0.0800; var_51 -0.4797; var_52 0.8559; var_53 -1.0530; var_54 0.8310; var_55 -0.0675; var_56 -0.5971; var_57 0.3990; var_58 0.0378; var_59 0.6259; var_60 0.8548; var_61 -1.1260; var_62 1.2623; var_63 -1.6178; var_64 1.5350; var_65 1.4025; var_66 -0.1599; var_67 1.5663; var_68 0.4354; var_69 -0.1701; var_70 -1.7127; var_71 -1.5818; var_72 0.1579; var_73 0.6433; var_74 -1.0669; var_75 -0.2247; var_76 0.7216; var_77 1.1985; var_78 -0.6466; var_79 0.6622; var_80 -0.6529; var_81 -1.7706; var_82 0.5932; var_83 -0.7533; var_84 0.6708; var_85 -0.0918; var_86 -1.0077; var_87 0.7637; var_88 -1.6604; var_89 1.0597; var_90 0.6729; var_91 0.3083; var_92 0.4081; var_93 0.4165; var_94 -1.3456; var_95 -1.6259; var_96 -0.3584; var_97 -0.0346; var_98 1.5106; var_99 1.4196; var_100 -1.4445; var_101 1.8418; var_102 -0.4213; var_103 -1.1737; var_104 -1.0975; var_105 0.0372; var_106 0.9237; var_107 -1.3929; var_108 0.5998; var_109 -0.9083; var_110 -0.3362; var_111 0.6021; var_112 -1.0541; var_113 0.7991; var_114 -0.5042; var_115 -1.7926; var_116 1.7864; var_117 1.6510; var_118 0.9944; var_119 0.4818; var_120 0.5025; var_121 0.0062; var_122 0.5443; var_123 -2.4690; var_124 -0.5745; var_125 -0.4599; var_126 -0.8497; var_127 -0.6944; var_128 1.4513; var_129 -0.3571; var_130 2.4389; var_131 1.1109; var_132 0.7939; var_133 0.9943; var_134 0.5834; var_135 0.8071; var_136 0.4436; var_137 0.7777; var_138 -0.8893; var_139 0.1768; var_140 0.0916; var_141 1.9490; var_142 -0.3406; var_143 -1.5267; var_144 1.4281; var_145 -0.4985; var_146 0.0801; var_147 0.9910; var_148 -1.1275; var_149 -0.2681; var_150 0.5247; var_151 1.7610; var_152 0.0069; var_153 0.7535; var_154 2.0286; var_155 -1.5374; var_156 -1.2061; var_157 0.6333; var_158 0.2626; var_159 0.5206; var_160 0.7004; var_161 1.5376; var_162 1.2887; var_163 -1.3534; var_164 -1.5118; var_165 -0.3936; var_166 -0.9928; var_167 0.1768; var_168 -1.4069; var_169 -0.7765; var_170 -1.6179; var_171 -0.9985; var_172 -0.1701; var_173 2.0582; var_174 -0.7431; var_175 -1.2268; var_176 1.9499; var_177 0.7959; var_178 -1.0946; var_179 1.0851; var_180 -0.2008; var_181 -1.2220; var_182 0.1335; var_183 -0.3342; var_184 -1.4257; var_185 0.8331; var_186 -0.3161; var_187 -0.2181; var_188 -0.7407; var_189 1.1285; var_190 0.2543; var_191 -0.8980; var_192 -0.8064; var_193 -0.4734; var_194 1.6109; var_195 -0.7938; var_196 -0.9634; var_197 1.5059; var_198 0.7042; var_199 -0.5512; ,var_0 -0.2894; var_1 0.0221; var_2 0.7952; var_3 -0.0801; var_4 0.7350; var_5 0.9445; var_6 0.5912; var_7 0.7926; var_8 1.7873; var_9 0.1010; var_10 -1.7876; var_11 -1.4924; var_12 -0.8957; var_13 -0.1222; var_14 0.1128; var_15 1.1631; var_16 -0.3327; var_17 0.3902; var_18 -1.1175; var_19 -0.1446; var_20 1.3881; var_21 0.2217; var_22 2.0053; var_23 -0.5715; var_24 0.9493; var_25 -0.4373; var_26 1.1920; var_27 -1.4466; var_28 0.4766; var_29 1.0988; var_30 0.5704; var_31 -0.4205; var_32 0.1870; var_33 1.0599; var_34 1.7988; var_35 -0.6281; var_36 0.2036; var_37 -0.0245; var_38 2.0243; var_39 0.1948; var_40 0.1217; var_41 0.8035; var_42 1.0001; var_43 -0.1818; var_44 -0.3288; var_45 -2.4592; var_46 0.8859; var_47 1.1798; var_48 -1.3115; var_49 -0.2935; var_50 0.8488; var_51 -0.3659; var_52 0.2107; var_53 -0.3452; var_54 -1.1431; var_55 0.2398; var_56 0.1098; var_57 -0.1090; var_58 -0.2783; var_59 0.3232; var_60 -0.8285; var_61 -1.3600; var_62 -0.6774; var_63 -0.7811; var_64 -0.7382; var_65 -1.4057; var_66 1.0536; var_67 -1.4088; var_68 1.5606; var_69 0.0206; var_70 1.3028; var_71 0.3800; var_72 -0.3427; var_73 -2.0100; var_74 -1.7090; var_75 1.0781; var_76 -0.6098; var_77 0.0287; var_78 0.8969; var_79 -0.0095; var_80 -0.3629; var_81 -0.5732; var_82 -0.6879; var_83 -0.9237; var_84 1.6825; var_85 -0.9731; var_86 0.1973; var_87 1.5633; var_88 -0.2754; var_89 0.0100; var_90 -1.7736; var_91 0.1134; var_92 -0.7907; var_93 -0.2201; var_94 1.0840; var_95 0.1587; var_96 0.0361; var_97 1.3207; var_98 -0.0932; var_99 0.7396; var_100 -1.7786; var_101 -0.2107; var_102 -0.5684; var_103 0.6796; var_104 -2.2189; var_105 1.0970; var_106 0.0996; var_107 -0.9244; var_108 -0.8060; var_109 2.2542; var_110 -1.4957; var_111 -0.3274; var_112 -1.4157; var_113 -0.0282; var_114 -0.1629; var_115 -2.1979; var_116 -0.5578; var_117 0.7177; var_118 2.1565; var_119 0.3983; var_120 1.3722; var_121 0.8270; var_122 0.8016; var_123 0.4405; var_124 -0.1244; var_125 -1.1253; var_126 -0.8003; var_127 1.9851; var_128 2.0851; var_129 -1.0918; var_130 -1.0014; var_131 0.8826; var_132 -0.0251; var_133 -0.5328; var_134 -0.3290; var_135 1.3974; var_136 -0.5564; var_137 0.9132; var_138 0.3179; var_139 0.8171; var_140 0.6514; var_141 -1.0751; var_142 -0.0422; var_143 1.2857; var_144 -1.0443; var_145 1.0955; var_146 0.4997; var_147 -1.2747; var_148 -1.1469; var_149 0.4560; var_150 1.3537; var_151 -2.2298; var_152 -0.5914; var_153 1.5364; var_154 -0.4441; var_155 2.1789; var_156 -0.2103; var_157 -1.4024; var_158 1.1638; var_159 -0.5206; var_160 0.8499; var_161 0.2843; var_162 0.0658; var_163 1.3555; var_164 1.7128; var_165 0.3995; var_166 0.7320; var_167 0.2951; var_168 -0.5838; var_169 -0.2133; var_170 0.3134; var_171 -0.3435; var_172 0.0101; var_173 0.4983; var_174 -0.2260; var_175 1.6143; var_176 -0.0745; var_177 0.6332; var_178 0.3236; var_179 0.9005; var_180 -0.9463; var_181 -0.2344; var_182 0.4672; var_183 0.7736; var_184 -0.1096; var_185 -0.8266; var_186 -0.7895; var_187 1.3998; var_188 0.1708; var_189 -1.0545; var_190 -1.0450; var_191 0.6726; var_192 -1.3939; var_193 1.4708; var_194 -1.4941; var_195 -0.9620; var_196 0.2902; var_197 0.6524; var_198 0.7133; var_199 -0.5331; \n",
       "y: CategoryList\n",
       "0,0,0,0,0\n",
       "Path: /home/jd/data/santander;\n",
       "\n",
       "Valid: LabelList (20199 items)\n",
       "x: TabularList\n",
       "var_0 1.7554; var_1 0.9873; var_2 1.1916; var_3 -0.5714; var_4 -1.4029; var_5 1.4152; var_6 -1.1140; var_7 -1.8592; var_8 -1.0470; var_9 1.2335; var_10 0.1022; var_11 0.8375; var_12 0.2355; var_13 -2.4679; var_14 1.6128; var_15 0.7278; var_16 0.2605; var_17 -0.4854; var_18 -1.4587; var_19 -1.4511; var_20 -0.4369; var_21 -1.3052; var_22 0.7686; var_23 -0.7532; var_24 0.6963; var_25 0.4353; var_26 -1.7617; var_27 -0.9210; var_28 0.5479; var_29 -0.9819; var_30 -0.4311; var_31 0.0629; var_32 -0.2174; var_33 1.0611; var_34 1.5856; var_35 -1.2914; var_36 1.5234; var_37 -0.3214; var_38 0.9545; var_39 0.7652; var_40 0.1764; var_41 1.5269; var_42 0.6328; var_43 0.6564; var_44 1.3701; var_45 1.3662; var_46 1.5890; var_47 -1.8282; var_48 1.8890; var_49 -1.6653; var_50 -0.3718; var_51 0.9876; var_52 1.3270; var_53 1.7754; var_54 0.6145; var_55 -1.7037; var_56 -1.3967; var_57 0.2612; var_58 1.5894; var_59 0.2430; var_60 0.2715; var_61 -0.5300; var_62 -0.5209; var_63 -0.3363; var_64 0.2842; var_65 0.5072; var_66 -1.4857; var_67 -1.1275; var_68 -0.4398; var_69 1.2091; var_70 -0.5016; var_71 1.6747; var_72 -0.8892; var_73 -0.9114; var_74 1.6217; var_75 0.2645; var_76 1.2920; var_77 -0.2567; var_78 1.0402; var_79 0.2355; var_80 -0.7188; var_81 0.0811; var_82 1.3152; var_83 -0.0691; var_84 0.3215; var_85 -1.6150; var_86 -0.9489; var_87 0.8631; var_88 -1.6869; var_89 -0.4585; var_90 0.4910; var_91 -1.5215; var_92 0.7976; var_93 0.1075; var_94 1.7613; var_95 0.7256; var_96 -1.1447; var_97 0.8896; var_98 -0.0102; var_99 0.1662; var_100 -0.0039; var_101 -0.2049; var_102 -0.7522; var_103 1.6192; var_104 -0.6102; var_105 0.4484; var_106 1.3960; var_107 0.8173; var_108 0.8252; var_109 0.7173; var_110 0.7634; var_111 -0.5547; var_112 -0.2130; var_113 0.2636; var_114 -1.1015; var_115 0.3037; var_116 -1.1565; var_117 -1.3325; var_118 0.6175; var_119 0.0255; var_120 -0.0341; var_121 1.4393; var_122 -0.0867; var_123 1.1179; var_124 1.1202; var_125 1.1719; var_126 -0.6022; var_127 -1.0568; var_128 -0.3684; var_129 0.5863; var_130 -2.1688; var_131 1.2436; var_132 0.9701; var_133 0.1459; var_134 -0.2289; var_135 -1.6009; var_136 0.3970; var_137 0.3863; var_138 1.3545; var_139 -0.4007; var_140 -0.9037; var_141 -0.7525; var_142 -0.6111; var_143 -0.3400; var_144 -0.9678; var_145 2.4236; var_146 -0.4044; var_147 -0.2759; var_148 0.3041; var_149 2.0598; var_150 -1.7855; var_151 -0.9770; var_152 0.5859; var_153 -0.5000; var_154 -0.2930; var_155 0.5451; var_156 1.7795; var_157 -1.7008; var_158 1.6365; var_159 -0.0042; var_160 0.5893; var_161 0.7134; var_162 -0.8807; var_163 -0.3593; var_164 -0.4483; var_165 -0.9489; var_166 -0.7210; var_167 -0.6950; var_168 -1.0277; var_169 0.7307; var_170 0.7027; var_171 -0.1808; var_172 -1.7008; var_173 0.7003; var_174 1.7821; var_175 0.4713; var_176 0.0400; var_177 -0.2873; var_178 0.9918; var_179 -1.6876; var_180 -0.2316; var_181 -1.7189; var_182 -1.3500; var_183 -1.4937; var_184 -1.5678; var_185 0.8430; var_186 0.8009; var_187 -0.6917; var_188 -0.5568; var_189 -0.0466; var_190 -0.4081; var_191 2.3916; var_192 -0.1829; var_193 -0.4742; var_194 -1.0006; var_195 -1.2976; var_196 -0.6243; var_197 -0.7597; var_198 1.2118; var_199 0.7756; ,var_0 -2.2121; var_1 1.0398; var_2 0.9786; var_3 0.0431; var_4 0.7371; var_5 -1.4140; var_6 0.3134; var_7 -0.6097; var_8 -1.3847; var_9 -0.3421; var_10 -1.3609; var_11 0.8265; var_12 0.6478; var_13 -0.6899; var_14 -1.1004; var_15 0.1701; var_16 -0.8104; var_17 -1.4406; var_18 1.1922; var_19 0.6460; var_20 -0.2878; var_21 -0.6884; var_22 -1.3233; var_23 -1.2806; var_24 -0.5947; var_25 1.8877; var_26 -0.6392; var_27 -0.5782; var_28 1.1364; var_29 -0.5531; var_30 -0.6385; var_31 0.3797; var_32 0.7003; var_33 -0.1705; var_34 -1.2014; var_35 0.6016; var_36 -0.1613; var_37 0.1001; var_38 -0.7181; var_39 -1.2911; var_40 -1.3342; var_41 -1.1543; var_42 -1.6033; var_43 1.5414; var_44 -0.9352; var_45 -0.9914; var_46 0.5805; var_47 -1.2638; var_48 -0.0117; var_49 1.4432; var_50 0.9300; var_51 0.4057; var_52 1.9258; var_53 0.4560; var_54 -0.0864; var_55 0.1232; var_56 -0.7386; var_57 -0.4882; var_58 0.2863; var_59 0.3256; var_60 -0.5226; var_61 -0.9335; var_62 0.5323; var_63 -0.6006; var_64 1.6115; var_65 0.0947; var_66 -1.2003; var_67 0.3055; var_68 -1.4401; var_69 -0.6212; var_70 -1.1041; var_71 1.1997; var_72 -0.2121; var_73 -1.5216; var_74 -2.2220; var_75 0.4403; var_76 0.3088; var_77 0.7365; var_78 0.0570; var_79 0.2498; var_80 -0.6206; var_81 0.2869; var_82 0.5460; var_83 -0.3609; var_84 0.3438; var_85 1.4224; var_86 0.0970; var_87 1.3356; var_88 -0.8577; var_89 0.2704; var_90 0.3045; var_91 -1.3409; var_92 -0.6067; var_93 -2.6678; var_94 2.2738; var_95 -0.1535; var_96 -1.4723; var_97 -1.8281; var_98 1.6165; var_99 1.0983; var_100 -0.1963; var_101 0.7897; var_102 -0.7899; var_103 0.6682; var_104 -0.7681; var_105 0.5051; var_106 -2.5881; var_107 -0.9853; var_108 -0.1284; var_109 1.1841; var_110 -1.2760; var_111 -1.1760; var_112 -0.7622; var_113 -1.6513; var_114 1.5724; var_115 -1.1718; var_116 -0.2059; var_117 0.6405; var_118 -0.7398; var_119 0.4605; var_120 1.2994; var_121 0.3534; var_122 -0.9123; var_123 0.6388; var_124 -0.7590; var_125 0.5497; var_126 -0.3635; var_127 -0.3992; var_128 -1.9356; var_129 -0.2882; var_130 0.2331; var_131 -0.2583; var_132 -0.7850; var_133 0.5033; var_134 -0.1866; var_135 1.0822; var_136 -1.4477; var_137 -0.2599; var_138 -0.0879; var_139 -0.4482; var_140 0.0372; var_141 -0.8631; var_142 1.6330; var_143 -0.4865; var_144 -0.0300; var_145 1.5148; var_146 -0.5316; var_147 -0.8925; var_148 -1.4615; var_149 0.2921; var_150 0.4412; var_151 0.0602; var_152 -0.4165; var_153 -1.4826; var_154 -0.7497; var_155 -0.5705; var_156 -0.7201; var_157 -0.3866; var_158 -2.1379; var_159 -1.7219; var_160 -0.6024; var_161 -0.6463; var_162 -0.5087; var_163 -0.1487; var_164 0.8694; var_165 -1.5515; var_166 -2.4469; var_167 1.2402; var_168 0.4410; var_169 1.0490; var_170 1.7751; var_171 0.2906; var_172 -1.2893; var_173 -1.5618; var_174 0.1113; var_175 -1.1338; var_176 1.1063; var_177 -1.2463; var_178 1.2898; var_179 -0.4048; var_180 0.8033; var_181 -0.7120; var_182 -0.5750; var_183 -0.3168; var_184 -0.9236; var_185 1.2969; var_186 0.1680; var_187 1.0979; var_188 0.6114; var_189 -0.9103; var_190 -1.4657; var_191 -2.1670; var_192 -2.6353; var_193 0.1692; var_194 1.4293; var_195 0.4483; var_196 0.7658; var_197 -0.6598; var_198 -0.9611; var_199 -0.1601; ,var_0 -0.7516; var_1 -0.0589; var_2 -0.9896; var_3 -0.6874; var_4 -0.8389; var_5 -1.6266; var_6 -1.5211; var_7 -0.3673; var_8 0.4790; var_9 -0.3682; var_10 -1.7114; var_11 -1.6577; var_12 -0.2502; var_13 0.2747; var_14 0.1696; var_15 0.0463; var_16 -0.1419; var_17 1.9010; var_18 0.2503; var_19 -1.5777; var_20 -0.3624; var_21 0.7387; var_22 -1.1806; var_23 -1.7094; var_24 0.5287; var_25 -0.1653; var_26 -0.8777; var_27 -1.0090; var_28 0.6436; var_29 -1.3578; var_30 0.5273; var_31 0.1201; var_32 -2.4109; var_33 0.4116; var_34 0.2151; var_35 1.2656; var_36 -0.3063; var_37 1.6905; var_38 -1.3329; var_39 -0.2585; var_40 -0.7616; var_41 0.1536; var_42 -2.3518; var_43 0.6590; var_44 2.1184; var_45 0.3775; var_46 -1.3996; var_47 1.6550; var_48 0.1513; var_49 -0.2835; var_50 0.4462; var_51 0.7016; var_52 -0.1284; var_53 0.0453; var_54 -0.2591; var_55 -1.5111; var_56 0.6577; var_57 -2.2775; var_58 -0.1380; var_59 -2.2581; var_60 -1.0602; var_61 1.7669; var_62 0.7252; var_63 0.6729; var_64 -1.7610; var_65 0.7220; var_66 0.5039; var_67 0.0674; var_68 0.7271; var_69 -1.3644; var_70 1.0647; var_71 0.0822; var_72 0.7596; var_73 0.6123; var_74 0.1246; var_75 -0.9388; var_76 0.2746; var_77 1.5468; var_78 0.0467; var_79 0.8553; var_80 -1.9315; var_81 1.1029; var_82 -0.7155; var_83 -0.0324; var_84 0.7111; var_85 -0.0006; var_86 0.6921; var_87 -0.8233; var_88 0.0248; var_89 1.5749; var_90 0.5670; var_91 -1.7568; var_92 -0.9028; var_93 -2.1871; var_94 -0.4219; var_95 0.0493; var_96 -0.5887; var_97 -0.3293; var_98 -0.2343; var_99 -1.3377; var_100 -0.9779; var_101 0.5378; var_102 0.4437; var_103 -0.7310; var_104 0.2440; var_105 -0.4314; var_106 -1.3141; var_107 0.8603; var_108 0.9973; var_109 -0.5606; var_110 -1.2855; var_111 0.5940; var_112 -0.5835; var_113 -1.0732; var_114 0.8103; var_115 0.0062; var_116 0.0225; var_117 -0.0444; var_118 -0.4590; var_119 -0.2746; var_120 0.6551; var_121 -0.2511; var_122 0.4279; var_123 0.4192; var_124 -0.8573; var_125 -0.0991; var_126 -0.6579; var_127 -0.9692; var_128 -1.5899; var_129 -0.6135; var_130 0.6780; var_131 0.7042; var_132 -0.3426; var_133 -0.6749; var_134 0.8051; var_135 1.7985; var_136 -0.1495; var_137 1.5405; var_138 -0.7641; var_139 -0.2783; var_140 0.5189; var_141 0.8456; var_142 -0.3243; var_143 1.2781; var_144 0.5284; var_145 0.0572; var_146 -1.5612; var_147 0.6688; var_148 -0.8149; var_149 1.4978; var_150 -1.3842; var_151 0.6432; var_152 -0.8889; var_153 0.8202; var_154 1.1158; var_155 0.5699; var_156 -1.7311; var_157 0.7773; var_158 0.8689; var_159 -0.7678; var_160 1.4978; var_161 -1.0433; var_162 -1.9219; var_163 0.0024; var_164 -1.4190; var_165 -1.8260; var_166 -0.5682; var_167 0.6416; var_168 -1.0699; var_169 -0.1230; var_170 0.8079; var_171 -0.4919; var_172 -0.6976; var_173 -2.4542; var_174 -1.3901; var_175 -1.9136; var_176 1.0777; var_177 1.6510; var_178 -1.0794; var_179 -1.6470; var_180 0.4186; var_181 -0.2719; var_182 -0.6396; var_183 -0.1177; var_184 -0.3733; var_185 1.6905; var_186 1.5211; var_187 1.4800; var_188 1.0523; var_189 0.2429; var_190 0.9019; var_191 1.2596; var_192 1.2721; var_193 -0.8217; var_194 -0.5360; var_195 0.1934; var_196 1.2107; var_197 0.6015; var_198 1.1917; var_199 -0.1910; ,var_0 0.0858; var_1 0.7424; var_2 -0.8413; var_3 1.4513; var_4 0.9120; var_5 -0.2630; var_6 -0.3581; var_7 0.1386; var_8 1.1148; var_9 -0.0813; var_10 0.1188; var_11 0.1723; var_12 -0.8421; var_13 -0.3028; var_14 -0.4203; var_15 -1.7033; var_16 -0.9524; var_17 -0.1304; var_18 0.1783; var_19 0.2871; var_20 0.5493; var_21 -0.5595; var_22 -0.5721; var_23 1.4727; var_24 1.8810; var_25 -1.3403; var_26 0.9764; var_27 0.6806; var_28 -0.2355; var_29 0.5936; var_30 0.5163; var_31 -0.6708; var_32 0.4111; var_33 -0.0577; var_34 0.3290; var_35 -0.4243; var_36 -0.8787; var_37 -0.4913; var_38 -0.5027; var_39 -0.0726; var_40 -0.6960; var_41 -1.0448; var_42 0.1879; var_43 1.4589; var_44 0.5014; var_45 0.7205; var_46 0.3741; var_47 0.8650; var_48 -1.2021; var_49 -0.6282; var_50 -1.4659; var_51 -1.5960; var_52 -0.8328; var_53 0.6514; var_54 -1.6975; var_55 1.1348; var_56 0.5133; var_57 -0.5689; var_58 -0.0238; var_59 -1.9274; var_60 0.6564; var_61 -1.6014; var_62 -0.4147; var_63 0.5598; var_64 -1.0442; var_65 1.9986; var_66 0.9661; var_67 1.1584; var_68 -0.6065; var_69 -0.6580; var_70 -0.2481; var_71 0.8752; var_72 -0.1605; var_73 1.3450; var_74 -0.0257; var_75 -0.7872; var_76 0.0121; var_77 0.0995; var_78 0.5702; var_79 0.0882; var_80 0.9313; var_81 0.9128; var_82 -0.6008; var_83 -0.7340; var_84 -1.6401; var_85 0.4887; var_86 0.0288; var_87 -0.2226; var_88 0.2997; var_89 0.5141; var_90 0.5458; var_91 -0.8644; var_92 -0.6984; var_93 -0.6170; var_94 0.8690; var_95 -0.7252; var_96 1.1006; var_97 -0.1827; var_98 1.7257; var_99 -0.7700; var_100 1.0838; var_101 0.6272; var_102 1.1264; var_103 0.2038; var_104 -0.2093; var_105 1.3386; var_106 -0.4205; var_107 -0.6113; var_108 -0.6549; var_109 0.4259; var_110 -0.5380; var_111 1.4536; var_112 1.5540; var_113 1.5673; var_114 0.2610; var_115 -0.7840; var_116 0.5239; var_117 1.0712; var_118 2.1400; var_119 0.0221; var_120 -0.1539; var_121 0.2935; var_122 0.3619; var_123 1.2898; var_124 0.3764; var_125 0.3443; var_126 1.1178; var_127 -0.3499; var_128 -0.6641; var_129 0.4438; var_130 0.5887; var_131 -1.2271; var_132 0.2249; var_133 -1.0233; var_134 -0.8820; var_135 -0.1533; var_136 -1.4698; var_137 -0.1045; var_138 -0.0420; var_139 1.5890; var_140 -1.0675; var_141 -0.4003; var_142 0.4545; var_143 0.1883; var_144 0.1169; var_145 -0.7457; var_146 0.3341; var_147 -0.8149; var_148 0.1642; var_149 -0.0939; var_150 -0.6014; var_151 0.9088; var_152 -1.4861; var_153 0.6305; var_154 0.3815; var_155 0.6824; var_156 0.7431; var_157 -1.4728; var_158 -1.8568; var_159 0.2936; var_160 0.6434; var_161 -1.2939; var_162 1.4520; var_163 1.7418; var_164 0.7516; var_165 -0.8885; var_166 0.1718; var_167 0.7565; var_168 2.0279; var_169 -0.2225; var_170 1.5134; var_171 0.8254; var_172 -0.2517; var_173 0.4621; var_174 1.7425; var_175 -0.4881; var_176 0.9095; var_177 1.4018; var_178 0.1535; var_179 1.9637; var_180 -0.6731; var_181 0.5532; var_182 0.4921; var_183 1.4387; var_184 -0.1717; var_185 -0.4263; var_186 -0.3743; var_187 0.0367; var_188 -0.6894; var_189 -1.2262; var_190 -0.4407; var_191 -1.3729; var_192 -0.6372; var_193 0.2333; var_194 -0.2924; var_195 0.1870; var_196 0.0710; var_197 -0.6281; var_198 0.7014; var_199 -1.9075; ,var_0 -0.0158; var_1 0.9850; var_2 0.9671; var_3 0.1462; var_4 -1.6552; var_5 0.1554; var_6 -1.8660; var_7 0.9952; var_8 0.5236; var_9 1.8616; var_10 0.8474; var_11 0.6922; var_12 0.3381; var_13 -1.0694; var_14 -0.4110; var_15 -0.7631; var_16 -1.4769; var_17 -1.0141; var_18 -0.1881; var_19 0.4638; var_20 -0.1068; var_21 -1.9014; var_22 -2.2230; var_23 0.8499; var_24 -0.4161; var_25 -0.7778; var_26 1.0676; var_27 1.2934; var_28 -0.6939; var_29 0.8589; var_30 -0.0669; var_31 -1.3769; var_32 -1.8028; var_33 -0.4349; var_34 0.6013; var_35 1.0447; var_36 -0.4259; var_37 0.9414; var_38 -0.9068; var_39 -0.4118; var_40 1.5626; var_41 0.7427; var_42 -0.3913; var_43 1.9247; var_44 0.6672; var_45 -0.0282; var_46 -1.1666; var_47 -1.1252; var_48 1.0899; var_49 1.3372; var_50 1.4290; var_51 0.4605; var_52 -0.1205; var_53 0.3613; var_54 -1.0479; var_55 -0.9738; var_56 0.1023; var_57 -1.1142; var_58 1.2445; var_59 -0.8150; var_60 0.7668; var_61 0.5735; var_62 0.9715; var_63 -0.5073; var_64 1.2435; var_65 -1.7877; var_66 0.0897; var_67 -0.8827; var_68 -0.5510; var_69 -1.1296; var_70 0.3961; var_71 -0.7936; var_72 -1.2029; var_73 -0.4280; var_74 -0.3620; var_75 0.6461; var_76 0.6650; var_77 -1.1671; var_78 -1.4277; var_79 -0.5380; var_80 1.0105; var_81 1.5057; var_82 -0.1745; var_83 0.6491; var_84 -0.1965; var_85 1.0635; var_86 -0.2692; var_87 -0.3898; var_88 -2.2945; var_89 0.2496; var_90 0.7848; var_91 -0.3207; var_92 -0.6968; var_93 -0.7010; var_94 -0.2893; var_95 1.1950; var_96 0.2732; var_97 -2.0058; var_98 1.8318; var_99 -1.9302; var_100 -0.4713; var_101 0.0055; var_102 0.5190; var_103 0.4190; var_104 0.8052; var_105 0.1730; var_106 0.3527; var_107 1.3388; var_108 0.1499; var_109 0.2326; var_110 0.8209; var_111 1.2089; var_112 -0.9071; var_113 -1.3051; var_114 0.1902; var_115 -0.4207; var_116 0.6833; var_117 0.6103; var_118 0.1603; var_119 -0.9755; var_120 -0.1128; var_121 -0.4034; var_122 -0.2370; var_123 1.7853; var_124 -0.3911; var_125 -1.0956; var_126 -1.1123; var_127 -1.7702; var_128 -0.0466; var_129 -0.2261; var_130 -0.0810; var_131 -0.6741; var_132 -1.0058; var_133 -0.3928; var_134 -1.7014; var_135 0.2147; var_136 -2.2373; var_137 -0.5055; var_138 1.5594; var_139 0.0296; var_140 -0.3268; var_141 -1.9021; var_142 -0.4910; var_143 1.3999; var_144 0.1235; var_145 1.0040; var_146 0.3656; var_147 -0.4473; var_148 -0.6671; var_149 -1.7004; var_150 -0.6509; var_151 0.0013; var_152 -0.5258; var_153 -0.2615; var_154 -1.6873; var_155 0.4434; var_156 -0.3388; var_157 -0.8684; var_158 -0.2291; var_159 -1.3634; var_160 -0.9770; var_161 1.7639; var_162 -0.2240; var_163 -1.0599; var_164 0.0610; var_165 0.4786; var_166 -2.3182; var_167 0.8251; var_168 -0.6968; var_169 0.5514; var_170 -0.3192; var_171 -0.0444; var_172 -0.0656; var_173 -0.0909; var_174 0.6067; var_175 0.0524; var_176 -1.2018; var_177 -0.2967; var_178 -0.0285; var_179 -0.2606; var_180 0.6113; var_181 0.7389; var_182 -0.9744; var_183 1.6191; var_184 0.2199; var_185 1.0292; var_186 1.2965; var_187 -0.9967; var_188 -0.8485; var_189 -0.6152; var_190 0.8568; var_191 0.0476; var_192 -0.3943; var_193 -0.0419; var_194 -2.0721; var_195 -0.6337; var_196 -0.9308; var_197 1.3771; var_198 0.0531; var_199 1.2968; \n",
       "y: CategoryList\n",
       "0,0,0,0,0\n",
       "Path: /home/jd/data/santander;\n",
       "\n",
       "Test: LabelList (200000 items)\n",
       "x: TabularList\n",
       "var_0 -3.4612; var_1 0.9521; var_2 -3.7282; var_3 -2.6972; var_4 -6.6840; var_5 0.6763; var_6 -5.6539; var_7 -4.6908; var_8 0.0733; var_9 -5.2739; var_10 -0.1502; var_11 0.5050; var_12 -74.3536; var_13 -2.1854; var_14 -3.3484; var_15 -35.7705; var_16 -3.8931; var_17 0.5498; var_18 -1.9411; var_19 -1.5003; var_20 -2.5328; var_21 -2.0538; var_22 -1.8489; var_23 -5.5316; var_24 -3.0953; var_25 -42.2763; var_26 0.5066; var_27 0.2913; var_28 -6.7448; var_29 -2.1180; var_30 1.0600; var_31 -5.0430; var_32 0.5707; var_33 -3.4973; var_34 -21.3248; var_35 -0.5927; var_36 -0.9155; var_37 -3.0699; var_38 -2.5350; var_39 0.3287; var_40 0.6634; var_41 -1.2914; var_42 -15.9870; var_43 -34.4767; var_44 -1.3615; var_45 0.5560; var_46 -3.8588; var_47 1.3650; var_48 -1.2813; var_49 -2.1215; var_50 -17.7139; var_51 -1.6280; var_52 0.4036; var_53 -5.6204; var_54 -0.1521; var_55 -2.1241; var_56 -4.4511; var_57 -7.6557; var_58 -1.1929; var_59 -9.8900; var_60 -2.8879; var_61 1.0869; var_62 -0.8340; var_63 -0.1862; var_64 -4.0260; var_65 -0.1319; var_66 -5.0251; var_67 -1.5280; var_68 -820.0759; var_69 0.9602; var_70 -1.9893; var_71 -0.7005; var_72 -0.5060; var_73 -2.4331; var_74 -1.3514; var_75 -2.6258; var_76 -0.7163; var_77 -5.3295; var_78 -3.2453; var_79 -9.2403; var_80 -0.6898; var_81 -5.8803; var_82 0.6509; var_83 0.0128; var_84 0.4547; var_85 -4.5455; var_86 -0.7228; var_87 -1.7075; var_88 -2.7646; var_89 -0.7249; var_90 1.2998; var_91 -41.5528; var_92 -2.8738; var_93 -20.6818; var_94 -4.6229; var_95 -1.1572; var_96 -1.8092; var_97 -1.3955; var_98 -1.7151; var_99 1.1127; var_100 0.6872; var_101 -2.5441; var_102 -2.4570; var_103 -10.7150; var_104 -5.4740; var_105 -5.9848; var_106 -4.6347; var_107 -2.4204; var_108 -89.5699; var_109 -4.3695; var_110 -1.5673; var_111 -6.0557; var_112 -1.6563; var_113 -1.5131; var_114 -4.1121; var_115 -0.9165; var_116 -1.1423; var_117 -1.3025; var_118 0.5705; var_119 -0.4253; var_120 -1.9003; var_121 -6.5245; var_122 -0.2449; var_123 -1.0715; var_124 -2.0023; var_125 -39.0963; var_126 -15.4756; var_127 0.0657; var_128 0.0242; var_129 -3.6624; var_130 -14.2870; var_131 0.6347; var_132 -4.0147; var_133 -13.1583; var_134 0.7939; var_135 0.6148; var_136 -2.3245; var_137 -1.9852; var_138 -0.6431; var_139 -1.1483; var_140 -1.0601; var_141 -0.5317; var_142 -1.8547; var_143 -4.1064; var_144 -8.6907; var_145 -1.3681; var_146 -3.8332; var_147 0.2791; var_148 -17.0285; var_149 -0.4945; var_150 -6.4789; var_151 -2.5742; var_152 -2.5461; var_153 -8.7287; var_154 -0.9017; var_155 0.4414; var_156 -15.2222; var_157 0.8585; var_158 -2.2975; var_159 -2.4358; var_160 -2.3832; var_161 -30.5282; var_162 -4.5316; var_163 -2.2786; var_164 0.3188; var_165 -3.6597; var_166 -10.8608; var_167 0.5841; var_168 -1.6503; var_169 -18.4288; var_170 0.2000; var_171 0.2366; var_172 -2.1412; var_173 0.3557; var_174 -2.8312; var_175 -3.9489; var_176 0.4074; var_177 -4.7314; var_178 0.0628; var_179 -0.9723; var_180 0.4438; var_181 -7.1863; var_182 -0.2797; var_183 -2.1948; var_184 -1.1650; var_185 0.9700; var_186 -2.7654; var_187 0.7897; var_188 -4.0092; var_189 0.1918; var_190 -0.9794; var_191 -1.9846; var_192 -2.8202; var_193 -0.8829; var_194 -6.1600; var_195 1.3509; var_196 -0.3603; var_197 -7.4969; var_198 -5.2508; var_199 0.2610; ,var_0 -3.7309; var_1 0.5577; var_2 -3.9605; var_3 -3.7116; var_4 -7.5297; var_5 0.6501; var_6 -5.4306; var_7 -4.6596; var_8 -0.5152; var_9 -7.1184; var_10 -0.1289; var_11 0.6175; var_12 -70.4704; var_13 -2.0834; var_14 -3.7519; var_15 -37.6199; var_16 -3.9971; var_17 1.0765; var_18 -1.7228; var_19 -1.7513; var_20 -2.2886; var_21 -2.2843; var_22 -1.4044; var_23 -7.8329; var_24 -2.4143; var_25 -49.8167; var_26 0.6256; var_27 -0.3422; var_28 -6.7491; var_29 -2.2333; var_30 0.9233; var_31 -4.5649; var_32 0.1200; var_33 -3.3609; var_34 -23.6815; var_35 -0.8609; var_36 -0.2202; var_37 -3.3048; var_38 -2.3663; var_39 -0.2926; var_40 1.0332; var_41 -1.7366; var_42 -17.4572; var_43 -35.2011; var_44 -1.6767; var_45 0.5359; var_46 -3.6932; var_47 1.1314; var_48 -1.3646; var_49 -2.1906; var_50 -20.5513; var_51 -1.4654; var_52 0.6608; var_53 -6.4143; var_54 -0.0216; var_55 -2.1306; var_56 -4.2612; var_57 -6.8302; var_58 -0.8122; var_59 -9.6195; var_60 -3.2561; var_61 0.9750; var_62 -0.3221; var_63 -0.4549; var_64 -4.5185; var_65 -0.1170; var_66 -6.2470; var_67 -1.5552; var_68 -470.7702; var_69 0.5836; var_70 -2.1365; var_71 -2.1403; var_72 -0.2489; var_73 -2.5899; var_74 -1.4520; var_75 -2.7211; var_76 -0.7221; var_77 -4.7773; var_78 -2.4342; var_79 -11.7330; var_80 -0.8232; var_81 -6.4076; var_82 0.5424; var_83 0.0120; var_84 0.1811; var_85 -4.5460; var_86 -0.6455; var_87 -2.0423; var_88 -3.5728; var_89 -1.1409; var_90 1.2435; var_91 -37.2439; var_92 -2.8672; var_93 -18.9722; var_94 -4.6134; var_95 1.1941; var_96 -1.7461; var_97 -1.3986; var_98 -1.9588; var_99 0.1834; var_100 0.7761; var_101 -2.6188; var_102 -2.3949; var_103 -5.8863; var_104 -5.4210; var_105 -6.9547; var_106 -5.1285; var_107 -2.5458; var_108 -97.0439; var_109 -4.2316; var_110 -1.7034; var_111 -6.4573; var_112 -1.9571; var_113 -1.7738; var_114 -2.0446; var_115 -0.9856; var_116 -1.5801; var_117 -1.2559; var_118 0.5679; var_119 -0.8893; var_120 -2.0704; var_121 -6.4386; var_122 -0.1458; var_123 -1.0949; var_124 -1.3803; var_125 -43.8327; var_126 -15.2879; var_127 -0.9641; var_128 -0.0924; var_129 -4.1152; var_130 -16.4046; var_131 -1.5749; var_132 -4.3905; var_133 -16.1282; var_134 0.9739; var_135 0.7683; var_136 -2.2758; var_137 -2.1476; var_138 -0.1552; var_139 -0.9941; var_140 -0.3826; var_141 -0.1459; var_142 -2.3967; var_143 -4.6671; var_144 -8.8732; var_145 -1.8991; var_146 -4.2836; var_147 0.4486; var_148 -16.4760; var_149 -0.6659; var_150 -6.4836; var_151 -2.6064; var_152 -3.2073; var_153 -8.4663; var_154 -1.3526; var_155 0.4517; var_156 -11.9888; var_157 1.1099; var_158 -2.3707; var_159 -2.2480; var_160 -2.1719; var_161 -25.0315; var_162 -4.6020; var_163 -2.0175; var_164 0.2506; var_165 -3.9506; var_166 -6.0628; var_167 0.7365; var_168 -1.3709; var_169 -16.9234; var_170 -0.0536; var_171 -0.1030; var_172 -2.1302; var_173 -0.0372; var_174 -2.9786; var_175 -4.2675; var_176 0.4109; var_177 -5.0267; var_178 0.0790; var_179 -0.6070; var_180 0.6209; var_181 -6.3317; var_182 -0.2161; var_183 -2.1010; var_184 -1.2354; var_185 0.6260; var_186 -2.5167; var_187 0.9003; var_188 -3.8405; var_189 -0.5191; var_190 -0.3719; var_191 -2.3103; var_192 -1.7356; var_193 -0.4026; var_194 -5.9707; var_195 0.3860; var_196 -0.5559; var_197 -8.4897; var_198 -4.8544; var_199 0.1484; ,var_0 -4.0550; var_1 -0.1441; var_2 -4.1246; var_3 -3.2664; var_4 -7.1266; var_5 0.8721; var_6 -6.9052; var_7 -4.5208; var_8 0.0184; var_9 -5.5769; var_10 -0.2388; var_11 0.5417; var_12 -82.3340; var_13 -2.0260; var_14 -2.6940; var_15 -37.4595; var_16 -3.5611; var_17 1.0321; var_18 -1.8505; var_19 -1.4279; var_20 -2.2794; var_21 -2.1485; var_22 -1.4663; var_23 -6.5050; var_24 -3.1813; var_25 -49.0259; var_26 0.3407; var_27 1.1626; var_28 -4.2246; var_29 -2.1699; var_30 0.9441; var_31 -4.9428; var_32 0.7254; var_33 -2.9910; var_34 -19.2095; var_35 -0.5269; var_36 -0.4933; var_37 -2.7819; var_38 -2.6286; var_39 -0.1460; var_40 0.6137; var_41 -1.6774; var_42 -19.4730; var_43 -30.9077; var_44 -1.5026; var_45 0.6587; var_46 -4.1138; var_47 1.1005; var_48 -1.3469; var_49 -2.2619; var_50 -20.1261; var_51 -1.6831; var_52 0.5719; var_53 -8.4227; var_54 -0.0126; var_55 -1.8394; var_56 -4.4063; var_57 -9.1268; var_58 -1.1193; var_59 -10.9976; var_60 -3.0529; var_61 1.0714; var_62 0.0355; var_63 -0.0083; var_64 -3.0440; var_65 0.1631; var_66 -5.8386; var_67 -1.5949; var_68 -881.8316; var_69 1.3552; var_70 -2.0881; var_71 -5.8619; var_72 -0.1449; var_73 -2.3510; var_74 -1.3821; var_75 -2.7668; var_76 -0.9817; var_77 -4.9486; var_78 -2.1146; var_79 -10.3205; var_80 -0.5711; var_81 -6.3543; var_82 0.4682; var_83 -0.1383; var_84 0.4724; var_85 -4.9076; var_86 -0.8658; var_87 -1.8854; var_88 -3.7017; var_89 -1.7463; var_90 1.1458; var_91 -44.2724; var_92 -3.0296; var_93 -22.2726; var_94 -3.6761; var_95 -1.1185; var_96 -1.8109; var_97 -1.5250; var_98 -3.0252; var_99 1.0910; var_100 0.7550; var_101 -2.6719; var_102 -2.4961; var_103 -13.5882; var_104 -6.0003; var_105 -4.8924; var_106 -4.6549; var_107 -2.1751; var_108 -89.3808; var_109 -4.1413; var_110 -1.2369; var_111 -4.3087; var_112 -2.9244; var_113 -1.7767; var_114 -5.2505; var_115 -0.7968; var_116 -1.1630; var_117 -1.0889; var_118 0.6126; var_119 -1.0414; var_120 -1.9836; var_121 -6.2576; var_122 -0.0846; var_123 -1.1099; var_124 -1.8368; var_125 -37.5734; var_126 -15.1212; var_127 -0.1072; var_128 0.6748; var_129 -3.8356; var_130 -14.0481; var_131 -0.1770; var_132 -5.3386; var_133 -19.5761; var_134 0.9113; var_135 0.8438; var_136 -2.1448; var_137 -2.1233; var_138 0.1764; var_139 -1.2063; var_140 -1.0341; var_141 -0.4541; var_142 -2.3095; var_143 -4.1181; var_144 -8.5030; var_145 -1.5731; var_146 -3.8339; var_147 0.7941; var_148 -13.1061; var_149 -0.4082; var_150 -7.1887; var_151 -2.3040; var_152 -2.3293; var_153 -8.3344; var_154 -1.3731; var_155 0.3437; var_156 -14.4752; var_157 1.2404; var_158 -2.1850; var_159 -2.4679; var_160 -2.1010; var_161 -28.1800; var_162 -4.7850; var_163 -2.3288; var_164 0.5878; var_165 -4.0371; var_166 -6.7421; var_167 0.5206; var_168 -1.9706; var_169 -11.4020; var_170 -0.0166; var_171 0.2303; var_172 -2.3021; var_173 0.0367; var_174 -2.6520; var_175 -3.5198; var_176 0.2257; var_177 -3.9521; var_178 0.0107; var_179 -0.7009; var_180 0.4958; var_181 -8.1588; var_182 -0.1225; var_183 -1.7204; var_184 -1.2436; var_185 0.8662; var_186 -3.1934; var_187 0.9497; var_188 -4.1193; var_189 -0.3084; var_190 -0.9125; var_191 -2.0771; var_192 -1.2597; var_193 -0.8999; var_194 -6.2340; var_195 1.1866; var_196 -0.7440; var_197 -11.7765; var_198 -4.7713; var_199 0.1282; ,var_0 -3.7301; var_1 0.4020; var_2 -3.8595; var_3 -3.3795; var_4 -7.6627; var_5 0.7656; var_6 -6.8466; var_7 -4.4941; var_8 0.1849; var_9 -6.1533; var_10 -0.0830; var_11 0.4852; var_12 -72.1044; var_13 -1.5814; var_14 -3.1064; var_15 -34.3893; var_16 -3.5376; var_17 0.6327; var_18 -2.1574; var_19 -1.4175; var_20 -2.2195; var_21 -2.1458; var_22 -1.6816; var_23 -1.3260; var_24 -2.5837; var_25 -42.0123; var_26 0.8001; var_27 0.6542; var_28 -7.4812; var_29 -1.7088; var_30 1.1864; var_31 -4.9809; var_32 0.6148; var_33 -3.6335; var_34 -23.1117; var_35 -0.9887; var_36 -0.2888; var_37 -3.1235; var_38 -2.1644; var_39 0.3330; var_40 0.8190; var_41 -1.7982; var_42 -13.7390; var_43 -38.7536; var_44 -1.5495; var_45 0.5974; var_46 -3.6685; var_47 1.3315; var_48 -1.1720; var_49 -2.2984; var_50 -18.6395; var_51 -1.8202; var_52 0.4330; var_53 -7.4117; var_54 -0.1246; var_55 -2.2193; var_56 -4.7590; var_57 -6.9226; var_58 -0.8079; var_59 -8.9142; var_60 -2.7006; var_61 1.0827; var_62 -0.4545; var_63 -0.0155; var_64 -3.4751; var_65 -0.1541; var_66 -5.0147; var_67 -1.6087; var_68 -893.4108; var_69 0.4278; var_70 -2.1599; var_71 -6.0514; var_72 -0.3622; var_73 -2.9223; var_74 -1.4323; var_75 -2.8828; var_76 -0.6346; var_77 -4.9634; var_78 -2.6508; var_79 -11.1462; var_80 -0.5458; var_81 -6.1505; var_82 0.2657; var_83 0.0714; var_84 0.5839; var_85 -4.4246; var_86 -0.7711; var_87 -1.8285; var_88 -3.1413; var_89 -1.3190; var_90 1.2200; var_91 -48.6068; var_92 -3.1728; var_93 -19.9184; var_94 -3.9628; var_95 0.8094; var_96 -1.6213; var_97 -1.3329; var_98 -3.1049; var_99 1.3278; var_100 0.8167; var_101 -3.1451; var_102 -2.8189; var_103 -9.9696; var_104 -5.3361; var_105 -6.7902; var_106 -4.9645; var_107 -2.2546; var_108 -83.4096; var_109 -3.9552; var_110 -1.1259; var_111 -6.0606; var_112 -1.4205; var_113 -1.5892; var_114 -4.0756; var_115 -0.5548; var_116 -1.6222; var_117 -1.2371; var_118 0.7530; var_119 -0.4412; var_120 -2.0497; var_121 -6.8533; var_122 0.0529; var_123 -1.1859; var_124 -1.5571; var_125 -43.8641; var_126 -16.1542; var_127 -0.1791; var_128 0.3298; var_129 -3.3090; var_130 -14.1109; var_131 0.0773; var_132 -6.7462; var_133 -18.2238; var_134 1.0571; var_135 0.5453; var_136 -2.2459; var_137 -2.0490; var_138 -0.4702; var_139 -0.8940; var_140 -0.3432; var_141 -0.1944; var_142 -2.2277; var_143 -4.2707; var_144 -7.9880; var_145 -1.4476; var_146 -4.2941; var_147 0.5225; var_148 -23.8475; var_149 -0.6936; var_150 -7.3087; var_151 -2.5804; var_152 -2.7306; var_153 -8.6147; var_154 -1.4626; var_155 0.1484; var_156 -13.3722; var_157 0.8907; var_158 -2.3322; var_159 -2.2242; var_160 -2.2667; var_161 -31.0147; var_162 -4.6069; var_163 -2.2165; var_164 0.2366; var_165 -3.5847; var_166 -10.2234; var_167 0.6257; var_168 -1.3477; var_169 -15.1176; var_170 0.3484; var_171 0.2976; var_172 -2.4931; var_173 0.4310; var_174 -2.9004; var_175 -4.1475; var_176 0.3172; var_177 -4.1967; var_178 0.2343; var_179 -1.1214; var_180 0.9450; var_181 -7.4862; var_182 -0.0124; var_183 -2.1352; var_184 -1.4305; var_185 1.1862; var_186 -3.3509; var_187 0.8179; var_188 -3.9973; var_189 -0.1739; var_190 -0.4217; var_191 -2.2842; var_192 -1.4072; var_193 -0.8122; var_194 -6.0102; var_195 1.6897; var_196 -0.3739; var_197 -9.2406; var_198 -5.5169; var_199 0.3024; ,var_0 -3.3931; var_1 0.4739; var_2 -3.5625; var_3 -3.0985; var_4 -7.5652; var_5 0.5767; var_6 -4.3293; var_7 -5.3464; var_8 0.1502; var_9 -6.3576; var_10 0.0853; var_11 0.5350; var_12 -70.7847; var_13 -1.7895; var_14 -3.9042; var_15 -35.2947; var_16 -3.2601; var_17 1.0430; var_18 -1.9020; var_19 -1.5373; var_20 -2.5937; var_21 -2.0906; var_22 -1.2181; var_23 -3.6118; var_24 -2.5922; var_25 -45.1915; var_26 1.0130; var_27 0.2596; var_28 -7.5323; var_29 -1.6467; var_30 0.8409; var_31 -4.7515; var_32 -0.4452; var_33 -3.2440; var_34 -19.5221; var_35 -0.7825; var_36 -0.4745; var_37 -2.4335; var_38 -2.7436; var_39 -0.1768; var_40 0.6806; var_41 -1.6799; var_42 -15.2703; var_43 -32.4260; var_44 -1.2038; var_45 0.6519; var_46 -3.3659; var_47 1.2671; var_48 -1.4051; var_49 -2.1762; var_50 -18.2563; var_51 -1.7764; var_52 0.5915; var_53 -8.3751; var_54 -0.1331; var_55 -2.0471; var_56 -4.9763; var_57 -7.6138; var_58 -0.6681; var_59 -10.7458; var_60 -2.8808; var_61 1.0359; var_62 -0.6551; var_63 0.3067; var_64 -4.3316; var_65 -0.2274; var_66 -6.1640; var_67 -1.4795; var_68 -546.0349; var_69 0.9322; var_70 -1.9441; var_71 2.7798; var_72 -0.2575; var_73 -2.2857; var_74 -1.4749; var_75 -2.9550; var_76 -0.7031; var_77 -5.2718; var_78 -2.4886; var_79 -10.3510; var_80 -0.6485; var_81 -5.9060; var_82 0.2465; var_83 -0.1384; var_84 0.4805; var_85 -4.4105; var_86 -0.6869; var_87 -2.2715; var_88 -4.3023; var_89 -1.2330; var_90 1.3962; var_91 -44.2597; var_92 -2.6167; var_93 -20.9888; var_94 -3.9055; var_95 0.9776; var_96 -1.6588; var_97 -1.3004; var_98 -2.7762; var_99 0.6179; var_100 0.6259; var_101 -2.5215; var_102 -2.5603; var_103 -12.3021; var_104 -5.0595; var_105 -4.7769; var_106 -3.9681; var_107 -2.3101; var_108 -82.6936; var_109 -4.3181; var_110 -1.3910; var_111 -5.3544; var_112 -2.3257; var_113 -1.5899; var_114 -2.9419; var_115 -0.6466; var_116 -2.5270; var_117 -1.3347; var_118 0.7175; var_119 -0.3204; var_120 -1.9160; var_121 -6.5869; var_122 -0.3101; var_123 -0.9908; var_124 -1.2649; var_125 -36.9115; var_126 -16.8333; var_127 -0.5408; var_128 0.3294; var_129 -3.9600; var_130 -14.1368; var_131 -1.4750; var_132 -5.6075; var_133 -15.7493; var_134 0.8981; var_135 0.3427; var_136 -2.1704; var_137 -1.9114; var_138 -0.5514; var_139 -0.9104; var_140 -0.3214; var_141 -0.5645; var_142 -1.7847; var_143 -4.5137; var_144 -8.6385; var_145 -1.6719; var_146 -3.6396; var_147 0.6127; var_148 -14.2583; var_149 -0.3395; var_150 -6.2698; var_151 -2.7570; var_152 -2.3409; var_153 -7.3558; var_154 -1.5270; var_155 -0.0436; var_156 -13.9259; var_157 0.5526; var_158 -2.3679; var_159 -2.2292; var_160 -2.2402; var_161 -25.1053; var_162 -3.4052; var_163 -2.0104; var_164 0.2066; var_165 -3.5326; var_166 -5.9453; var_167 0.4977; var_168 -1.5100; var_169 -11.2536; var_170 -0.0955; var_171 0.0931; var_172 -2.2971; var_173 0.1856; var_174 -2.9109; var_175 -3.8732; var_176 0.2069; var_177 -4.7468; var_178 0.0195; var_179 -0.4971; var_180 0.5574; var_181 -7.2045; var_182 -0.1802; var_183 -1.9209; var_184 -1.4777; var_185 1.2844; var_186 -2.8559; var_187 0.7804; var_188 -4.1222; var_189 0.1635; var_190 -0.6759; var_191 -2.2738; var_192 -1.5785; var_193 -0.8249; var_194 -5.5670; var_195 0.0158; var_196 -0.6789; var_197 -11.5117; var_198 -5.4184; var_199 0.2567; \n",
       "y: EmptyLabelList\n",
       ",,,,\n",
       "Path: /home/jd/data/santander, model=TabularModel(\n",
       "  (embeds): ModuleList()\n",
       "  (emb_drop): Dropout(p=0.07)\n",
       "  (bn_cont): BatchNorm1d(200, eps=1e-05, momentum=0.1, affine=True, track_running_stats=True)\n",
       "  (layers): Sequential(\n",
       "    (0): Linear(in_features=200, out_features=2000, bias=True)\n",
       "    (1): ReLU(inplace)\n",
       "    (2): BatchNorm1d(2000, eps=1e-05, momentum=0.1, affine=True, track_running_stats=True)\n",
       "    (3): Dropout(p=0.1)\n",
       "    (4): Linear(in_features=2000, out_features=500, bias=True)\n",
       "    (5): ReLU(inplace)\n",
       "    (6): BatchNorm1d(500, eps=1e-05, momentum=0.1, affine=True, track_running_stats=True)\n",
       "    (7): Dropout(p=0.02)\n",
       "    (8): Linear(in_features=500, out_features=2, bias=True)\n",
       "  )\n",
       "), opt_func=functools.partial(<class 'torch.optim.adam.Adam'>, betas=(0.9, 0.99)), loss_func=FlattenedLoss of CrossEntropyLoss(), metrics=[<function accuracy at 0x7f6cbffe38c8>, <function auc_score1 at 0x7f6cbc1ac2f0>], true_wd=True, bn_wd=True, wd=0.01, train_bn=True, path=PosixPath('/home/jd/data/santander'), model_dir='models', callback_fns=[functools.partial(<class 'fastai.basic_train.Recorder'>, add_time=True)], callbacks=[], layer_groups=[Sequential(\n",
       "  (0): ModuleList()\n",
       "  (1): Dropout(p=0.07)\n",
       "  (2): BatchNorm1d(200, eps=1e-05, momentum=0.1, affine=True, track_running_stats=True)\n",
       "  (3): Linear(in_features=200, out_features=2000, bias=True)\n",
       "  (4): ReLU(inplace)\n",
       "  (5): BatchNorm1d(2000, eps=1e-05, momentum=0.1, affine=True, track_running_stats=True)\n",
       "  (6): Dropout(p=0.1)\n",
       "  (7): Linear(in_features=2000, out_features=500, bias=True)\n",
       "  (8): ReLU(inplace)\n",
       "  (9): BatchNorm1d(500, eps=1e-05, momentum=0.1, affine=True, track_running_stats=True)\n",
       "  (10): Dropout(p=0.02)\n",
       "  (11): Linear(in_features=500, out_features=2, bias=True)\n",
       ")], add_time=True)"
      ]
     },
     "execution_count": 72,
     "metadata": {},
     "output_type": "execute_result"
    }
   ],
   "source": [
    "learn.load('best')"
   ]
  },
  {
   "cell_type": "code",
   "execution_count": null,
   "metadata": {
    "ExecuteTime": {
     "end_time": "2019-04-21T11:19:15.050139Z",
     "start_time": "2019-04-21T11:19:15.022909Z"
    }
   },
   "outputs": [],
   "source": [
    "# The NN feature importance never worked for me \n",
    "def nn_feat_importance(m, md, cat_vars, cont_vars):\n",
    "    \"\"\" Computes the feature importance for each categorical and continuous column\n",
    "    m is a fastai.column_data.StructuredLearner\n",
    "    md is a fastai.column_data.ColumnarModelData\n",
    "    cat_vars is a list with the categorical vars names as used to define m and md\n",
    "    cont_vars is a list with the continuous vars names as used to define m and md\n",
    "    \"\"\"\n",
    "    \n",
    "    \n",
    "    loss0 = np.array([to_np(m.crit(m.model(x_cat, x_cont), y)) for x_cat, x_cont, y in iter(md.valid_dl)]).mean()\n",
    "    fi = dict()\n",
    "    for i, c in enumerate(cat_vars):\n",
    "        loss = []\n",
    "        for x_cat, x_cont, y in iter(md.val_dl):\n",
    "            rnd = T(np.random.permutation(x_cat.size()[0]))\n",
    "            x_cat[:, i] = x_cat[rnd, i]\n",
    "            loss.append(to_np(m.crit(m.model(x_cat, x_cont), y)))\n",
    "        fi[c] = np.mean(loss) - loss0\n",
    "    for i, c in enumerate(cont_vars):\n",
    "        loss = []\n",
    "        for x_cat, x_cont, y in iter(md.val_dl):\n",
    "            rnd = T(np.random.permutation(x_cat.size()[0]))\n",
    "            x_cont[:, i] = x_cont[rnd, i]\n",
    "            loss.append(to_np(m.crit(m.model(x_cat, x_cont), y)))\n",
    "        fi[c] = np.mean(loss) - loss0\n",
    "    d = sorted(fi.items(), key=lambda kv: kv[1], reverse=True)\n",
    "    return pd.DataFrame({'cols': [l for l, v in d], 'imp': np.log1p([v for l, v in d])})\n",
    "\n",
    "def nn_feat_importance(learn, data, cat_vars, cont_vars):\n",
    "    # original loss\n",
    "    loss0= np.array([to_np(learn.crit(learn.model(x_cat, x_cont), y)) for x_cat, x_cont, y in iter(data.val_dl)]).mean()\n",
    "    learn.crit\n",
    "    \n",
    "    # is index, c is name\n",
    "    # go through everyon and determine loss\n",
    "    for i, c in enumerate(cont_vars):\n",
    "        loss = []\n",
    "        print (str(c))\n",
    "\n",
    "    return"
   ]
  },
  {
   "cell_type": "markdown",
   "metadata": {
    "ExecuteTime": {
     "end_time": "2019-04-02T14:14:15.698570Z",
     "start_time": "2019-04-02T14:14:15.695079Z"
    }
   },
   "source": [
    "# Save new files"
   ]
  },
  {
   "cell_type": "code",
   "execution_count": 73,
   "metadata": {
    "ExecuteTime": {
     "end_time": "2019-04-21T12:02:45.613125Z",
     "start_time": "2019-04-21T12:02:44.064487Z"
    }
   },
   "outputs": [],
   "source": [
    "# Want to dump the dataframe, test dataframe, cat names, and cont names\n",
    "pickle.dump(df, open( \"/home/jd/data/santander/train-clean.p\", \"wb\" ) )\n",
    "pickle.dump(test_df, open( \"/home/jd/data/santander/test-clean.p\", \"wb\" ) )\n",
    "pickle.dump(cat_names, open( \"/home/jd/data/santander/cat.p\", \"wb\" ) )\n",
    "pickle.dump(cont_names, open( \"/home/jd/data/santander/cont.p\", \"wb\" ) )\n",
    "pickle.dump(valid_idx, open( \"/home/jd/data/santander/valid_idx.p\", \"wb\" ) )"
   ]
  },
  {
   "cell_type": "code",
   "execution_count": null,
   "metadata": {},
   "outputs": [],
   "source": []
  }
 ],
 "metadata": {
  "kernelspec": {
   "display_name": "Python 3",
   "language": "python",
   "name": "python3"
  },
  "language_info": {
   "codemirror_mode": {
    "name": "ipython",
    "version": 3
   },
   "file_extension": ".py",
   "mimetype": "text/x-python",
   "name": "python",
   "nbconvert_exporter": "python",
   "pygments_lexer": "ipython3",
   "version": "3.7.3"
  },
  "notify_time": "5"
 },
 "nbformat": 4,
 "nbformat_minor": 2
}
