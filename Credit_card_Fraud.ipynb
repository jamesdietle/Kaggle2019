{
 "cells": [
  {
   "cell_type": "markdown",
   "metadata": {
    "heading_collapsed": true
   },
   "source": [
    "# Credit Card fraud from Kaggle is highly unbalanced\n",
    "\n",
    "It is important that credit card companies are able to recognize fraudulent credit card transactions so that customers are not charged for items that they did not purchase.\n",
    "\n",
    "https://www.kaggle.com/mlg-ulb/creditcardfraud\n",
    "\n",
    "\n",
    "### Goal: Is there fraud here?\n",
    "\n"
   ]
  },
  {
   "cell_type": "markdown",
   "metadata": {},
   "source": [
    "# Setup"
   ]
  },
  {
   "cell_type": "code",
   "execution_count": 1,
   "metadata": {
    "ExecuteTime": {
     "end_time": "2019-04-17T19:44:09.833627Z",
     "start_time": "2019-04-17T19:44:09.539946Z"
    }
   },
   "outputs": [],
   "source": [
    "%reload_ext autoreload\n",
    "%autoreload 2\n",
    "%matplotlib inline"
   ]
  },
  {
   "cell_type": "code",
   "execution_count": 2,
   "metadata": {
    "ExecuteTime": {
     "end_time": "2019-04-17T19:44:10.644552Z",
     "start_time": "2019-04-17T19:44:09.835106Z"
    }
   },
   "outputs": [],
   "source": [
    "import pickle\n",
    "import ray\n",
    "from sklearn.preprocessing import *"
   ]
  },
  {
   "cell_type": "code",
   "execution_count": 3,
   "metadata": {
    "ExecuteTime": {
     "end_time": "2019-04-17T19:44:11.841326Z",
     "start_time": "2019-04-17T19:44:10.646267Z"
    }
   },
   "outputs": [],
   "source": [
    "from fastai import *\n",
    "from fastai.tabular import *\n",
    "from fastai.metrics import error_rate"
   ]
  },
  {
   "cell_type": "code",
   "execution_count": 4,
   "metadata": {
    "ExecuteTime": {
     "end_time": "2019-04-17T19:44:11.992287Z",
     "start_time": "2019-04-17T19:44:11.843072Z"
    }
   },
   "outputs": [],
   "source": [
    "from fastai.imports import *\n",
    "\n",
    "from pandas_summary import DataFrameSummary\n",
    "from sklearn.ensemble import RandomForestRegressor, RandomForestClassifier\n",
    "from IPython.display import display\n",
    "from sklearn import *"
   ]
  },
  {
   "cell_type": "code",
   "execution_count": 5,
   "metadata": {
    "ExecuteTime": {
     "end_time": "2019-04-17T19:44:12.090985Z",
     "start_time": "2019-04-17T19:44:11.993450Z"
    }
   },
   "outputs": [
    {
     "name": "stdout",
     "output_type": "stream",
     "text": [
      "pandas: 0.23.4\n",
      "numpy: 1.15.4\n",
      "Python: 3.7.1 (default, Dec 14 2018, 19:28:38) \n",
      "[GCC 7.3.0]\n"
     ]
    }
   ],
   "source": [
    "import numpy as np\n",
    "import pandas as pd\n",
    "import seaborn as sns\n",
    "from numpy.fft import *\n",
    "import pyarrow.parquet as pq\n",
    "import matplotlib.pyplot as plt\n",
    "\n",
    "sns.set_style(\"whitegrid\")\n",
    "print('pandas: {}'.format(pd.__version__))\n",
    "print('numpy: {}'.format(np.__version__))\n",
    "print('Python: {}'.format(sys.version))\n",
    "#Selecting the right GPU\n",
    "torch.cuda.set_device(0)"
   ]
  },
  {
   "cell_type": "code",
   "execution_count": 6,
   "metadata": {
    "ExecuteTime": {
     "end_time": "2019-04-17T19:44:12.108703Z",
     "start_time": "2019-04-17T19:44:12.092226Z"
    }
   },
   "outputs": [],
   "source": [
    "pd.options.display.max_rows = 20\n",
    "pd.options.display.max_columns = 20"
   ]
  },
  {
   "cell_type": "markdown",
   "metadata": {},
   "source": [
    "### Fuctions"
   ]
  },
  {
   "cell_type": "code",
   "execution_count": 7,
   "metadata": {
    "ExecuteTime": {
     "end_time": "2019-04-17T19:44:12.125295Z",
     "start_time": "2019-04-17T19:44:12.109849Z"
    }
   },
   "outputs": [],
   "source": [
    "#Nothing yet"
   ]
  },
  {
   "cell_type": "markdown",
   "metadata": {},
   "source": [
    "# Load Data\n",
    "Gets the data all put together"
   ]
  },
  {
   "cell_type": "code",
   "execution_count": 8,
   "metadata": {
    "ExecuteTime": {
     "end_time": "2019-04-17T19:44:12.311144Z",
     "start_time": "2019-04-17T19:44:12.126405Z"
    }
   },
   "outputs": [],
   "source": [
    "path= \"/home/jd/data/creditcard/\"\n",
    "#df = pd.read_csv(path+'creditcard.csv')\n",
    "#pickle.dump(df, open( path+'creditcard.p', \"wb\" ) )\n",
    "df=pickle.load(open( path+'creditcard.p', \"rb\" ) )"
   ]
  },
  {
   "cell_type": "code",
   "execution_count": 9,
   "metadata": {
    "ExecuteTime": {
     "end_time": "2019-04-17T19:44:12.413250Z",
     "start_time": "2019-04-17T19:44:12.313741Z"
    }
   },
   "outputs": [
    {
     "data": {
      "text/html": [
       "<div>\n",
       "<style scoped>\n",
       "    .dataframe tbody tr th:only-of-type {\n",
       "        vertical-align: middle;\n",
       "    }\n",
       "\n",
       "    .dataframe tbody tr th {\n",
       "        vertical-align: top;\n",
       "    }\n",
       "\n",
       "    .dataframe thead th {\n",
       "        text-align: right;\n",
       "    }\n",
       "</style>\n",
       "<table border=\"1\" class=\"dataframe\">\n",
       "  <thead>\n",
       "    <tr style=\"text-align: right;\">\n",
       "      <th></th>\n",
       "      <th>Time</th>\n",
       "      <th>V1</th>\n",
       "      <th>V2</th>\n",
       "      <th>V3</th>\n",
       "      <th>V4</th>\n",
       "      <th>V5</th>\n",
       "      <th>V6</th>\n",
       "      <th>V7</th>\n",
       "      <th>V8</th>\n",
       "      <th>V9</th>\n",
       "      <th>...</th>\n",
       "      <th>V21</th>\n",
       "      <th>V22</th>\n",
       "      <th>V23</th>\n",
       "      <th>V24</th>\n",
       "      <th>V25</th>\n",
       "      <th>V26</th>\n",
       "      <th>V27</th>\n",
       "      <th>V28</th>\n",
       "      <th>Amount</th>\n",
       "      <th>Class</th>\n",
       "    </tr>\n",
       "  </thead>\n",
       "  <tbody>\n",
       "    <tr>\n",
       "      <th>0</th>\n",
       "      <td>0.0</td>\n",
       "      <td>-1.359807</td>\n",
       "      <td>-0.072781</td>\n",
       "      <td>2.536347</td>\n",
       "      <td>1.378155</td>\n",
       "      <td>-0.338321</td>\n",
       "      <td>0.462388</td>\n",
       "      <td>0.239599</td>\n",
       "      <td>0.098698</td>\n",
       "      <td>0.363787</td>\n",
       "      <td>...</td>\n",
       "      <td>-0.018307</td>\n",
       "      <td>0.277838</td>\n",
       "      <td>-0.110474</td>\n",
       "      <td>0.066928</td>\n",
       "      <td>0.128539</td>\n",
       "      <td>-0.189115</td>\n",
       "      <td>0.133558</td>\n",
       "      <td>-0.021053</td>\n",
       "      <td>149.62</td>\n",
       "      <td>0</td>\n",
       "    </tr>\n",
       "    <tr>\n",
       "      <th>1</th>\n",
       "      <td>0.0</td>\n",
       "      <td>1.191857</td>\n",
       "      <td>0.266151</td>\n",
       "      <td>0.166480</td>\n",
       "      <td>0.448154</td>\n",
       "      <td>0.060018</td>\n",
       "      <td>-0.082361</td>\n",
       "      <td>-0.078803</td>\n",
       "      <td>0.085102</td>\n",
       "      <td>-0.255425</td>\n",
       "      <td>...</td>\n",
       "      <td>-0.225775</td>\n",
       "      <td>-0.638672</td>\n",
       "      <td>0.101288</td>\n",
       "      <td>-0.339846</td>\n",
       "      <td>0.167170</td>\n",
       "      <td>0.125895</td>\n",
       "      <td>-0.008983</td>\n",
       "      <td>0.014724</td>\n",
       "      <td>2.69</td>\n",
       "      <td>0</td>\n",
       "    </tr>\n",
       "    <tr>\n",
       "      <th>2</th>\n",
       "      <td>1.0</td>\n",
       "      <td>-1.358354</td>\n",
       "      <td>-1.340163</td>\n",
       "      <td>1.773209</td>\n",
       "      <td>0.379780</td>\n",
       "      <td>-0.503198</td>\n",
       "      <td>1.800499</td>\n",
       "      <td>0.791461</td>\n",
       "      <td>0.247676</td>\n",
       "      <td>-1.514654</td>\n",
       "      <td>...</td>\n",
       "      <td>0.247998</td>\n",
       "      <td>0.771679</td>\n",
       "      <td>0.909412</td>\n",
       "      <td>-0.689281</td>\n",
       "      <td>-0.327642</td>\n",
       "      <td>-0.139097</td>\n",
       "      <td>-0.055353</td>\n",
       "      <td>-0.059752</td>\n",
       "      <td>378.66</td>\n",
       "      <td>0</td>\n",
       "    </tr>\n",
       "    <tr>\n",
       "      <th>3</th>\n",
       "      <td>1.0</td>\n",
       "      <td>-0.966272</td>\n",
       "      <td>-0.185226</td>\n",
       "      <td>1.792993</td>\n",
       "      <td>-0.863291</td>\n",
       "      <td>-0.010309</td>\n",
       "      <td>1.247203</td>\n",
       "      <td>0.237609</td>\n",
       "      <td>0.377436</td>\n",
       "      <td>-1.387024</td>\n",
       "      <td>...</td>\n",
       "      <td>-0.108300</td>\n",
       "      <td>0.005274</td>\n",
       "      <td>-0.190321</td>\n",
       "      <td>-1.175575</td>\n",
       "      <td>0.647376</td>\n",
       "      <td>-0.221929</td>\n",
       "      <td>0.062723</td>\n",
       "      <td>0.061458</td>\n",
       "      <td>123.50</td>\n",
       "      <td>0</td>\n",
       "    </tr>\n",
       "    <tr>\n",
       "      <th>4</th>\n",
       "      <td>2.0</td>\n",
       "      <td>-1.158233</td>\n",
       "      <td>0.877737</td>\n",
       "      <td>1.548718</td>\n",
       "      <td>0.403034</td>\n",
       "      <td>-0.407193</td>\n",
       "      <td>0.095921</td>\n",
       "      <td>0.592941</td>\n",
       "      <td>-0.270533</td>\n",
       "      <td>0.817739</td>\n",
       "      <td>...</td>\n",
       "      <td>-0.009431</td>\n",
       "      <td>0.798278</td>\n",
       "      <td>-0.137458</td>\n",
       "      <td>0.141267</td>\n",
       "      <td>-0.206010</td>\n",
       "      <td>0.502292</td>\n",
       "      <td>0.219422</td>\n",
       "      <td>0.215153</td>\n",
       "      <td>69.99</td>\n",
       "      <td>0</td>\n",
       "    </tr>\n",
       "    <tr>\n",
       "      <th>5</th>\n",
       "      <td>2.0</td>\n",
       "      <td>-0.425966</td>\n",
       "      <td>0.960523</td>\n",
       "      <td>1.141109</td>\n",
       "      <td>-0.168252</td>\n",
       "      <td>0.420987</td>\n",
       "      <td>-0.029728</td>\n",
       "      <td>0.476201</td>\n",
       "      <td>0.260314</td>\n",
       "      <td>-0.568671</td>\n",
       "      <td>...</td>\n",
       "      <td>-0.208254</td>\n",
       "      <td>-0.559825</td>\n",
       "      <td>-0.026398</td>\n",
       "      <td>-0.371427</td>\n",
       "      <td>-0.232794</td>\n",
       "      <td>0.105915</td>\n",
       "      <td>0.253844</td>\n",
       "      <td>0.081080</td>\n",
       "      <td>3.67</td>\n",
       "      <td>0</td>\n",
       "    </tr>\n",
       "    <tr>\n",
       "      <th>6</th>\n",
       "      <td>4.0</td>\n",
       "      <td>1.229658</td>\n",
       "      <td>0.141004</td>\n",
       "      <td>0.045371</td>\n",
       "      <td>1.202613</td>\n",
       "      <td>0.191881</td>\n",
       "      <td>0.272708</td>\n",
       "      <td>-0.005159</td>\n",
       "      <td>0.081213</td>\n",
       "      <td>0.464960</td>\n",
       "      <td>...</td>\n",
       "      <td>-0.167716</td>\n",
       "      <td>-0.270710</td>\n",
       "      <td>-0.154104</td>\n",
       "      <td>-0.780055</td>\n",
       "      <td>0.750137</td>\n",
       "      <td>-0.257237</td>\n",
       "      <td>0.034507</td>\n",
       "      <td>0.005168</td>\n",
       "      <td>4.99</td>\n",
       "      <td>0</td>\n",
       "    </tr>\n",
       "    <tr>\n",
       "      <th>7</th>\n",
       "      <td>7.0</td>\n",
       "      <td>-0.644269</td>\n",
       "      <td>1.417964</td>\n",
       "      <td>1.074380</td>\n",
       "      <td>-0.492199</td>\n",
       "      <td>0.948934</td>\n",
       "      <td>0.428118</td>\n",
       "      <td>1.120631</td>\n",
       "      <td>-3.807864</td>\n",
       "      <td>0.615375</td>\n",
       "      <td>...</td>\n",
       "      <td>1.943465</td>\n",
       "      <td>-1.015455</td>\n",
       "      <td>0.057504</td>\n",
       "      <td>-0.649709</td>\n",
       "      <td>-0.415267</td>\n",
       "      <td>-0.051634</td>\n",
       "      <td>-1.206921</td>\n",
       "      <td>-1.085339</td>\n",
       "      <td>40.80</td>\n",
       "      <td>0</td>\n",
       "    </tr>\n",
       "    <tr>\n",
       "      <th>8</th>\n",
       "      <td>7.0</td>\n",
       "      <td>-0.894286</td>\n",
       "      <td>0.286157</td>\n",
       "      <td>-0.113192</td>\n",
       "      <td>-0.271526</td>\n",
       "      <td>2.669599</td>\n",
       "      <td>3.721818</td>\n",
       "      <td>0.370145</td>\n",
       "      <td>0.851084</td>\n",
       "      <td>-0.392048</td>\n",
       "      <td>...</td>\n",
       "      <td>-0.073425</td>\n",
       "      <td>-0.268092</td>\n",
       "      <td>-0.204233</td>\n",
       "      <td>1.011592</td>\n",
       "      <td>0.373205</td>\n",
       "      <td>-0.384157</td>\n",
       "      <td>0.011747</td>\n",
       "      <td>0.142404</td>\n",
       "      <td>93.20</td>\n",
       "      <td>0</td>\n",
       "    </tr>\n",
       "    <tr>\n",
       "      <th>9</th>\n",
       "      <td>9.0</td>\n",
       "      <td>-0.338262</td>\n",
       "      <td>1.119593</td>\n",
       "      <td>1.044367</td>\n",
       "      <td>-0.222187</td>\n",
       "      <td>0.499361</td>\n",
       "      <td>-0.246761</td>\n",
       "      <td>0.651583</td>\n",
       "      <td>0.069539</td>\n",
       "      <td>-0.736727</td>\n",
       "      <td>...</td>\n",
       "      <td>-0.246914</td>\n",
       "      <td>-0.633753</td>\n",
       "      <td>-0.120794</td>\n",
       "      <td>-0.385050</td>\n",
       "      <td>-0.069733</td>\n",
       "      <td>0.094199</td>\n",
       "      <td>0.246219</td>\n",
       "      <td>0.083076</td>\n",
       "      <td>3.68</td>\n",
       "      <td>0</td>\n",
       "    </tr>\n",
       "    <tr>\n",
       "      <th>...</th>\n",
       "      <td>...</td>\n",
       "      <td>...</td>\n",
       "      <td>...</td>\n",
       "      <td>...</td>\n",
       "      <td>...</td>\n",
       "      <td>...</td>\n",
       "      <td>...</td>\n",
       "      <td>...</td>\n",
       "      <td>...</td>\n",
       "      <td>...</td>\n",
       "      <td>...</td>\n",
       "      <td>...</td>\n",
       "      <td>...</td>\n",
       "      <td>...</td>\n",
       "      <td>...</td>\n",
       "      <td>...</td>\n",
       "      <td>...</td>\n",
       "      <td>...</td>\n",
       "      <td>...</td>\n",
       "      <td>...</td>\n",
       "      <td>...</td>\n",
       "    </tr>\n",
       "    <tr>\n",
       "      <th>284797</th>\n",
       "      <td>172782.0</td>\n",
       "      <td>-0.241923</td>\n",
       "      <td>0.712247</td>\n",
       "      <td>0.399806</td>\n",
       "      <td>-0.463406</td>\n",
       "      <td>0.244531</td>\n",
       "      <td>-1.343668</td>\n",
       "      <td>0.929369</td>\n",
       "      <td>-0.206210</td>\n",
       "      <td>0.106234</td>\n",
       "      <td>...</td>\n",
       "      <td>-0.228876</td>\n",
       "      <td>-0.514376</td>\n",
       "      <td>0.279598</td>\n",
       "      <td>0.371441</td>\n",
       "      <td>-0.559238</td>\n",
       "      <td>0.113144</td>\n",
       "      <td>0.131507</td>\n",
       "      <td>0.081265</td>\n",
       "      <td>5.49</td>\n",
       "      <td>0</td>\n",
       "    </tr>\n",
       "    <tr>\n",
       "      <th>284798</th>\n",
       "      <td>172782.0</td>\n",
       "      <td>0.219529</td>\n",
       "      <td>0.881246</td>\n",
       "      <td>-0.635891</td>\n",
       "      <td>0.960928</td>\n",
       "      <td>-0.152971</td>\n",
       "      <td>-1.014307</td>\n",
       "      <td>0.427126</td>\n",
       "      <td>0.121340</td>\n",
       "      <td>-0.285670</td>\n",
       "      <td>...</td>\n",
       "      <td>0.099936</td>\n",
       "      <td>0.337120</td>\n",
       "      <td>0.251791</td>\n",
       "      <td>0.057688</td>\n",
       "      <td>-1.508368</td>\n",
       "      <td>0.144023</td>\n",
       "      <td>0.181205</td>\n",
       "      <td>0.215243</td>\n",
       "      <td>24.05</td>\n",
       "      <td>0</td>\n",
       "    </tr>\n",
       "    <tr>\n",
       "      <th>284799</th>\n",
       "      <td>172783.0</td>\n",
       "      <td>-1.775135</td>\n",
       "      <td>-0.004235</td>\n",
       "      <td>1.189786</td>\n",
       "      <td>0.331096</td>\n",
       "      <td>1.196063</td>\n",
       "      <td>5.519980</td>\n",
       "      <td>-1.518185</td>\n",
       "      <td>2.080825</td>\n",
       "      <td>1.159498</td>\n",
       "      <td>...</td>\n",
       "      <td>0.103302</td>\n",
       "      <td>0.654850</td>\n",
       "      <td>-0.348929</td>\n",
       "      <td>0.745323</td>\n",
       "      <td>0.704545</td>\n",
       "      <td>-0.127579</td>\n",
       "      <td>0.454379</td>\n",
       "      <td>0.130308</td>\n",
       "      <td>79.99</td>\n",
       "      <td>0</td>\n",
       "    </tr>\n",
       "    <tr>\n",
       "      <th>284800</th>\n",
       "      <td>172784.0</td>\n",
       "      <td>2.039560</td>\n",
       "      <td>-0.175233</td>\n",
       "      <td>-1.196825</td>\n",
       "      <td>0.234580</td>\n",
       "      <td>-0.008713</td>\n",
       "      <td>-0.726571</td>\n",
       "      <td>0.017050</td>\n",
       "      <td>-0.118228</td>\n",
       "      <td>0.435402</td>\n",
       "      <td>...</td>\n",
       "      <td>-0.268048</td>\n",
       "      <td>-0.717211</td>\n",
       "      <td>0.297930</td>\n",
       "      <td>-0.359769</td>\n",
       "      <td>-0.315610</td>\n",
       "      <td>0.201114</td>\n",
       "      <td>-0.080826</td>\n",
       "      <td>-0.075071</td>\n",
       "      <td>2.68</td>\n",
       "      <td>0</td>\n",
       "    </tr>\n",
       "    <tr>\n",
       "      <th>284801</th>\n",
       "      <td>172785.0</td>\n",
       "      <td>0.120316</td>\n",
       "      <td>0.931005</td>\n",
       "      <td>-0.546012</td>\n",
       "      <td>-0.745097</td>\n",
       "      <td>1.130314</td>\n",
       "      <td>-0.235973</td>\n",
       "      <td>0.812722</td>\n",
       "      <td>0.115093</td>\n",
       "      <td>-0.204064</td>\n",
       "      <td>...</td>\n",
       "      <td>-0.314205</td>\n",
       "      <td>-0.808520</td>\n",
       "      <td>0.050343</td>\n",
       "      <td>0.102800</td>\n",
       "      <td>-0.435870</td>\n",
       "      <td>0.124079</td>\n",
       "      <td>0.217940</td>\n",
       "      <td>0.068803</td>\n",
       "      <td>2.69</td>\n",
       "      <td>0</td>\n",
       "    </tr>\n",
       "    <tr>\n",
       "      <th>284802</th>\n",
       "      <td>172786.0</td>\n",
       "      <td>-11.881118</td>\n",
       "      <td>10.071785</td>\n",
       "      <td>-9.834783</td>\n",
       "      <td>-2.066656</td>\n",
       "      <td>-5.364473</td>\n",
       "      <td>-2.606837</td>\n",
       "      <td>-4.918215</td>\n",
       "      <td>7.305334</td>\n",
       "      <td>1.914428</td>\n",
       "      <td>...</td>\n",
       "      <td>0.213454</td>\n",
       "      <td>0.111864</td>\n",
       "      <td>1.014480</td>\n",
       "      <td>-0.509348</td>\n",
       "      <td>1.436807</td>\n",
       "      <td>0.250034</td>\n",
       "      <td>0.943651</td>\n",
       "      <td>0.823731</td>\n",
       "      <td>0.77</td>\n",
       "      <td>0</td>\n",
       "    </tr>\n",
       "    <tr>\n",
       "      <th>284803</th>\n",
       "      <td>172787.0</td>\n",
       "      <td>-0.732789</td>\n",
       "      <td>-0.055080</td>\n",
       "      <td>2.035030</td>\n",
       "      <td>-0.738589</td>\n",
       "      <td>0.868229</td>\n",
       "      <td>1.058415</td>\n",
       "      <td>0.024330</td>\n",
       "      <td>0.294869</td>\n",
       "      <td>0.584800</td>\n",
       "      <td>...</td>\n",
       "      <td>0.214205</td>\n",
       "      <td>0.924384</td>\n",
       "      <td>0.012463</td>\n",
       "      <td>-1.016226</td>\n",
       "      <td>-0.606624</td>\n",
       "      <td>-0.395255</td>\n",
       "      <td>0.068472</td>\n",
       "      <td>-0.053527</td>\n",
       "      <td>24.79</td>\n",
       "      <td>0</td>\n",
       "    </tr>\n",
       "    <tr>\n",
       "      <th>284804</th>\n",
       "      <td>172788.0</td>\n",
       "      <td>1.919565</td>\n",
       "      <td>-0.301254</td>\n",
       "      <td>-3.249640</td>\n",
       "      <td>-0.557828</td>\n",
       "      <td>2.630515</td>\n",
       "      <td>3.031260</td>\n",
       "      <td>-0.296827</td>\n",
       "      <td>0.708417</td>\n",
       "      <td>0.432454</td>\n",
       "      <td>...</td>\n",
       "      <td>0.232045</td>\n",
       "      <td>0.578229</td>\n",
       "      <td>-0.037501</td>\n",
       "      <td>0.640134</td>\n",
       "      <td>0.265745</td>\n",
       "      <td>-0.087371</td>\n",
       "      <td>0.004455</td>\n",
       "      <td>-0.026561</td>\n",
       "      <td>67.88</td>\n",
       "      <td>0</td>\n",
       "    </tr>\n",
       "    <tr>\n",
       "      <th>284805</th>\n",
       "      <td>172788.0</td>\n",
       "      <td>-0.240440</td>\n",
       "      <td>0.530483</td>\n",
       "      <td>0.702510</td>\n",
       "      <td>0.689799</td>\n",
       "      <td>-0.377961</td>\n",
       "      <td>0.623708</td>\n",
       "      <td>-0.686180</td>\n",
       "      <td>0.679145</td>\n",
       "      <td>0.392087</td>\n",
       "      <td>...</td>\n",
       "      <td>0.265245</td>\n",
       "      <td>0.800049</td>\n",
       "      <td>-0.163298</td>\n",
       "      <td>0.123205</td>\n",
       "      <td>-0.569159</td>\n",
       "      <td>0.546668</td>\n",
       "      <td>0.108821</td>\n",
       "      <td>0.104533</td>\n",
       "      <td>10.00</td>\n",
       "      <td>0</td>\n",
       "    </tr>\n",
       "    <tr>\n",
       "      <th>284806</th>\n",
       "      <td>172792.0</td>\n",
       "      <td>-0.533413</td>\n",
       "      <td>-0.189733</td>\n",
       "      <td>0.703337</td>\n",
       "      <td>-0.506271</td>\n",
       "      <td>-0.012546</td>\n",
       "      <td>-0.649617</td>\n",
       "      <td>1.577006</td>\n",
       "      <td>-0.414650</td>\n",
       "      <td>0.486180</td>\n",
       "      <td>...</td>\n",
       "      <td>0.261057</td>\n",
       "      <td>0.643078</td>\n",
       "      <td>0.376777</td>\n",
       "      <td>0.008797</td>\n",
       "      <td>-0.473649</td>\n",
       "      <td>-0.818267</td>\n",
       "      <td>-0.002415</td>\n",
       "      <td>0.013649</td>\n",
       "      <td>217.00</td>\n",
       "      <td>0</td>\n",
       "    </tr>\n",
       "  </tbody>\n",
       "</table>\n",
       "<p>284807 rows × 31 columns</p>\n",
       "</div>"
      ],
      "text/plain": [
       "            Time         V1         V2        V3        V4        V5  \\\n",
       "0            0.0  -1.359807  -0.072781  2.536347  1.378155 -0.338321   \n",
       "1            0.0   1.191857   0.266151  0.166480  0.448154  0.060018   \n",
       "2            1.0  -1.358354  -1.340163  1.773209  0.379780 -0.503198   \n",
       "3            1.0  -0.966272  -0.185226  1.792993 -0.863291 -0.010309   \n",
       "4            2.0  -1.158233   0.877737  1.548718  0.403034 -0.407193   \n",
       "5            2.0  -0.425966   0.960523  1.141109 -0.168252  0.420987   \n",
       "6            4.0   1.229658   0.141004  0.045371  1.202613  0.191881   \n",
       "7            7.0  -0.644269   1.417964  1.074380 -0.492199  0.948934   \n",
       "8            7.0  -0.894286   0.286157 -0.113192 -0.271526  2.669599   \n",
       "9            9.0  -0.338262   1.119593  1.044367 -0.222187  0.499361   \n",
       "...          ...        ...        ...       ...       ...       ...   \n",
       "284797  172782.0  -0.241923   0.712247  0.399806 -0.463406  0.244531   \n",
       "284798  172782.0   0.219529   0.881246 -0.635891  0.960928 -0.152971   \n",
       "284799  172783.0  -1.775135  -0.004235  1.189786  0.331096  1.196063   \n",
       "284800  172784.0   2.039560  -0.175233 -1.196825  0.234580 -0.008713   \n",
       "284801  172785.0   0.120316   0.931005 -0.546012 -0.745097  1.130314   \n",
       "284802  172786.0 -11.881118  10.071785 -9.834783 -2.066656 -5.364473   \n",
       "284803  172787.0  -0.732789  -0.055080  2.035030 -0.738589  0.868229   \n",
       "284804  172788.0   1.919565  -0.301254 -3.249640 -0.557828  2.630515   \n",
       "284805  172788.0  -0.240440   0.530483  0.702510  0.689799 -0.377961   \n",
       "284806  172792.0  -0.533413  -0.189733  0.703337 -0.506271 -0.012546   \n",
       "\n",
       "              V6        V7        V8        V9  ...         V21       V22  \\\n",
       "0       0.462388  0.239599  0.098698  0.363787  ...   -0.018307  0.277838   \n",
       "1      -0.082361 -0.078803  0.085102 -0.255425  ...   -0.225775 -0.638672   \n",
       "2       1.800499  0.791461  0.247676 -1.514654  ...    0.247998  0.771679   \n",
       "3       1.247203  0.237609  0.377436 -1.387024  ...   -0.108300  0.005274   \n",
       "4       0.095921  0.592941 -0.270533  0.817739  ...   -0.009431  0.798278   \n",
       "5      -0.029728  0.476201  0.260314 -0.568671  ...   -0.208254 -0.559825   \n",
       "6       0.272708 -0.005159  0.081213  0.464960  ...   -0.167716 -0.270710   \n",
       "7       0.428118  1.120631 -3.807864  0.615375  ...    1.943465 -1.015455   \n",
       "8       3.721818  0.370145  0.851084 -0.392048  ...   -0.073425 -0.268092   \n",
       "9      -0.246761  0.651583  0.069539 -0.736727  ...   -0.246914 -0.633753   \n",
       "...          ...       ...       ...       ...  ...         ...       ...   \n",
       "284797 -1.343668  0.929369 -0.206210  0.106234  ...   -0.228876 -0.514376   \n",
       "284798 -1.014307  0.427126  0.121340 -0.285670  ...    0.099936  0.337120   \n",
       "284799  5.519980 -1.518185  2.080825  1.159498  ...    0.103302  0.654850   \n",
       "284800 -0.726571  0.017050 -0.118228  0.435402  ...   -0.268048 -0.717211   \n",
       "284801 -0.235973  0.812722  0.115093 -0.204064  ...   -0.314205 -0.808520   \n",
       "284802 -2.606837 -4.918215  7.305334  1.914428  ...    0.213454  0.111864   \n",
       "284803  1.058415  0.024330  0.294869  0.584800  ...    0.214205  0.924384   \n",
       "284804  3.031260 -0.296827  0.708417  0.432454  ...    0.232045  0.578229   \n",
       "284805  0.623708 -0.686180  0.679145  0.392087  ...    0.265245  0.800049   \n",
       "284806 -0.649617  1.577006 -0.414650  0.486180  ...    0.261057  0.643078   \n",
       "\n",
       "             V23       V24       V25       V26       V27       V28  Amount  \\\n",
       "0      -0.110474  0.066928  0.128539 -0.189115  0.133558 -0.021053  149.62   \n",
       "1       0.101288 -0.339846  0.167170  0.125895 -0.008983  0.014724    2.69   \n",
       "2       0.909412 -0.689281 -0.327642 -0.139097 -0.055353 -0.059752  378.66   \n",
       "3      -0.190321 -1.175575  0.647376 -0.221929  0.062723  0.061458  123.50   \n",
       "4      -0.137458  0.141267 -0.206010  0.502292  0.219422  0.215153   69.99   \n",
       "5      -0.026398 -0.371427 -0.232794  0.105915  0.253844  0.081080    3.67   \n",
       "6      -0.154104 -0.780055  0.750137 -0.257237  0.034507  0.005168    4.99   \n",
       "7       0.057504 -0.649709 -0.415267 -0.051634 -1.206921 -1.085339   40.80   \n",
       "8      -0.204233  1.011592  0.373205 -0.384157  0.011747  0.142404   93.20   \n",
       "9      -0.120794 -0.385050 -0.069733  0.094199  0.246219  0.083076    3.68   \n",
       "...          ...       ...       ...       ...       ...       ...     ...   \n",
       "284797  0.279598  0.371441 -0.559238  0.113144  0.131507  0.081265    5.49   \n",
       "284798  0.251791  0.057688 -1.508368  0.144023  0.181205  0.215243   24.05   \n",
       "284799 -0.348929  0.745323  0.704545 -0.127579  0.454379  0.130308   79.99   \n",
       "284800  0.297930 -0.359769 -0.315610  0.201114 -0.080826 -0.075071    2.68   \n",
       "284801  0.050343  0.102800 -0.435870  0.124079  0.217940  0.068803    2.69   \n",
       "284802  1.014480 -0.509348  1.436807  0.250034  0.943651  0.823731    0.77   \n",
       "284803  0.012463 -1.016226 -0.606624 -0.395255  0.068472 -0.053527   24.79   \n",
       "284804 -0.037501  0.640134  0.265745 -0.087371  0.004455 -0.026561   67.88   \n",
       "284805 -0.163298  0.123205 -0.569159  0.546668  0.108821  0.104533   10.00   \n",
       "284806  0.376777  0.008797 -0.473649 -0.818267 -0.002415  0.013649  217.00   \n",
       "\n",
       "        Class  \n",
       "0           0  \n",
       "1           0  \n",
       "2           0  \n",
       "3           0  \n",
       "4           0  \n",
       "5           0  \n",
       "6           0  \n",
       "7           0  \n",
       "8           0  \n",
       "9           0  \n",
       "...       ...  \n",
       "284797      0  \n",
       "284798      0  \n",
       "284799      0  \n",
       "284800      0  \n",
       "284801      0  \n",
       "284802      0  \n",
       "284803      0  \n",
       "284804      0  \n",
       "284805      0  \n",
       "284806      0  \n",
       "\n",
       "[284807 rows x 31 columns]"
      ]
     },
     "execution_count": 9,
     "metadata": {},
     "output_type": "execute_result"
    }
   ],
   "source": [
    "df"
   ]
  },
  {
   "cell_type": "markdown",
   "metadata": {},
   "source": [
    "# Data Preprocess\n",
    "Any Required Preprocess"
   ]
  },
  {
   "cell_type": "code",
   "execution_count": 10,
   "metadata": {
    "ExecuteTime": {
     "end_time": "2019-04-17T19:44:12.447076Z",
     "start_time": "2019-04-17T19:44:12.415848Z"
    }
   },
   "outputs": [
    {
     "data": {
      "text/plain": [
       "False"
      ]
     },
     "execution_count": 10,
     "metadata": {},
     "output_type": "execute_result"
    }
   ],
   "source": [
    "# Any missing data?\n",
    "df.isnull().values.any()"
   ]
  },
  {
   "cell_type": "code",
   "execution_count": 11,
   "metadata": {
    "ExecuteTime": {
     "end_time": "2019-04-17T19:44:12.669389Z",
     "start_time": "2019-04-17T19:44:12.448134Z"
    }
   },
   "outputs": [
    {
     "data": {
      "text/plain": [
       "Time      124592\n",
       "V1        275663\n",
       "V2        275663\n",
       "V3        275663\n",
       "V4        275663\n",
       "V5        275663\n",
       "V6        275663\n",
       "V7        275663\n",
       "V8        275663\n",
       "V9        275663\n",
       "           ...  \n",
       "V21       275663\n",
       "V22       275663\n",
       "V23       275663\n",
       "V24       275663\n",
       "V25       275663\n",
       "V26       275663\n",
       "V27       275663\n",
       "V28       275663\n",
       "Amount     32767\n",
       "Class          2\n",
       "Length: 31, dtype: int64"
      ]
     },
     "execution_count": 11,
     "metadata": {},
     "output_type": "execute_result"
    }
   ],
   "source": [
    "# We want to see how uniques are out there matters.\n",
    "# Notice how Time, Amount, and Class are less than the dataset\n",
    "df.nunique()"
   ]
  },
  {
   "cell_type": "code",
   "execution_count": 12,
   "metadata": {
    "ExecuteTime": {
     "end_time": "2019-04-17T19:44:12.709214Z",
     "start_time": "2019-04-17T19:44:12.670630Z"
    }
   },
   "outputs": [
    {
     "data": {
      "text/plain": [
       "1.00       13688\n",
       "1.98        6044\n",
       "0.89        4872\n",
       "9.99        4747\n",
       "15.00       3280\n",
       "0.76        2998\n",
       "10.00       2950\n",
       "1.29        2892\n",
       "1.79        2623\n",
       "0.99        2304\n",
       "           ...  \n",
       "133.19         1\n",
       "254.07         1\n",
       "108.66         1\n",
       "308.82         1\n",
       "154.59         1\n",
       "192.63         1\n",
       "218.84         1\n",
       "195.52         1\n",
       "793.50         1\n",
       "1080.06        1\n",
       "Name: Amount, Length: 32767, dtype: int64"
      ]
     },
     "execution_count": 12,
     "metadata": {},
     "output_type": "execute_result"
    }
   ],
   "source": [
    "df.Amount.value_counts()"
   ]
  },
  {
   "cell_type": "code",
   "execution_count": 13,
   "metadata": {
    "ExecuteTime": {
     "end_time": "2019-04-17T19:44:12.732952Z",
     "start_time": "2019-04-17T19:44:12.712143Z"
    }
   },
   "outputs": [
    {
     "data": {
      "text/plain": [
       "(25691.16, 0.0)"
      ]
     },
     "execution_count": 13,
     "metadata": {},
     "output_type": "execute_result"
    }
   ],
   "source": [
    "df.Amount.max(), df.Amount.min()"
   ]
  },
  {
   "cell_type": "code",
   "execution_count": 14,
   "metadata": {
    "ExecuteTime": {
     "end_time": "2019-04-17T19:44:12.766564Z",
     "start_time": "2019-04-17T19:44:12.735923Z"
    }
   },
   "outputs": [
    {
     "data": {
      "text/plain": [
       "163152.0    36\n",
       "64947.0     26\n",
       "68780.0     25\n",
       "3767.0      21\n",
       "3770.0      20\n",
       "128860.0    19\n",
       "19912.0     19\n",
       "3750.0      19\n",
       "140347.0    19\n",
       "143083.0    18\n",
       "            ..\n",
       "166848.0     1\n",
       "80566.0      1\n",
       "93598.0      1\n",
       "93599.0      1\n",
       "129204.0     1\n",
       "2088.0       1\n",
       "64100.0      1\n",
       "42068.0      1\n",
       "119630.0     1\n",
       "140344.0     1\n",
       "Name: Time, Length: 124592, dtype: int64"
      ]
     },
     "execution_count": 14,
     "metadata": {},
     "output_type": "execute_result"
    }
   ],
   "source": [
    "df.Time.value_counts()"
   ]
  },
  {
   "cell_type": "code",
   "execution_count": 15,
   "metadata": {
    "ExecuteTime": {
     "end_time": "2019-04-17T19:44:12.790299Z",
     "start_time": "2019-04-17T19:44:12.769231Z"
    }
   },
   "outputs": [
    {
     "data": {
      "text/plain": [
       "0    284315\n",
       "1       492\n",
       "Name: Class, dtype: int64"
      ]
     },
     "execution_count": 15,
     "metadata": {},
     "output_type": "execute_result"
    }
   ],
   "source": [
    "df.Class.value_counts()"
   ]
  },
  {
   "cell_type": "code",
   "execution_count": 16,
   "metadata": {
    "ExecuteTime": {
     "end_time": "2019-04-17T19:44:12.919556Z",
     "start_time": "2019-04-17T19:44:12.792954Z"
    }
   },
   "outputs": [
    {
     "name": "stdout",
     "output_type": "stream",
     "text": [
      "<class 'pandas.core.frame.DataFrame'>\n",
      "RangeIndex: 284807 entries, 0 to 284806\n",
      "Data columns (total 31 columns):\n",
      "Time      284807 non-null float64\n",
      "V1        284807 non-null float64\n",
      "V2        284807 non-null float64\n",
      "V3        284807 non-null float64\n",
      "V4        284807 non-null float64\n",
      "V5        284807 non-null float64\n",
      "V6        284807 non-null float64\n",
      "V7        284807 non-null float64\n",
      "V8        284807 non-null float64\n",
      "V9        284807 non-null float64\n",
      "V10       284807 non-null float64\n",
      "V11       284807 non-null float64\n",
      "V12       284807 non-null float64\n",
      "V13       284807 non-null float64\n",
      "V14       284807 non-null float64\n",
      "V15       284807 non-null float64\n",
      "V16       284807 non-null float64\n",
      "V17       284807 non-null float64\n",
      "V18       284807 non-null float64\n",
      "V19       284807 non-null float64\n",
      "V20       284807 non-null float64\n",
      "V21       284807 non-null float64\n",
      "V22       284807 non-null float64\n",
      "V23       284807 non-null float64\n",
      "V24       284807 non-null float64\n",
      "V25       284807 non-null float64\n",
      "V26       284807 non-null float64\n",
      "V27       284807 non-null float64\n",
      "V28       284807 non-null float64\n",
      "Amount    284807 non-null float64\n",
      "Class     284807 non-null int64\n",
      "dtypes: float64(30), int64(1)\n",
      "memory usage: 67.4 MB\n"
     ]
    }
   ],
   "source": [
    "df.info()"
   ]
  },
  {
   "cell_type": "markdown",
   "metadata": {},
   "source": [
    "# EDA\n",
    "Items good to explore to see what occurs\n",
    "https://www.kaggle.com/allunia/santander-customer-transaction-eda"
   ]
  },
  {
   "cell_type": "markdown",
   "metadata": {},
   "source": [
    "## Seaborn Plots"
   ]
  },
  {
   "cell_type": "code",
   "execution_count": 17,
   "metadata": {
    "ExecuteTime": {
     "end_time": "2019-04-17T19:44:12.938877Z",
     "start_time": "2019-04-17T19:44:12.922337Z"
    }
   },
   "outputs": [],
   "source": [
    "import seaborn as sns\n",
    "sns.set(style=\"ticks\")"
   ]
  },
  {
   "cell_type": "code",
   "execution_count": 18,
   "metadata": {
    "ExecuteTime": {
     "end_time": "2019-04-17T19:44:13.427957Z",
     "start_time": "2019-04-17T19:44:12.941844Z"
    }
   },
   "outputs": [
    {
     "data": {
      "image/png": "[encoded data removed]",
      "text/plain": [
       "<Figure size 720x720 with 1 Axes>"
      ]
     },
     "metadata": {},
     "output_type": "display_data"
    }
   ],
   "source": [
    "g= sns.set_style(\"ticks\", {\"xtick.major.width\":.5,'xtick.minor.width': 0.25,\n",
    "\"ytick.major.size\":1})\n",
    "g = sns.FacetGrid(df, hue=\"Class\",height=10 )\n",
    "g = g.map(sns.distplot, \"Time\")"
   ]
  },
  {
   "cell_type": "markdown",
   "metadata": {},
   "source": [
    "## Graph Plotting"
   ]
  },
  {
   "cell_type": "code",
   "execution_count": 19,
   "metadata": {
    "ExecuteTime": {
     "end_time": "2019-04-17T19:44:13.473404Z",
     "start_time": "2019-04-17T19:44:13.429203Z"
    }
   },
   "outputs": [],
   "source": [
    "df_fraud=df.loc[df['Class'] == 1]\n",
    "df_nfraud=df.loc[df['Class'] == 0]"
   ]
  },
  {
   "cell_type": "code",
   "execution_count": 20,
   "metadata": {
    "ExecuteTime": {
     "end_time": "2019-04-17T19:44:13.498537Z",
     "start_time": "2019-04-17T19:44:13.474683Z"
    }
   },
   "outputs": [
    {
     "data": {
      "text/plain": [
       "0.0023953017000574325"
      ]
     },
     "execution_count": 20,
     "metadata": {},
     "output_type": "execute_result"
    }
   ],
   "source": [
    "#How big of a problem is this?\n",
    "sum(df_fraud['Amount'])/sum(df_nfraud['Amount'])"
   ]
  },
  {
   "cell_type": "code",
   "execution_count": 21,
   "metadata": {
    "ExecuteTime": {
     "end_time": "2019-04-17T19:44:26.431176Z",
     "start_time": "2019-04-17T19:44:13.501053Z"
    }
   },
   "outputs": [
    {
     "data": {
      "text/plain": [
       "<Figure size 3600x2160 with 0 Axes>"
      ]
     },
     "execution_count": 21,
     "metadata": {},
     "output_type": "execute_result"
    },
    {
     "data": {
      "image/png": "[encoded data removed]",
      "text/plain": [
       "<Figure size 432x288 with 1 Axes>"
      ]
     },
     "metadata": {},
     "output_type": "display_data"
    },
    {
     "data": {
      "text/plain": [
       "<Figure size 3600x2160 with 0 Axes>"
      ]
     },
     "metadata": {},
     "output_type": "display_data"
    }
   ],
   "source": [
    "fig, ax = plt.subplots()\n",
    "\n",
    "colors = {1:'red', 0:'blue'}\n",
    "\n",
    "ax.scatter(df['Time'], df['Amount'], c=df['Class'].apply(lambda x: colors[x]), alpha = .1)\n",
    "plt.figure(figsize=(50,30))"
   ]
  },
  {
   "cell_type": "code",
   "execution_count": 22,
   "metadata": {
    "ExecuteTime": {
     "end_time": "2019-04-17T19:44:26.463675Z",
     "start_time": "2019-04-17T19:44:26.432638Z"
    }
   },
   "outputs": [],
   "source": [
    "import matplotlib.pyplot as plt\n",
    "from tqdm import tqdm_notebook\n",
    "%matplotlib inline\n",
    "\n",
    "cols = df_fraud.columns.tolist()"
   ]
  },
  {
   "cell_type": "code",
   "execution_count": 23,
   "metadata": {
    "ExecuteTime": {
     "end_time": "2019-04-17T19:44:41.854333Z",
     "start_time": "2019-04-17T19:44:26.464803Z"
    }
   },
   "outputs": [
    {
     "data": {
      "application/vnd.jupyter.widget-view+json": {
       "model_id": "f0c1a78933a143cca5a5b5a5d19b74a0",
       "version_major": 2,
       "version_minor": 0
      },
      "text/plain": [
       "HBox(children=(IntProgress(value=0, max=31), HTML(value='')))"
      ]
     },
     "metadata": {},
     "output_type": "display_data"
    },
    {
     "name": "stdout",
     "output_type": "stream",
     "text": [
      "\n"
     ]
    },
    {
     "data": {
      "image/png": "[encoded data removed]",
      "text/plain": [
       "<Figure size 1152x8640 with 31 Axes>"
      ]
     },
     "metadata": {
      "needs_background": "light"
     },
     "output_type": "display_data"
    }
   ],
   "source": [
    "width_num = 4\n",
    "height_num = 40\n",
    "fig = plt.figure(figsize=[4*width_num,3*height_num])\n",
    "for i in tqdm_notebook(range(len(cols))):\n",
    "    ax = fig.add_subplot(height_num,width_num,i+1)\n",
    "    _ = ax.hist(df_fraud[cols[i]], bins=100, alpha=0.5, density=True, label='Fraud')\n",
    "    _ = ax.hist(df_nfraud[cols[i]], bins=100,alpha=0.5, density=True, label='Normal')\n",
    "    _ = ax.set_title(cols[i])\n",
    "    ax.legend()"
   ]
  },
  {
   "cell_type": "markdown",
   "metadata": {},
   "source": [
    "# Validation Set Creation\n",
    "Create the validation set to be used"
   ]
  },
  {
   "cell_type": "markdown",
   "metadata": {},
   "source": [
    "#### Validation Set / Random \n",
    "Just run .split_by_rand_pct(valid_pct=0.1, seed=42)"
   ]
  },
  {
   "cell_type": "markdown",
   "metadata": {},
   "source": [
    "#### Validation Set / Random - Stratified"
   ]
  },
  {
   "cell_type": "code",
   "execution_count": 24,
   "metadata": {
    "ExecuteTime": {
     "end_time": "2019-04-17T19:44:41.907135Z",
     "start_time": "2019-04-17T19:44:41.855908Z"
    }
   },
   "outputs": [],
   "source": [
    "# How many show fraud vs not\n",
    "df_fraud=df.loc[df['Class'] == 1]\n",
    "df_nfraud=df.loc[df['Class'] == 0]"
   ]
  },
  {
   "cell_type": "code",
   "execution_count": 25,
   "metadata": {
    "ExecuteTime": {
     "end_time": "2019-04-17T19:44:41.924397Z",
     "start_time": "2019-04-17T19:44:41.908540Z"
    }
   },
   "outputs": [],
   "source": [
    "#What percent do we want for test and validation\n",
    "valid_percent= .2\n",
    "test_percent= .2"
   ]
  },
  {
   "cell_type": "code",
   "execution_count": 26,
   "metadata": {
    "ExecuteTime": {
     "end_time": "2019-04-17T19:44:42.046031Z",
     "start_time": "2019-04-17T19:44:41.925506Z"
    }
   },
   "outputs": [],
   "source": [
    "df_ftrain, df_fvalid, df_ftest = np.split(df_fraud.sample(frac=1), [int((1-valid_percent-test_percent)*len(df_fraud)), int((1-test_percent)*len(df_fraud))])\n",
    "df_ntrain, df_nvalid, df_ntest = np.split(df_nfraud.sample(frac=1), [int((1-valid_percent-test_percent)*len(df_nfraud)), int((1-test_percent)*len(df_nfraud))])"
   ]
  },
  {
   "cell_type": "code",
   "execution_count": 27,
   "metadata": {
    "ExecuteTime": {
     "end_time": "2019-04-17T19:44:42.063929Z",
     "start_time": "2019-04-17T19:44:42.047204Z"
    }
   },
   "outputs": [
    {
     "data": {
      "text/plain": [
       "(170884, 56961)"
      ]
     },
     "execution_count": 27,
     "metadata": {},
     "output_type": "execute_result"
    }
   ],
   "source": [
    "len(df_ntrain)+len(df_ftrain), len(df_nvalid)+len(df_fvalid)"
   ]
  },
  {
   "cell_type": "code",
   "execution_count": 28,
   "metadata": {
    "ExecuteTime": {
     "end_time": "2019-04-17T19:44:42.169718Z",
     "start_time": "2019-04-17T19:44:42.065043Z"
    }
   },
   "outputs": [],
   "source": [
    "df_train= pd.concat([df_ntrain,df_ftrain]).sample(frac=1).reset_index(drop=True)\n",
    "df_valid= pd.concat([df_nvalid,df_fvalid]).sample(frac=1).reset_index(drop=True)\n",
    "df_test= pd.concat([df_ntest,df_ftest]).sample(frac=1).reset_index(drop=True)"
   ]
  },
  {
   "cell_type": "code",
   "execution_count": 29,
   "metadata": {
    "ExecuteTime": {
     "end_time": "2019-04-17T19:44:42.189617Z",
     "start_time": "2019-04-17T19:44:42.170887Z"
    }
   },
   "outputs": [
    {
     "data": {
      "text/plain": [
       "0    170589\n",
       "1       295\n",
       "Name: Class, dtype: int64"
      ]
     },
     "execution_count": 29,
     "metadata": {},
     "output_type": "execute_result"
    }
   ],
   "source": [
    "df_train.Class.value_counts()"
   ]
  },
  {
   "cell_type": "code",
   "execution_count": 30,
   "metadata": {
    "ExecuteTime": {
     "end_time": "2019-04-17T19:44:42.212117Z",
     "start_time": "2019-04-17T19:44:42.191816Z"
    }
   },
   "outputs": [
    {
     "data": {
      "text/plain": [
       "0    56863\n",
       "1       98\n",
       "Name: Class, dtype: int64"
      ]
     },
     "execution_count": 30,
     "metadata": {},
     "output_type": "execute_result"
    }
   ],
   "source": [
    "df_valid.Class.value_counts()"
   ]
  },
  {
   "cell_type": "markdown",
   "metadata": {},
   "source": [
    "#### Oversampling\n",
    "Get oversampling for train"
   ]
  },
  {
   "cell_type": "code",
   "execution_count": 31,
   "metadata": {
    "ExecuteTime": {
     "end_time": "2019-04-17T19:44:44.931850Z",
     "start_time": "2019-04-17T19:44:42.214919Z"
    }
   },
   "outputs": [],
   "source": [
    "# Adds in some more fraud values\n",
    "for i in range(1,40):\n",
    "    df_train= pd.concat([df_train,df_ftrain,df_ftrain]).sample(frac=1).reset_index(drop=True)"
   ]
  },
  {
   "cell_type": "code",
   "execution_count": 32,
   "metadata": {
    "ExecuteTime": {
     "end_time": "2019-04-17T19:44:44.955468Z",
     "start_time": "2019-04-17T19:44:44.936649Z"
    }
   },
   "outputs": [
    {
     "data": {
      "text/plain": [
       "0    170589\n",
       "1     23305\n",
       "Name: Class, dtype: int64"
      ]
     },
     "execution_count": 32,
     "metadata": {},
     "output_type": "execute_result"
    }
   ],
   "source": [
    "df_train.Class.value_counts()"
   ]
  },
  {
   "cell_type": "code",
   "execution_count": 33,
   "metadata": {
    "ExecuteTime": {
     "end_time": "2019-04-17T19:44:45.000049Z",
     "start_time": "2019-04-17T19:44:44.957510Z"
    }
   },
   "outputs": [
    {
     "data": {
      "text/html": [
       "<div>\n",
       "<style scoped>\n",
       "    .dataframe tbody tr th:only-of-type {\n",
       "        vertical-align: middle;\n",
       "    }\n",
       "\n",
       "    .dataframe tbody tr th {\n",
       "        vertical-align: top;\n",
       "    }\n",
       "\n",
       "    .dataframe thead th {\n",
       "        text-align: right;\n",
       "    }\n",
       "</style>\n",
       "<table border=\"1\" class=\"dataframe\">\n",
       "  <thead>\n",
       "    <tr style=\"text-align: right;\">\n",
       "      <th></th>\n",
       "      <th>Time</th>\n",
       "      <th>V1</th>\n",
       "      <th>V2</th>\n",
       "      <th>V3</th>\n",
       "      <th>V4</th>\n",
       "      <th>V5</th>\n",
       "      <th>V6</th>\n",
       "      <th>V7</th>\n",
       "      <th>V8</th>\n",
       "      <th>V9</th>\n",
       "      <th>...</th>\n",
       "      <th>V21</th>\n",
       "      <th>V22</th>\n",
       "      <th>V23</th>\n",
       "      <th>V24</th>\n",
       "      <th>V25</th>\n",
       "      <th>V26</th>\n",
       "      <th>V27</th>\n",
       "      <th>V28</th>\n",
       "      <th>Amount</th>\n",
       "      <th>Class</th>\n",
       "    </tr>\n",
       "  </thead>\n",
       "  <tbody>\n",
       "    <tr>\n",
       "      <th>0</th>\n",
       "      <td>36133.0</td>\n",
       "      <td>1.281210</td>\n",
       "      <td>-1.152515</td>\n",
       "      <td>-0.019039</td>\n",
       "      <td>-1.394655</td>\n",
       "      <td>-1.151084</td>\n",
       "      <td>-0.611591</td>\n",
       "      <td>-0.559136</td>\n",
       "      <td>-0.112942</td>\n",
       "      <td>-2.424942</td>\n",
       "      <td>...</td>\n",
       "      <td>-0.365323</td>\n",
       "      <td>-0.924197</td>\n",
       "      <td>0.124201</td>\n",
       "      <td>0.171056</td>\n",
       "      <td>0.168267</td>\n",
       "      <td>-0.458243</td>\n",
       "      <td>-0.002141</td>\n",
       "      <td>0.018252</td>\n",
       "      <td>99.37</td>\n",
       "      <td>0</td>\n",
       "    </tr>\n",
       "    <tr>\n",
       "      <th>1</th>\n",
       "      <td>73265.0</td>\n",
       "      <td>-3.677286</td>\n",
       "      <td>3.208451</td>\n",
       "      <td>-1.089825</td>\n",
       "      <td>-0.098935</td>\n",
       "      <td>-2.373251</td>\n",
       "      <td>-1.124581</td>\n",
       "      <td>-1.662205</td>\n",
       "      <td>2.756257</td>\n",
       "      <td>-0.518645</td>\n",
       "      <td>...</td>\n",
       "      <td>-0.075494</td>\n",
       "      <td>-0.743472</td>\n",
       "      <td>0.343300</td>\n",
       "      <td>0.458434</td>\n",
       "      <td>0.094122</td>\n",
       "      <td>0.080354</td>\n",
       "      <td>0.032096</td>\n",
       "      <td>0.023978</td>\n",
       "      <td>9.82</td>\n",
       "      <td>0</td>\n",
       "    </tr>\n",
       "    <tr>\n",
       "      <th>2</th>\n",
       "      <td>141717.0</td>\n",
       "      <td>-0.519748</td>\n",
       "      <td>1.156497</td>\n",
       "      <td>2.332964</td>\n",
       "      <td>2.393606</td>\n",
       "      <td>0.764035</td>\n",
       "      <td>0.436828</td>\n",
       "      <td>0.764227</td>\n",
       "      <td>-0.070326</td>\n",
       "      <td>-1.133820</td>\n",
       "      <td>...</td>\n",
       "      <td>0.257673</td>\n",
       "      <td>0.963283</td>\n",
       "      <td>-0.343594</td>\n",
       "      <td>-0.098732</td>\n",
       "      <td>-0.103978</td>\n",
       "      <td>-0.047213</td>\n",
       "      <td>-0.024539</td>\n",
       "      <td>-0.062772</td>\n",
       "      <td>5.95</td>\n",
       "      <td>0</td>\n",
       "    </tr>\n",
       "    <tr>\n",
       "      <th>3</th>\n",
       "      <td>153781.0</td>\n",
       "      <td>-0.457156</td>\n",
       "      <td>-0.371715</td>\n",
       "      <td>1.993044</td>\n",
       "      <td>-2.335770</td>\n",
       "      <td>-0.512347</td>\n",
       "      <td>0.985996</td>\n",
       "      <td>-0.626904</td>\n",
       "      <td>0.367007</td>\n",
       "      <td>0.415201</td>\n",
       "      <td>...</td>\n",
       "      <td>0.142807</td>\n",
       "      <td>0.737815</td>\n",
       "      <td>-0.232599</td>\n",
       "      <td>0.285515</td>\n",
       "      <td>-0.325000</td>\n",
       "      <td>-0.350965</td>\n",
       "      <td>0.116120</td>\n",
       "      <td>-0.016349</td>\n",
       "      <td>2.00</td>\n",
       "      <td>0</td>\n",
       "    </tr>\n",
       "    <tr>\n",
       "      <th>4</th>\n",
       "      <td>56269.0</td>\n",
       "      <td>0.318851</td>\n",
       "      <td>1.826951</td>\n",
       "      <td>-2.085437</td>\n",
       "      <td>1.616747</td>\n",
       "      <td>0.847814</td>\n",
       "      <td>-1.232647</td>\n",
       "      <td>0.502193</td>\n",
       "      <td>0.370033</td>\n",
       "      <td>-0.913580</td>\n",
       "      <td>...</td>\n",
       "      <td>0.007801</td>\n",
       "      <td>0.146148</td>\n",
       "      <td>0.200622</td>\n",
       "      <td>-0.103364</td>\n",
       "      <td>-0.535366</td>\n",
       "      <td>-0.402447</td>\n",
       "      <td>0.146220</td>\n",
       "      <td>-0.062592</td>\n",
       "      <td>15.25</td>\n",
       "      <td>0</td>\n",
       "    </tr>\n",
       "    <tr>\n",
       "      <th>5</th>\n",
       "      <td>27240.0</td>\n",
       "      <td>1.100194</td>\n",
       "      <td>-0.073117</td>\n",
       "      <td>-0.411282</td>\n",
       "      <td>0.473965</td>\n",
       "      <td>0.287575</td>\n",
       "      <td>-0.184361</td>\n",
       "      <td>0.387912</td>\n",
       "      <td>-0.165050</td>\n",
       "      <td>-0.117307</td>\n",
       "      <td>...</td>\n",
       "      <td>-0.018556</td>\n",
       "      <td>-0.196407</td>\n",
       "      <td>-0.229285</td>\n",
       "      <td>-0.715470</td>\n",
       "      <td>0.582926</td>\n",
       "      <td>0.437122</td>\n",
       "      <td>-0.053540</td>\n",
       "      <td>0.012766</td>\n",
       "      <td>107.60</td>\n",
       "      <td>0</td>\n",
       "    </tr>\n",
       "    <tr>\n",
       "      <th>6</th>\n",
       "      <td>87707.0</td>\n",
       "      <td>2.124482</td>\n",
       "      <td>-0.022647</td>\n",
       "      <td>-1.525461</td>\n",
       "      <td>0.120195</td>\n",
       "      <td>0.554878</td>\n",
       "      <td>-0.344493</td>\n",
       "      <td>0.167365</td>\n",
       "      <td>-0.237110</td>\n",
       "      <td>0.457064</td>\n",
       "      <td>...</td>\n",
       "      <td>-0.334549</td>\n",
       "      <td>-0.827964</td>\n",
       "      <td>0.272990</td>\n",
       "      <td>0.052948</td>\n",
       "      <td>-0.152323</td>\n",
       "      <td>0.205393</td>\n",
       "      <td>-0.071534</td>\n",
       "      <td>-0.058609</td>\n",
       "      <td>2.58</td>\n",
       "      <td>0</td>\n",
       "    </tr>\n",
       "    <tr>\n",
       "      <th>7</th>\n",
       "      <td>42204.0</td>\n",
       "      <td>-0.436689</td>\n",
       "      <td>1.031423</td>\n",
       "      <td>1.457253</td>\n",
       "      <td>-0.229733</td>\n",
       "      <td>0.191903</td>\n",
       "      <td>-0.358692</td>\n",
       "      <td>0.662751</td>\n",
       "      <td>0.059261</td>\n",
       "      <td>-0.742546</td>\n",
       "      <td>...</td>\n",
       "      <td>-0.187282</td>\n",
       "      <td>-0.484282</td>\n",
       "      <td>-0.073439</td>\n",
       "      <td>0.002928</td>\n",
       "      <td>-0.154730</td>\n",
       "      <td>0.071539</td>\n",
       "      <td>0.264262</td>\n",
       "      <td>0.109269</td>\n",
       "      <td>7.44</td>\n",
       "      <td>0</td>\n",
       "    </tr>\n",
       "    <tr>\n",
       "      <th>8</th>\n",
       "      <td>136264.0</td>\n",
       "      <td>-3.221994</td>\n",
       "      <td>-0.813384</td>\n",
       "      <td>1.046717</td>\n",
       "      <td>-0.377983</td>\n",
       "      <td>-1.605824</td>\n",
       "      <td>1.767083</td>\n",
       "      <td>-0.865389</td>\n",
       "      <td>1.509364</td>\n",
       "      <td>1.711297</td>\n",
       "      <td>...</td>\n",
       "      <td>-0.067954</td>\n",
       "      <td>0.148694</td>\n",
       "      <td>-0.971805</td>\n",
       "      <td>-1.269283</td>\n",
       "      <td>0.614912</td>\n",
       "      <td>0.947888</td>\n",
       "      <td>0.540417</td>\n",
       "      <td>-0.265800</td>\n",
       "      <td>229.31</td>\n",
       "      <td>0</td>\n",
       "    </tr>\n",
       "    <tr>\n",
       "      <th>9</th>\n",
       "      <td>155855.0</td>\n",
       "      <td>-0.857631</td>\n",
       "      <td>1.255798</td>\n",
       "      <td>-2.960679</td>\n",
       "      <td>-0.650736</td>\n",
       "      <td>1.836649</td>\n",
       "      <td>0.505666</td>\n",
       "      <td>0.628661</td>\n",
       "      <td>0.753718</td>\n",
       "      <td>-0.702098</td>\n",
       "      <td>...</td>\n",
       "      <td>0.760160</td>\n",
       "      <td>2.150912</td>\n",
       "      <td>0.249447</td>\n",
       "      <td>-0.659789</td>\n",
       "      <td>-1.288945</td>\n",
       "      <td>-0.126832</td>\n",
       "      <td>-0.416736</td>\n",
       "      <td>0.228559</td>\n",
       "      <td>3.55</td>\n",
       "      <td>0</td>\n",
       "    </tr>\n",
       "    <tr>\n",
       "      <th>...</th>\n",
       "      <td>...</td>\n",
       "      <td>...</td>\n",
       "      <td>...</td>\n",
       "      <td>...</td>\n",
       "      <td>...</td>\n",
       "      <td>...</td>\n",
       "      <td>...</td>\n",
       "      <td>...</td>\n",
       "      <td>...</td>\n",
       "      <td>...</td>\n",
       "      <td>...</td>\n",
       "      <td>...</td>\n",
       "      <td>...</td>\n",
       "      <td>...</td>\n",
       "      <td>...</td>\n",
       "      <td>...</td>\n",
       "      <td>...</td>\n",
       "      <td>...</td>\n",
       "      <td>...</td>\n",
       "      <td>...</td>\n",
       "      <td>...</td>\n",
       "    </tr>\n",
       "    <tr>\n",
       "      <th>56951</th>\n",
       "      <td>85677.0</td>\n",
       "      <td>1.220402</td>\n",
       "      <td>-0.467134</td>\n",
       "      <td>0.116257</td>\n",
       "      <td>-2.057153</td>\n",
       "      <td>-0.724967</td>\n",
       "      <td>-0.853936</td>\n",
       "      <td>-0.177398</td>\n",
       "      <td>-0.022980</td>\n",
       "      <td>1.714656</td>\n",
       "      <td>...</td>\n",
       "      <td>-0.093207</td>\n",
       "      <td>-0.007912</td>\n",
       "      <td>-0.009267</td>\n",
       "      <td>0.238167</td>\n",
       "      <td>0.567751</td>\n",
       "      <td>-0.895367</td>\n",
       "      <td>0.078050</td>\n",
       "      <td>0.010208</td>\n",
       "      <td>7.07</td>\n",
       "      <td>0</td>\n",
       "    </tr>\n",
       "    <tr>\n",
       "      <th>56952</th>\n",
       "      <td>53518.0</td>\n",
       "      <td>-1.934588</td>\n",
       "      <td>0.224547</td>\n",
       "      <td>0.724260</td>\n",
       "      <td>1.574260</td>\n",
       "      <td>1.190649</td>\n",
       "      <td>-0.682050</td>\n",
       "      <td>-0.000235</td>\n",
       "      <td>0.581374</td>\n",
       "      <td>-1.563456</td>\n",
       "      <td>...</td>\n",
       "      <td>0.141367</td>\n",
       "      <td>-0.236786</td>\n",
       "      <td>-0.126458</td>\n",
       "      <td>-0.096033</td>\n",
       "      <td>0.302053</td>\n",
       "      <td>-0.288658</td>\n",
       "      <td>-0.006039</td>\n",
       "      <td>-0.164707</td>\n",
       "      <td>59.80</td>\n",
       "      <td>0</td>\n",
       "    </tr>\n",
       "    <tr>\n",
       "      <th>56953</th>\n",
       "      <td>134176.0</td>\n",
       "      <td>-0.346531</td>\n",
       "      <td>1.043915</td>\n",
       "      <td>-0.200418</td>\n",
       "      <td>-0.821456</td>\n",
       "      <td>1.243216</td>\n",
       "      <td>-0.572161</td>\n",
       "      <td>1.332416</td>\n",
       "      <td>-0.335645</td>\n",
       "      <td>0.303790</td>\n",
       "      <td>...</td>\n",
       "      <td>-0.318732</td>\n",
       "      <td>-0.534862</td>\n",
       "      <td>-0.168057</td>\n",
       "      <td>0.505976</td>\n",
       "      <td>-0.060947</td>\n",
       "      <td>0.265317</td>\n",
       "      <td>-0.154350</td>\n",
       "      <td>-0.297042</td>\n",
       "      <td>0.78</td>\n",
       "      <td>0</td>\n",
       "    </tr>\n",
       "    <tr>\n",
       "      <th>56954</th>\n",
       "      <td>135667.0</td>\n",
       "      <td>1.788947</td>\n",
       "      <td>-1.905077</td>\n",
       "      <td>0.668054</td>\n",
       "      <td>0.045695</td>\n",
       "      <td>-2.117233</td>\n",
       "      <td>0.992352</td>\n",
       "      <td>-1.989608</td>\n",
       "      <td>0.491569</td>\n",
       "      <td>1.369849</td>\n",
       "      <td>...</td>\n",
       "      <td>-0.207096</td>\n",
       "      <td>0.164350</td>\n",
       "      <td>0.125955</td>\n",
       "      <td>-0.294302</td>\n",
       "      <td>-0.544652</td>\n",
       "      <td>0.732680</td>\n",
       "      <td>0.041874</td>\n",
       "      <td>-0.028698</td>\n",
       "      <td>109.00</td>\n",
       "      <td>0</td>\n",
       "    </tr>\n",
       "    <tr>\n",
       "      <th>56955</th>\n",
       "      <td>76157.0</td>\n",
       "      <td>1.020244</td>\n",
       "      <td>-0.303081</td>\n",
       "      <td>1.215219</td>\n",
       "      <td>1.620950</td>\n",
       "      <td>-0.737809</td>\n",
       "      <td>0.907879</td>\n",
       "      <td>-0.687964</td>\n",
       "      <td>0.481975</td>\n",
       "      <td>1.129959</td>\n",
       "      <td>...</td>\n",
       "      <td>-0.369529</td>\n",
       "      <td>-0.687157</td>\n",
       "      <td>0.075466</td>\n",
       "      <td>0.000682</td>\n",
       "      <td>0.361965</td>\n",
       "      <td>-0.524817</td>\n",
       "      <td>0.079904</td>\n",
       "      <td>0.018034</td>\n",
       "      <td>18.99</td>\n",
       "      <td>0</td>\n",
       "    </tr>\n",
       "    <tr>\n",
       "      <th>56956</th>\n",
       "      <td>56202.0</td>\n",
       "      <td>-0.583499</td>\n",
       "      <td>1.050509</td>\n",
       "      <td>1.024347</td>\n",
       "      <td>-0.879335</td>\n",
       "      <td>1.212418</td>\n",
       "      <td>0.213157</td>\n",
       "      <td>0.863610</td>\n",
       "      <td>0.065508</td>\n",
       "      <td>-0.580301</td>\n",
       "      <td>...</td>\n",
       "      <td>-0.264587</td>\n",
       "      <td>-0.788217</td>\n",
       "      <td>-0.266613</td>\n",
       "      <td>-1.360709</td>\n",
       "      <td>0.078829</td>\n",
       "      <td>0.049694</td>\n",
       "      <td>0.048502</td>\n",
       "      <td>0.090086</td>\n",
       "      <td>1.98</td>\n",
       "      <td>0</td>\n",
       "    </tr>\n",
       "    <tr>\n",
       "      <th>56957</th>\n",
       "      <td>77034.0</td>\n",
       "      <td>1.209202</td>\n",
       "      <td>0.276030</td>\n",
       "      <td>0.738189</td>\n",
       "      <td>0.747462</td>\n",
       "      <td>-0.705018</td>\n",
       "      <td>-1.284162</td>\n",
       "      <td>0.115128</td>\n",
       "      <td>-0.268639</td>\n",
       "      <td>-0.064303</td>\n",
       "      <td>...</td>\n",
       "      <td>-0.212580</td>\n",
       "      <td>-0.611153</td>\n",
       "      <td>0.190298</td>\n",
       "      <td>0.926037</td>\n",
       "      <td>0.159783</td>\n",
       "      <td>0.059195</td>\n",
       "      <td>-0.026611</td>\n",
       "      <td>0.026697</td>\n",
       "      <td>8.99</td>\n",
       "      <td>0</td>\n",
       "    </tr>\n",
       "    <tr>\n",
       "      <th>56958</th>\n",
       "      <td>62250.0</td>\n",
       "      <td>1.103270</td>\n",
       "      <td>-1.158017</td>\n",
       "      <td>1.230129</td>\n",
       "      <td>-0.445480</td>\n",
       "      <td>-1.960996</td>\n",
       "      <td>-0.448128</td>\n",
       "      <td>-1.127234</td>\n",
       "      <td>0.015157</td>\n",
       "      <td>-0.206805</td>\n",
       "      <td>...</td>\n",
       "      <td>-0.094648</td>\n",
       "      <td>-0.026546</td>\n",
       "      <td>-0.025437</td>\n",
       "      <td>0.440561</td>\n",
       "      <td>-0.086126</td>\n",
       "      <td>1.102496</td>\n",
       "      <td>-0.024423</td>\n",
       "      <td>0.047748</td>\n",
       "      <td>125.90</td>\n",
       "      <td>0</td>\n",
       "    </tr>\n",
       "    <tr>\n",
       "      <th>56959</th>\n",
       "      <td>105370.0</td>\n",
       "      <td>-0.499553</td>\n",
       "      <td>0.866024</td>\n",
       "      <td>2.382086</td>\n",
       "      <td>-0.126102</td>\n",
       "      <td>0.190358</td>\n",
       "      <td>-0.289687</td>\n",
       "      <td>0.615992</td>\n",
       "      <td>-0.319061</td>\n",
       "      <td>1.398674</td>\n",
       "      <td>...</td>\n",
       "      <td>-0.299386</td>\n",
       "      <td>-0.382413</td>\n",
       "      <td>-0.300501</td>\n",
       "      <td>-0.107476</td>\n",
       "      <td>0.302921</td>\n",
       "      <td>-0.728985</td>\n",
       "      <td>-0.077859</td>\n",
       "      <td>-0.144047</td>\n",
       "      <td>11.27</td>\n",
       "      <td>0</td>\n",
       "    </tr>\n",
       "    <tr>\n",
       "      <th>56960</th>\n",
       "      <td>164232.0</td>\n",
       "      <td>2.111997</td>\n",
       "      <td>-0.053092</td>\n",
       "      <td>-1.535513</td>\n",
       "      <td>0.126740</td>\n",
       "      <td>0.536258</td>\n",
       "      <td>-0.345465</td>\n",
       "      <td>0.166523</td>\n",
       "      <td>-0.230946</td>\n",
       "      <td>0.477173</td>\n",
       "      <td>...</td>\n",
       "      <td>-0.332250</td>\n",
       "      <td>-0.842632</td>\n",
       "      <td>0.268994</td>\n",
       "      <td>0.049504</td>\n",
       "      <td>-0.159339</td>\n",
       "      <td>0.205171</td>\n",
       "      <td>-0.073645</td>\n",
       "      <td>-0.057789</td>\n",
       "      <td>8.99</td>\n",
       "      <td>0</td>\n",
       "    </tr>\n",
       "  </tbody>\n",
       "</table>\n",
       "<p>56961 rows × 31 columns</p>\n",
       "</div>"
      ],
      "text/plain": [
       "           Time        V1        V2        V3        V4        V5        V6  \\\n",
       "0       36133.0  1.281210 -1.152515 -0.019039 -1.394655 -1.151084 -0.611591   \n",
       "1       73265.0 -3.677286  3.208451 -1.089825 -0.098935 -2.373251 -1.124581   \n",
       "2      141717.0 -0.519748  1.156497  2.332964  2.393606  0.764035  0.436828   \n",
       "3      153781.0 -0.457156 -0.371715  1.993044 -2.335770 -0.512347  0.985996   \n",
       "4       56269.0  0.318851  1.826951 -2.085437  1.616747  0.847814 -1.232647   \n",
       "5       27240.0  1.100194 -0.073117 -0.411282  0.473965  0.287575 -0.184361   \n",
       "6       87707.0  2.124482 -0.022647 -1.525461  0.120195  0.554878 -0.344493   \n",
       "7       42204.0 -0.436689  1.031423  1.457253 -0.229733  0.191903 -0.358692   \n",
       "8      136264.0 -3.221994 -0.813384  1.046717 -0.377983 -1.605824  1.767083   \n",
       "9      155855.0 -0.857631  1.255798 -2.960679 -0.650736  1.836649  0.505666   \n",
       "...         ...       ...       ...       ...       ...       ...       ...   \n",
       "56951   85677.0  1.220402 -0.467134  0.116257 -2.057153 -0.724967 -0.853936   \n",
       "56952   53518.0 -1.934588  0.224547  0.724260  1.574260  1.190649 -0.682050   \n",
       "56953  134176.0 -0.346531  1.043915 -0.200418 -0.821456  1.243216 -0.572161   \n",
       "56954  135667.0  1.788947 -1.905077  0.668054  0.045695 -2.117233  0.992352   \n",
       "56955   76157.0  1.020244 -0.303081  1.215219  1.620950 -0.737809  0.907879   \n",
       "56956   56202.0 -0.583499  1.050509  1.024347 -0.879335  1.212418  0.213157   \n",
       "56957   77034.0  1.209202  0.276030  0.738189  0.747462 -0.705018 -1.284162   \n",
       "56958   62250.0  1.103270 -1.158017  1.230129 -0.445480 -1.960996 -0.448128   \n",
       "56959  105370.0 -0.499553  0.866024  2.382086 -0.126102  0.190358 -0.289687   \n",
       "56960  164232.0  2.111997 -0.053092 -1.535513  0.126740  0.536258 -0.345465   \n",
       "\n",
       "             V7        V8        V9  ...         V21       V22       V23  \\\n",
       "0     -0.559136 -0.112942 -2.424942  ...   -0.365323 -0.924197  0.124201   \n",
       "1     -1.662205  2.756257 -0.518645  ...   -0.075494 -0.743472  0.343300   \n",
       "2      0.764227 -0.070326 -1.133820  ...    0.257673  0.963283 -0.343594   \n",
       "3     -0.626904  0.367007  0.415201  ...    0.142807  0.737815 -0.232599   \n",
       "4      0.502193  0.370033 -0.913580  ...    0.007801  0.146148  0.200622   \n",
       "5      0.387912 -0.165050 -0.117307  ...   -0.018556 -0.196407 -0.229285   \n",
       "6      0.167365 -0.237110  0.457064  ...   -0.334549 -0.827964  0.272990   \n",
       "7      0.662751  0.059261 -0.742546  ...   -0.187282 -0.484282 -0.073439   \n",
       "8     -0.865389  1.509364  1.711297  ...   -0.067954  0.148694 -0.971805   \n",
       "9      0.628661  0.753718 -0.702098  ...    0.760160  2.150912  0.249447   \n",
       "...         ...       ...       ...  ...         ...       ...       ...   \n",
       "56951 -0.177398 -0.022980  1.714656  ...   -0.093207 -0.007912 -0.009267   \n",
       "56952 -0.000235  0.581374 -1.563456  ...    0.141367 -0.236786 -0.126458   \n",
       "56953  1.332416 -0.335645  0.303790  ...   -0.318732 -0.534862 -0.168057   \n",
       "56954 -1.989608  0.491569  1.369849  ...   -0.207096  0.164350  0.125955   \n",
       "56955 -0.687964  0.481975  1.129959  ...   -0.369529 -0.687157  0.075466   \n",
       "56956  0.863610  0.065508 -0.580301  ...   -0.264587 -0.788217 -0.266613   \n",
       "56957  0.115128 -0.268639 -0.064303  ...   -0.212580 -0.611153  0.190298   \n",
       "56958 -1.127234  0.015157 -0.206805  ...   -0.094648 -0.026546 -0.025437   \n",
       "56959  0.615992 -0.319061  1.398674  ...   -0.299386 -0.382413 -0.300501   \n",
       "56960  0.166523 -0.230946  0.477173  ...   -0.332250 -0.842632  0.268994   \n",
       "\n",
       "            V24       V25       V26       V27       V28  Amount  Class  \n",
       "0      0.171056  0.168267 -0.458243 -0.002141  0.018252   99.37      0  \n",
       "1      0.458434  0.094122  0.080354  0.032096  0.023978    9.82      0  \n",
       "2     -0.098732 -0.103978 -0.047213 -0.024539 -0.062772    5.95      0  \n",
       "3      0.285515 -0.325000 -0.350965  0.116120 -0.016349    2.00      0  \n",
       "4     -0.103364 -0.535366 -0.402447  0.146220 -0.062592   15.25      0  \n",
       "5     -0.715470  0.582926  0.437122 -0.053540  0.012766  107.60      0  \n",
       "6      0.052948 -0.152323  0.205393 -0.071534 -0.058609    2.58      0  \n",
       "7      0.002928 -0.154730  0.071539  0.264262  0.109269    7.44      0  \n",
       "8     -1.269283  0.614912  0.947888  0.540417 -0.265800  229.31      0  \n",
       "9     -0.659789 -1.288945 -0.126832 -0.416736  0.228559    3.55      0  \n",
       "...         ...       ...       ...       ...       ...     ...    ...  \n",
       "56951  0.238167  0.567751 -0.895367  0.078050  0.010208    7.07      0  \n",
       "56952 -0.096033  0.302053 -0.288658 -0.006039 -0.164707   59.80      0  \n",
       "56953  0.505976 -0.060947  0.265317 -0.154350 -0.297042    0.78      0  \n",
       "56954 -0.294302 -0.544652  0.732680  0.041874 -0.028698  109.00      0  \n",
       "56955  0.000682  0.361965 -0.524817  0.079904  0.018034   18.99      0  \n",
       "56956 -1.360709  0.078829  0.049694  0.048502  0.090086    1.98      0  \n",
       "56957  0.926037  0.159783  0.059195 -0.026611  0.026697    8.99      0  \n",
       "56958  0.440561 -0.086126  1.102496 -0.024423  0.047748  125.90      0  \n",
       "56959 -0.107476  0.302921 -0.728985 -0.077859 -0.144047   11.27      0  \n",
       "56960  0.049504 -0.159339  0.205171 -0.073645 -0.057789    8.99      0  \n",
       "\n",
       "[56961 rows x 31 columns]"
      ]
     },
     "execution_count": 33,
     "metadata": {},
     "output_type": "execute_result"
    }
   ],
   "source": [
    "df_valid"
   ]
  },
  {
   "cell_type": "markdown",
   "metadata": {},
   "source": [
    "### Save the data"
   ]
  },
  {
   "cell_type": "code",
   "execution_count": 34,
   "metadata": {
    "ExecuteTime": {
     "end_time": "2019-04-17T19:44:45.017716Z",
     "start_time": "2019-04-17T19:44:45.001263Z"
    }
   },
   "outputs": [
    {
     "data": {
      "text/plain": [
       "250855"
      ]
     },
     "execution_count": 34,
     "metadata": {},
     "output_type": "execute_result"
    }
   ],
   "source": [
    "len(df_train)+len(df_valid)"
   ]
  },
  {
   "cell_type": "code",
   "execution_count": 35,
   "metadata": {
    "ExecuteTime": {
     "end_time": "2019-04-17T19:44:45.057715Z",
     "start_time": "2019-04-17T19:44:45.019915Z"
    }
   },
   "outputs": [],
   "source": [
    "df_fixed= pd.concat([df_train,df_valid])"
   ]
  },
  {
   "cell_type": "code",
   "execution_count": 36,
   "metadata": {
    "ExecuteTime": {
     "end_time": "2019-04-17T19:44:45.075034Z",
     "start_time": "2019-04-17T19:44:45.059069Z"
    }
   },
   "outputs": [],
   "source": [
    "valid_idx= range(len(df_train),len(df_train)+len(df_valid))"
   ]
  },
  {
   "cell_type": "code",
   "execution_count": 37,
   "metadata": {
    "ExecuteTime": {
     "end_time": "2019-04-17T19:44:45.266812Z",
     "start_time": "2019-04-17T19:44:45.076234Z"
    }
   },
   "outputs": [],
   "source": [
    "pickle.dump(df_fixed, open( path+'df_fixed.p', \"wb\" ) )\n",
    "pickle.dump(valid_idx, open( path+'valid_idx.p', \"wb\" ) )\n",
    "pickle.dump(df_test, open( path+'df_test.p', \"wb\" ) )\n"
   ]
  },
  {
   "cell_type": "markdown",
   "metadata": {},
   "source": [
    "# Training"
   ]
  },
  {
   "cell_type": "code",
   "execution_count": 38,
   "metadata": {
    "ExecuteTime": {
     "end_time": "2019-04-17T19:44:45.338056Z",
     "start_time": "2019-04-17T19:44:45.268076Z"
    }
   },
   "outputs": [],
   "source": [
    "# Load the databack\n",
    "df_fixed=pickle.load(open( path+'df_fixed.p', \"rb\" ) )\n",
    "valid_idx=pickle.load(open( path+'valid_idx.p', \"rb\" ) )\n",
    "df_test=pickle.load(open( path+'df_test.p', \"rb\" ) )\n",
    "\n",
    "\n",
    "cont_names= list(df.columns)\n",
    "cont_names.remove('Class')\n",
    "cont_names.remove('Amount')\n",
    "cont_names.remove('Time')\n",
    "cat_names = list(['Time','Amount'])"
   ]
  },
  {
   "cell_type": "markdown",
   "metadata": {},
   "source": [
    "## Loss Function"
   ]
  },
  {
   "cell_type": "code",
   "execution_count": 39,
   "metadata": {
    "ExecuteTime": {
     "end_time": "2019-04-17T19:44:45.355438Z",
     "start_time": "2019-04-17T19:44:45.339225Z"
    }
   },
   "outputs": [],
   "source": [
    "#Auroc\n",
    "from sklearn.metrics import roc_auc_score\n",
    "\n",
    "def auc_score1(y_score,y_true):\n",
    "    return torch.tensor(roc_auc_score(y_true,y_score[:,1]))"
   ]
  },
  {
   "cell_type": "markdown",
   "metadata": {},
   "source": [
    "## Testset"
   ]
  },
  {
   "cell_type": "code",
   "execution_count": 40,
   "metadata": {
    "ExecuteTime": {
     "end_time": "2019-04-17T19:44:45.373901Z",
     "start_time": "2019-04-17T19:44:45.356580Z"
    }
   },
   "outputs": [
    {
     "data": {
      "text/plain": [
       "0    56863\n",
       "1       99\n",
       "Name: Class, dtype: int64"
      ]
     },
     "execution_count": 40,
     "metadata": {},
     "output_type": "execute_result"
    }
   ],
   "source": [
    "df_test.Class.value_counts()"
   ]
  },
  {
   "cell_type": "code",
   "execution_count": 41,
   "metadata": {
    "ExecuteTime": {
     "end_time": "2019-04-17T19:44:45.398247Z",
     "start_time": "2019-04-17T19:44:45.375067Z"
    }
   },
   "outputs": [],
   "source": [
    "df_test = df_test.reset_index(drop=False)"
   ]
  },
  {
   "cell_type": "code",
   "execution_count": 42,
   "metadata": {
    "ExecuteTime": {
     "end_time": "2019-04-17T19:44:45.415973Z",
     "start_time": "2019-04-17T19:44:45.399324Z"
    }
   },
   "outputs": [],
   "source": [
    "df_test_answers=df_test[['index','Class']]"
   ]
  },
  {
   "cell_type": "code",
   "execution_count": 43,
   "metadata": {
    "ExecuteTime": {
     "end_time": "2019-04-17T19:44:45.436140Z",
     "start_time": "2019-04-17T19:44:45.417151Z"
    }
   },
   "outputs": [
    {
     "data": {
      "text/plain": [
       "0    56863\n",
       "1       99\n",
       "Name: Class, dtype: int64"
      ]
     },
     "execution_count": 43,
     "metadata": {},
     "output_type": "execute_result"
    }
   ],
   "source": [
    "df_test_answers.Class.value_counts()"
   ]
  },
  {
   "cell_type": "code",
   "execution_count": 44,
   "metadata": {
    "ExecuteTime": {
     "end_time": "2019-04-17T19:44:45.454958Z",
     "start_time": "2019-04-17T19:44:45.437291Z"
    }
   },
   "outputs": [
    {
     "data": {
      "text/plain": [
       "0        0\n",
       "1        0\n",
       "2        0\n",
       "3        0\n",
       "4        0\n",
       "5        0\n",
       "6        0\n",
       "7        0\n",
       "8        0\n",
       "9        0\n",
       "        ..\n",
       "56952    0\n",
       "56953    0\n",
       "56954    0\n",
       "56955    0\n",
       "56956    0\n",
       "56957    0\n",
       "56958    0\n",
       "56959    0\n",
       "56960    0\n",
       "56961    0\n",
       "Name: Class, Length: 56962, dtype: int64"
      ]
     },
     "execution_count": 44,
     "metadata": {},
     "output_type": "execute_result"
    }
   ],
   "source": [
    "df_test.pop('Class')"
   ]
  },
  {
   "cell_type": "markdown",
   "metadata": {},
   "source": [
    "## Data and Learner building"
   ]
  },
  {
   "cell_type": "code",
   "execution_count": 45,
   "metadata": {
    "ExecuteTime": {
     "end_time": "2019-04-17T19:44:45.471317Z",
     "start_time": "2019-04-17T19:44:45.456237Z"
    }
   },
   "outputs": [],
   "source": [
    "dep_var = \"Class\"\n",
    "procs = [FillMissing, Categorify, Normalize]"
   ]
  },
  {
   "cell_type": "code",
   "execution_count": 46,
   "metadata": {
    "ExecuteTime": {
     "end_time": "2019-04-17T19:44:45.492093Z",
     "start_time": "2019-04-17T19:44:45.472509Z"
    }
   },
   "outputs": [],
   "source": [
    "# Test data is stored here.\n",
    "test = TabularList.from_df(df_test, path=path, cat_names=cat_names, cont_names=cont_names)"
   ]
  },
  {
   "cell_type": "code",
   "execution_count": 47,
   "metadata": {
    "ExecuteTime": {
     "end_time": "2019-04-17T19:44:45.509600Z",
     "start_time": "2019-04-17T19:44:45.493545Z"
    }
   },
   "outputs": [
    {
     "data": {
      "text/plain": [
       "range(193894, 250855)"
      ]
     },
     "execution_count": 47,
     "metadata": {},
     "output_type": "execute_result"
    }
   ],
   "source": [
    "#valid_idx=valid_idx.tolist\n",
    "valid_idx"
   ]
  },
  {
   "cell_type": "code",
   "execution_count": 48,
   "metadata": {
    "ExecuteTime": {
     "end_time": "2019-04-17T19:44:46.543884Z",
     "start_time": "2019-04-17T19:44:45.510794Z"
    }
   },
   "outputs": [],
   "source": [
    "data = (TabularList.from_df(df, path=path, cat_names=cat_names, cont_names=cont_names, procs=procs)\n",
    "                           #.split_by_rand_pct(valid_pct=0.1, seed=42)\n",
    "                           .split_by_idx(valid_idx)\n",
    "                           .label_from_df(cols=dep_var, label_cls=CategoryList)\n",
    "                           .add_test(test)\n",
    "                           .databunch(bs=9000))"
   ]
  },
  {
   "cell_type": "code",
   "execution_count": 49,
   "metadata": {
    "ExecuteTime": {
     "end_time": "2019-04-17T19:44:49.730722Z",
     "start_time": "2019-04-17T19:44:46.547164Z"
    }
   },
   "outputs": [],
   "source": [
    "learn = tabular_learner(data, layers=[1000,500], \n",
    "                        ps=[0.2,0.04],\n",
    "                        emb_drop=0.06, \n",
    "                        y_range=None,\n",
    "                        metrics=[accuracy, auc_score1]\n",
    "                        #, callback_fns=AUROC\n",
    "                        #,callback_fns=[partial(EarlyStoppingCallback, monitor='accuracy', min_delta=0.01, patience=3)]\n",
    "                        )"
   ]
  },
  {
   "cell_type": "code",
   "execution_count": 50,
   "metadata": {
    "ExecuteTime": {
     "end_time": "2019-04-17T19:44:49.748073Z",
     "start_time": "2019-04-17T19:44:49.731970Z"
    }
   },
   "outputs": [],
   "source": [
    "#learn.loss_func = exp_rmspe"
   ]
  },
  {
   "cell_type": "code",
   "execution_count": 51,
   "metadata": {
    "ExecuteTime": {
     "end_time": "2019-04-17T19:44:51.992221Z",
     "start_time": "2019-04-17T19:44:49.749268Z"
    }
   },
   "outputs": [
    {
     "data": {
      "text/plain": [
       "======================================================================\n",
       "Layer (type)         Output Shape         Param #    Trainable \n",
       "======================================================================\n",
       "Embedding            [600]                61,478,400 True      \n",
       "______________________________________________________________________\n",
       "Embedding            [505]                14,665,200 True      \n",
       "______________________________________________________________________\n",
       "Dropout              [1105]               0          False     \n",
       "______________________________________________________________________\n",
       "BatchNorm1d          [28]                 56         True      \n",
       "______________________________________________________________________\n",
       "Linear               [1000]               1,134,000  True      \n",
       "______________________________________________________________________\n",
       "ReLU                 [1000]               0          False     \n",
       "______________________________________________________________________\n",
       "BatchNorm1d          [1000]               2,000      True      \n",
       "______________________________________________________________________\n",
       "Dropout              [1000]               0          False     \n",
       "______________________________________________________________________\n",
       "Linear               [500]                500,500    True      \n",
       "______________________________________________________________________\n",
       "ReLU                 [500]                0          False     \n",
       "______________________________________________________________________\n",
       "BatchNorm1d          [500]                1,000      True      \n",
       "______________________________________________________________________\n",
       "Dropout              [500]                0          False     \n",
       "______________________________________________________________________\n",
       "Linear               [2]                  1,002      True      \n",
       "______________________________________________________________________\n",
       "\n",
       "Total params: 77,782,158\n",
       "Total trainable params: 77,782,158\n",
       "Total non-trainable params: 0"
      ]
     },
     "execution_count": 51,
     "metadata": {},
     "output_type": "execute_result"
    }
   ],
   "source": [
    "learn.summary()"
   ]
  },
  {
   "cell_type": "markdown",
   "metadata": {},
   "source": [
    "## Start Learner"
   ]
  },
  {
   "cell_type": "code",
   "execution_count": 66,
   "metadata": {
    "ExecuteTime": {
     "end_time": "2019-04-17T19:49:29.585205Z",
     "start_time": "2019-04-17T19:49:16.579038Z"
    }
   },
   "outputs": [
    {
     "data": {
      "text/html": [],
      "text/plain": [
       "<IPython.core.display.HTML object>"
      ]
     },
     "metadata": {},
     "output_type": "display_data"
    },
    {
     "name": "stdout",
     "output_type": "stream",
     "text": [
      "LR Finder is complete, type {learner_name}.recorder.plot() to see the graph.\n",
      "Min numerical gradient: 6.31E-07\n"
     ]
    },
    {
     "data": {
      "image/png": "[encoded data removed]",
      "text/plain": [
       "<Figure size 432x288 with 1 Axes>"
      ]
     },
     "metadata": {
      "needs_background": "light"
     },
     "output_type": "display_data"
    }
   ],
   "source": [
    "from fastai.callbacks.tracker import EarlyStoppingCallback\n",
    "from fastai.callbacks.tracker import SaveModelCallback\n",
    "\n",
    "# See plot\n",
    "learn.lr_find()\n",
    "learn.recorder.plot(suggestion=True)"
   ]
  },
  {
   "cell_type": "code",
   "execution_count": 53,
   "metadata": {
    "ExecuteTime": {
     "end_time": "2019-04-17T19:45:43.560824Z",
     "start_time": "2019-04-17T19:45:06.007595Z"
    }
   },
   "outputs": [
    {
     "data": {
      "text/html": [
       "Total time: 00:37 <p><table border=\"1\" class=\"dataframe\">\n",
       "  <thead>\n",
       "    <tr style=\"text-align: left;\">\n",
       "      <th>epoch</th>\n",
       "      <th>train_loss</th>\n",
       "      <th>valid_loss</th>\n",
       "      <th>accuracy</th>\n",
       "      <th>auc_score1</th>\n",
       "      <th>time</th>\n",
       "    </tr>\n",
       "  </thead>\n",
       "  <tbody>\n",
       "    <tr>\n",
       "      <td>0</td>\n",
       "      <td>0.512918</td>\n",
       "      <td>0.264797</td>\n",
       "      <td>0.998385</td>\n",
       "      <td>0.841773</td>\n",
       "      <td>00:03</td>\n",
       "    </tr>\n",
       "    <tr>\n",
       "      <td>1</td>\n",
       "      <td>0.222670</td>\n",
       "      <td>0.020473</td>\n",
       "      <td>0.998859</td>\n",
       "      <td>0.610461</td>\n",
       "      <td>00:03</td>\n",
       "    </tr>\n",
       "    <tr>\n",
       "      <td>2</td>\n",
       "      <td>0.116390</td>\n",
       "      <td>0.004531</td>\n",
       "      <td>0.999579</td>\n",
       "      <td>0.962086</td>\n",
       "      <td>00:03</td>\n",
       "    </tr>\n",
       "    <tr>\n",
       "      <td>3</td>\n",
       "      <td>0.064619</td>\n",
       "      <td>0.003189</td>\n",
       "      <td>0.999596</td>\n",
       "      <td>0.941558</td>\n",
       "      <td>00:03</td>\n",
       "    </tr>\n",
       "    <tr>\n",
       "      <td>4</td>\n",
       "      <td>0.037438</td>\n",
       "      <td>0.002938</td>\n",
       "      <td>0.999561</td>\n",
       "      <td>0.959410</td>\n",
       "      <td>00:03</td>\n",
       "    </tr>\n",
       "    <tr>\n",
       "      <td>5</td>\n",
       "      <td>0.022022</td>\n",
       "      <td>0.002805</td>\n",
       "      <td>0.999561</td>\n",
       "      <td>0.958001</td>\n",
       "      <td>00:03</td>\n",
       "    </tr>\n",
       "    <tr>\n",
       "      <td>6</td>\n",
       "      <td>0.013120</td>\n",
       "      <td>0.002780</td>\n",
       "      <td>0.999561</td>\n",
       "      <td>0.964926</td>\n",
       "      <td>00:03</td>\n",
       "    </tr>\n",
       "    <tr>\n",
       "      <td>7</td>\n",
       "      <td>0.007892</td>\n",
       "      <td>0.002739</td>\n",
       "      <td>0.999561</td>\n",
       "      <td>0.968884</td>\n",
       "      <td>00:03</td>\n",
       "    </tr>\n",
       "    <tr>\n",
       "      <td>8</td>\n",
       "      <td>0.004809</td>\n",
       "      <td>0.002709</td>\n",
       "      <td>0.999579</td>\n",
       "      <td>0.969843</td>\n",
       "      <td>00:03</td>\n",
       "    </tr>\n",
       "    <tr>\n",
       "      <td>9</td>\n",
       "      <td>0.002949</td>\n",
       "      <td>0.002732</td>\n",
       "      <td>0.999561</td>\n",
       "      <td>0.970016</td>\n",
       "      <td>00:03</td>\n",
       "    </tr>\n",
       "  </tbody>\n",
       "</table>"
      ],
      "text/plain": [
       "<IPython.core.display.HTML object>"
      ]
     },
     "metadata": {},
     "output_type": "display_data"
    }
   ],
   "source": [
    "learn.fit_one_cycle(10,1.5e-02, wd=0.1)"
   ]
  },
  {
   "cell_type": "code",
   "execution_count": 54,
   "metadata": {
    "ExecuteTime": {
     "end_time": "2019-04-17T19:46:21.003866Z",
     "start_time": "2019-04-17T19:45:43.562253Z"
    }
   },
   "outputs": [
    {
     "data": {
      "text/html": [
       "Total time: 00:37 <p><table border=\"1\" class=\"dataframe\">\n",
       "  <thead>\n",
       "    <tr style=\"text-align: left;\">\n",
       "      <th>epoch</th>\n",
       "      <th>train_loss</th>\n",
       "      <th>valid_loss</th>\n",
       "      <th>accuracy</th>\n",
       "      <th>auc_score1</th>\n",
       "      <th>time</th>\n",
       "    </tr>\n",
       "  </thead>\n",
       "  <tbody>\n",
       "    <tr>\n",
       "      <td>0</td>\n",
       "      <td>0.000141</td>\n",
       "      <td>0.002787</td>\n",
       "      <td>0.999561</td>\n",
       "      <td>0.970212</td>\n",
       "      <td>00:03</td>\n",
       "    </tr>\n",
       "    <tr>\n",
       "      <td>1</td>\n",
       "      <td>0.000143</td>\n",
       "      <td>0.002818</td>\n",
       "      <td>0.999561</td>\n",
       "      <td>0.968846</td>\n",
       "      <td>00:03</td>\n",
       "    </tr>\n",
       "    <tr>\n",
       "      <td>2</td>\n",
       "      <td>0.000195</td>\n",
       "      <td>0.002997</td>\n",
       "      <td>0.999508</td>\n",
       "      <td>0.961683</td>\n",
       "      <td>00:03</td>\n",
       "    </tr>\n",
       "    <tr>\n",
       "      <td>3</td>\n",
       "      <td>0.000461</td>\n",
       "      <td>0.003460</td>\n",
       "      <td>0.999473</td>\n",
       "      <td>0.926969</td>\n",
       "      <td>00:03</td>\n",
       "    </tr>\n",
       "    <tr>\n",
       "      <td>4</td>\n",
       "      <td>0.001010</td>\n",
       "      <td>0.002879</td>\n",
       "      <td>0.999561</td>\n",
       "      <td>0.939304</td>\n",
       "      <td>00:03</td>\n",
       "    </tr>\n",
       "    <tr>\n",
       "      <td>5</td>\n",
       "      <td>0.000960</td>\n",
       "      <td>0.002867</td>\n",
       "      <td>0.999579</td>\n",
       "      <td>0.955734</td>\n",
       "      <td>00:03</td>\n",
       "    </tr>\n",
       "    <tr>\n",
       "      <td>6</td>\n",
       "      <td>0.000690</td>\n",
       "      <td>0.003274</td>\n",
       "      <td>0.999491</td>\n",
       "      <td>0.935810</td>\n",
       "      <td>00:03</td>\n",
       "    </tr>\n",
       "    <tr>\n",
       "      <td>7</td>\n",
       "      <td>0.000469</td>\n",
       "      <td>0.003203</td>\n",
       "      <td>0.999491</td>\n",
       "      <td>0.939317</td>\n",
       "      <td>00:03</td>\n",
       "    </tr>\n",
       "    <tr>\n",
       "      <td>8</td>\n",
       "      <td>0.000307</td>\n",
       "      <td>0.003124</td>\n",
       "      <td>0.999508</td>\n",
       "      <td>0.942747</td>\n",
       "      <td>00:03</td>\n",
       "    </tr>\n",
       "    <tr>\n",
       "      <td>9</td>\n",
       "      <td>0.000207</td>\n",
       "      <td>0.003144</td>\n",
       "      <td>0.999508</td>\n",
       "      <td>0.944187</td>\n",
       "      <td>00:03</td>\n",
       "    </tr>\n",
       "  </tbody>\n",
       "</table>"
      ],
      "text/plain": [
       "<IPython.core.display.HTML object>"
      ]
     },
     "metadata": {},
     "output_type": "display_data"
    }
   ],
   "source": [
    "learn.fit_one_cycle(10,1.5e-02, wd=0.1)"
   ]
  },
  {
   "cell_type": "code",
   "execution_count": 74,
   "metadata": {
    "ExecuteTime": {
     "end_time": "2019-04-17T20:00:10.607028Z",
     "start_time": "2019-04-17T19:59:22.510072Z"
    }
   },
   "outputs": [
    {
     "data": {
      "text/html": [
       "Total time: 00:47 <p><table border=\"1\" class=\"dataframe\">\n",
       "  <thead>\n",
       "    <tr style=\"text-align: left;\">\n",
       "      <th>epoch</th>\n",
       "      <th>train_loss</th>\n",
       "      <th>valid_loss</th>\n",
       "      <th>accuracy</th>\n",
       "      <th>auc_score1</th>\n",
       "      <th>time</th>\n",
       "    </tr>\n",
       "  </thead>\n",
       "  <tbody>\n",
       "    <tr>\n",
       "      <td>0</td>\n",
       "      <td>0.000229</td>\n",
       "      <td>0.003365</td>\n",
       "      <td>0.999561</td>\n",
       "      <td>0.974775</td>\n",
       "      <td>00:03</td>\n",
       "    </tr>\n",
       "    <tr>\n",
       "      <td>1</td>\n",
       "      <td>0.000148</td>\n",
       "      <td>0.003321</td>\n",
       "      <td>0.999544</td>\n",
       "      <td>0.974600</td>\n",
       "      <td>00:03</td>\n",
       "    </tr>\n",
       "    <tr>\n",
       "      <td>2</td>\n",
       "      <td>0.000143</td>\n",
       "      <td>0.004696</td>\n",
       "      <td>0.999368</td>\n",
       "      <td>0.939467</td>\n",
       "      <td>00:03</td>\n",
       "    </tr>\n",
       "    <tr>\n",
       "      <td>3</td>\n",
       "      <td>0.000325</td>\n",
       "      <td>0.003376</td>\n",
       "      <td>0.999596</td>\n",
       "      <td>0.958916</td>\n",
       "      <td>00:03</td>\n",
       "    </tr>\n",
       "    <tr>\n",
       "      <td>4</td>\n",
       "      <td>0.000366</td>\n",
       "      <td>0.003265</td>\n",
       "      <td>0.999491</td>\n",
       "      <td>0.975629</td>\n",
       "      <td>00:03</td>\n",
       "    </tr>\n",
       "    <tr>\n",
       "      <td>5</td>\n",
       "      <td>0.000386</td>\n",
       "      <td>0.003236</td>\n",
       "      <td>0.999579</td>\n",
       "      <td>0.984899</td>\n",
       "      <td>00:03</td>\n",
       "    </tr>\n",
       "    <tr>\n",
       "      <td>6</td>\n",
       "      <td>0.000282</td>\n",
       "      <td>0.003396</td>\n",
       "      <td>0.999579</td>\n",
       "      <td>0.988285</td>\n",
       "      <td>00:03</td>\n",
       "    </tr>\n",
       "    <tr>\n",
       "      <td>7</td>\n",
       "      <td>0.000185</td>\n",
       "      <td>0.003355</td>\n",
       "      <td>0.999596</td>\n",
       "      <td>0.986126</td>\n",
       "      <td>00:03</td>\n",
       "    </tr>\n",
       "    <tr>\n",
       "      <td>8</td>\n",
       "      <td>0.000127</td>\n",
       "      <td>0.003463</td>\n",
       "      <td>0.999579</td>\n",
       "      <td>0.987167</td>\n",
       "      <td>00:03</td>\n",
       "    </tr>\n",
       "    <tr>\n",
       "      <td>9</td>\n",
       "      <td>0.000082</td>\n",
       "      <td>0.003531</td>\n",
       "      <td>0.999561</td>\n",
       "      <td>0.986660</td>\n",
       "      <td>00:03</td>\n",
       "    </tr>\n",
       "  </tbody>\n",
       "</table>"
      ],
      "text/plain": [
       "<IPython.core.display.HTML object>"
      ]
     },
     "metadata": {},
     "output_type": "display_data"
    },
    {
     "name": "stdout",
     "output_type": "stream",
     "text": [
      "Better model found at epoch 0 with auc_score1 value: 0.9747752547264099.\n",
      "Better model found at epoch 4 with auc_score1 value: 0.9756289720535278.\n",
      "Better model found at epoch 5 with auc_score1 value: 0.9848987460136414.\n",
      "Better model found at epoch 6 with auc_score1 value: 0.9882850646972656.\n"
     ]
    }
   ],
   "source": [
    "learn.fit_one_cycle(10,1.5e-02, \n",
    "                    callbacks=[SaveModelCallback(learn, every='improvement', monitor='auc_score1', name='best')], wd=0.1)"
   ]
  },
  {
   "cell_type": "code",
   "execution_count": 78,
   "metadata": {
    "ExecuteTime": {
     "end_time": "2019-04-17T20:00:36.169551Z",
     "start_time": "2019-04-17T20:00:36.143544Z"
    }
   },
   "outputs": [],
   "source": [
    "#learn.load('best')"
   ]
  },
  {
   "cell_type": "markdown",
   "metadata": {
    "ExecuteTime": {
     "end_time": "2019-04-17T02:41:45.519850Z",
     "start_time": "2019-04-17T02:41:45.501889Z"
    }
   },
   "source": [
    "# Evaluate"
   ]
  },
  {
   "cell_type": "code",
   "execution_count": 76,
   "metadata": {
    "ExecuteTime": {
     "end_time": "2019-04-17T20:00:17.853927Z",
     "start_time": "2019-04-17T20:00:16.954878Z"
    }
   },
   "outputs": [
    {
     "data": {
      "text/plain": [
       "True"
      ]
     },
     "execution_count": 76,
     "metadata": {},
     "output_type": "execute_result"
    }
   ],
   "source": [
    "interp = ClassificationInterpretation.from_learner(learn)\n",
    "\n",
    "losses,idxs = interp.top_losses()\n",
    "\n",
    "len(data.valid_ds)==len(losses)==len(idxs)"
   ]
  },
  {
   "cell_type": "code",
   "execution_count": 77,
   "metadata": {
    "ExecuteTime": {
     "end_time": "2019-04-17T20:00:19.229198Z",
     "start_time": "2019-04-17T20:00:17.855407Z"
    }
   },
   "outputs": [
    {
     "data": {
      "image/png": "[encoded data removed]",
      "text/plain": [
       "<Figure size 360x360 with 1 Axes>"
      ]
     },
     "metadata": {
      "needs_background": "light"
     },
     "output_type": "display_data"
    }
   ],
   "source": [
    "interp.plot_confusion_matrix(figsize=(6,6), dpi=60)"
   ]
  },
  {
   "cell_type": "markdown",
   "metadata": {
    "ExecuteTime": {
     "end_time": "2019-04-02T14:14:15.698570Z",
     "start_time": "2019-04-02T14:14:15.695079Z"
    }
   },
   "source": [
    "# Run Test"
   ]
  },
  {
   "cell_type": "code",
   "execution_count": 60,
   "metadata": {
    "ExecuteTime": {
     "end_time": "2019-04-17T19:47:14.503720Z",
     "start_time": "2019-04-17T19:47:13.614472Z"
    }
   },
   "outputs": [],
   "source": [
    "preds = learn.get_preds(ds_type=DatasetType.Test)"
   ]
  },
  {
   "cell_type": "code",
   "execution_count": 61,
   "metadata": {
    "ExecuteTime": {
     "end_time": "2019-04-17T19:47:14.530470Z",
     "start_time": "2019-04-17T19:47:14.505022Z"
    }
   },
   "outputs": [
    {
     "data": {
      "text/plain": [
       "tensor([4.3887e-05, 1.0917e-05, 3.6078e-05,  ..., 1.4508e-05, 2.8198e-05,\n",
       "        1.2842e-05])"
      ]
     },
     "execution_count": 61,
     "metadata": {},
     "output_type": "execute_result"
    }
   ],
   "source": [
    "preds[0][:,1]"
   ]
  },
  {
   "cell_type": "code",
   "execution_count": 62,
   "metadata": {
    "ExecuteTime": {
     "end_time": "2019-04-17T19:47:14.817900Z",
     "start_time": "2019-04-17T19:47:14.531654Z"
    }
   },
   "outputs": [
    {
     "name": "stderr",
     "output_type": "stream",
     "text": [
      "/home/jd/anaconda3/lib/python3.7/site-packages/ipykernel_launcher.py:1: SettingWithCopyWarning: \n",
      "A value is trying to be set on a copy of a slice from a DataFrame.\n",
      "Try using .loc[row_indexer,col_indexer] = value instead\n",
      "\n",
      "See the caveats in the documentation: http://pandas.pydata.org/pandas-docs/stable/indexing.html#indexing-view-versus-copy\n",
      "  \"\"\"Entry point for launching an IPython kernel.\n"
     ]
    }
   ],
   "source": [
    "df_test_answers['predictions']= preds[0][:,1]"
   ]
  },
  {
   "cell_type": "code",
   "execution_count": 63,
   "metadata": {
    "ExecuteTime": {
     "end_time": "2019-04-17T19:47:14.837757Z",
     "start_time": "2019-04-17T19:47:14.819122Z"
    }
   },
   "outputs": [
    {
     "data": {
      "text/html": [
       "<div>\n",
       "<style scoped>\n",
       "    .dataframe tbody tr th:only-of-type {\n",
       "        vertical-align: middle;\n",
       "    }\n",
       "\n",
       "    .dataframe tbody tr th {\n",
       "        vertical-align: top;\n",
       "    }\n",
       "\n",
       "    .dataframe thead th {\n",
       "        text-align: right;\n",
       "    }\n",
       "</style>\n",
       "<table border=\"1\" class=\"dataframe\">\n",
       "  <thead>\n",
       "    <tr style=\"text-align: right;\">\n",
       "      <th></th>\n",
       "      <th>index</th>\n",
       "      <th>Class</th>\n",
       "      <th>predictions</th>\n",
       "    </tr>\n",
       "  </thead>\n",
       "  <tbody>\n",
       "    <tr>\n",
       "      <th>0</th>\n",
       "      <td>0</td>\n",
       "      <td>0</td>\n",
       "      <td>0.000044</td>\n",
       "    </tr>\n",
       "    <tr>\n",
       "      <th>1</th>\n",
       "      <td>1</td>\n",
       "      <td>0</td>\n",
       "      <td>0.000011</td>\n",
       "    </tr>\n",
       "    <tr>\n",
       "      <th>2</th>\n",
       "      <td>2</td>\n",
       "      <td>0</td>\n",
       "      <td>0.000036</td>\n",
       "    </tr>\n",
       "    <tr>\n",
       "      <th>3</th>\n",
       "      <td>3</td>\n",
       "      <td>0</td>\n",
       "      <td>0.000039</td>\n",
       "    </tr>\n",
       "    <tr>\n",
       "      <th>4</th>\n",
       "      <td>4</td>\n",
       "      <td>0</td>\n",
       "      <td>0.000016</td>\n",
       "    </tr>\n",
       "  </tbody>\n",
       "</table>\n",
       "</div>"
      ],
      "text/plain": [
       "   index  Class  predictions\n",
       "0      0      0     0.000044\n",
       "1      1      0     0.000011\n",
       "2      2      0     0.000036\n",
       "3      3      0     0.000039\n",
       "4      4      0     0.000016"
      ]
     },
     "execution_count": 63,
     "metadata": {},
     "output_type": "execute_result"
    }
   ],
   "source": [
    "df_test_answers[:5]"
   ]
  },
  {
   "cell_type": "code",
   "execution_count": 64,
   "metadata": {
    "ExecuteTime": {
     "end_time": "2019-04-17T19:47:14.867005Z",
     "start_time": "2019-04-17T19:47:14.838888Z"
    }
   },
   "outputs": [
    {
     "data": {
      "text/plain": [
       "0.9998665941194476"
      ]
     },
     "execution_count": 64,
     "metadata": {},
     "output_type": "execute_result"
    }
   ],
   "source": [
    "roc_auc_score(df_test_answers['Class'],df_test_answers['predictions'])"
   ]
  },
  {
   "cell_type": "code",
   "execution_count": 69,
   "metadata": {
    "ExecuteTime": {
     "end_time": "2019-04-17T19:53:29.792159Z",
     "start_time": "2019-04-17T19:53:29.767656Z"
    }
   },
   "outputs": [
    {
     "data": {
      "text/plain": [
       "1"
      ]
     },
     "execution_count": 69,
     "metadata": {},
     "output_type": "execute_result"
    }
   ],
   "source": [
    "abs(0-1)"
   ]
  },
  {
   "cell_type": "code",
   "execution_count": 68,
   "metadata": {
    "ExecuteTime": {
     "end_time": "2019-04-17T19:52:49.614929Z",
     "start_time": "2019-04-17T19:52:49.591843Z"
    }
   },
   "outputs": [
    {
     "data": {
      "text/plain": [
       "0.99998"
      ]
     },
     "execution_count": 68,
     "metadata": {},
     "output_type": "execute_result"
    }
   ],
   "source": [
    "1-.00002"
   ]
  },
  {
   "cell_type": "code",
   "execution_count": 71,
   "metadata": {
    "ExecuteTime": {
     "end_time": "2019-04-17T19:54:30.143808Z",
     "start_time": "2019-04-17T19:54:29.859888Z"
    }
   },
   "outputs": [
    {
     "name": "stderr",
     "output_type": "stream",
     "text": [
      "/home/jd/anaconda3/lib/python3.7/site-packages/ipykernel_launcher.py:1: SettingWithCopyWarning: \n",
      "A value is trying to be set on a copy of a slice from a DataFrame.\n",
      "Try using .loc[row_indexer,col_indexer] = value instead\n",
      "\n",
      "See the caveats in the documentation: http://pandas.pydata.org/pandas-docs/stable/indexing.html#indexing-view-versus-copy\n",
      "  \"\"\"Entry point for launching an IPython kernel.\n"
     ]
    }
   ],
   "source": [
    "df_test_answers['Diff']= abs(df_test_answers['Class']-df_test_answers['predictions'])"
   ]
  },
  {
   "cell_type": "code",
   "execution_count": 73,
   "metadata": {
    "ExecuteTime": {
     "end_time": "2019-04-17T19:55:55.513305Z",
     "start_time": "2019-04-17T19:55:55.479039Z"
    }
   },
   "outputs": [
    {
     "data": {
      "text/html": [
       "<div>\n",
       "<style scoped>\n",
       "    .dataframe tbody tr th:only-of-type {\n",
       "        vertical-align: middle;\n",
       "    }\n",
       "\n",
       "    .dataframe tbody tr th {\n",
       "        vertical-align: top;\n",
       "    }\n",
       "\n",
       "    .dataframe thead th {\n",
       "        text-align: right;\n",
       "    }\n",
       "</style>\n",
       "<table border=\"1\" class=\"dataframe\">\n",
       "  <thead>\n",
       "    <tr style=\"text-align: right;\">\n",
       "      <th></th>\n",
       "      <th>index</th>\n",
       "      <th>Class</th>\n",
       "      <th>predictions</th>\n",
       "      <th>Diff</th>\n",
       "    </tr>\n",
       "  </thead>\n",
       "  <tbody>\n",
       "    <tr>\n",
       "      <th>36548</th>\n",
       "      <td>36548</td>\n",
       "      <td>1</td>\n",
       "      <td>0.000155</td>\n",
       "      <td>0.999845</td>\n",
       "    </tr>\n",
       "    <tr>\n",
       "      <th>49030</th>\n",
       "      <td>49030</td>\n",
       "      <td>1</td>\n",
       "      <td>0.004804</td>\n",
       "      <td>0.995196</td>\n",
       "    </tr>\n",
       "    <tr>\n",
       "      <th>25112</th>\n",
       "      <td>25112</td>\n",
       "      <td>1</td>\n",
       "      <td>0.036184</td>\n",
       "      <td>0.963816</td>\n",
       "    </tr>\n",
       "    <tr>\n",
       "      <th>19579</th>\n",
       "      <td>19579</td>\n",
       "      <td>0</td>\n",
       "      <td>0.906501</td>\n",
       "      <td>0.906501</td>\n",
       "    </tr>\n",
       "    <tr>\n",
       "      <th>37782</th>\n",
       "      <td>37782</td>\n",
       "      <td>1</td>\n",
       "      <td>0.157758</td>\n",
       "      <td>0.842242</td>\n",
       "    </tr>\n",
       "    <tr>\n",
       "      <th>26553</th>\n",
       "      <td>26553</td>\n",
       "      <td>0</td>\n",
       "      <td>0.415694</td>\n",
       "      <td>0.415694</td>\n",
       "    </tr>\n",
       "    <tr>\n",
       "      <th>54249</th>\n",
       "      <td>54249</td>\n",
       "      <td>0</td>\n",
       "      <td>0.350762</td>\n",
       "      <td>0.350762</td>\n",
       "    </tr>\n",
       "    <tr>\n",
       "      <th>11879</th>\n",
       "      <td>11879</td>\n",
       "      <td>1</td>\n",
       "      <td>0.671205</td>\n",
       "      <td>0.328795</td>\n",
       "    </tr>\n",
       "    <tr>\n",
       "      <th>41909</th>\n",
       "      <td>41909</td>\n",
       "      <td>1</td>\n",
       "      <td>0.720238</td>\n",
       "      <td>0.279762</td>\n",
       "    </tr>\n",
       "    <tr>\n",
       "      <th>43792</th>\n",
       "      <td>43792</td>\n",
       "      <td>1</td>\n",
       "      <td>0.732050</td>\n",
       "      <td>0.267950</td>\n",
       "    </tr>\n",
       "    <tr>\n",
       "      <th>...</th>\n",
       "      <td>...</td>\n",
       "      <td>...</td>\n",
       "      <td>...</td>\n",
       "      <td>...</td>\n",
       "    </tr>\n",
       "    <tr>\n",
       "      <th>48495</th>\n",
       "      <td>48495</td>\n",
       "      <td>1</td>\n",
       "      <td>1.000000</td>\n",
       "      <td>0.000000</td>\n",
       "    </tr>\n",
       "    <tr>\n",
       "      <th>811</th>\n",
       "      <td>811</td>\n",
       "      <td>1</td>\n",
       "      <td>1.000000</td>\n",
       "      <td>0.000000</td>\n",
       "    </tr>\n",
       "    <tr>\n",
       "      <th>46735</th>\n",
       "      <td>46735</td>\n",
       "      <td>1</td>\n",
       "      <td>1.000000</td>\n",
       "      <td>0.000000</td>\n",
       "    </tr>\n",
       "    <tr>\n",
       "      <th>34044</th>\n",
       "      <td>34044</td>\n",
       "      <td>1</td>\n",
       "      <td>1.000000</td>\n",
       "      <td>0.000000</td>\n",
       "    </tr>\n",
       "    <tr>\n",
       "      <th>12330</th>\n",
       "      <td>12330</td>\n",
       "      <td>1</td>\n",
       "      <td>1.000000</td>\n",
       "      <td>0.000000</td>\n",
       "    </tr>\n",
       "    <tr>\n",
       "      <th>24251</th>\n",
       "      <td>24251</td>\n",
       "      <td>1</td>\n",
       "      <td>1.000000</td>\n",
       "      <td>0.000000</td>\n",
       "    </tr>\n",
       "    <tr>\n",
       "      <th>21299</th>\n",
       "      <td>21299</td>\n",
       "      <td>1</td>\n",
       "      <td>1.000000</td>\n",
       "      <td>0.000000</td>\n",
       "    </tr>\n",
       "    <tr>\n",
       "      <th>54957</th>\n",
       "      <td>54957</td>\n",
       "      <td>1</td>\n",
       "      <td>1.000000</td>\n",
       "      <td>0.000000</td>\n",
       "    </tr>\n",
       "    <tr>\n",
       "      <th>40269</th>\n",
       "      <td>40269</td>\n",
       "      <td>1</td>\n",
       "      <td>1.000000</td>\n",
       "      <td>0.000000</td>\n",
       "    </tr>\n",
       "    <tr>\n",
       "      <th>46544</th>\n",
       "      <td>46544</td>\n",
       "      <td>1</td>\n",
       "      <td>1.000000</td>\n",
       "      <td>0.000000</td>\n",
       "    </tr>\n",
       "  </tbody>\n",
       "</table>\n",
       "<p>56962 rows × 4 columns</p>\n",
       "</div>"
      ],
      "text/plain": [
       "       index  Class  predictions      Diff\n",
       "36548  36548      1     0.000155  0.999845\n",
       "49030  49030      1     0.004804  0.995196\n",
       "25112  25112      1     0.036184  0.963816\n",
       "19579  19579      0     0.906501  0.906501\n",
       "37782  37782      1     0.157758  0.842242\n",
       "26553  26553      0     0.415694  0.415694\n",
       "54249  54249      0     0.350762  0.350762\n",
       "11879  11879      1     0.671205  0.328795\n",
       "41909  41909      1     0.720238  0.279762\n",
       "43792  43792      1     0.732050  0.267950\n",
       "...      ...    ...          ...       ...\n",
       "48495  48495      1     1.000000  0.000000\n",
       "811      811      1     1.000000  0.000000\n",
       "46735  46735      1     1.000000  0.000000\n",
       "34044  34044      1     1.000000  0.000000\n",
       "12330  12330      1     1.000000  0.000000\n",
       "24251  24251      1     1.000000  0.000000\n",
       "21299  21299      1     1.000000  0.000000\n",
       "54957  54957      1     1.000000  0.000000\n",
       "40269  40269      1     1.000000  0.000000\n",
       "46544  46544      1     1.000000  0.000000\n",
       "\n",
       "[56962 rows x 4 columns]"
      ]
     },
     "execution_count": 73,
     "metadata": {},
     "output_type": "execute_result"
    }
   ],
   "source": [
    "df_test_answers.sort_values(by='Diff', ascending=False)"
   ]
  },
  {
   "cell_type": "code",
   "execution_count": null,
   "metadata": {},
   "outputs": [],
   "source": []
  }
 ],
 "metadata": {
  "kernelspec": {
   "display_name": "Python 3",
   "language": "python",
   "name": "python3"
  },
  "language_info": {
   "codemirror_mode": {
    "name": "ipython",
    "version": 3
   },
   "file_extension": ".py",
   "mimetype": "text/x-python",
   "name": "python",
   "nbconvert_exporter": "python",
   "pygments_lexer": "ipython3",
   "version": "3.7.1"
  },
  "notify_time": "5"
 },
 "nbformat": 4,
 "nbformat_minor": 2
}
